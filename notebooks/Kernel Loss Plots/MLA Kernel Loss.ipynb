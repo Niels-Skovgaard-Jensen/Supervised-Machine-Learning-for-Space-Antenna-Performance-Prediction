{
 "cells": [
  {
   "cell_type": "code",
   "execution_count": 15,
   "id": "1bed02a3",
   "metadata": {},
   "outputs": [
    {
     "name": "stdout",
     "output_type": "stream",
     "text": [
      "The autoreload extension is already loaded. To reload it, use:\n",
      "  %reload_ext autoreload\n"
     ]
    },
    {
     "name": "stderr",
     "output_type": "stream",
     "text": [
      "'nvidia-smi' is not recognized as an internal or external command,\n",
      "operable program or batch file.\n"
     ]
    }
   ],
   "source": [
    "import numpy as np\n",
    "from ssapp.data.AntennaDatasetLoaders import load_serialized_dataset\n",
    "from ssapp.data.Metrics import relRMSE\n",
    "from ssapp.Utils import FigureSaver\n",
    "from torch.utils.data.dataloader import DataLoader\n",
    "from sklearn.gaussian_process import GaussianProcessRegressor\n",
    "from sklearn.pipeline import Pipeline\n",
    "from sklearn.preprocessing import StandardScaler\n",
    "from matplotlib import pyplot as plt\n",
    "from sklearn.gaussian_process.kernels import RBF, ConstantKernel,Matern\n",
    "!nvidia-smi\n",
    "%matplotlib inline\n",
    "%config InlineBackend.figure_formats = ['svg']\n",
    "%load_ext autoreload\n",
    "%autoreload 2\n",
    "\n",
    "figSaver = FigureSaver('GaussianProcessHyperParameterTuning',default_format='png',dpi=600)"
   ]
  },
  {
   "cell_type": "code",
   "execution_count": 8,
   "id": "3d50ec0a",
   "metadata": {},
   "outputs": [
    {
     "name": "stdout",
     "output_type": "stream",
     "text": [
      "<class 'torch.Tensor'>\n"
     ]
    }
   ],
   "source": [
    "train_dataset = load_serialized_dataset('CircularHornDataset1_Train')\n",
    "val_dataset = load_serialized_dataset('CircularHornDataset1_Val')\n",
    "\n",
    "train_dataloader = DataLoader(train_dataset,batch_size=len(train_dataset),shuffle=True,num_workers=4)\n",
    "val_dataloader = DataLoader(val_dataset,batch_size=len(val_dataset),shuffle=True,num_workers=4)\n",
    "\n",
    "train_params, train_fields = next(iter(train_dataloader))\n",
    "train_params, train_fields = next(iter(train_dataloader))\n",
    "val_params, val_fields = next(iter(val_dataloader))\n",
    "\n",
    "print(type(train_fields.float()))\n",
    "\n",
    "kernel = ConstantKernel(1.0, constant_value_bounds=\"fixed\") * RBF(1.0, length_scale_bounds=\"fixed\")\n",
    "\n",
    "std_gp = Pipeline([('scaler', StandardScaler()), ('gp', GaussianProcessRegressor(kernel = kernel, normalize_y=True))])\n",
    "\n",
    "def score(model,x,y):\n",
    "    pred = model.predict(x)\n",
    "    return relRMSE(y.reshape(len(y),-1),pred.reshape(len(pred),-1))\n",
    "\n"
   ]
  },
  {
   "cell_type": "code",
   "execution_count": 10,
   "id": "6a598f05",
   "metadata": {},
   "outputs": [],
   "source": [
    "length_scale_sweep = np.linspace(0.1,0.75,20)\n",
    "\n",
    "train_loss = []\n",
    "val_loss = []\n",
    "\n",
    "for length_scale in length_scale_sweep:\n",
    "    kernel = ConstantKernel(10, constant_value_bounds=\"fixed\") * RBF(length_scale, length_scale_bounds=\"fixed\")\n",
    "\n",
    "    std_gp = Pipeline([('scaler', StandardScaler()), ('gp', GaussianProcessRegressor(kernel = kernel, normalize_y=True))])\n",
    "    std_gp.fit(train_params,train_fields.reshape(len(train_fields),-1))\n",
    "\n",
    "    train_loss.append(score(std_gp,train_params,train_fields))\n",
    "    val_loss.append(score(std_gp,val_params,val_fields))\n",
    "\n"
   ]
  },
  {
   "cell_type": "code",
   "execution_count": 12,
   "id": "44a727f7",
   "metadata": {},
   "outputs": [
    {
     "name": "stdout",
     "output_type": "stream",
     "text": [
      "torch.Size([2800, 361, 3, 4])\n",
      "Const:1.0, Length Scale: 0.01, Score: 2.707927963244989\n",
      "Const:1.6681005372000588, Length Scale: 0.01, Score: 2.7079279631748725\n",
      "Const:2.7825594022071245, Length Scale: 0.01, Score: 2.7079279631328363\n",
      "Const:4.641588833612778, Length Scale: 0.01, Score: 2.7079279631076374\n",
      "Const:7.742636826811269, Length Scale: 0.01, Score: 2.7079279630925335\n",
      "Const:12.91549665014884, Length Scale: 0.01, Score: 2.7079279630834767\n",
      "Const:21.544346900318832, Length Scale: 0.01, Score: 2.707927963078048\n",
      "Const:35.93813663804626, Length Scale: 0.01, Score: 2.707927963074794\n",
      "Const:59.94842503189409, Length Scale: 0.01, Score: 2.7079279630728426\n",
      "Const:100.0, Length Scale: 0.01, Score: 2.707927963071672\n",
      "Const:1.0, Length Scale: 0.016681005372000592, Score: 1.6266238018340924\n",
      "Const:1.6681005372000588, Length Scale: 0.016681005372000592, Score: 1.6266238017753722\n",
      "Const:2.7825594022071245, Length Scale: 0.016681005372000592, Score: 1.6266238017401708\n",
      "Const:4.641588833612778, Length Scale: 0.016681005372000592, Score: 1.6266238017190684\n",
      "Const:7.742636826811269, Length Scale: 0.016681005372000592, Score: 1.6266238017064187\n",
      "Const:12.91549665014884, Length Scale: 0.016681005372000592, Score: 1.6266238016988335\n",
      "Const:21.544346900318832, Length Scale: 0.016681005372000592, Score: 1.626623801694287\n",
      "Const:35.93813663804626, Length Scale: 0.016681005372000592, Score: 1.6266238016915617\n",
      "Const:59.94842503189409, Length Scale: 0.016681005372000592, Score: 1.6266238016899282\n",
      "Const:100.0, Length Scale: 0.016681005372000592, Score: 1.626623801688951\n",
      "Const:1.0, Length Scale: 0.027825594022071243, Score: 0.7324187647667946\n",
      "Const:1.6681005372000588, Length Scale: 0.027825594022071243, Score: 0.7324187647163777\n",
      "Const:2.7825594022071245, Length Scale: 0.027825594022071243, Score: 0.7324187646861539\n",
      "Const:4.641588833612778, Length Scale: 0.027825594022071243, Score: 0.7324187646680351\n",
      "Const:7.742636826811269, Length Scale: 0.027825594022071243, Score: 0.7324187646571736\n",
      "Const:12.91549665014884, Length Scale: 0.027825594022071243, Score: 0.732418764650661\n",
      "Const:21.544346900318832, Length Scale: 0.027825594022071243, Score: 0.7324187646467573\n",
      "Const:35.93813663804626, Length Scale: 0.027825594022071243, Score: 0.7324187646444178\n",
      "Const:59.94842503189409, Length Scale: 0.027825594022071243, Score: 0.7324187646430153\n",
      "Const:100.0, Length Scale: 0.027825594022071243, Score: 0.7324187646421739\n",
      "Const:1.0, Length Scale: 0.046415888336127774, Score: 0.19387529978094922\n",
      "Const:1.6681005372000588, Length Scale: 0.046415888336127774, Score: 0.19387529943465628\n",
      "Const:2.7825594022071245, Length Scale: 0.046415888336127774, Score: 0.1938752992270603\n",
      "Const:4.641588833612778, Length Scale: 0.046415888336127774, Score: 0.19387529910261017\n",
      "Const:7.742636826811269, Length Scale: 0.046415888336127774, Score: 0.19387529902800352\n",
      "Const:12.91549665014884, Length Scale: 0.046415888336127774, Score: 0.1938752989832781\n",
      "Const:21.544346900318832, Length Scale: 0.046415888336127774, Score: 0.19387529895646494\n",
      "Const:35.93813663804626, Length Scale: 0.046415888336127774, Score: 0.19387529894039274\n",
      "Const:59.94842503189409, Length Scale: 0.046415888336127774, Score: 0.19387529893075742\n",
      "Const:100.0, Length Scale: 0.046415888336127774, Score: 0.19387529892498076\n",
      "Const:1.0, Length Scale: 0.0774263682681127, Score: 0.016411938860327026\n",
      "Const:1.6681005372000588, Length Scale: 0.0774263682681127, Score: 0.016411932522991578\n",
      "Const:2.7825594022071245, Length Scale: 0.0774263682681127, Score: 0.016411928722408178\n",
      "Const:4.641588833612778, Length Scale: 0.0774263682681127, Score: 0.016411926443489613\n",
      "Const:7.742636826811269, Length Scale: 0.0774263682681127, Score: 0.016411925077133755\n",
      "Const:12.91549665014884, Length Scale: 0.0774263682681127, Score: 0.01641192425794712\n",
      "Const:21.544346900318832, Length Scale: 0.0774263682681127, Score: 0.016411923766822243\n",
      "Const:35.93813663804626, Length Scale: 0.0774263682681127, Score: 0.016411923472420598\n",
      "Const:59.94842503189409, Length Scale: 0.0774263682681127, Score: 0.01641192329591788\n",
      "Const:100.0, Length Scale: 0.0774263682681127, Score: 0.016411923190101225\n",
      "Const:1.0, Length Scale: 0.1291549665014884, Score: 0.0037468564677265366\n",
      "Const:1.6681005372000588, Length Scale: 0.1291549665014884, Score: 0.0036403134968712027\n",
      "Const:2.7825594022071245, Length Scale: 0.1291549665014884, Score: 0.003532538423848834\n",
      "Const:4.641588833612778, Length Scale: 0.1291549665014884, Score: 0.0034332840120608523\n",
      "Const:7.742636826811269, Length Scale: 0.1291549665014884, Score: 0.003347604811842363\n",
      "Const:12.91549665014884, Length Scale: 0.1291549665014884, Score: 0.0032764985451284867\n",
      "Const:21.544346900318832, Length Scale: 0.1291549665014884, Score: 0.0032192870164765063\n",
      "Const:35.93813663804626, Length Scale: 0.1291549665014884, Score: 0.003175319096301251\n",
      "Const:59.94842503189409, Length Scale: 0.1291549665014884, Score: 0.003144088054200014\n",
      "Const:100.0, Length Scale: 0.1291549665014884, Score: 0.0031250492583203\n",
      "Const:1.0, Length Scale: 0.21544346900318834, Score: 0.0014051370677597064\n",
      "Const:1.6681005372000588, Length Scale: 0.21544346900318834, Score: 0.0015352838039370553\n",
      "Const:2.7825594022071245, Length Scale: 0.21544346900318834, Score: 0.0017179421502582734\n",
      "Const:4.641588833612778, Length Scale: 0.21544346900318834, Score: 0.0019580781628162447\n",
      "Const:7.742636826811269, Length Scale: 0.21544346900318834, Score: 0.002256181895413522\n",
      "Const:12.91549665014884, Length Scale: 0.21544346900318834, Score: 0.0026081037398356702\n",
      "Const:21.544346900318832, Length Scale: 0.21544346900318834, Score: 0.003005673752980972\n",
      "Const:35.93813663804626, Length Scale: 0.21544346900318834, Score: 0.0034353771821638013\n",
      "Const:59.94842503189409, Length Scale: 0.21544346900318834, Score: 0.0038820221428655616\n",
      "Const:100.0, Length Scale: 0.21544346900318834, Score: 0.004330867134240223\n",
      "Const:1.0, Length Scale: 0.3593813663804626, Score: 0.0015485093612325716\n",
      "Const:1.6681005372000588, Length Scale: 0.3593813663804626, Score: 0.001552637579729452\n",
      "Const:2.7825594022071245, Length Scale: 0.3593813663804626, Score: 0.0015564061520443406\n",
      "Const:4.641588833612778, Length Scale: 0.3593813663804626, Score: 0.0015581294989658523\n",
      "Const:7.742636826811269, Length Scale: 0.3593813663804626, Score: 0.0015576654196585164\n",
      "Const:12.91549665014884, Length Scale: 0.3593813663804626, Score: 0.0015561878276679304\n",
      "Const:21.544346900318832, Length Scale: 0.3593813663804626, Score: 0.0015552188834268815\n",
      "Const:35.93813663804626, Length Scale: 0.3593813663804626, Score: 0.0015548480199347717\n",
      "Const:59.94842503189409, Length Scale: 0.3593813663804626, Score: 0.001553276622522563\n",
      "Const:100.0, Length Scale: 0.3593813663804626, Score: 0.0015518608172763754\n",
      "Const:1.0, Length Scale: 0.5994842503189409, Score: 0.002027828432560438\n",
      "Const:1.6681005372000588, Length Scale: 0.5994842503189409, Score: 0.002004819853324426\n",
      "Const:2.7825594022071245, Length Scale: 0.5994842503189409, Score: 0.0019844502117020947\n",
      "Const:4.641588833612778, Length Scale: 0.5994842503189409, Score: 0.001966507149924204\n",
      "Const:7.742636826811269, Length Scale: 0.5994842503189409, Score: 0.0019505975837496399\n",
      "Const:12.91549665014884, Length Scale: 0.5994842503189409, Score: 0.0019362537998820406\n",
      "Const:21.544346900318832, Length Scale: 0.5994842503189409, Score: 0.0019230461835954757\n",
      "Const:35.93813663804626, Length Scale: 0.5994842503189409, Score: 0.0019108198882355927\n",
      "Const:59.94842503189409, Length Scale: 0.5994842503189409, Score: 0.0018993161971085448\n",
      "Const:100.0, Length Scale: 0.5994842503189409, Score: 0.0018883819809447353\n",
      "Const:1.0, Length Scale: 1.0, Score: 0.003938095600557409\n",
      "Const:1.6681005372000588, Length Scale: 1.0, Score: 0.003887487940458061\n",
      "Const:2.7825594022071245, Length Scale: 1.0, Score: 0.003836184292946046\n",
      "Const:4.641588833612778, Length Scale: 1.0, Score: 0.003784179539551537\n",
      "Const:7.742636826811269, Length Scale: 1.0, Score: 0.003731482524446085\n",
      "Const:12.91549665014884, Length Scale: 1.0, Score: 0.003677760016198451\n",
      "Const:21.544346900318832, Length Scale: 1.0, Score: 0.0036225675003777017\n",
      "Const:35.93813663804626, Length Scale: 1.0, Score: 0.0035660303887886467\n",
      "Const:59.94842503189409, Length Scale: 1.0, Score: 0.0035075801245448473\n",
      "Const:100.0, Length Scale: 1.0, Score: 0.003448820934763183\n"
     ]
    }
   ],
   "source": [
    "from matplotlib.colors import LogNorm\n",
    "\n",
    "train_params, train_fields = next(iter(train_dataloader))\n",
    "val_params, val_fields = next(iter(val_dataloader))\n",
    "\n",
    "print(train_fields.shape)\n",
    "\n",
    "dims = (10,10)\n",
    "#const_scales = np.logspace(0.001, 1, num=dims[0])\n",
    "#RBF_scales = np.logspace(0.001, 1, num=dims[1])\n",
    "const_scales = np.logspace(0, 2, num=dims[0], base=10)\n",
    "RBF_scales = np.logspace(-2,  0, num=dims[1], base=10)\n",
    "const_scales, RBF_scales = np.meshgrid(const_scales, RBF_scales)\n",
    "\n",
    "\n",
    "score_grid = np.array([])\n",
    "\n",
    "for const_scale,RBF_scale in zip(const_scales.flatten(),RBF_scales.flatten()):\n",
    "\n",
    "    \n",
    "    kernel = ConstantKernel(const_scale, constant_value_bounds=\"fixed\") * RBF(RBF_scale,length_scale_bounds=\"fixed\")\n",
    "    gp = Pipeline([('scaler', StandardScaler()), ('gp', GaussianProcessRegressor(kernel = kernel, normalize_y=True))])\n",
    "\n",
    "    gp.fit(train_params,train_fields.reshape(len(train_fields),-1))\n",
    "\n",
    "    \n",
    "    iter_score = score(gp,val_params,val_fields)\n",
    "    score_grid = np.append(score_grid,iter_score)\n",
    "    print(f'Const:{const_scale}, Length Scale: {RBF_scale}, Score: {iter_score}')\n",
    "\n",
    "score_grid = score_grid.reshape(dims)"
   ]
  },
  {
   "cell_type": "code",
   "execution_count": 29,
   "id": "158c126f",
   "metadata": {},
   "outputs": [
    {
     "name": "stdout",
     "output_type": "stream",
     "text": [
      "0.5014051370677597\n"
     ]
    },
    {
     "data": {
      "image/svg+xml": "<?xml version=\"1.0\" encoding=\"utf-8\" standalone=\"no\"?>\n<!DOCTYPE svg PUBLIC \"-//W3C//DTD SVG 1.1//EN\"\n  \"http://www.w3.org/Graphics/SVG/1.1/DTD/svg11.dtd\">\n<svg xmlns:xlink=\"http://www.w3.org/1999/xlink\" width=\"313.159989pt\" height=\"234.99625pt\" viewBox=\"0 0 313.159989 234.99625\" xmlns=\"http://www.w3.org/2000/svg\" version=\"1.1\">\n <metadata>\n  <rdf:RDF xmlns:dc=\"http://purl.org/dc/elements/1.1/\" xmlns:cc=\"http://creativecommons.org/ns#\" xmlns:rdf=\"http://www.w3.org/1999/02/22-rdf-syntax-ns#\">\n   <cc:Work>\n    <dc:type rdf:resource=\"http://purl.org/dc/dcmitype/StillImage\"/>\n    <dc:date>2022-07-11T15:33:38.789238</dc:date>\n    <dc:format>image/svg+xml</dc:format>\n    <dc:creator>\n     <cc:Agent>\n      <dc:title>Matplotlib v3.5.0, https://matplotlib.org/</dc:title>\n     </cc:Agent>\n    </dc:creator>\n   </cc:Work>\n  </rdf:RDF>\n </metadata>\n <defs>\n  <style type=\"text/css\">*{stroke-linejoin: round; stroke-linecap: butt}</style>\n </defs>\n <g id=\"figure_1\">\n  <g id=\"patch_1\">\n   <path d=\"M 0 234.99625 \nL 313.159989 234.99625 \nL 313.159989 0 \nL 0 0 \nL 0 234.99625 \nz\n\" style=\"fill: none\"/>\n  </g>\n  <g id=\"axes_1\">\n   <g id=\"patch_2\">\n    <path d=\"M 51.4 195.118125 \nL 236.448225 195.118125 \nL 236.448225 22.318125 \nL 51.4 22.318125 \nz\n\" style=\"fill: #ffffff\"/>\n   </g>\n   <g id=\"PathCollection_1\">\n    <path d=\"M 71.960914 83.391844 \nL 92.521828 82.330022 \nL 113.082742 80.34765 \nL 116.691091 79.918125 \nL 133.643656 71.694685 \nL 154.204569 67.663737 \nL 174.765483 65.63517 \nL 195.326397 64.455754 \nL 215.887311 63.717827 \nL 236.448225 63.223418 \nL 236.448225 60.718125 \nL 236.448225 41.518125 \nL 236.448225 39.76646 \nL 215.887311 39.980628 \nL 195.326397 40.19118 \nL 174.765483 40.399832 \nL 154.204569 40.611533 \nL 133.643656 40.829063 \nL 113.082742 41.059015 \nL 92.521828 41.308197 \nL 77.858461 41.518125 \nL 71.960914 41.678659 \nL 51.4 42.400962 \nL 51.4 60.718125 \nL 51.4 79.918125 \nL 51.4 83.944284 \nz\n\" clip-path=\"url(#pf5edd96de7)\" style=\"fill: #471063\"/>\n   </g>\n   <g id=\"PathCollection_2\">\n    <path d=\"M 71.960914 99.543779 \nL 92.521828 99.667595 \nL 113.082742 99.780158 \nL 133.643656 99.876216 \nL 154.204569 99.955168 \nL 174.765483 100.018194 \nL 195.326397 100.066331 \nL 215.887311 100.100367 \nL 236.448225 100.121052 \nL 236.448225 99.118125 \nL 236.448225 84.286547 \nL 222.388312 79.918125 \nL 236.448225 77.046169 \nL 236.448225 63.223418 \nL 215.887311 63.717827 \nL 195.326397 64.455754 \nL 174.765483 65.63517 \nL 154.204569 67.663737 \nL 133.643656 71.694685 \nL 116.691091 79.918125 \nL 113.082742 80.34765 \nL 92.521828 82.330022 \nL 71.960914 83.391844 \nL 51.4 83.944284 \nL 51.4 99.118125 \nL 51.4 99.419718 \nz\n\" clip-path=\"url(#pf5edd96de7)\" style=\"fill: #472d7b\"/>\n    <path d=\"M 71.960914 41.678659 \nL 77.858461 41.518125 \nL 92.521828 41.308197 \nL 113.082742 41.059015 \nL 133.643656 40.829063 \nL 154.204569 40.611533 \nL 174.765483 40.399832 \nL 195.326397 40.19118 \nL 215.887311 39.980628 \nL 236.448225 39.76646 \nL 236.448225 22.318125 \nL 215.887311 22.318125 \nL 195.326397 22.318125 \nL 174.765483 22.318125 \nL 154.204569 22.318125 \nL 133.643656 22.318125 \nL 113.082742 22.318125 \nL 92.521828 22.318125 \nL 71.960914 22.318125 \nL 51.4 22.318125 \nL 51.4 41.518125 \nL 51.4 42.400962 \nz\n\" clip-path=\"url(#pf5edd96de7)\" style=\"fill: #472d7b\"/>\n   </g>\n   <g id=\"PathCollection_3\">\n    <path d=\"M 71.960914 100.753203 \nL 92.521828 100.870763 \nL 113.082742 100.977621 \nL 133.643656 101.068798 \nL 154.204569 101.14373 \nL 174.765483 101.20354 \nL 195.326397 101.249218 \nL 215.887311 101.281513 \nL 236.448225 101.30114 \nL 236.448225 100.121052 \nL 215.887311 100.100367 \nL 195.326397 100.066331 \nL 174.765483 100.018194 \nL 154.204569 99.955168 \nL 133.643656 99.876216 \nL 113.082742 99.780158 \nL 92.521828 99.667595 \nL 71.960914 99.543779 \nL 51.4 99.419718 \nL 51.4 100.63539 \nz\n\" clip-path=\"url(#pf5edd96de7)\" style=\"fill: #433e85\"/>\n    <path d=\"M 236.448225 84.286547 \nL 236.448225 79.918125 \nL 236.448225 77.046169 \nL 222.388312 79.918125 \nz\n\" clip-path=\"url(#pf5edd96de7)\" style=\"fill: #433e85\"/>\n   </g>\n   <g id=\"PathCollection_4\">\n    <path d=\"M 71.960914 107.46483 \nL 92.521828 107.543782 \nL 113.082742 107.615475 \nL 133.643656 107.676594 \nL 154.204569 107.726786 \nL 174.765483 107.766825 \nL 195.326397 107.797389 \nL 215.887311 107.818992 \nL 236.448225 107.832117 \nL 236.448225 101.30114 \nL 215.887311 101.281513 \nL 195.326397 101.249218 \nL 174.765483 101.20354 \nL 154.204569 101.14373 \nL 133.643656 101.068798 \nL 113.082742 100.977621 \nL 92.521828 100.870763 \nL 71.960914 100.753203 \nL 51.4 100.63539 \nL 51.4 107.385626 \nz\n\" clip-path=\"url(#pf5edd96de7)\" style=\"fill: #3d4e8a\"/>\n   </g>\n   <g id=\"PathCollection_5\">\n    <path d=\"M 71.960914 118.623219 \nL 92.521828 118.62322 \nL 113.082742 118.62322 \nL 133.643656 118.62322 \nL 154.204569 118.62322 \nL 174.765483 118.62322 \nL 195.326397 118.62322 \nL 215.887311 118.62322 \nL 236.448225 118.62322 \nL 236.448225 118.318125 \nL 236.448225 107.832117 \nL 215.887311 107.818992 \nL 195.326397 107.797389 \nL 174.765483 107.766825 \nL 154.204569 107.726786 \nL 133.643656 107.676594 \nL 113.082742 107.615475 \nL 92.521828 107.543782 \nL 71.960914 107.46483 \nL 51.4 107.385626 \nL 51.4 118.318125 \nL 51.4 118.623219 \nz\n\" clip-path=\"url(#pf5edd96de7)\" style=\"fill: #32648e\"/>\n   </g>\n   <g id=\"PathCollection_6\">\n    <path d=\"M 71.960914 120.370828 \nL 92.521828 120.370829 \nL 113.082742 120.370829 \nL 133.643656 120.370829 \nL 154.204569 120.370829 \nL 174.765483 120.370829 \nL 195.326397 120.370829 \nL 215.887311 120.370829 \nL 236.448225 120.370829 \nL 236.448225 118.62322 \nL 215.887311 118.62322 \nL 195.326397 118.62322 \nL 174.765483 118.62322 \nL 154.204569 118.62322 \nL 133.643656 118.62322 \nL 113.082742 118.62322 \nL 92.521828 118.62322 \nL 71.960914 118.623219 \nL 51.4 118.623219 \nL 51.4 120.370828 \nz\n\" clip-path=\"url(#pf5edd96de7)\" style=\"fill: #29798e\"/>\n   </g>\n   <g id=\"PathCollection_7\">\n    <path d=\"M 71.960914 121.276135 \nL 92.521828 121.276135 \nL 113.082742 121.276135 \nL 133.643656 121.276135 \nL 154.204569 121.276135 \nL 174.765483 121.276136 \nL 195.326397 121.276136 \nL 215.887311 121.276136 \nL 236.448225 121.276136 \nL 236.448225 120.370829 \nL 215.887311 120.370829 \nL 195.326397 120.370829 \nL 174.765483 120.370829 \nL 154.204569 120.370829 \nL 133.643656 120.370829 \nL 113.082742 120.370829 \nL 92.521828 120.370829 \nL 71.960914 120.370828 \nL 51.4 120.370828 \nL 51.4 121.276134 \nz\n\" clip-path=\"url(#pf5edd96de7)\" style=\"fill: #24868e\"/>\n   </g>\n   <g id=\"PathCollection_8\">\n    <path d=\"M 71.960914 126.1625 \nL 92.521828 126.1625 \nL 113.082742 126.1625 \nL 133.643656 126.1625 \nL 154.204569 126.1625 \nL 174.765483 126.162501 \nL 195.326397 126.162501 \nL 215.887311 126.162501 \nL 236.448225 126.162501 \nL 236.448225 121.276136 \nL 215.887311 121.276136 \nL 195.326397 121.276136 \nL 174.765483 121.276136 \nL 154.204569 121.276135 \nL 133.643656 121.276135 \nL 113.082742 121.276135 \nL 92.521828 121.276135 \nL 71.960914 121.276135 \nL 51.4 121.276134 \nL 51.4 126.1625 \nz\n\" clip-path=\"url(#pf5edd96de7)\" style=\"fill: #20938c\"/>\n   </g>\n   <g id=\"PathCollection_9\">\n    <path d=\"M 71.960914 137.689431 \nL 92.521828 137.689431 \nL 113.082742 137.689431 \nL 133.643656 137.689431 \nL 154.204569 137.689431 \nL 174.765483 137.689431 \nL 195.326397 137.689431 \nL 215.887311 137.689431 \nL 236.448225 137.689431 \nL 236.448225 137.518125 \nL 236.448225 126.162501 \nL 215.887311 126.162501 \nL 195.326397 126.162501 \nL 174.765483 126.162501 \nL 154.204569 126.1625 \nL 133.643656 126.1625 \nL 113.082742 126.1625 \nL 92.521828 126.1625 \nL 71.960914 126.1625 \nL 51.4 126.1625 \nL 51.4 137.518125 \nL 51.4 137.689431 \nz\n\" clip-path=\"url(#pf5edd96de7)\" style=\"fill: #22a785\"/>\n   </g>\n   <g id=\"PathCollection_10\">\n    <path d=\"M 71.960914 143.762083 \nL 92.521828 143.762083 \nL 113.082742 143.762083 \nL 133.643656 143.762083 \nL 154.204569 143.762083 \nL 174.765483 143.762083 \nL 195.326397 143.762083 \nL 215.887311 143.762083 \nL 236.448225 143.762083 \nL 236.448225 137.689431 \nL 215.887311 137.689431 \nL 195.326397 137.689431 \nL 174.765483 137.689431 \nL 154.204569 137.689431 \nL 133.643656 137.689431 \nL 113.082742 137.689431 \nL 92.521828 137.689431 \nL 71.960914 137.689431 \nL 51.4 137.689431 \nL 51.4 143.762083 \nz\n\" clip-path=\"url(#pf5edd96de7)\" style=\"fill: #3bbb75\"/>\n   </g>\n   <g id=\"PathCollection_11\">\n    <path d=\"M 71.960914 147.211735 \nL 92.521828 147.211735 \nL 113.082742 147.211735 \nL 133.643656 147.211735 \nL 154.204569 147.211735 \nL 174.765483 147.211735 \nL 195.326397 147.211735 \nL 215.887311 147.211735 \nL 236.448225 147.211735 \nL 236.448225 143.762083 \nL 215.887311 143.762083 \nL 195.326397 143.762083 \nL 174.765483 143.762083 \nL 154.204569 143.762083 \nL 133.643656 143.762083 \nL 113.082742 143.762083 \nL 92.521828 143.762083 \nL 71.960914 143.762083 \nL 51.4 143.762083 \nL 51.4 147.211735 \nz\n\" clip-path=\"url(#pf5edd96de7)\" style=\"fill: #56c667\"/>\n   </g>\n   <g id=\"PathCollection_12\">\n    <path d=\"M 71.960914 161.508428 \nL 92.521828 161.508428 \nL 113.082742 161.508428 \nL 133.643656 161.508428 \nL 154.204569 161.508428 \nL 174.765483 161.508428 \nL 195.326397 161.508428 \nL 215.887311 161.508428 \nL 236.448225 161.508428 \nL 236.448225 156.718125 \nL 236.448225 147.211735 \nL 215.887311 147.211735 \nL 195.326397 147.211735 \nL 174.765483 147.211735 \nL 154.204569 147.211735 \nL 133.643656 147.211735 \nL 113.082742 147.211735 \nL 92.521828 147.211735 \nL 71.960914 147.211735 \nL 51.4 147.211735 \nL 51.4 156.718125 \nL 51.4 161.508428 \nz\n\" clip-path=\"url(#pf5edd96de7)\" style=\"fill: #75d054\"/>\n   </g>\n   <g id=\"PathCollection_13\">\n    <path d=\"M 71.960914 181.503306 \nL 92.521828 181.503306 \nL 113.082742 181.503306 \nL 133.643656 181.503306 \nL 154.204569 181.503306 \nL 174.765483 181.503306 \nL 195.326397 181.503306 \nL 215.887311 181.503306 \nL 236.448225 181.503306 \nL 236.448225 175.918125 \nL 236.448225 161.508428 \nL 215.887311 161.508428 \nL 195.326397 161.508428 \nL 174.765483 161.508428 \nL 154.204569 161.508428 \nL 133.643656 161.508428 \nL 113.082742 161.508428 \nL 92.521828 161.508428 \nL 71.960914 161.508428 \nL 51.4 161.508428 \nL 51.4 175.918125 \nL 51.4 181.503306 \nz\n\" clip-path=\"url(#pf5edd96de7)\" style=\"fill: #aadc32\"/>\n   </g>\n   <g id=\"PathCollection_14\">\n    <path d=\"M 71.960914 195.118125 \nL 92.521828 195.118125 \nL 113.082742 195.118125 \nL 133.643656 195.118125 \nL 154.204569 195.118125 \nL 174.765483 195.118125 \nL 195.326397 195.118125 \nL 215.887311 195.118125 \nL 236.448225 195.118125 \nL 236.448225 181.503306 \nL 215.887311 181.503306 \nL 195.326397 181.503306 \nL 174.765483 181.503306 \nL 154.204569 181.503306 \nL 133.643656 181.503306 \nL 113.082742 181.503306 \nL 92.521828 181.503306 \nL 71.960914 181.503306 \nL 51.4 181.503306 \nL 51.4 195.118125 \nz\n\" clip-path=\"url(#pf5edd96de7)\" style=\"fill: #e5e419\"/>\n   </g>\n   <g id=\"matplotlib.axis_1\">\n    <g id=\"xtick_1\">\n     <g id=\"line2d_1\">\n      <defs>\n       <path id=\"md0cbd6230f\" d=\"M 0 0 \nL 0 3.5 \n\" style=\"stroke: #000000; stroke-width: 0.8\"/>\n      </defs>\n      <g>\n       <use xlink:href=\"#md0cbd6230f\" x=\"51.4\" y=\"195.118125\" style=\"stroke: #000000; stroke-width: 0.8\"/>\n      </g>\n     </g>\n     <g id=\"text_1\">\n      <!-- $\\mathdefault{10^{0}}$ -->\n      <g transform=\"translate(42.6 209.716563)scale(0.1 -0.1)\">\n       <defs>\n        <path id=\"DejaVuSans-31\" d=\"M 794 531 \nL 1825 531 \nL 1825 4091 \nL 703 3866 \nL 703 4441 \nL 1819 4666 \nL 2450 4666 \nL 2450 531 \nL 3481 531 \nL 3481 0 \nL 794 0 \nL 794 531 \nz\n\" transform=\"scale(0.015625)\"/>\n        <path id=\"DejaVuSans-30\" d=\"M 2034 4250 \nQ 1547 4250 1301 3770 \nQ 1056 3291 1056 2328 \nQ 1056 1369 1301 889 \nQ 1547 409 2034 409 \nQ 2525 409 2770 889 \nQ 3016 1369 3016 2328 \nQ 3016 3291 2770 3770 \nQ 2525 4250 2034 4250 \nz\nM 2034 4750 \nQ 2819 4750 3233 4129 \nQ 3647 3509 3647 2328 \nQ 3647 1150 3233 529 \nQ 2819 -91 2034 -91 \nQ 1250 -91 836 529 \nQ 422 1150 422 2328 \nQ 422 3509 836 4129 \nQ 1250 4750 2034 4750 \nz\n\" transform=\"scale(0.015625)\"/>\n       </defs>\n       <use xlink:href=\"#DejaVuSans-31\" transform=\"translate(0 0.765625)\"/>\n       <use xlink:href=\"#DejaVuSans-30\" transform=\"translate(63.623047 0.765625)\"/>\n       <use xlink:href=\"#DejaVuSans-30\" transform=\"translate(128.203125 39.046875)scale(0.7)\"/>\n      </g>\n     </g>\n    </g>\n    <g id=\"xtick_2\">\n     <g id=\"line2d_2\">\n      <g>\n       <use xlink:href=\"#md0cbd6230f\" x=\"143.924113\" y=\"195.118125\" style=\"stroke: #000000; stroke-width: 0.8\"/>\n      </g>\n     </g>\n     <g id=\"text_2\">\n      <!-- $\\mathdefault{10^{1}}$ -->\n      <g transform=\"translate(135.124113 209.716563)scale(0.1 -0.1)\">\n       <use xlink:href=\"#DejaVuSans-31\" transform=\"translate(0 0.684375)\"/>\n       <use xlink:href=\"#DejaVuSans-30\" transform=\"translate(63.623047 0.684375)\"/>\n       <use xlink:href=\"#DejaVuSans-31\" transform=\"translate(128.203125 38.965625)scale(0.7)\"/>\n      </g>\n     </g>\n    </g>\n    <g id=\"xtick_3\">\n     <g id=\"line2d_3\">\n      <g>\n       <use xlink:href=\"#md0cbd6230f\" x=\"236.448225\" y=\"195.118125\" style=\"stroke: #000000; stroke-width: 0.8\"/>\n      </g>\n     </g>\n     <g id=\"text_3\">\n      <!-- $\\mathdefault{10^{2}}$ -->\n      <g transform=\"translate(227.648225 209.716563)scale(0.1 -0.1)\">\n       <defs>\n        <path id=\"DejaVuSans-32\" d=\"M 1228 531 \nL 3431 531 \nL 3431 0 \nL 469 0 \nL 469 531 \nQ 828 903 1448 1529 \nQ 2069 2156 2228 2338 \nQ 2531 2678 2651 2914 \nQ 2772 3150 2772 3378 \nQ 2772 3750 2511 3984 \nQ 2250 4219 1831 4219 \nQ 1534 4219 1204 4116 \nQ 875 4013 500 3803 \nL 500 4441 \nQ 881 4594 1212 4672 \nQ 1544 4750 1819 4750 \nQ 2544 4750 2975 4387 \nQ 3406 4025 3406 3419 \nQ 3406 3131 3298 2873 \nQ 3191 2616 2906 2266 \nQ 2828 2175 2409 1742 \nQ 1991 1309 1228 531 \nz\n\" transform=\"scale(0.015625)\"/>\n       </defs>\n       <use xlink:href=\"#DejaVuSans-31\" transform=\"translate(0 0.765625)\"/>\n       <use xlink:href=\"#DejaVuSans-30\" transform=\"translate(63.623047 0.765625)\"/>\n       <use xlink:href=\"#DejaVuSans-32\" transform=\"translate(128.203125 39.046875)scale(0.7)\"/>\n      </g>\n     </g>\n    </g>\n    <g id=\"xtick_4\">\n     <g id=\"line2d_4\">\n      <defs>\n       <path id=\"m98bd0da453\" d=\"M 0 0 \nL 0 2 \n\" style=\"stroke: #000000; stroke-width: 0.6\"/>\n      </defs>\n      <g>\n       <use xlink:href=\"#m98bd0da453\" x=\"79.252533\" y=\"195.118125\" style=\"stroke: #000000; stroke-width: 0.6\"/>\n      </g>\n     </g>\n    </g>\n    <g id=\"xtick_5\">\n     <g id=\"line2d_5\">\n      <g>\n       <use xlink:href=\"#m98bd0da453\" x=\"95.545221\" y=\"195.118125\" style=\"stroke: #000000; stroke-width: 0.6\"/>\n      </g>\n     </g>\n    </g>\n    <g id=\"xtick_6\">\n     <g id=\"line2d_6\">\n      <g>\n       <use xlink:href=\"#m98bd0da453\" x=\"107.105066\" y=\"195.118125\" style=\"stroke: #000000; stroke-width: 0.6\"/>\n      </g>\n     </g>\n    </g>\n    <g id=\"xtick_7\">\n     <g id=\"line2d_7\">\n      <g>\n       <use xlink:href=\"#m98bd0da453\" x=\"116.071579\" y=\"195.118125\" style=\"stroke: #000000; stroke-width: 0.6\"/>\n      </g>\n     </g>\n    </g>\n    <g id=\"xtick_8\">\n     <g id=\"line2d_8\">\n      <g>\n       <use xlink:href=\"#m98bd0da453\" x=\"123.397754\" y=\"195.118125\" style=\"stroke: #000000; stroke-width: 0.6\"/>\n      </g>\n     </g>\n    </g>\n    <g id=\"xtick_9\">\n     <g id=\"line2d_9\">\n      <g>\n       <use xlink:href=\"#m98bd0da453\" x=\"129.591946\" y=\"195.118125\" style=\"stroke: #000000; stroke-width: 0.6\"/>\n      </g>\n     </g>\n    </g>\n    <g id=\"xtick_10\">\n     <g id=\"line2d_10\">\n      <g>\n       <use xlink:href=\"#m98bd0da453\" x=\"134.9576\" y=\"195.118125\" style=\"stroke: #000000; stroke-width: 0.6\"/>\n      </g>\n     </g>\n    </g>\n    <g id=\"xtick_11\">\n     <g id=\"line2d_11\">\n      <g>\n       <use xlink:href=\"#m98bd0da453\" x=\"139.690441\" y=\"195.118125\" style=\"stroke: #000000; stroke-width: 0.6\"/>\n      </g>\n     </g>\n    </g>\n    <g id=\"xtick_12\">\n     <g id=\"line2d_12\">\n      <g>\n       <use xlink:href=\"#m98bd0da453\" x=\"171.776646\" y=\"195.118125\" style=\"stroke: #000000; stroke-width: 0.6\"/>\n      </g>\n     </g>\n    </g>\n    <g id=\"xtick_13\">\n     <g id=\"line2d_13\">\n      <g>\n       <use xlink:href=\"#m98bd0da453\" x=\"188.069333\" y=\"195.118125\" style=\"stroke: #000000; stroke-width: 0.6\"/>\n      </g>\n     </g>\n    </g>\n    <g id=\"xtick_14\">\n     <g id=\"line2d_14\">\n      <g>\n       <use xlink:href=\"#m98bd0da453\" x=\"199.629179\" y=\"195.118125\" style=\"stroke: #000000; stroke-width: 0.6\"/>\n      </g>\n     </g>\n    </g>\n    <g id=\"xtick_15\">\n     <g id=\"line2d_15\">\n      <g>\n       <use xlink:href=\"#m98bd0da453\" x=\"208.595692\" y=\"195.118125\" style=\"stroke: #000000; stroke-width: 0.6\"/>\n      </g>\n     </g>\n    </g>\n    <g id=\"xtick_16\">\n     <g id=\"line2d_16\">\n      <g>\n       <use xlink:href=\"#m98bd0da453\" x=\"215.921866\" y=\"195.118125\" style=\"stroke: #000000; stroke-width: 0.6\"/>\n      </g>\n     </g>\n    </g>\n    <g id=\"xtick_17\">\n     <g id=\"line2d_17\">\n      <g>\n       <use xlink:href=\"#m98bd0da453\" x=\"222.116059\" y=\"195.118125\" style=\"stroke: #000000; stroke-width: 0.6\"/>\n      </g>\n     </g>\n    </g>\n    <g id=\"xtick_18\">\n     <g id=\"line2d_18\">\n      <g>\n       <use xlink:href=\"#m98bd0da453\" x=\"227.481712\" y=\"195.118125\" style=\"stroke: #000000; stroke-width: 0.6\"/>\n      </g>\n     </g>\n    </g>\n    <g id=\"xtick_19\">\n     <g id=\"line2d_19\">\n      <g>\n       <use xlink:href=\"#m98bd0da453\" x=\"232.214554\" y=\"195.118125\" style=\"stroke: #000000; stroke-width: 0.6\"/>\n      </g>\n     </g>\n    </g>\n    <g id=\"text_4\">\n     <!-- Constant Value, $\\sigma_0^2$ -->\n     <g transform=\"translate(96.774113 224.89625)scale(0.1 -0.1)\">\n      <defs>\n       <path id=\"DejaVuSans-43\" d=\"M 4122 4306 \nL 4122 3641 \nQ 3803 3938 3442 4084 \nQ 3081 4231 2675 4231 \nQ 1875 4231 1450 3742 \nQ 1025 3253 1025 2328 \nQ 1025 1406 1450 917 \nQ 1875 428 2675 428 \nQ 3081 428 3442 575 \nQ 3803 722 4122 1019 \nL 4122 359 \nQ 3791 134 3420 21 \nQ 3050 -91 2638 -91 \nQ 1578 -91 968 557 \nQ 359 1206 359 2328 \nQ 359 3453 968 4101 \nQ 1578 4750 2638 4750 \nQ 3056 4750 3426 4639 \nQ 3797 4528 4122 4306 \nz\n\" transform=\"scale(0.015625)\"/>\n       <path id=\"DejaVuSans-6f\" d=\"M 1959 3097 \nQ 1497 3097 1228 2736 \nQ 959 2375 959 1747 \nQ 959 1119 1226 758 \nQ 1494 397 1959 397 \nQ 2419 397 2687 759 \nQ 2956 1122 2956 1747 \nQ 2956 2369 2687 2733 \nQ 2419 3097 1959 3097 \nz\nM 1959 3584 \nQ 2709 3584 3137 3096 \nQ 3566 2609 3566 1747 \nQ 3566 888 3137 398 \nQ 2709 -91 1959 -91 \nQ 1206 -91 779 398 \nQ 353 888 353 1747 \nQ 353 2609 779 3096 \nQ 1206 3584 1959 3584 \nz\n\" transform=\"scale(0.015625)\"/>\n       <path id=\"DejaVuSans-6e\" d=\"M 3513 2113 \nL 3513 0 \nL 2938 0 \nL 2938 2094 \nQ 2938 2591 2744 2837 \nQ 2550 3084 2163 3084 \nQ 1697 3084 1428 2787 \nQ 1159 2491 1159 1978 \nL 1159 0 \nL 581 0 \nL 581 3500 \nL 1159 3500 \nL 1159 2956 \nQ 1366 3272 1645 3428 \nQ 1925 3584 2291 3584 \nQ 2894 3584 3203 3211 \nQ 3513 2838 3513 2113 \nz\n\" transform=\"scale(0.015625)\"/>\n       <path id=\"DejaVuSans-73\" d=\"M 2834 3397 \nL 2834 2853 \nQ 2591 2978 2328 3040 \nQ 2066 3103 1784 3103 \nQ 1356 3103 1142 2972 \nQ 928 2841 928 2578 \nQ 928 2378 1081 2264 \nQ 1234 2150 1697 2047 \nL 1894 2003 \nQ 2506 1872 2764 1633 \nQ 3022 1394 3022 966 \nQ 3022 478 2636 193 \nQ 2250 -91 1575 -91 \nQ 1294 -91 989 -36 \nQ 684 19 347 128 \nL 347 722 \nQ 666 556 975 473 \nQ 1284 391 1588 391 \nQ 1994 391 2212 530 \nQ 2431 669 2431 922 \nQ 2431 1156 2273 1281 \nQ 2116 1406 1581 1522 \nL 1381 1569 \nQ 847 1681 609 1914 \nQ 372 2147 372 2553 \nQ 372 3047 722 3315 \nQ 1072 3584 1716 3584 \nQ 2034 3584 2315 3537 \nQ 2597 3491 2834 3397 \nz\n\" transform=\"scale(0.015625)\"/>\n       <path id=\"DejaVuSans-74\" d=\"M 1172 4494 \nL 1172 3500 \nL 2356 3500 \nL 2356 3053 \nL 1172 3053 \nL 1172 1153 \nQ 1172 725 1289 603 \nQ 1406 481 1766 481 \nL 2356 481 \nL 2356 0 \nL 1766 0 \nQ 1100 0 847 248 \nQ 594 497 594 1153 \nL 594 3053 \nL 172 3053 \nL 172 3500 \nL 594 3500 \nL 594 4494 \nL 1172 4494 \nz\n\" transform=\"scale(0.015625)\"/>\n       <path id=\"DejaVuSans-61\" d=\"M 2194 1759 \nQ 1497 1759 1228 1600 \nQ 959 1441 959 1056 \nQ 959 750 1161 570 \nQ 1363 391 1709 391 \nQ 2188 391 2477 730 \nQ 2766 1069 2766 1631 \nL 2766 1759 \nL 2194 1759 \nz\nM 3341 1997 \nL 3341 0 \nL 2766 0 \nL 2766 531 \nQ 2569 213 2275 61 \nQ 1981 -91 1556 -91 \nQ 1019 -91 701 211 \nQ 384 513 384 1019 \nQ 384 1609 779 1909 \nQ 1175 2209 1959 2209 \nL 2766 2209 \nL 2766 2266 \nQ 2766 2663 2505 2880 \nQ 2244 3097 1772 3097 \nQ 1472 3097 1187 3025 \nQ 903 2953 641 2809 \nL 641 3341 \nQ 956 3463 1253 3523 \nQ 1550 3584 1831 3584 \nQ 2591 3584 2966 3190 \nQ 3341 2797 3341 1997 \nz\n\" transform=\"scale(0.015625)\"/>\n       <path id=\"DejaVuSans-20\" transform=\"scale(0.015625)\"/>\n       <path id=\"DejaVuSans-56\" d=\"M 1831 0 \nL 50 4666 \nL 709 4666 \nL 2188 738 \nL 3669 4666 \nL 4325 4666 \nL 2547 0 \nL 1831 0 \nz\n\" transform=\"scale(0.015625)\"/>\n       <path id=\"DejaVuSans-6c\" d=\"M 603 4863 \nL 1178 4863 \nL 1178 0 \nL 603 0 \nL 603 4863 \nz\n\" transform=\"scale(0.015625)\"/>\n       <path id=\"DejaVuSans-75\" d=\"M 544 1381 \nL 544 3500 \nL 1119 3500 \nL 1119 1403 \nQ 1119 906 1312 657 \nQ 1506 409 1894 409 \nQ 2359 409 2629 706 \nQ 2900 1003 2900 1516 \nL 2900 3500 \nL 3475 3500 \nL 3475 0 \nL 2900 0 \nL 2900 538 \nQ 2691 219 2414 64 \nQ 2138 -91 1772 -91 \nQ 1169 -91 856 284 \nQ 544 659 544 1381 \nz\nM 1991 3584 \nL 1991 3584 \nz\n\" transform=\"scale(0.015625)\"/>\n       <path id=\"DejaVuSans-65\" d=\"M 3597 1894 \nL 3597 1613 \nL 953 1613 \nQ 991 1019 1311 708 \nQ 1631 397 2203 397 \nQ 2534 397 2845 478 \nQ 3156 559 3463 722 \nL 3463 178 \nQ 3153 47 2828 -22 \nQ 2503 -91 2169 -91 \nQ 1331 -91 842 396 \nQ 353 884 353 1716 \nQ 353 2575 817 3079 \nQ 1281 3584 2069 3584 \nQ 2775 3584 3186 3129 \nQ 3597 2675 3597 1894 \nz\nM 3022 2063 \nQ 3016 2534 2758 2815 \nQ 2500 3097 2075 3097 \nQ 1594 3097 1305 2825 \nQ 1016 2553 972 2059 \nL 3022 2063 \nz\n\" transform=\"scale(0.015625)\"/>\n       <path id=\"DejaVuSans-2c\" d=\"M 750 794 \nL 1409 794 \nL 1409 256 \nL 897 -744 \nL 494 -744 \nL 750 256 \nL 750 794 \nz\n\" transform=\"scale(0.015625)\"/>\n       <path id=\"DejaVuSans-Oblique-3c3\" d=\"M 2219 3044 \nQ 1744 3044 1422 2700 \nQ 1081 2341 969 1747 \nQ 844 1119 1044 756 \nQ 1241 397 1706 397 \nQ 2166 397 2503 759 \nQ 2844 1122 2966 1747 \nQ 3075 2319 2881 2700 \nQ 2700 3044 2219 3044 \nz\nM 2309 3503 \nL 4219 3500 \nL 4106 2925 \nL 3463 2925 \nQ 3706 2438 3575 1747 \nQ 3406 888 2884 400 \nQ 2359 -91 1609 -91 \nQ 856 -91 525 400 \nQ 194 888 363 1747 \nQ 528 2609 1050 3097 \nQ 1484 3503 2309 3503 \nz\n\" transform=\"scale(0.015625)\"/>\n      </defs>\n      <use xlink:href=\"#DejaVuSans-43\" transform=\"translate(0 0.765625)\"/>\n      <use xlink:href=\"#DejaVuSans-6f\" transform=\"translate(69.824219 0.765625)\"/>\n      <use xlink:href=\"#DejaVuSans-6e\" transform=\"translate(131.005859 0.765625)\"/>\n      <use xlink:href=\"#DejaVuSans-73\" transform=\"translate(194.384766 0.765625)\"/>\n      <use xlink:href=\"#DejaVuSans-74\" transform=\"translate(246.484375 0.765625)\"/>\n      <use xlink:href=\"#DejaVuSans-61\" transform=\"translate(285.693359 0.765625)\"/>\n      <use xlink:href=\"#DejaVuSans-6e\" transform=\"translate(346.972656 0.765625)\"/>\n      <use xlink:href=\"#DejaVuSans-74\" transform=\"translate(410.351562 0.765625)\"/>\n      <use xlink:href=\"#DejaVuSans-20\" transform=\"translate(449.560547 0.765625)\"/>\n      <use xlink:href=\"#DejaVuSans-56\" transform=\"translate(481.347656 0.765625)\"/>\n      <use xlink:href=\"#DejaVuSans-61\" transform=\"translate(549.755859 0.765625)\"/>\n      <use xlink:href=\"#DejaVuSans-6c\" transform=\"translate(611.035156 0.765625)\"/>\n      <use xlink:href=\"#DejaVuSans-75\" transform=\"translate(638.818359 0.765625)\"/>\n      <use xlink:href=\"#DejaVuSans-65\" transform=\"translate(702.197266 0.765625)\"/>\n      <use xlink:href=\"#DejaVuSans-2c\" transform=\"translate(763.720703 0.765625)\"/>\n      <use xlink:href=\"#DejaVuSans-20\" transform=\"translate(795.507812 0.765625)\"/>\n      <use xlink:href=\"#DejaVuSans-Oblique-3c3\" transform=\"translate(827.294922 0.765625)\"/>\n      <use xlink:href=\"#DejaVuSans-32\" transform=\"translate(895.146536 39.046875)scale(0.7)\"/>\n      <use xlink:href=\"#DejaVuSans-30\" transform=\"translate(890.673828 -26.578125)scale(0.7)\"/>\n     </g>\n    </g>\n   </g>\n   <g id=\"matplotlib.axis_2\">\n    <g id=\"ytick_1\">\n     <g id=\"line2d_20\">\n      <defs>\n       <path id=\"ma9bfb8e369\" d=\"M 0 0 \nL -3.5 0 \n\" style=\"stroke: #000000; stroke-width: 0.8\"/>\n      </defs>\n      <g>\n       <use xlink:href=\"#ma9bfb8e369\" x=\"51.4\" y=\"195.118125\" style=\"stroke: #000000; stroke-width: 0.8\"/>\n      </g>\n     </g>\n     <g id=\"text_5\">\n      <!-- $\\mathdefault{10^{-2}}$ -->\n      <g transform=\"translate(20.9 198.917344)scale(0.1 -0.1)\">\n       <defs>\n        <path id=\"DejaVuSans-2212\" d=\"M 678 2272 \nL 4684 2272 \nL 4684 1741 \nL 678 1741 \nL 678 2272 \nz\n\" transform=\"scale(0.015625)\"/>\n       </defs>\n       <use xlink:href=\"#DejaVuSans-31\" transform=\"translate(0 0.765625)\"/>\n       <use xlink:href=\"#DejaVuSans-30\" transform=\"translate(63.623047 0.765625)\"/>\n       <use xlink:href=\"#DejaVuSans-2212\" transform=\"translate(128.203125 39.046875)scale(0.7)\"/>\n       <use xlink:href=\"#DejaVuSans-32\" transform=\"translate(186.855469 39.046875)scale(0.7)\"/>\n      </g>\n     </g>\n    </g>\n    <g id=\"ytick_2\">\n     <g id=\"line2d_21\">\n      <g>\n       <use xlink:href=\"#ma9bfb8e369\" x=\"51.4\" y=\"108.718125\" style=\"stroke: #000000; stroke-width: 0.8\"/>\n      </g>\n     </g>\n     <g id=\"text_6\">\n      <!-- $\\mathdefault{10^{-1}}$ -->\n      <g transform=\"translate(20.9 112.517344)scale(0.1 -0.1)\">\n       <use xlink:href=\"#DejaVuSans-31\" transform=\"translate(0 0.684375)\"/>\n       <use xlink:href=\"#DejaVuSans-30\" transform=\"translate(63.623047 0.684375)\"/>\n       <use xlink:href=\"#DejaVuSans-2212\" transform=\"translate(128.203125 38.965625)scale(0.7)\"/>\n       <use xlink:href=\"#DejaVuSans-31\" transform=\"translate(186.855469 38.965625)scale(0.7)\"/>\n      </g>\n     </g>\n    </g>\n    <g id=\"ytick_3\">\n     <g id=\"line2d_22\">\n      <g>\n       <use xlink:href=\"#ma9bfb8e369\" x=\"51.4\" y=\"22.318125\" style=\"stroke: #000000; stroke-width: 0.8\"/>\n      </g>\n     </g>\n     <g id=\"text_7\">\n      <!-- $\\mathdefault{10^{0}}$ -->\n      <g transform=\"translate(26.8 26.117344)scale(0.1 -0.1)\">\n       <use xlink:href=\"#DejaVuSans-31\" transform=\"translate(0 0.765625)\"/>\n       <use xlink:href=\"#DejaVuSans-30\" transform=\"translate(63.623047 0.765625)\"/>\n       <use xlink:href=\"#DejaVuSans-30\" transform=\"translate(128.203125 39.046875)scale(0.7)\"/>\n      </g>\n     </g>\n    </g>\n    <g id=\"ytick_4\">\n     <g id=\"line2d_23\">\n      <defs>\n       <path id=\"m708e2602e1\" d=\"M 0 0 \nL -2 0 \n\" style=\"stroke: #000000; stroke-width: 0.6\"/>\n      </defs>\n      <g>\n       <use xlink:href=\"#m708e2602e1\" x=\"51.4\" y=\"169.109133\" style=\"stroke: #000000; stroke-width: 0.6\"/>\n      </g>\n     </g>\n    </g>\n    <g id=\"ytick_5\">\n     <g id=\"line2d_24\">\n      <g>\n       <use xlink:href=\"#m708e2602e1\" x=\"51.4\" y=\"153.894849\" style=\"stroke: #000000; stroke-width: 0.6\"/>\n      </g>\n     </g>\n    </g>\n    <g id=\"ytick_6\">\n     <g id=\"line2d_25\">\n      <g>\n       <use xlink:href=\"#m708e2602e1\" x=\"51.4\" y=\"143.100142\" style=\"stroke: #000000; stroke-width: 0.6\"/>\n      </g>\n     </g>\n    </g>\n    <g id=\"ytick_7\">\n     <g id=\"line2d_26\">\n      <g>\n       <use xlink:href=\"#m708e2602e1\" x=\"51.4\" y=\"134.727117\" style=\"stroke: #000000; stroke-width: 0.6\"/>\n      </g>\n     </g>\n    </g>\n    <g id=\"ytick_8\">\n     <g id=\"line2d_27\">\n      <g>\n       <use xlink:href=\"#m708e2602e1\" x=\"51.4\" y=\"127.885857\" style=\"stroke: #000000; stroke-width: 0.6\"/>\n      </g>\n     </g>\n    </g>\n    <g id=\"ytick_9\">\n     <g id=\"line2d_28\">\n      <g>\n       <use xlink:href=\"#m708e2602e1\" x=\"51.4\" y=\"122.101654\" style=\"stroke: #000000; stroke-width: 0.6\"/>\n      </g>\n     </g>\n    </g>\n    <g id=\"ytick_10\">\n     <g id=\"line2d_29\">\n      <g>\n       <use xlink:href=\"#m708e2602e1\" x=\"51.4\" y=\"117.09115\" style=\"stroke: #000000; stroke-width: 0.6\"/>\n      </g>\n     </g>\n    </g>\n    <g id=\"ytick_11\">\n     <g id=\"line2d_30\">\n      <g>\n       <use xlink:href=\"#m708e2602e1\" x=\"51.4\" y=\"112.671572\" style=\"stroke: #000000; stroke-width: 0.6\"/>\n      </g>\n     </g>\n    </g>\n    <g id=\"ytick_12\">\n     <g id=\"line2d_31\">\n      <g>\n       <use xlink:href=\"#m708e2602e1\" x=\"51.4\" y=\"82.709133\" style=\"stroke: #000000; stroke-width: 0.6\"/>\n      </g>\n     </g>\n    </g>\n    <g id=\"ytick_13\">\n     <g id=\"line2d_32\">\n      <g>\n       <use xlink:href=\"#m708e2602e1\" x=\"51.4\" y=\"67.494849\" style=\"stroke: #000000; stroke-width: 0.6\"/>\n      </g>\n     </g>\n    </g>\n    <g id=\"ytick_14\">\n     <g id=\"line2d_33\">\n      <g>\n       <use xlink:href=\"#m708e2602e1\" x=\"51.4\" y=\"56.700142\" style=\"stroke: #000000; stroke-width: 0.6\"/>\n      </g>\n     </g>\n    </g>\n    <g id=\"ytick_15\">\n     <g id=\"line2d_34\">\n      <g>\n       <use xlink:href=\"#m708e2602e1\" x=\"51.4\" y=\"48.327117\" style=\"stroke: #000000; stroke-width: 0.6\"/>\n      </g>\n     </g>\n    </g>\n    <g id=\"ytick_16\">\n     <g id=\"line2d_35\">\n      <g>\n       <use xlink:href=\"#m708e2602e1\" x=\"51.4\" y=\"41.485857\" style=\"stroke: #000000; stroke-width: 0.6\"/>\n      </g>\n     </g>\n    </g>\n    <g id=\"ytick_17\">\n     <g id=\"line2d_36\">\n      <g>\n       <use xlink:href=\"#m708e2602e1\" x=\"51.4\" y=\"35.701654\" style=\"stroke: #000000; stroke-width: 0.6\"/>\n      </g>\n     </g>\n    </g>\n    <g id=\"ytick_18\">\n     <g id=\"line2d_37\">\n      <g>\n       <use xlink:href=\"#m708e2602e1\" x=\"51.4\" y=\"30.69115\" style=\"stroke: #000000; stroke-width: 0.6\"/>\n      </g>\n     </g>\n    </g>\n    <g id=\"ytick_19\">\n     <g id=\"line2d_38\">\n      <g>\n       <use xlink:href=\"#m708e2602e1\" x=\"51.4\" y=\"26.271572\" style=\"stroke: #000000; stroke-width: 0.6\"/>\n      </g>\n     </g>\n    </g>\n    <g id=\"text_8\">\n     <!-- Length Scale, $l$ -->\n     <g transform=\"translate(14.8 145.668125)rotate(-90)scale(0.1 -0.1)\">\n      <defs>\n       <path id=\"DejaVuSans-4c\" d=\"M 628 4666 \nL 1259 4666 \nL 1259 531 \nL 3531 531 \nL 3531 0 \nL 628 0 \nL 628 4666 \nz\n\" transform=\"scale(0.015625)\"/>\n       <path id=\"DejaVuSans-67\" d=\"M 2906 1791 \nQ 2906 2416 2648 2759 \nQ 2391 3103 1925 3103 \nQ 1463 3103 1205 2759 \nQ 947 2416 947 1791 \nQ 947 1169 1205 825 \nQ 1463 481 1925 481 \nQ 2391 481 2648 825 \nQ 2906 1169 2906 1791 \nz\nM 3481 434 \nQ 3481 -459 3084 -895 \nQ 2688 -1331 1869 -1331 \nQ 1566 -1331 1297 -1286 \nQ 1028 -1241 775 -1147 \nL 775 -588 \nQ 1028 -725 1275 -790 \nQ 1522 -856 1778 -856 \nQ 2344 -856 2625 -561 \nQ 2906 -266 2906 331 \nL 2906 616 \nQ 2728 306 2450 153 \nQ 2172 0 1784 0 \nQ 1141 0 747 490 \nQ 353 981 353 1791 \nQ 353 2603 747 3093 \nQ 1141 3584 1784 3584 \nQ 2172 3584 2450 3431 \nQ 2728 3278 2906 2969 \nL 2906 3500 \nL 3481 3500 \nL 3481 434 \nz\n\" transform=\"scale(0.015625)\"/>\n       <path id=\"DejaVuSans-68\" d=\"M 3513 2113 \nL 3513 0 \nL 2938 0 \nL 2938 2094 \nQ 2938 2591 2744 2837 \nQ 2550 3084 2163 3084 \nQ 1697 3084 1428 2787 \nQ 1159 2491 1159 1978 \nL 1159 0 \nL 581 0 \nL 581 4863 \nL 1159 4863 \nL 1159 2956 \nQ 1366 3272 1645 3428 \nQ 1925 3584 2291 3584 \nQ 2894 3584 3203 3211 \nQ 3513 2838 3513 2113 \nz\n\" transform=\"scale(0.015625)\"/>\n       <path id=\"DejaVuSans-53\" d=\"M 3425 4513 \nL 3425 3897 \nQ 3066 4069 2747 4153 \nQ 2428 4238 2131 4238 \nQ 1616 4238 1336 4038 \nQ 1056 3838 1056 3469 \nQ 1056 3159 1242 3001 \nQ 1428 2844 1947 2747 \nL 2328 2669 \nQ 3034 2534 3370 2195 \nQ 3706 1856 3706 1288 \nQ 3706 609 3251 259 \nQ 2797 -91 1919 -91 \nQ 1588 -91 1214 -16 \nQ 841 59 441 206 \nL 441 856 \nQ 825 641 1194 531 \nQ 1563 422 1919 422 \nQ 2459 422 2753 634 \nQ 3047 847 3047 1241 \nQ 3047 1584 2836 1778 \nQ 2625 1972 2144 2069 \nL 1759 2144 \nQ 1053 2284 737 2584 \nQ 422 2884 422 3419 \nQ 422 4038 858 4394 \nQ 1294 4750 2059 4750 \nQ 2388 4750 2728 4690 \nQ 3069 4631 3425 4513 \nz\n\" transform=\"scale(0.015625)\"/>\n       <path id=\"DejaVuSans-63\" d=\"M 3122 3366 \nL 3122 2828 \nQ 2878 2963 2633 3030 \nQ 2388 3097 2138 3097 \nQ 1578 3097 1268 2742 \nQ 959 2388 959 1747 \nQ 959 1106 1268 751 \nQ 1578 397 2138 397 \nQ 2388 397 2633 464 \nQ 2878 531 3122 666 \nL 3122 134 \nQ 2881 22 2623 -34 \nQ 2366 -91 2075 -91 \nQ 1284 -91 818 406 \nQ 353 903 353 1747 \nQ 353 2603 823 3093 \nQ 1294 3584 2113 3584 \nQ 2378 3584 2631 3529 \nQ 2884 3475 3122 3366 \nz\n\" transform=\"scale(0.015625)\"/>\n       <path id=\"DejaVuSans-Oblique-6c\" d=\"M 1172 4863 \nL 1747 4863 \nL 800 0 \nL 225 0 \nL 1172 4863 \nz\n\" transform=\"scale(0.015625)\"/>\n      </defs>\n      <use xlink:href=\"#DejaVuSans-4c\" transform=\"translate(0 0.015625)\"/>\n      <use xlink:href=\"#DejaVuSans-65\" transform=\"translate(55.712891 0.015625)\"/>\n      <use xlink:href=\"#DejaVuSans-6e\" transform=\"translate(117.236328 0.015625)\"/>\n      <use xlink:href=\"#DejaVuSans-67\" transform=\"translate(180.615234 0.015625)\"/>\n      <use xlink:href=\"#DejaVuSans-74\" transform=\"translate(244.091797 0.015625)\"/>\n      <use xlink:href=\"#DejaVuSans-68\" transform=\"translate(283.300781 0.015625)\"/>\n      <use xlink:href=\"#DejaVuSans-20\" transform=\"translate(346.679688 0.015625)\"/>\n      <use xlink:href=\"#DejaVuSans-53\" transform=\"translate(378.466797 0.015625)\"/>\n      <use xlink:href=\"#DejaVuSans-63\" transform=\"translate(441.943359 0.015625)\"/>\n      <use xlink:href=\"#DejaVuSans-61\" transform=\"translate(496.923828 0.015625)\"/>\n      <use xlink:href=\"#DejaVuSans-6c\" transform=\"translate(558.203125 0.015625)\"/>\n      <use xlink:href=\"#DejaVuSans-65\" transform=\"translate(585.986328 0.015625)\"/>\n      <use xlink:href=\"#DejaVuSans-2c\" transform=\"translate(647.509766 0.015625)\"/>\n      <use xlink:href=\"#DejaVuSans-20\" transform=\"translate(679.296875 0.015625)\"/>\n      <use xlink:href=\"#DejaVuSans-Oblique-6c\" transform=\"translate(711.083984 0.015625)\"/>\n     </g>\n    </g>\n   </g>\n   <g id=\"patch_3\">\n    <path d=\"M 51.4 195.118125 \nL 51.4 22.318125 \n\" style=\"fill: none; stroke: #000000; stroke-width: 0.8; stroke-linejoin: miter; stroke-linecap: square\"/>\n   </g>\n   <g id=\"patch_4\">\n    <path d=\"M 236.448225 195.118125 \nL 236.448225 22.318125 \n\" style=\"fill: none; stroke: #000000; stroke-width: 0.8; stroke-linejoin: miter; stroke-linecap: square\"/>\n   </g>\n   <g id=\"patch_5\">\n    <path d=\"M 51.4 195.118125 \nL 236.448225 195.118125 \n\" style=\"fill: none; stroke: #000000; stroke-width: 0.8; stroke-linejoin: miter; stroke-linecap: square\"/>\n   </g>\n   <g id=\"patch_6\">\n    <path d=\"M 51.4 22.318125 \nL 236.448225 22.318125 \n\" style=\"fill: none; stroke: #000000; stroke-width: 0.8; stroke-linejoin: miter; stroke-linecap: square\"/>\n   </g>\n   <g id=\"text_9\">\n    <!-- Val. Error Contour for CHA-GP, RBF Kernel -->\n    <g transform=\"translate(18.951613 16.318125)scale(0.12 -0.12)\">\n     <defs>\n      <path id=\"DejaVuSans-2e\" d=\"M 684 794 \nL 1344 794 \nL 1344 0 \nL 684 0 \nL 684 794 \nz\n\" transform=\"scale(0.015625)\"/>\n      <path id=\"DejaVuSans-45\" d=\"M 628 4666 \nL 3578 4666 \nL 3578 4134 \nL 1259 4134 \nL 1259 2753 \nL 3481 2753 \nL 3481 2222 \nL 1259 2222 \nL 1259 531 \nL 3634 531 \nL 3634 0 \nL 628 0 \nL 628 4666 \nz\n\" transform=\"scale(0.015625)\"/>\n      <path id=\"DejaVuSans-72\" d=\"M 2631 2963 \nQ 2534 3019 2420 3045 \nQ 2306 3072 2169 3072 \nQ 1681 3072 1420 2755 \nQ 1159 2438 1159 1844 \nL 1159 0 \nL 581 0 \nL 581 3500 \nL 1159 3500 \nL 1159 2956 \nQ 1341 3275 1631 3429 \nQ 1922 3584 2338 3584 \nQ 2397 3584 2469 3576 \nQ 2541 3569 2628 3553 \nL 2631 2963 \nz\n\" transform=\"scale(0.015625)\"/>\n      <path id=\"DejaVuSans-66\" d=\"M 2375 4863 \nL 2375 4384 \nL 1825 4384 \nQ 1516 4384 1395 4259 \nQ 1275 4134 1275 3809 \nL 1275 3500 \nL 2222 3500 \nL 2222 3053 \nL 1275 3053 \nL 1275 0 \nL 697 0 \nL 697 3053 \nL 147 3053 \nL 147 3500 \nL 697 3500 \nL 697 3744 \nQ 697 4328 969 4595 \nQ 1241 4863 1831 4863 \nL 2375 4863 \nz\n\" transform=\"scale(0.015625)\"/>\n      <path id=\"DejaVuSans-48\" d=\"M 628 4666 \nL 1259 4666 \nL 1259 2753 \nL 3553 2753 \nL 3553 4666 \nL 4184 4666 \nL 4184 0 \nL 3553 0 \nL 3553 2222 \nL 1259 2222 \nL 1259 0 \nL 628 0 \nL 628 4666 \nz\n\" transform=\"scale(0.015625)\"/>\n      <path id=\"DejaVuSans-41\" d=\"M 2188 4044 \nL 1331 1722 \nL 3047 1722 \nL 2188 4044 \nz\nM 1831 4666 \nL 2547 4666 \nL 4325 0 \nL 3669 0 \nL 3244 1197 \nL 1141 1197 \nL 716 0 \nL 50 0 \nL 1831 4666 \nz\n\" transform=\"scale(0.015625)\"/>\n      <path id=\"DejaVuSans-2d\" d=\"M 313 2009 \nL 1997 2009 \nL 1997 1497 \nL 313 1497 \nL 313 2009 \nz\n\" transform=\"scale(0.015625)\"/>\n      <path id=\"DejaVuSans-47\" d=\"M 3809 666 \nL 3809 1919 \nL 2778 1919 \nL 2778 2438 \nL 4434 2438 \nL 4434 434 \nQ 4069 175 3628 42 \nQ 3188 -91 2688 -91 \nQ 1594 -91 976 548 \nQ 359 1188 359 2328 \nQ 359 3472 976 4111 \nQ 1594 4750 2688 4750 \nQ 3144 4750 3555 4637 \nQ 3966 4525 4313 4306 \nL 4313 3634 \nQ 3963 3931 3569 4081 \nQ 3175 4231 2741 4231 \nQ 1884 4231 1454 3753 \nQ 1025 3275 1025 2328 \nQ 1025 1384 1454 906 \nQ 1884 428 2741 428 \nQ 3075 428 3337 486 \nQ 3600 544 3809 666 \nz\n\" transform=\"scale(0.015625)\"/>\n      <path id=\"DejaVuSans-50\" d=\"M 1259 4147 \nL 1259 2394 \nL 2053 2394 \nQ 2494 2394 2734 2622 \nQ 2975 2850 2975 3272 \nQ 2975 3691 2734 3919 \nQ 2494 4147 2053 4147 \nL 1259 4147 \nz\nM 628 4666 \nL 2053 4666 \nQ 2838 4666 3239 4311 \nQ 3641 3956 3641 3272 \nQ 3641 2581 3239 2228 \nQ 2838 1875 2053 1875 \nL 1259 1875 \nL 1259 0 \nL 628 0 \nL 628 4666 \nz\n\" transform=\"scale(0.015625)\"/>\n      <path id=\"DejaVuSans-52\" d=\"M 2841 2188 \nQ 3044 2119 3236 1894 \nQ 3428 1669 3622 1275 \nL 4263 0 \nL 3584 0 \nL 2988 1197 \nQ 2756 1666 2539 1819 \nQ 2322 1972 1947 1972 \nL 1259 1972 \nL 1259 0 \nL 628 0 \nL 628 4666 \nL 2053 4666 \nQ 2853 4666 3247 4331 \nQ 3641 3997 3641 3322 \nQ 3641 2881 3436 2590 \nQ 3231 2300 2841 2188 \nz\nM 1259 4147 \nL 1259 2491 \nL 2053 2491 \nQ 2509 2491 2742 2702 \nQ 2975 2913 2975 3322 \nQ 2975 3731 2742 3939 \nQ 2509 4147 2053 4147 \nL 1259 4147 \nz\n\" transform=\"scale(0.015625)\"/>\n      <path id=\"DejaVuSans-42\" d=\"M 1259 2228 \nL 1259 519 \nL 2272 519 \nQ 2781 519 3026 730 \nQ 3272 941 3272 1375 \nQ 3272 1813 3026 2020 \nQ 2781 2228 2272 2228 \nL 1259 2228 \nz\nM 1259 4147 \nL 1259 2741 \nL 2194 2741 \nQ 2656 2741 2882 2914 \nQ 3109 3088 3109 3444 \nQ 3109 3797 2882 3972 \nQ 2656 4147 2194 4147 \nL 1259 4147 \nz\nM 628 4666 \nL 2241 4666 \nQ 2963 4666 3353 4366 \nQ 3744 4066 3744 3513 \nQ 3744 3084 3544 2831 \nQ 3344 2578 2956 2516 \nQ 3422 2416 3680 2098 \nQ 3938 1781 3938 1306 \nQ 3938 681 3513 340 \nQ 3088 0 2303 0 \nL 628 0 \nL 628 4666 \nz\n\" transform=\"scale(0.015625)\"/>\n      <path id=\"DejaVuSans-46\" d=\"M 628 4666 \nL 3309 4666 \nL 3309 4134 \nL 1259 4134 \nL 1259 2759 \nL 3109 2759 \nL 3109 2228 \nL 1259 2228 \nL 1259 0 \nL 628 0 \nL 628 4666 \nz\n\" transform=\"scale(0.015625)\"/>\n      <path id=\"DejaVuSans-4b\" d=\"M 628 4666 \nL 1259 4666 \nL 1259 2694 \nL 3353 4666 \nL 4166 4666 \nL 1850 2491 \nL 4331 0 \nL 3500 0 \nL 1259 2247 \nL 1259 0 \nL 628 0 \nL 628 4666 \nz\n\" transform=\"scale(0.015625)\"/>\n     </defs>\n     <use xlink:href=\"#DejaVuSans-56\"/>\n     <use xlink:href=\"#DejaVuSans-61\" x=\"60.658203\"/>\n     <use xlink:href=\"#DejaVuSans-6c\" x=\"121.9375\"/>\n     <use xlink:href=\"#DejaVuSans-2e\" x=\"149.720703\"/>\n     <use xlink:href=\"#DejaVuSans-20\" x=\"181.507812\"/>\n     <use xlink:href=\"#DejaVuSans-45\" x=\"213.294922\"/>\n     <use xlink:href=\"#DejaVuSans-72\" x=\"276.478516\"/>\n     <use xlink:href=\"#DejaVuSans-72\" x=\"315.841797\"/>\n     <use xlink:href=\"#DejaVuSans-6f\" x=\"354.705078\"/>\n     <use xlink:href=\"#DejaVuSans-72\" x=\"415.886719\"/>\n     <use xlink:href=\"#DejaVuSans-20\" x=\"457\"/>\n     <use xlink:href=\"#DejaVuSans-43\" x=\"488.787109\"/>\n     <use xlink:href=\"#DejaVuSans-6f\" x=\"558.611328\"/>\n     <use xlink:href=\"#DejaVuSans-6e\" x=\"619.792969\"/>\n     <use xlink:href=\"#DejaVuSans-74\" x=\"683.171875\"/>\n     <use xlink:href=\"#DejaVuSans-6f\" x=\"722.380859\"/>\n     <use xlink:href=\"#DejaVuSans-75\" x=\"783.5625\"/>\n     <use xlink:href=\"#DejaVuSans-72\" x=\"846.941406\"/>\n     <use xlink:href=\"#DejaVuSans-20\" x=\"888.054688\"/>\n     <use xlink:href=\"#DejaVuSans-66\" x=\"919.841797\"/>\n     <use xlink:href=\"#DejaVuSans-6f\" x=\"955.046875\"/>\n     <use xlink:href=\"#DejaVuSans-72\" x=\"1016.228516\"/>\n     <use xlink:href=\"#DejaVuSans-20\" x=\"1057.341797\"/>\n     <use xlink:href=\"#DejaVuSans-43\" x=\"1089.128906\"/>\n     <use xlink:href=\"#DejaVuSans-48\" x=\"1158.953125\"/>\n     <use xlink:href=\"#DejaVuSans-41\" x=\"1234.148438\"/>\n     <use xlink:href=\"#DejaVuSans-2d\" x=\"1300.306641\"/>\n     <use xlink:href=\"#DejaVuSans-47\" x=\"1340.015625\"/>\n     <use xlink:href=\"#DejaVuSans-50\" x=\"1417.505859\"/>\n     <use xlink:href=\"#DejaVuSans-2c\" x=\"1477.808594\"/>\n     <use xlink:href=\"#DejaVuSans-20\" x=\"1509.595703\"/>\n     <use xlink:href=\"#DejaVuSans-52\" x=\"1541.382812\"/>\n     <use xlink:href=\"#DejaVuSans-42\" x=\"1610.865234\"/>\n     <use xlink:href=\"#DejaVuSans-46\" x=\"1679.46875\"/>\n     <use xlink:href=\"#DejaVuSans-20\" x=\"1736.988281\"/>\n     <use xlink:href=\"#DejaVuSans-4b\" x=\"1768.775391\"/>\n     <use xlink:href=\"#DejaVuSans-65\" x=\"1829.351562\"/>\n     <use xlink:href=\"#DejaVuSans-72\" x=\"1890.875\"/>\n     <use xlink:href=\"#DejaVuSans-6e\" x=\"1930.238281\"/>\n     <use xlink:href=\"#DejaVuSans-65\" x=\"1993.617188\"/>\n     <use xlink:href=\"#DejaVuSans-6c\" x=\"2055.140625\"/>\n    </g>\n   </g>\n  </g>\n  <g id=\"axes_2\">\n   <g id=\"patch_7\">\n    <path d=\"M 248.013739 195.118125 \nL 256.653739 195.118125 \nL 256.653739 22.318125 \nL 248.013739 22.318125 \nz\n\" style=\"fill: #ffffff\"/>\n   </g>\n   <g id=\"patch_8\">\n    <path clip-path=\"url(#pa11bf25084)\" style=\"fill: #ffffff; stroke: #ffffff; stroke-width: 0.01; stroke-linejoin: miter\"/>\n   </g>\n   <g id=\"QuadMesh_1\">\n    <path d=\"M 248.013739 195.118125 \nL 256.653739 195.118125 \nL 256.653739 182.775268 \nL 248.013739 182.775268 \nL 248.013739 195.118125 \n\" clip-path=\"url(#pa11bf25084)\" style=\"fill: #471063\"/>\n    <path d=\"M 248.013739 182.775268 \nL 256.653739 182.775268 \nL 256.653739 170.432411 \nL 248.013739 170.432411 \nL 248.013739 182.775268 \n\" clip-path=\"url(#pa11bf25084)\" style=\"fill: #472d7b\"/>\n    <path d=\"M 248.013739 170.432411 \nL 256.653739 170.432411 \nL 256.653739 158.089554 \nL 248.013739 158.089554 \nL 248.013739 170.432411 \n\" clip-path=\"url(#pa11bf25084)\" style=\"fill: #433e85\"/>\n    <path d=\"M 248.013739 158.089554 \nL 256.653739 158.089554 \nL 256.653739 145.746696 \nL 248.013739 145.746696 \nL 248.013739 158.089554 \n\" clip-path=\"url(#pa11bf25084)\" style=\"fill: #3d4e8a\"/>\n    <path d=\"M 248.013739 145.746696 \nL 256.653739 145.746696 \nL 256.653739 133.403839 \nL 248.013739 133.403839 \nL 248.013739 145.746696 \n\" clip-path=\"url(#pa11bf25084)\" style=\"fill: #32648e\"/>\n    <path d=\"M 248.013739 133.403839 \nL 256.653739 133.403839 \nL 256.653739 121.060982 \nL 248.013739 121.060982 \nL 248.013739 133.403839 \n\" clip-path=\"url(#pa11bf25084)\" style=\"fill: #29798e\"/>\n    <path d=\"M 248.013739 121.060982 \nL 256.653739 121.060982 \nL 256.653739 108.718125 \nL 248.013739 108.718125 \nL 248.013739 121.060982 \n\" clip-path=\"url(#pa11bf25084)\" style=\"fill: #24868e\"/>\n    <path d=\"M 248.013739 108.718125 \nL 256.653739 108.718125 \nL 256.653739 96.375268 \nL 248.013739 96.375268 \nL 248.013739 108.718125 \n\" clip-path=\"url(#pa11bf25084)\" style=\"fill: #20938c\"/>\n    <path d=\"M 248.013739 96.375268 \nL 256.653739 96.375268 \nL 256.653739 84.032411 \nL 248.013739 84.032411 \nL 248.013739 96.375268 \n\" clip-path=\"url(#pa11bf25084)\" style=\"fill: #22a785\"/>\n    <path d=\"M 248.013739 84.032411 \nL 256.653739 84.032411 \nL 256.653739 71.689554 \nL 248.013739 71.689554 \nL 248.013739 84.032411 \n\" clip-path=\"url(#pa11bf25084)\" style=\"fill: #3bbb75\"/>\n    <path d=\"M 248.013739 71.689554 \nL 256.653739 71.689554 \nL 256.653739 59.346696 \nL 248.013739 59.346696 \nL 248.013739 71.689554 \n\" clip-path=\"url(#pa11bf25084)\" style=\"fill: #56c667\"/>\n    <path d=\"M 248.013739 59.346696 \nL 256.653739 59.346696 \nL 256.653739 47.003839 \nL 248.013739 47.003839 \nL 248.013739 59.346696 \n\" clip-path=\"url(#pa11bf25084)\" style=\"fill: #75d054\"/>\n    <path d=\"M 248.013739 47.003839 \nL 256.653739 47.003839 \nL 256.653739 34.660982 \nL 248.013739 34.660982 \nL 248.013739 47.003839 \n\" clip-path=\"url(#pa11bf25084)\" style=\"fill: #aadc32\"/>\n    <path d=\"M 248.013739 34.660982 \nL 256.653739 34.660982 \nL 256.653739 22.318125 \nL 248.013739 22.318125 \nL 248.013739 34.660982 \n\" clip-path=\"url(#pa11bf25084)\" style=\"fill: #e5e419\"/>\n   </g>\n   <g id=\"matplotlib.axis_3\">\n    <g id=\"ytick_20\">\n     <g id=\"line2d_39\">\n      <defs>\n       <path id=\"mb1fd410ef8\" d=\"M 0 0 \nL 3.5 0 \n\" style=\"stroke: #000000; stroke-width: 0.8\"/>\n      </defs>\n      <g>\n       <use xlink:href=\"#mb1fd410ef8\" x=\"256.653739\" y=\"195.118125\" style=\"stroke: #000000; stroke-width: 0.8\"/>\n      </g>\n     </g>\n     <g id=\"text_10\">\n      <!-- 0.001 -->\n      <g transform=\"translate(263.653739 198.917344)scale(0.1 -0.1)\">\n       <use xlink:href=\"#DejaVuSans-30\"/>\n       <use xlink:href=\"#DejaVuSans-2e\" x=\"63.623047\"/>\n       <use xlink:href=\"#DejaVuSans-30\" x=\"95.410156\"/>\n       <use xlink:href=\"#DejaVuSans-30\" x=\"159.033203\"/>\n       <use xlink:href=\"#DejaVuSans-31\" x=\"222.65625\"/>\n      </g>\n     </g>\n    </g>\n    <g id=\"ytick_21\">\n     <g id=\"line2d_40\">\n      <g>\n       <use xlink:href=\"#mb1fd410ef8\" x=\"256.653739\" y=\"170.432411\" style=\"stroke: #000000; stroke-width: 0.8\"/>\n      </g>\n     </g>\n     <g id=\"text_11\">\n      <!-- 0.004 -->\n      <g transform=\"translate(263.653739 174.231629)scale(0.1 -0.1)\">\n       <defs>\n        <path id=\"DejaVuSans-34\" d=\"M 2419 4116 \nL 825 1625 \nL 2419 1625 \nL 2419 4116 \nz\nM 2253 4666 \nL 3047 4666 \nL 3047 1625 \nL 3713 1625 \nL 3713 1100 \nL 3047 1100 \nL 3047 0 \nL 2419 0 \nL 2419 1100 \nL 313 1100 \nL 313 1709 \nL 2253 4666 \nz\n\" transform=\"scale(0.015625)\"/>\n       </defs>\n       <use xlink:href=\"#DejaVuSans-30\"/>\n       <use xlink:href=\"#DejaVuSans-2e\" x=\"63.623047\"/>\n       <use xlink:href=\"#DejaVuSans-30\" x=\"95.410156\"/>\n       <use xlink:href=\"#DejaVuSans-30\" x=\"159.033203\"/>\n       <use xlink:href=\"#DejaVuSans-34\" x=\"222.65625\"/>\n      </g>\n     </g>\n    </g>\n    <g id=\"ytick_22\">\n     <g id=\"line2d_41\">\n      <g>\n       <use xlink:href=\"#mb1fd410ef8\" x=\"256.653739\" y=\"145.746696\" style=\"stroke: #000000; stroke-width: 0.8\"/>\n      </g>\n     </g>\n     <g id=\"text_12\">\n      <!-- 0.010 -->\n      <g transform=\"translate(263.653739 149.545915)scale(0.1 -0.1)\">\n       <use xlink:href=\"#DejaVuSans-30\"/>\n       <use xlink:href=\"#DejaVuSans-2e\" x=\"63.623047\"/>\n       <use xlink:href=\"#DejaVuSans-30\" x=\"95.410156\"/>\n       <use xlink:href=\"#DejaVuSans-31\" x=\"159.033203\"/>\n       <use xlink:href=\"#DejaVuSans-30\" x=\"222.65625\"/>\n      </g>\n     </g>\n    </g>\n    <g id=\"ytick_23\">\n     <g id=\"line2d_42\">\n      <g>\n       <use xlink:href=\"#mb1fd410ef8\" x=\"256.653739\" y=\"121.060982\" style=\"stroke: #000000; stroke-width: 0.8\"/>\n      </g>\n     </g>\n     <g id=\"text_13\">\n      <!-- 0.040 -->\n      <g transform=\"translate(263.653739 124.860201)scale(0.1 -0.1)\">\n       <use xlink:href=\"#DejaVuSans-30\"/>\n       <use xlink:href=\"#DejaVuSans-2e\" x=\"63.623047\"/>\n       <use xlink:href=\"#DejaVuSans-30\" x=\"95.410156\"/>\n       <use xlink:href=\"#DejaVuSans-34\" x=\"159.033203\"/>\n       <use xlink:href=\"#DejaVuSans-30\" x=\"222.65625\"/>\n      </g>\n     </g>\n    </g>\n    <g id=\"ytick_24\">\n     <g id=\"line2d_43\">\n      <g>\n       <use xlink:href=\"#mb1fd410ef8\" x=\"256.653739\" y=\"96.375268\" style=\"stroke: #000000; stroke-width: 0.8\"/>\n      </g>\n     </g>\n     <g id=\"text_14\">\n      <!-- 0.100 -->\n      <g transform=\"translate(263.653739 100.174487)scale(0.1 -0.1)\">\n       <use xlink:href=\"#DejaVuSans-30\"/>\n       <use xlink:href=\"#DejaVuSans-2e\" x=\"63.623047\"/>\n       <use xlink:href=\"#DejaVuSans-31\" x=\"95.410156\"/>\n       <use xlink:href=\"#DejaVuSans-30\" x=\"159.033203\"/>\n       <use xlink:href=\"#DejaVuSans-30\" x=\"222.65625\"/>\n      </g>\n     </g>\n    </g>\n    <g id=\"ytick_25\">\n     <g id=\"line2d_44\">\n      <g>\n       <use xlink:href=\"#mb1fd410ef8\" x=\"256.653739\" y=\"71.689554\" style=\"stroke: #000000; stroke-width: 0.8\"/>\n      </g>\n     </g>\n     <g id=\"text_15\">\n      <!-- 0.400 -->\n      <g transform=\"translate(263.653739 75.488772)scale(0.1 -0.1)\">\n       <use xlink:href=\"#DejaVuSans-30\"/>\n       <use xlink:href=\"#DejaVuSans-2e\" x=\"63.623047\"/>\n       <use xlink:href=\"#DejaVuSans-34\" x=\"95.410156\"/>\n       <use xlink:href=\"#DejaVuSans-30\" x=\"159.033203\"/>\n       <use xlink:href=\"#DejaVuSans-30\" x=\"222.65625\"/>\n      </g>\n     </g>\n    </g>\n    <g id=\"ytick_26\">\n     <g id=\"line2d_45\">\n      <g>\n       <use xlink:href=\"#mb1fd410ef8\" x=\"256.653739\" y=\"47.003839\" style=\"stroke: #000000; stroke-width: 0.8\"/>\n      </g>\n     </g>\n     <g id=\"text_16\">\n      <!-- 1.000 -->\n      <g transform=\"translate(263.653739 50.803058)scale(0.1 -0.1)\">\n       <use xlink:href=\"#DejaVuSans-31\"/>\n       <use xlink:href=\"#DejaVuSans-2e\" x=\"63.623047\"/>\n       <use xlink:href=\"#DejaVuSans-30\" x=\"95.410156\"/>\n       <use xlink:href=\"#DejaVuSans-30\" x=\"159.033203\"/>\n       <use xlink:href=\"#DejaVuSans-30\" x=\"222.65625\"/>\n      </g>\n     </g>\n    </g>\n    <g id=\"ytick_27\">\n     <g id=\"line2d_46\">\n      <g>\n       <use xlink:href=\"#mb1fd410ef8\" x=\"256.653739\" y=\"22.318125\" style=\"stroke: #000000; stroke-width: 0.8\"/>\n      </g>\n     </g>\n     <g id=\"text_17\">\n      <!-- 4.000 -->\n      <g transform=\"translate(263.653739 26.117344)scale(0.1 -0.1)\">\n       <use xlink:href=\"#DejaVuSans-34\"/>\n       <use xlink:href=\"#DejaVuSans-2e\" x=\"63.623047\"/>\n       <use xlink:href=\"#DejaVuSans-30\" x=\"95.410156\"/>\n       <use xlink:href=\"#DejaVuSans-30\" x=\"159.033203\"/>\n       <use xlink:href=\"#DejaVuSans-30\" x=\"222.65625\"/>\n      </g>\n     </g>\n    </g>\n    <g id=\"text_18\">\n     <!-- Validation relRMSE -->\n     <g transform=\"translate(303.880302 155.528281)rotate(-90)scale(0.1 -0.1)\">\n      <defs>\n       <path id=\"DejaVuSans-69\" d=\"M 603 3500 \nL 1178 3500 \nL 1178 0 \nL 603 0 \nL 603 3500 \nz\nM 603 4863 \nL 1178 4863 \nL 1178 4134 \nL 603 4134 \nL 603 4863 \nz\n\" transform=\"scale(0.015625)\"/>\n       <path id=\"DejaVuSans-64\" d=\"M 2906 2969 \nL 2906 4863 \nL 3481 4863 \nL 3481 0 \nL 2906 0 \nL 2906 525 \nQ 2725 213 2448 61 \nQ 2172 -91 1784 -91 \nQ 1150 -91 751 415 \nQ 353 922 353 1747 \nQ 353 2572 751 3078 \nQ 1150 3584 1784 3584 \nQ 2172 3584 2448 3432 \nQ 2725 3281 2906 2969 \nz\nM 947 1747 \nQ 947 1113 1208 752 \nQ 1469 391 1925 391 \nQ 2381 391 2643 752 \nQ 2906 1113 2906 1747 \nQ 2906 2381 2643 2742 \nQ 2381 3103 1925 3103 \nQ 1469 3103 1208 2742 \nQ 947 2381 947 1747 \nz\n\" transform=\"scale(0.015625)\"/>\n       <path id=\"DejaVuSans-4d\" d=\"M 628 4666 \nL 1569 4666 \nL 2759 1491 \nL 3956 4666 \nL 4897 4666 \nL 4897 0 \nL 4281 0 \nL 4281 4097 \nL 3078 897 \nL 2444 897 \nL 1241 4097 \nL 1241 0 \nL 628 0 \nL 628 4666 \nz\n\" transform=\"scale(0.015625)\"/>\n      </defs>\n      <use xlink:href=\"#DejaVuSans-56\"/>\n      <use xlink:href=\"#DejaVuSans-61\" x=\"60.658203\"/>\n      <use xlink:href=\"#DejaVuSans-6c\" x=\"121.9375\"/>\n      <use xlink:href=\"#DejaVuSans-69\" x=\"149.720703\"/>\n      <use xlink:href=\"#DejaVuSans-64\" x=\"177.503906\"/>\n      <use xlink:href=\"#DejaVuSans-61\" x=\"240.980469\"/>\n      <use xlink:href=\"#DejaVuSans-74\" x=\"302.259766\"/>\n      <use xlink:href=\"#DejaVuSans-69\" x=\"341.46875\"/>\n      <use xlink:href=\"#DejaVuSans-6f\" x=\"369.251953\"/>\n      <use xlink:href=\"#DejaVuSans-6e\" x=\"430.433594\"/>\n      <use xlink:href=\"#DejaVuSans-20\" x=\"493.8125\"/>\n      <use xlink:href=\"#DejaVuSans-72\" x=\"525.599609\"/>\n      <use xlink:href=\"#DejaVuSans-65\" x=\"564.462891\"/>\n      <use xlink:href=\"#DejaVuSans-6c\" x=\"625.986328\"/>\n      <use xlink:href=\"#DejaVuSans-52\" x=\"653.769531\"/>\n      <use xlink:href=\"#DejaVuSans-4d\" x=\"723.251953\"/>\n      <use xlink:href=\"#DejaVuSans-53\" x=\"809.53125\"/>\n      <use xlink:href=\"#DejaVuSans-45\" x=\"873.007812\"/>\n     </g>\n    </g>\n   </g>\n   <g id=\"LineCollection_1\"/>\n   <g id=\"patch_9\">\n    <path d=\"M 248.013739 195.118125 \nL 252.333739 195.118125 \nL 256.653739 195.118125 \nL 256.653739 22.318125 \nL 252.333739 22.318125 \nL 248.013739 22.318125 \nL 248.013739 195.118125 \nz\n\" style=\"fill: none; stroke: #000000; stroke-width: 0.8; stroke-linejoin: miter; stroke-linecap: square\"/>\n   </g>\n  </g>\n </g>\n <defs>\n  <clipPath id=\"pf5edd96de7\">\n   <rect x=\"51.4\" y=\"22.318125\" width=\"185.048225\" height=\"172.8\"/>\n  </clipPath>\n  <clipPath id=\"pa11bf25084\">\n   <rect x=\"248.013739\" y=\"22.318125\" width=\"8.64\" height=\"172.8\"/>\n  </clipPath>\n </defs>\n</svg>\n",
      "text/plain": [
       "<Figure size 324x252 with 2 Axes>"
      ]
     },
     "metadata": {
      "needs_background": "light"
     },
     "output_type": "display_data"
    },
    {
     "data": {
      "text/plain": [
       "<Figure size 432x288 with 0 Axes>"
      ]
     },
     "metadata": {},
     "output_type": "display_data"
    }
   ],
   "source": [
    "from matplotlib import ticker, cm\n",
    "from ssapp.Utils import FigureSaver\n",
    "\n",
    "\n",
    "\n",
    "fig,ax=plt.subplots(1,1,figsize=(4.5,3.5))\n",
    "print(score_grid.min()+0.5)\n",
    "norm = cm.colors.Normalize(vmax=abs(score_grid).max(), vmin=-abs(score_grid).max())\n",
    "\n",
    "cp = ax.contourf(const_scales,RBF_scales,score_grid,levels = 20,locator=ticker.LogLocator(subs = [0.5,1,2,4]))\n",
    "cb = fig.colorbar(cp)\n",
    "cb.set_label('Validation relRMSE')\n",
    "ax.set_xscale('log')\n",
    "ax.set_yscale('log')\n",
    "ax.set_xlabel(\"Constant Value, $\\sigma_0^2$\")\n",
    "ax.set_ylabel(\"Length Scale, $l$\")\n",
    "ax.set_title(\"Val. Error Contour for CHA-GP, RBF Kernel\")\n",
    "plt.tight_layout()\n",
    "plt.show()\n",
    "figSaver.save(filename = 'ValidationErrorContourPlotCHA_RBF')"
   ]
  },
  {
   "cell_type": "code",
   "execution_count": null,
   "id": "bc8d0a33",
   "metadata": {},
   "outputs": [],
   "source": [
    "# RFLCT\n",
    "train_dataset = load_serialized_dataset('RFCLT_Train')\n",
    "val_dataset = load_serialized_dataset('RFLCT_Val')\n",
    "\n",
    "train_params, train_fields = next(iter(train_dataloader))\n",
    "val_params, val_fields = next(iter(val_dataloader))\n",
    "\n",
    "print(train_fields.shape)\n",
    "\n",
    "dims = (10,10)\n",
    "#const_scales = np.logspace(0.001, 1, num=dims[0])\n",
    "#RBF_scales = np.logspace(0.001, 1, num=dims[1])\n",
    "const_scales = np.logspace(-1, 1, num=dims[0], base=10)\n",
    "RBF_scales = np.logspace(-1,  1, num=dims[1], base=10)\n",
    "const_scales, RBF_scales = np.meshgrid(const_scales, RBF_scales)\n",
    "\n",
    "\n",
    "score_grid = np.array([])\n",
    "\n",
    "for const_scale,RBF_scale in zip(const_scales.flatten(),RBF_scales.flatten()):\n",
    "\n",
    "    \n",
    "    kernel = ConstantKernel(const_scale, constant_value_bounds=\"fixed\") * RBF(RBF_scale,length_scale_bounds=\"fixed\")\n",
    "    gp = Pipeline([('scaler', StandardScaler()), ('gp', GaussianProcessRegressor(kernel = kernel, normalize_y=True))])\n",
    "\n",
    "    gp.fit(train_params,train_fields.reshape(len(train_fields),-1))\n",
    "\n",
    "    \n",
    "    iter_score = score(gp,val_params,val_fields)\n",
    "    score_grid = np.append(score_grid,iter_score)\n",
    "    print(f'Const:{const_scale}, Length Scale: {RBF_scale}, Score: {iter_score}')\n",
    "\n",
    "score_grid = score_grid.reshape(dims)"
   ]
  },
  {
   "cell_type": "code",
   "execution_count": null,
   "id": "1215df8d",
   "metadata": {},
   "outputs": [],
   "source": [
    "from matplotlib import ticker, cm\n",
    "from ssapp.Utils import FigureSaver\n",
    "\n",
    "\n",
    "\n",
    "fig,ax=plt.subplots(1,1,figsize=(4.5,3.5))\n",
    "print(score_grid.min()+0.5)\n",
    "norm = cm.colors.Normalize(vmax=abs(score_grid).max(), vmin=-abs(score_grid).max())\n",
    "\n",
    "cp = ax.contourf(const_scales,RBF_scales,score_grid,levels = 20,locator=ticker.LogLocator(subs = [0.5,1,2,4]))\n",
    "cb = fig.colorbar(cp)\n",
    "cb.set_label('Validation relRMSE')\n",
    "ax.set_xscale('log')\n",
    "ax.set_yscale('log')\n",
    "ax.set_xlabel(\"Constant Value, $\\sigma_0^2$\")\n",
    "ax.set_ylabel(\"Length Scale, $l$\")\n",
    "ax.set_title(\"Val. Error Contour for CHA-GP, RBF Kernel\")\n",
    "figSaver.save(filename = 'ValidationErrorContourPlotCHA_RBF')"
   ]
  }
 ],
 "metadata": {
  "interpreter": {
   "hash": "782afe0adb43165cec1d9b9577b039717a288993fbf7f77b75fd4e421338de20"
  },
  "kernelspec": {
   "display_name": "Python 3.8.12 ('Kandidatspeciale')",
   "language": "python",
   "name": "python3"
  },
  "language_info": {
   "codemirror_mode": {
    "name": "ipython",
    "version": 3
   },
   "file_extension": ".py",
   "mimetype": "text/x-python",
   "name": "python",
   "nbconvert_exporter": "python",
   "pygments_lexer": "ipython3",
   "version": "3.8.12"
  }
 },
 "nbformat": 4,
 "nbformat_minor": 5
}
