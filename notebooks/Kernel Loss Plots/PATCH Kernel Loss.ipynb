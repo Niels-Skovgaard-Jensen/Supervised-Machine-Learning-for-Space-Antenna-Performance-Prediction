{
 "cells": [
  {
   "cell_type": "code",
   "execution_count": 1,
   "id": "1bed02a3",
   "metadata": {},
   "outputs": [
    {
     "name": "stderr",
     "output_type": "stream",
     "text": [
      "'nvidia-smi' is not recognized as an internal or external command,\n",
      "operable program or batch file.\n"
     ]
    }
   ],
   "source": [
    "import numpy as np\n",
    "from ssapp.data.AntennaDatasetLoaders import load_serialized_dataset\n",
    "from ssapp.data.Metrics import relRMSE\n",
    "from ssapp.Utils import FigureSaver\n",
    "from torch.utils.data.dataloader import DataLoader\n",
    "from sklearn.gaussian_process import GaussianProcessRegressor\n",
    "from sklearn.pipeline import Pipeline\n",
    "from sklearn.preprocessing import StandardScaler\n",
    "from matplotlib import pyplot as plt\n",
    "from sklearn.gaussian_process.kernels import RBF, ConstantKernel,Matern\n",
    "!nvidia-smi\n",
    "%matplotlib inline\n",
    "%config InlineBackend.figure_formats = ['svg']\n",
    "%load_ext autoreload\n",
    "%autoreload 2\n",
    "\n",
    "figSaver = FigureSaver('GaussianProcessHyperParameterTuning',default_format='png',dpi=600)"
   ]
  },
  {
   "cell_type": "code",
   "execution_count": 2,
   "id": "3d50ec0a",
   "metadata": {},
   "outputs": [
    {
     "name": "stdout",
     "output_type": "stream",
     "text": [
      "<class 'torch.Tensor'>\n"
     ]
    }
   ],
   "source": [
    "train_dataset = load_serialized_dataset('PatchAntennaDataset2_Train')\n",
    "val_dataset = load_serialized_dataset('PatchAntennaDataset2_Val')\n",
    "\n",
    "train_dataloader = DataLoader(train_dataset,batch_size=len(train_dataset),shuffle=True,num_workers=4)\n",
    "val_dataloader = DataLoader(val_dataset,batch_size=len(val_dataset),shuffle=True,num_workers=4)\n",
    "\n",
    "train_params, train_fields = next(iter(train_dataloader))\n",
    "train_params, train_fields = next(iter(train_dataloader))\n",
    "val_params, val_fields = next(iter(val_dataloader))\n",
    "\n",
    "print(type(train_fields.float()))\n",
    "\n",
    "kernel = ConstantKernel(1.0, constant_value_bounds=\"fixed\") * RBF(1.0, length_scale_bounds=\"fixed\")\n",
    "\n",
    "std_gp = Pipeline([('scaler', StandardScaler()), ('gp', GaussianProcessRegressor(kernel = kernel, normalize_y=True))])\n",
    "\n",
    "def score(model,x,y):\n",
    "    pred = model.predict(x)\n",
    "    return relRMSE(y.reshape(len(y),-1),pred.reshape(len(pred),-1))\n",
    "\n"
   ]
  },
  {
   "cell_type": "code",
   "execution_count": 8,
   "id": "44a727f7",
   "metadata": {},
   "outputs": [
    {
     "name": "stdout",
     "output_type": "stream",
     "text": [
      "torch.Size([2361, 361, 3, 4])\n",
      "nu_scale:0.31622776601683794, Length Scale: 0.31622776601683794, Score: 0.023028171555049135\n",
      "nu_scale:0.5274997063702618, Length Scale: 0.31622776601683794, Score: 0.020351321109813074\n",
      "nu_scale:0.8799225435691069, Length Scale: 0.31622776601683794, Score: 0.017544167589453513\n",
      "nu_scale:1.4677992676220695, Length Scale: 0.31622776601683794, Score: 0.014629653498105742\n",
      "nu_scale:2.448436746822227, Length Scale: 0.31622776601683794, Score: 0.011800343840207535\n",
      "nu_scale:4.084238652674522, Length Scale: 0.31622776601683794, Score: 0.009330374402776282\n",
      "nu_scale:6.812920690579611, Length Scale: 0.31622776601683794, Score: 0.0074224531698057605\n",
      "nu_scale:11.364636663857242, Length Scale: 0.31622776601683794, Score: 0.006105098108096307\n",
      "nu_scale:18.957356524063755, Length Scale: 0.31622776601683794, Score: 0.005267175163882428\n",
      "nu_scale:31.622776601683793, Length Scale: 0.31622776601683794, Score: 0.004760256523918189\n",
      "nu_scale:0.31622776601683794, Length Scale: 0.5274997063702618, Score: 0.012624841789052621\n",
      "nu_scale:0.5274997063702618, Length Scale: 0.5274997063702618, Score: 0.01001387257910031\n",
      "nu_scale:0.8799225435691069, Length Scale: 0.5274997063702618, Score: 0.007542612470366913\n",
      "nu_scale:1.4677992676220695, Length Scale: 0.5274997063702618, Score: 0.005278637055382919\n",
      "nu_scale:2.448436746822227, Length Scale: 0.5274997063702618, Score: 0.0033966827841907365\n",
      "nu_scale:4.084238652674522, Length Scale: 0.5274997063702618, Score: 0.002095303600961971\n",
      "nu_scale:6.812920690579611, Length Scale: 0.5274997063702618, Score: 0.0014844188756401163\n",
      "nu_scale:11.364636663857242, Length Scale: 0.5274997063702618, Score: 0.0015484632919996466\n",
      "nu_scale:18.957356524063755, Length Scale: 0.5274997063702618, Score: 0.002104746041593273\n",
      "nu_scale:31.622776601683793, Length Scale: 0.5274997063702618, Score: 0.003102844761894658\n",
      "nu_scale:0.31622776601683794, Length Scale: 0.8799225435691069, Score: 0.007873850788554775\n",
      "nu_scale:0.5274997063702618, Length Scale: 0.8799225435691069, Score: 0.005605011300255204\n",
      "nu_scale:0.8799225435691069, Length Scale: 0.8799225435691069, Score: 0.003689817942712898\n",
      "nu_scale:1.4677992676220695, Length Scale: 0.8799225435691069, Score: 0.002200807243988438\n",
      "nu_scale:2.448436746822227, Length Scale: 0.8799225435691069, Score: 0.00127505810365682\n",
      "nu_scale:4.084238652674522, Length Scale: 0.8799225435691069, Score: 0.0009820277273980926\n",
      "nu_scale:6.812920690579611, Length Scale: 0.8799225435691069, Score: 0.0012152442462080293\n",
      "nu_scale:11.364636663857242, Length Scale: 0.8799225435691069, Score: 0.0019147216301154358\n",
      "nu_scale:18.957356524063755, Length Scale: 0.8799225435691069, Score: 0.0016061497701066081\n",
      "nu_scale:31.622776601683793, Length Scale: 0.8799225435691069, Score: 0.0012225587160161113\n",
      "nu_scale:0.31622776601683794, Length Scale: 1.4677992676220695, Score: 0.005531021315417202\n",
      "nu_scale:0.5274997063702618, Length Scale: 1.4677992676220695, Score: 0.003572483574329743\n",
      "nu_scale:0.8799225435691069, Length Scale: 1.4677992676220695, Score: 0.002138031930357042\n",
      "nu_scale:1.4677992676220695, Length Scale: 1.4677992676220695, Score: 0.0012711993074918683\n",
      "nu_scale:2.448436746822227, Length Scale: 1.4677992676220695, Score: 0.0009370972304657779\n",
      "nu_scale:4.084238652674522, Length Scale: 1.4677992676220695, Score: 0.0009331821678295125\n",
      "nu_scale:6.812920690579611, Length Scale: 1.4677992676220695, Score: 0.0011052774654383125\n",
      "nu_scale:11.364636663857242, Length Scale: 1.4677992676220695, Score: 0.0010241257905714912\n",
      "nu_scale:18.957356524063755, Length Scale: 1.4677992676220695, Score: 0.001105264578656854\n",
      "nu_scale:31.622776601683793, Length Scale: 1.4677992676220695, Score: 0.0011518239698825657\n",
      "nu_scale:0.31622776601683794, Length Scale: 2.448436746822227, Score: 0.004339544371058406\n",
      "nu_scale:0.5274997063702618, Length Scale: 2.448436746822227, Score: 0.0026079261729614845\n",
      "nu_scale:0.8799225435691069, Length Scale: 2.448436746822227, Score: 0.0015304331725749462\n",
      "nu_scale:1.4677992676220695, Length Scale: 2.448436746822227, Score: 0.0010484071255535954\n",
      "nu_scale:2.448436746822227, Length Scale: 2.448436746822227, Score: 0.000902557834789142\n",
      "nu_scale:4.084238652674522, Length Scale: 2.448436746822227, Score: 0.0009249986638434405\n",
      "nu_scale:6.812920690579611, Length Scale: 2.448436746822227, Score: 0.0010236581028510777\n",
      "nu_scale:11.364636663857242, Length Scale: 2.448436746822227, Score: 0.0012970582477929559\n",
      "nu_scale:18.957356524063755, Length Scale: 2.448436746822227, Score: 0.0014489080484507493\n",
      "nu_scale:31.622776601683793, Length Scale: 2.448436746822227, Score: 0.001510782432058514\n",
      "nu_scale:0.31622776601683794, Length Scale: 4.084238652674522, Score: 0.0037276633528282375\n",
      "nu_scale:0.5274997063702618, Length Scale: 4.084238652674522, Score: 0.0021465960128575876\n",
      "nu_scale:0.8799225435691069, Length Scale: 4.084238652674522, Score: 0.0013032654410864081\n",
      "nu_scale:1.4677992676220695, Length Scale: 4.084238652674522, Score: 0.0010008127262447575\n",
      "nu_scale:2.448436746822227, Length Scale: 4.084238652674522, Score: 0.0008965716626433242\n",
      "nu_scale:4.084238652674522, Length Scale: 4.084238652674522, Score: 0.0008837939131754636\n",
      "nu_scale:6.812920690579611, Length Scale: 4.084238652674522, Score: 0.0013839677029675937\n",
      "nu_scale:11.364636663857242, Length Scale: 4.084238652674522, Score: 0.001581546979113199\n",
      "nu_scale:18.957356524063755, Length Scale: 4.084238652674522, Score: 0.0016095114077383835\n",
      "nu_scale:31.622776601683793, Length Scale: 4.084238652674522, Score: 0.001620118701087744\n",
      "nu_scale:0.31622776601683794, Length Scale: 6.812920690579611, Score: 0.003412138351580043\n",
      "nu_scale:0.5274997063702618, Length Scale: 6.812920690579611, Score: 0.0019243875454618782\n",
      "nu_scale:0.8799225435691069, Length Scale: 6.812920690579611, Score: 0.0012186556365857742\n",
      "nu_scale:1.4677992676220695, Length Scale: 6.812920690579611, Score: 0.0009897981508374997\n",
      "nu_scale:2.448436746822227, Length Scale: 6.812920690579611, Score: 0.000894289239834953\n",
      "nu_scale:4.084238652674522, Length Scale: 6.812920690579611, Score: 0.001161243954832327\n",
      "nu_scale:6.812920690579611, Length Scale: 6.812920690579611, Score: 0.0015911765111724528\n",
      "nu_scale:11.364636663857242, Length Scale: 6.812920690579611, Score: 0.0016746609129153634\n",
      "nu_scale:18.957356524063755, Length Scale: 6.812920690579611, Score: 0.0017278141352879547\n",
      "nu_scale:31.622776601683793, Length Scale: 6.812920690579611, Score: 0.0017752220606574965\n",
      "nu_scale:0.31622776601683794, Length Scale: 11.364636663857242, Score: 0.0032483636569052964\n",
      "nu_scale:0.5274997063702618, Length Scale: 11.364636663857242, Score: 0.0018152949893516187\n",
      "nu_scale:0.8799225435691069, Length Scale: 11.364636663857242, Score: 0.0011859978163726692\n",
      "nu_scale:1.4677992676220695, Length Scale: 11.364636663857242, Score: 0.0009869002161849824\n",
      "nu_scale:2.448436746822227, Length Scale: 11.364636663857242, Score: 0.0008962028464290093\n",
      "nu_scale:4.084238652674522, Length Scale: 11.364636663857242, Score: 0.001474502677612375\n",
      "nu_scale:6.812920690579611, Length Scale: 11.364636663857242, Score: 0.0018237565580695831\n",
      "nu_scale:11.364636663857242, Length Scale: 11.364636663857242, Score: 0.002005406849756026\n",
      "nu_scale:18.957356524063755, Length Scale: 11.364636663857242, Score: 0.00207194793270706\n",
      "nu_scale:31.622776601683793, Length Scale: 11.364636663857242, Score: 0.0021120908778211704\n",
      "nu_scale:0.31622776601683794, Length Scale: 18.957356524063755, Score: 0.0031625705408482347\n",
      "nu_scale:0.5274997063702618, Length Scale: 18.957356524063755, Score: 0.0017600105935459865\n",
      "nu_scale:0.8799225435691069, Length Scale: 18.957356524063755, Score: 0.001172884614253427\n",
      "nu_scale:1.4677992676220695, Length Scale: 18.957356524063755, Score: 0.000986090061673422\n",
      "nu_scale:2.448436746822227, Length Scale: 18.957356524063755, Score: 0.0009410451368150309\n",
      "nu_scale:4.084238652674522, Length Scale: 18.957356524063755, Score: 0.0016086504559744063\n",
      "nu_scale:6.812920690579611, Length Scale: 18.957356524063755, Score: 0.0023019312206929185\n",
      "nu_scale:11.364636663857242, Length Scale: 18.957356524063755, Score: 0.0025566254826993877\n",
      "nu_scale:18.957356524063755, Length Scale: 18.957356524063755, Score: 0.00267351292332501\n",
      "nu_scale:31.622776601683793, Length Scale: 18.957356524063755, Score: 0.00272872274945104\n",
      "nu_scale:0.31622776601683794, Length Scale: 31.622776601683793, Score: 0.0031172083662933457\n",
      "nu_scale:0.5274997063702618, Length Scale: 31.622776601683793, Score: 0.0017308937909571319\n",
      "nu_scale:0.8799225435691069, Length Scale: 31.622776601683793, Score: 0.001167500951484293\n",
      "nu_scale:1.4677992676220695, Length Scale: 31.622776601683793, Score: 0.0009859527928962005\n",
      "nu_scale:2.448436746822227, Length Scale: 31.622776601683793, Score: 0.001168376899505272\n",
      "nu_scale:4.084238652674522, Length Scale: 31.622776601683793, Score: 0.0020796817666473627\n",
      "nu_scale:6.812920690579611, Length Scale: 31.622776601683793, Score: 0.0029266847032706645\n",
      "nu_scale:11.364636663857242, Length Scale: 31.622776601683793, Score: 0.003114861865138143\n",
      "nu_scale:18.957356524063755, Length Scale: 31.622776601683793, Score: 0.003271323700332554\n",
      "nu_scale:31.622776601683793, Length Scale: 31.622776601683793, Score: 0.003383587926111709\n"
     ]
    }
   ],
   "source": [
    "from matplotlib.colors import LogNorm\n",
    "\n",
    "train_params, train_fields = next(iter(train_dataloader))\n",
    "val_params, val_fields = next(iter(val_dataloader))\n",
    "\n",
    "print(train_fields.shape)\n",
    "\n",
    "dims = (10,10)\n",
    "#const_scales = np.logspace(0.001, 1, num=dims[0])\n",
    "#RBF_scales = np.logspace(0.001, 1, num=dims[1])\n",
    "nu_scales = np.logspace(-0.5, 1.5, num=dims[0], base=10)\n",
    "RBF_scales = np.logspace(-0.5,  1.5, num=dims[1], base=10)\n",
    "nu_scales, RBF_scales = np.meshgrid(nu_scales, RBF_scales)\n",
    "\n",
    "\n",
    "score_grid = np.array([])\n",
    "\n",
    "for nu_scale,RBF_scale in zip(nu_scales.flatten(),RBF_scales.flatten()):\n",
    "\n",
    "    \n",
    "    kernel = ConstantKernel(0.5, constant_value_bounds=\"fixed\") * Matern(nu=nu_scale,length_scale = RBF_scale,length_scale_bounds=\"fixed\")\n",
    "    gp = Pipeline([('scaler', StandardScaler()), ('gp', GaussianProcessRegressor(kernel = kernel, normalize_y=True))])\n",
    "\n",
    "    gp.fit(train_params,train_fields.reshape(len(train_fields),-1))\n",
    "\n",
    "    \n",
    "    iter_score = score(gp,val_params,val_fields)\n",
    "    score_grid = np.append(score_grid,iter_score)\n",
    "    print(f'nu_scale:{nu_scale}, Length Scale: {RBF_scale}, Score: {iter_score}')\n",
    "\n",
    "score_grid = score_grid.reshape(dims)"
   ]
  },
  {
   "cell_type": "code",
   "execution_count": 10,
   "id": "158c126f",
   "metadata": {},
   "outputs": [
    {
     "name": "stdout",
     "output_type": "stream",
     "text": [
      "0.5008837939131755\n"
     ]
    },
    {
     "data": {
      "image/svg+xml": "<?xml version=\"1.0\" encoding=\"utf-8\" standalone=\"no\"?>\n<!DOCTYPE svg PUBLIC \"-//W3C//DTD SVG 1.1//EN\"\n  \"http://www.w3.org/Graphics/SVG/1.1/DTD/svg11.dtd\">\n<svg xmlns:xlink=\"http://www.w3.org/1999/xlink\" width=\"333.092062pt\" height=\"250.134375pt\" viewBox=\"0 0 333.092062 250.134375\" xmlns=\"http://www.w3.org/2000/svg\" version=\"1.1\">\n <metadata>\n  <rdf:RDF xmlns:dc=\"http://purl.org/dc/elements/1.1/\" xmlns:cc=\"http://creativecommons.org/ns#\" xmlns:rdf=\"http://www.w3.org/1999/02/22-rdf-syntax-ns#\">\n   <cc:Work>\n    <dc:type rdf:resource=\"http://purl.org/dc/dcmitype/StillImage\"/>\n    <dc:date>2022-07-12T10:59:12.003945</dc:date>\n    <dc:format>image/svg+xml</dc:format>\n    <dc:creator>\n     <cc:Agent>\n      <dc:title>Matplotlib v3.5.0, https://matplotlib.org/</dc:title>\n     </cc:Agent>\n    </dc:creator>\n   </cc:Work>\n  </rdf:RDF>\n </metadata>\n <defs>\n  <style type=\"text/css\">*{stroke-linejoin: round; stroke-linecap: butt}</style>\n </defs>\n <g id=\"figure_1\">\n  <g id=\"patch_1\">\n   <path d=\"M 0 250.134375 \nL 333.092062 250.134375 \nL 333.092062 0 \nL 0 0 \nL 0 250.134375 \nz\n\" style=\"fill: none\"/>\n  </g>\n  <g id=\"axes_1\">\n   <g id=\"patch_2\">\n    <path d=\"M 47.275312 212.578125 \nL 248.155312 212.578125 \nL 248.155312 22.318125 \nL 47.275312 22.318125 \nz\n\" style=\"fill: #ffffff\"/>\n   </g>\n   <g id=\"PathCollection_1\">\n    <path d=\"M 158.875313 170.566122 \nL 161.065238 170.298125 \nL 168.935655 149.158125 \nL 176.790846 128.018125 \nL 165.169383 106.878125 \nL 158.875313 96.684902 \nL 146.794094 85.738125 \nL 141.495467 64.598125 \nL 139.055805 43.458125 \nL 136.555312 36.856606 \nL 116.423586 22.318125 \nL 114.235312 22.318125 \nL 112.862135 22.318125 \nL 112.914534 43.458125 \nL 113.070396 64.598125 \nL 113.449479 85.738125 \nL 114.235312 104.890067 \nL 114.461938 106.878125 \nL 122.971513 128.018125 \nL 133.135403 149.158125 \nL 136.555312 152.358779 \nL 157.79041 170.298125 \nz\n\" clip-path=\"url(#p785eb1d9b2)\" style=\"fill: #481d6f\"/>\n   </g>\n   <g id=\"PathCollection_2\">\n    <path d=\"M 181.195312 192.900433 \nL 203.515312 193.111274 \nL 222.414982 191.438125 \nL 225.835312 186.011873 \nL 248.155312 177.777844 \nL 248.155312 170.298125 \nL 248.155312 149.158125 \nL 248.155312 128.018125 \nL 248.155312 106.878125 \nL 248.155312 85.738125 \nL 248.155312 70.507187 \nL 225.835312 68.211089 \nL 203.515312 64.869517 \nL 202.992169 64.598125 \nL 181.195312 55.503356 \nL 172.834132 43.458125 \nL 158.875313 25.216643 \nL 157.320336 22.318125 \nL 136.555312 22.318125 \nL 116.423586 22.318125 \nL 136.555312 36.856606 \nL 139.055805 43.458125 \nL 141.495467 64.598125 \nL 146.794094 85.738125 \nL 158.875313 96.684902 \nL 165.169383 106.878125 \nL 176.790846 128.018125 \nL 168.935655 149.158125 \nL 161.065238 170.298125 \nL 158.875313 170.566122 \nL 157.79041 170.298125 \nL 136.555312 152.358779 \nL 133.135403 149.158125 \nL 122.971513 128.018125 \nL 114.461938 106.878125 \nL 114.235312 104.890067 \nL 113.449479 85.738125 \nL 113.070396 64.598125 \nL 112.914534 43.458125 \nL 112.862135 22.318125 \nL 91.915312 22.318125 \nL 69.595312 22.318125 \nL 66.064872 22.318125 \nL 66.498564 43.458125 \nL 67.283351 64.598125 \nL 68.698231 85.738125 \nL 69.595312 91.791267 \nL 74.388012 106.878125 \nL 83.548101 128.018125 \nL 91.915312 143.320167 \nL 96.325315 149.158125 \nL 114.235312 164.728564 \nL 120.138682 170.298125 \nL 136.555312 176.37838 \nL 158.875313 189.1403 \nL 163.200205 191.438125 \nz\n\" clip-path=\"url(#p785eb1d9b2)\" style=\"fill: #3d4e8a\"/>\n   </g>\n   <g id=\"PathCollection_3\">\n    <path d=\"M 136.555312 192.64349 \nL 158.875313 196.041484 \nL 181.195312 199.120001 \nL 203.515312 201.464623 \nL 225.835312 202.777979 \nL 248.155312 201.533951 \nL 248.155312 191.438125 \nL 248.155312 177.777844 \nL 225.835312 186.011873 \nL 222.414982 191.438125 \nL 203.515312 193.111274 \nL 181.195312 192.900433 \nL 163.200205 191.438125 \nL 158.875313 189.1403 \nL 136.555312 176.37838 \nL 120.138682 170.298125 \nL 114.235312 164.728564 \nL 96.325315 149.158125 \nL 91.915312 143.320167 \nL 83.548101 128.018125 \nL 74.388012 106.878125 \nL 69.595312 91.791267 \nL 68.698231 85.738125 \nL 67.283351 64.598125 \nL 66.498564 43.458125 \nL 66.064872 22.318125 \nL 47.275312 22.318125 \nL 47.275312 43.458125 \nL 47.275312 64.598125 \nL 47.275312 85.738125 \nL 47.275312 106.878125 \nL 47.275312 114.989538 \nL 52.64527 128.018125 \nL 65.604641 149.158125 \nL 69.595312 152.793988 \nL 88.989836 170.298125 \nL 91.915312 171.652254 \nL 114.235312 181.318327 \nL 130.560904 191.438125 \nz\n\" clip-path=\"url(#p785eb1d9b2)\" style=\"fill: #2a778e\"/>\n    <path d=\"M 203.515312 64.869517 \nL 225.835312 68.211089 \nL 248.155312 70.507187 \nL 248.155312 64.598125 \nL 248.155312 43.458125 \nL 248.155312 22.318125 \nL 225.835312 22.318125 \nL 203.515312 22.318125 \nL 181.195312 22.318125 \nL 158.875313 22.318125 \nL 157.320336 22.318125 \nL 158.875313 25.216643 \nL 172.834132 43.458125 \nL 181.195312 55.503356 \nL 202.992169 64.598125 \nz\n\" clip-path=\"url(#p785eb1d9b2)\" style=\"fill: #2a778e\"/>\n   </g>\n   <g id=\"PathCollection_4\">\n    <path d=\"M 136.555312 194.722247 \nL 158.875313 198.680648 \nL 181.195312 202.620236 \nL 203.515312 206.37396 \nL 225.835312 210.309613 \nL 238.994717 212.578125 \nL 248.155312 212.578125 \nL 248.155312 201.533951 \nL 225.835312 202.777979 \nL 203.515312 201.464623 \nL 181.195312 199.120001 \nL 158.875313 196.041484 \nL 136.555312 192.64349 \nL 130.560904 191.438125 \nL 114.235312 181.318327 \nL 91.915312 171.652254 \nL 88.989836 170.298125 \nL 69.595312 152.793988 \nL 65.604641 149.158125 \nL 52.64527 128.018125 \nL 47.275312 114.989538 \nL 47.275312 128.018125 \nL 47.275313 138.389904 \nL 54.537378 149.158125 \nL 69.595312 162.804543 \nL 77.948239 170.298125 \nL 91.915312 176.347112 \nL 114.235312 189.011942 \nL 118.349832 191.438125 \nz\n\" clip-path=\"url(#p785eb1d9b2)\" style=\"fill: #21918c\"/>\n   </g>\n   <g id=\"PathCollection_5\">\n    <path d=\"M 91.915312 195.71797 \nL 114.235312 200.772079 \nL 136.555312 207.051511 \nL 153.861461 212.578125 \nL 158.875313 212.578125 \nL 181.195312 212.578125 \nL 203.515312 212.578125 \nL 225.835312 212.578125 \nL 238.994717 212.578125 \nL 225.835312 210.309613 \nL 203.515312 206.37396 \nL 181.195312 202.620236 \nL 158.875313 198.680648 \nL 136.555312 194.722247 \nL 118.349832 191.438125 \nL 114.235312 189.011942 \nL 91.915312 176.347112 \nL 77.948239 170.298125 \nL 69.595312 162.804543 \nL 54.537378 149.158125 \nL 47.275313 138.389904 \nL 47.275312 149.158125 \nL 47.275312 170.298125 \nL 47.275312 178.458619 \nL 69.595312 191.351365 \nL 69.758602 191.438125 \nz\n\" clip-path=\"url(#p785eb1d9b2)\" style=\"fill: #23a983\"/>\n   </g>\n   <g id=\"PathCollection_6\">\n    <path d=\"M 69.595312 211.650548 \nL 73.098125 212.578125 \nL 91.915312 212.578125 \nL 114.235312 212.578125 \nL 136.555312 212.578125 \nL 153.861461 212.578125 \nL 136.555312 207.051511 \nL 114.235312 200.772079 \nL 91.915312 195.71797 \nL 69.758602 191.438125 \nL 69.595312 191.351365 \nL 47.275312 178.458619 \nL 47.275312 191.438125 \nL 47.275312 205.236485 \nz\n\" clip-path=\"url(#p785eb1d9b2)\" style=\"fill: #65cb5e\"/>\n   </g>\n   <g id=\"PathCollection_7\">\n    <path d=\"M 69.595312 212.578125 \nL 73.098125 212.578125 \nL 69.595312 211.650548 \nL 47.275312 205.236485 \nL 47.275312 212.578125 \nz\n\" clip-path=\"url(#p785eb1d9b2)\" style=\"fill: #cae11f\"/>\n   </g>\n   <g id=\"matplotlib.axis_1\">\n    <g id=\"xtick_1\">\n     <g id=\"line2d_1\">\n      <defs>\n       <path id=\"mc99efc42c5\" d=\"M 0 0 \nL 0 3.5 \n\" style=\"stroke: #000000; stroke-width: 0.8\"/>\n      </defs>\n      <g>\n       <use xlink:href=\"#mc99efc42c5\" x=\"97.495312\" y=\"212.578125\" style=\"stroke: #000000; stroke-width: 0.8\"/>\n      </g>\n     </g>\n     <g id=\"text_1\">\n      <!-- $\\mathdefault{10^{0}}$ -->\n      <g transform=\"translate(88.695312 227.176562)scale(0.1 -0.1)\">\n       <defs>\n        <path id=\"DejaVuSans-31\" d=\"M 794 531 \nL 1825 531 \nL 1825 4091 \nL 703 3866 \nL 703 4441 \nL 1819 4666 \nL 2450 4666 \nL 2450 531 \nL 3481 531 \nL 3481 0 \nL 794 0 \nL 794 531 \nz\n\" transform=\"scale(0.015625)\"/>\n        <path id=\"DejaVuSans-30\" d=\"M 2034 4250 \nQ 1547 4250 1301 3770 \nQ 1056 3291 1056 2328 \nQ 1056 1369 1301 889 \nQ 1547 409 2034 409 \nQ 2525 409 2770 889 \nQ 3016 1369 3016 2328 \nQ 3016 3291 2770 3770 \nQ 2525 4250 2034 4250 \nz\nM 2034 4750 \nQ 2819 4750 3233 4129 \nQ 3647 3509 3647 2328 \nQ 3647 1150 3233 529 \nQ 2819 -91 2034 -91 \nQ 1250 -91 836 529 \nQ 422 1150 422 2328 \nQ 422 3509 836 4129 \nQ 1250 4750 2034 4750 \nz\n\" transform=\"scale(0.015625)\"/>\n       </defs>\n       <use xlink:href=\"#DejaVuSans-31\" transform=\"translate(0 0.765625)\"/>\n       <use xlink:href=\"#DejaVuSans-30\" transform=\"translate(63.623047 0.765625)\"/>\n       <use xlink:href=\"#DejaVuSans-30\" transform=\"translate(128.203125 39.046875)scale(0.7)\"/>\n      </g>\n     </g>\n    </g>\n    <g id=\"xtick_2\">\n     <g id=\"line2d_2\">\n      <g>\n       <use xlink:href=\"#mc99efc42c5\" x=\"197.935313\" y=\"212.578125\" style=\"stroke: #000000; stroke-width: 0.8\"/>\n      </g>\n     </g>\n     <g id=\"text_2\">\n      <!-- $\\mathdefault{10^{1}}$ -->\n      <g transform=\"translate(189.135312 227.176562)scale(0.1 -0.1)\">\n       <use xlink:href=\"#DejaVuSans-31\" transform=\"translate(0 0.684375)\"/>\n       <use xlink:href=\"#DejaVuSans-30\" transform=\"translate(63.623047 0.684375)\"/>\n       <use xlink:href=\"#DejaVuSans-31\" transform=\"translate(128.203125 38.965625)scale(0.7)\"/>\n      </g>\n     </g>\n    </g>\n    <g id=\"xtick_3\">\n     <g id=\"line2d_3\">\n      <defs>\n       <path id=\"m187148ee0f\" d=\"M 0 0 \nL 0 2 \n\" style=\"stroke: #000000; stroke-width: 0.6\"/>\n      </defs>\n      <g>\n       <use xlink:href=\"#m187148ee0f\" x=\"57.526218\" y=\"212.578125\" style=\"stroke: #000000; stroke-width: 0.6\"/>\n      </g>\n     </g>\n    </g>\n    <g id=\"xtick_4\">\n     <g id=\"line2d_4\">\n      <g>\n       <use xlink:href=\"#m187148ee0f\" x=\"67.25986\" y=\"212.578125\" style=\"stroke: #000000; stroke-width: 0.6\"/>\n      </g>\n     </g>\n    </g>\n    <g id=\"xtick_5\">\n     <g id=\"line2d_5\">\n      <g>\n       <use xlink:href=\"#m187148ee0f\" x=\"75.212824\" y=\"212.578125\" style=\"stroke: #000000; stroke-width: 0.6\"/>\n      </g>\n     </g>\n    </g>\n    <g id=\"xtick_6\">\n     <g id=\"line2d_6\">\n      <g>\n       <use xlink:href=\"#m187148ee0f\" x=\"81.93696\" y=\"212.578125\" style=\"stroke: #000000; stroke-width: 0.6\"/>\n      </g>\n     </g>\n    </g>\n    <g id=\"xtick_7\">\n     <g id=\"line2d_7\">\n      <g>\n       <use xlink:href=\"#m187148ee0f\" x=\"87.761671\" y=\"212.578125\" style=\"stroke: #000000; stroke-width: 0.6\"/>\n      </g>\n     </g>\n    </g>\n    <g id=\"xtick_8\">\n     <g id=\"line2d_8\">\n      <g>\n       <use xlink:href=\"#m187148ee0f\" x=\"92.89943\" y=\"212.578125\" style=\"stroke: #000000; stroke-width: 0.6\"/>\n      </g>\n     </g>\n    </g>\n    <g id=\"xtick_9\">\n     <g id=\"line2d_9\">\n      <g>\n       <use xlink:href=\"#m187148ee0f\" x=\"127.730765\" y=\"212.578125\" style=\"stroke: #000000; stroke-width: 0.6\"/>\n      </g>\n     </g>\n    </g>\n    <g id=\"xtick_10\">\n     <g id=\"line2d_10\">\n      <g>\n       <use xlink:href=\"#m187148ee0f\" x=\"145.417371\" y=\"212.578125\" style=\"stroke: #000000; stroke-width: 0.6\"/>\n      </g>\n     </g>\n    </g>\n    <g id=\"xtick_11\">\n     <g id=\"line2d_11\">\n      <g>\n       <use xlink:href=\"#m187148ee0f\" x=\"157.966218\" y=\"212.578125\" style=\"stroke: #000000; stroke-width: 0.6\"/>\n      </g>\n     </g>\n    </g>\n    <g id=\"xtick_12\">\n     <g id=\"line2d_12\">\n      <g>\n       <use xlink:href=\"#m187148ee0f\" x=\"167.69986\" y=\"212.578125\" style=\"stroke: #000000; stroke-width: 0.6\"/>\n      </g>\n     </g>\n    </g>\n    <g id=\"xtick_13\">\n     <g id=\"line2d_13\">\n      <g>\n       <use xlink:href=\"#m187148ee0f\" x=\"175.652824\" y=\"212.578125\" style=\"stroke: #000000; stroke-width: 0.6\"/>\n      </g>\n     </g>\n    </g>\n    <g id=\"xtick_14\">\n     <g id=\"line2d_14\">\n      <g>\n       <use xlink:href=\"#m187148ee0f\" x=\"182.37696\" y=\"212.578125\" style=\"stroke: #000000; stroke-width: 0.6\"/>\n      </g>\n     </g>\n    </g>\n    <g id=\"xtick_15\">\n     <g id=\"line2d_15\">\n      <g>\n       <use xlink:href=\"#m187148ee0f\" x=\"188.201671\" y=\"212.578125\" style=\"stroke: #000000; stroke-width: 0.6\"/>\n      </g>\n     </g>\n    </g>\n    <g id=\"xtick_16\">\n     <g id=\"line2d_16\">\n      <g>\n       <use xlink:href=\"#m187148ee0f\" x=\"193.33943\" y=\"212.578125\" style=\"stroke: #000000; stroke-width: 0.6\"/>\n      </g>\n     </g>\n    </g>\n    <g id=\"xtick_17\">\n     <g id=\"line2d_17\">\n      <g>\n       <use xlink:href=\"#m187148ee0f\" x=\"228.170765\" y=\"212.578125\" style=\"stroke: #000000; stroke-width: 0.6\"/>\n      </g>\n     </g>\n    </g>\n    <g id=\"xtick_18\">\n     <g id=\"line2d_18\">\n      <g>\n       <use xlink:href=\"#m187148ee0f\" x=\"245.857371\" y=\"212.578125\" style=\"stroke: #000000; stroke-width: 0.6\"/>\n      </g>\n     </g>\n    </g>\n    <g id=\"text_3\">\n     <!-- $\\nu$ -->\n     <g transform=\"translate(144.915312 240.854687)scale(0.1 -0.1)\">\n      <defs>\n       <path id=\"DejaVuSans-Oblique-3bd\" d=\"M 959 0 \nL 572 3500 \nL 1191 3500 \nL 1522 563 \nQ 1972 950 2391 1488 \nQ 2706 1891 2788 2241 \nQ 2825 2406 2809 2719 \nQ 2794 3091 2544 3500 \nL 3125 3500 \nL 3125 3500 \nQ 3288 3222 3353 2834 \nQ 3416 2478 3369 2234 \nQ 3250 1622 2719 1075 \nQ 2025 363 1572 0 \nL 959 0 \nz\n\" transform=\"scale(0.015625)\"/>\n      </defs>\n      <use xlink:href=\"#DejaVuSans-Oblique-3bd\" transform=\"translate(0 0.3125)\"/>\n     </g>\n    </g>\n   </g>\n   <g id=\"matplotlib.axis_2\">\n    <g id=\"ytick_1\">\n     <g id=\"line2d_19\">\n      <defs>\n       <path id=\"ma37d72295c\" d=\"M 0 0 \nL -3.5 0 \n\" style=\"stroke: #000000; stroke-width: 0.8\"/>\n      </defs>\n      <g>\n       <use xlink:href=\"#ma37d72295c\" x=\"47.275312\" y=\"165.013125\" style=\"stroke: #000000; stroke-width: 0.8\"/>\n      </g>\n     </g>\n     <g id=\"text_4\">\n      <!-- $\\mathdefault{10^{0}}$ -->\n      <g transform=\"translate(22.675312 168.812344)scale(0.1 -0.1)\">\n       <use xlink:href=\"#DejaVuSans-31\" transform=\"translate(0 0.765625)\"/>\n       <use xlink:href=\"#DejaVuSans-30\" transform=\"translate(63.623047 0.765625)\"/>\n       <use xlink:href=\"#DejaVuSans-30\" transform=\"translate(128.203125 39.046875)scale(0.7)\"/>\n      </g>\n     </g>\n    </g>\n    <g id=\"ytick_2\">\n     <g id=\"line2d_20\">\n      <g>\n       <use xlink:href=\"#ma37d72295c\" x=\"47.275312\" y=\"69.883125\" style=\"stroke: #000000; stroke-width: 0.8\"/>\n      </g>\n     </g>\n     <g id=\"text_5\">\n      <!-- $\\mathdefault{10^{1}}$ -->\n      <g transform=\"translate(22.675312 73.682344)scale(0.1 -0.1)\">\n       <use xlink:href=\"#DejaVuSans-31\" transform=\"translate(0 0.684375)\"/>\n       <use xlink:href=\"#DejaVuSans-30\" transform=\"translate(63.623047 0.684375)\"/>\n       <use xlink:href=\"#DejaVuSans-31\" transform=\"translate(128.203125 38.965625)scale(0.7)\"/>\n      </g>\n     </g>\n    </g>\n    <g id=\"ytick_3\">\n     <g id=\"line2d_21\">\n      <defs>\n       <path id=\"ma7ff1dc837\" d=\"M 0 0 \nL -2 0 \n\" style=\"stroke: #000000; stroke-width: 0.6\"/>\n      </defs>\n      <g>\n       <use xlink:href=\"#ma7ff1dc837\" x=\"47.275312\" y=\"202.869158\" style=\"stroke: #000000; stroke-width: 0.6\"/>\n      </g>\n     </g>\n    </g>\n    <g id=\"ytick_4\">\n     <g id=\"line2d_22\">\n      <g>\n       <use xlink:href=\"#ma7ff1dc837\" x=\"47.275312\" y=\"193.650108\" style=\"stroke: #000000; stroke-width: 0.6\"/>\n      </g>\n     </g>\n    </g>\n    <g id=\"ytick_5\">\n     <g id=\"line2d_23\">\n      <g>\n       <use xlink:href=\"#ma7ff1dc837\" x=\"47.275312\" y=\"186.117597\" style=\"stroke: #000000; stroke-width: 0.6\"/>\n      </g>\n     </g>\n    </g>\n    <g id=\"ytick_6\">\n     <g id=\"line2d_24\">\n      <g>\n       <use xlink:href=\"#ma7ff1dc837\" x=\"47.275312\" y=\"179.748948\" style=\"stroke: #000000; stroke-width: 0.6\"/>\n      </g>\n     </g>\n    </g>\n    <g id=\"ytick_7\">\n     <g id=\"line2d_25\">\n      <g>\n       <use xlink:href=\"#ma7ff1dc837\" x=\"47.275312\" y=\"174.232175\" style=\"stroke: #000000; stroke-width: 0.6\"/>\n      </g>\n     </g>\n    </g>\n    <g id=\"ytick_8\">\n     <g id=\"line2d_26\">\n      <g>\n       <use xlink:href=\"#ma7ff1dc837\" x=\"47.275312\" y=\"169.366035\" style=\"stroke: #000000; stroke-width: 0.6\"/>\n      </g>\n     </g>\n    </g>\n    <g id=\"ytick_9\">\n     <g id=\"line2d_27\">\n      <g>\n       <use xlink:href=\"#ma7ff1dc837\" x=\"47.275312\" y=\"136.376142\" style=\"stroke: #000000; stroke-width: 0.6\"/>\n      </g>\n     </g>\n    </g>\n    <g id=\"ytick_10\">\n     <g id=\"line2d_28\">\n      <g>\n       <use xlink:href=\"#ma7ff1dc837\" x=\"47.275312\" y=\"119.62458\" style=\"stroke: #000000; stroke-width: 0.6\"/>\n      </g>\n     </g>\n    </g>\n    <g id=\"ytick_11\">\n     <g id=\"line2d_29\">\n      <g>\n       <use xlink:href=\"#ma7ff1dc837\" x=\"47.275312\" y=\"107.739158\" style=\"stroke: #000000; stroke-width: 0.6\"/>\n      </g>\n     </g>\n    </g>\n    <g id=\"ytick_12\">\n     <g id=\"line2d_30\">\n      <g>\n       <use xlink:href=\"#ma7ff1dc837\" x=\"47.275312\" y=\"98.520108\" style=\"stroke: #000000; stroke-width: 0.6\"/>\n      </g>\n     </g>\n    </g>\n    <g id=\"ytick_13\">\n     <g id=\"line2d_31\">\n      <g>\n       <use xlink:href=\"#ma7ff1dc837\" x=\"47.275312\" y=\"90.987597\" style=\"stroke: #000000; stroke-width: 0.6\"/>\n      </g>\n     </g>\n    </g>\n    <g id=\"ytick_14\">\n     <g id=\"line2d_32\">\n      <g>\n       <use xlink:href=\"#ma7ff1dc837\" x=\"47.275312\" y=\"84.618948\" style=\"stroke: #000000; stroke-width: 0.6\"/>\n      </g>\n     </g>\n    </g>\n    <g id=\"ytick_15\">\n     <g id=\"line2d_33\">\n      <g>\n       <use xlink:href=\"#ma7ff1dc837\" x=\"47.275312\" y=\"79.102175\" style=\"stroke: #000000; stroke-width: 0.6\"/>\n      </g>\n     </g>\n    </g>\n    <g id=\"ytick_16\">\n     <g id=\"line2d_34\">\n      <g>\n       <use xlink:href=\"#ma7ff1dc837\" x=\"47.275312\" y=\"74.236035\" style=\"stroke: #000000; stroke-width: 0.6\"/>\n      </g>\n     </g>\n    </g>\n    <g id=\"ytick_17\">\n     <g id=\"line2d_35\">\n      <g>\n       <use xlink:href=\"#ma7ff1dc837\" x=\"47.275312\" y=\"41.246142\" style=\"stroke: #000000; stroke-width: 0.6\"/>\n      </g>\n     </g>\n    </g>\n    <g id=\"ytick_18\">\n     <g id=\"line2d_36\">\n      <g>\n       <use xlink:href=\"#ma7ff1dc837\" x=\"47.275312\" y=\"24.49458\" style=\"stroke: #000000; stroke-width: 0.6\"/>\n      </g>\n     </g>\n    </g>\n    <g id=\"text_6\">\n     <!-- Length Scale, $l$ -->\n     <g transform=\"translate(16.575312 154.398125)rotate(-90)scale(0.1 -0.1)\">\n      <defs>\n       <path id=\"DejaVuSans-4c\" d=\"M 628 4666 \nL 1259 4666 \nL 1259 531 \nL 3531 531 \nL 3531 0 \nL 628 0 \nL 628 4666 \nz\n\" transform=\"scale(0.015625)\"/>\n       <path id=\"DejaVuSans-65\" d=\"M 3597 1894 \nL 3597 1613 \nL 953 1613 \nQ 991 1019 1311 708 \nQ 1631 397 2203 397 \nQ 2534 397 2845 478 \nQ 3156 559 3463 722 \nL 3463 178 \nQ 3153 47 2828 -22 \nQ 2503 -91 2169 -91 \nQ 1331 -91 842 396 \nQ 353 884 353 1716 \nQ 353 2575 817 3079 \nQ 1281 3584 2069 3584 \nQ 2775 3584 3186 3129 \nQ 3597 2675 3597 1894 \nz\nM 3022 2063 \nQ 3016 2534 2758 2815 \nQ 2500 3097 2075 3097 \nQ 1594 3097 1305 2825 \nQ 1016 2553 972 2059 \nL 3022 2063 \nz\n\" transform=\"scale(0.015625)\"/>\n       <path id=\"DejaVuSans-6e\" d=\"M 3513 2113 \nL 3513 0 \nL 2938 0 \nL 2938 2094 \nQ 2938 2591 2744 2837 \nQ 2550 3084 2163 3084 \nQ 1697 3084 1428 2787 \nQ 1159 2491 1159 1978 \nL 1159 0 \nL 581 0 \nL 581 3500 \nL 1159 3500 \nL 1159 2956 \nQ 1366 3272 1645 3428 \nQ 1925 3584 2291 3584 \nQ 2894 3584 3203 3211 \nQ 3513 2838 3513 2113 \nz\n\" transform=\"scale(0.015625)\"/>\n       <path id=\"DejaVuSans-67\" d=\"M 2906 1791 \nQ 2906 2416 2648 2759 \nQ 2391 3103 1925 3103 \nQ 1463 3103 1205 2759 \nQ 947 2416 947 1791 \nQ 947 1169 1205 825 \nQ 1463 481 1925 481 \nQ 2391 481 2648 825 \nQ 2906 1169 2906 1791 \nz\nM 3481 434 \nQ 3481 -459 3084 -895 \nQ 2688 -1331 1869 -1331 \nQ 1566 -1331 1297 -1286 \nQ 1028 -1241 775 -1147 \nL 775 -588 \nQ 1028 -725 1275 -790 \nQ 1522 -856 1778 -856 \nQ 2344 -856 2625 -561 \nQ 2906 -266 2906 331 \nL 2906 616 \nQ 2728 306 2450 153 \nQ 2172 0 1784 0 \nQ 1141 0 747 490 \nQ 353 981 353 1791 \nQ 353 2603 747 3093 \nQ 1141 3584 1784 3584 \nQ 2172 3584 2450 3431 \nQ 2728 3278 2906 2969 \nL 2906 3500 \nL 3481 3500 \nL 3481 434 \nz\n\" transform=\"scale(0.015625)\"/>\n       <path id=\"DejaVuSans-74\" d=\"M 1172 4494 \nL 1172 3500 \nL 2356 3500 \nL 2356 3053 \nL 1172 3053 \nL 1172 1153 \nQ 1172 725 1289 603 \nQ 1406 481 1766 481 \nL 2356 481 \nL 2356 0 \nL 1766 0 \nQ 1100 0 847 248 \nQ 594 497 594 1153 \nL 594 3053 \nL 172 3053 \nL 172 3500 \nL 594 3500 \nL 594 4494 \nL 1172 4494 \nz\n\" transform=\"scale(0.015625)\"/>\n       <path id=\"DejaVuSans-68\" d=\"M 3513 2113 \nL 3513 0 \nL 2938 0 \nL 2938 2094 \nQ 2938 2591 2744 2837 \nQ 2550 3084 2163 3084 \nQ 1697 3084 1428 2787 \nQ 1159 2491 1159 1978 \nL 1159 0 \nL 581 0 \nL 581 4863 \nL 1159 4863 \nL 1159 2956 \nQ 1366 3272 1645 3428 \nQ 1925 3584 2291 3584 \nQ 2894 3584 3203 3211 \nQ 3513 2838 3513 2113 \nz\n\" transform=\"scale(0.015625)\"/>\n       <path id=\"DejaVuSans-20\" transform=\"scale(0.015625)\"/>\n       <path id=\"DejaVuSans-53\" d=\"M 3425 4513 \nL 3425 3897 \nQ 3066 4069 2747 4153 \nQ 2428 4238 2131 4238 \nQ 1616 4238 1336 4038 \nQ 1056 3838 1056 3469 \nQ 1056 3159 1242 3001 \nQ 1428 2844 1947 2747 \nL 2328 2669 \nQ 3034 2534 3370 2195 \nQ 3706 1856 3706 1288 \nQ 3706 609 3251 259 \nQ 2797 -91 1919 -91 \nQ 1588 -91 1214 -16 \nQ 841 59 441 206 \nL 441 856 \nQ 825 641 1194 531 \nQ 1563 422 1919 422 \nQ 2459 422 2753 634 \nQ 3047 847 3047 1241 \nQ 3047 1584 2836 1778 \nQ 2625 1972 2144 2069 \nL 1759 2144 \nQ 1053 2284 737 2584 \nQ 422 2884 422 3419 \nQ 422 4038 858 4394 \nQ 1294 4750 2059 4750 \nQ 2388 4750 2728 4690 \nQ 3069 4631 3425 4513 \nz\n\" transform=\"scale(0.015625)\"/>\n       <path id=\"DejaVuSans-63\" d=\"M 3122 3366 \nL 3122 2828 \nQ 2878 2963 2633 3030 \nQ 2388 3097 2138 3097 \nQ 1578 3097 1268 2742 \nQ 959 2388 959 1747 \nQ 959 1106 1268 751 \nQ 1578 397 2138 397 \nQ 2388 397 2633 464 \nQ 2878 531 3122 666 \nL 3122 134 \nQ 2881 22 2623 -34 \nQ 2366 -91 2075 -91 \nQ 1284 -91 818 406 \nQ 353 903 353 1747 \nQ 353 2603 823 3093 \nQ 1294 3584 2113 3584 \nQ 2378 3584 2631 3529 \nQ 2884 3475 3122 3366 \nz\n\" transform=\"scale(0.015625)\"/>\n       <path id=\"DejaVuSans-61\" d=\"M 2194 1759 \nQ 1497 1759 1228 1600 \nQ 959 1441 959 1056 \nQ 959 750 1161 570 \nQ 1363 391 1709 391 \nQ 2188 391 2477 730 \nQ 2766 1069 2766 1631 \nL 2766 1759 \nL 2194 1759 \nz\nM 3341 1997 \nL 3341 0 \nL 2766 0 \nL 2766 531 \nQ 2569 213 2275 61 \nQ 1981 -91 1556 -91 \nQ 1019 -91 701 211 \nQ 384 513 384 1019 \nQ 384 1609 779 1909 \nQ 1175 2209 1959 2209 \nL 2766 2209 \nL 2766 2266 \nQ 2766 2663 2505 2880 \nQ 2244 3097 1772 3097 \nQ 1472 3097 1187 3025 \nQ 903 2953 641 2809 \nL 641 3341 \nQ 956 3463 1253 3523 \nQ 1550 3584 1831 3584 \nQ 2591 3584 2966 3190 \nQ 3341 2797 3341 1997 \nz\n\" transform=\"scale(0.015625)\"/>\n       <path id=\"DejaVuSans-6c\" d=\"M 603 4863 \nL 1178 4863 \nL 1178 0 \nL 603 0 \nL 603 4863 \nz\n\" transform=\"scale(0.015625)\"/>\n       <path id=\"DejaVuSans-2c\" d=\"M 750 794 \nL 1409 794 \nL 1409 256 \nL 897 -744 \nL 494 -744 \nL 750 256 \nL 750 794 \nz\n\" transform=\"scale(0.015625)\"/>\n       <path id=\"DejaVuSans-Oblique-6c\" d=\"M 1172 4863 \nL 1747 4863 \nL 800 0 \nL 225 0 \nL 1172 4863 \nz\n\" transform=\"scale(0.015625)\"/>\n      </defs>\n      <use xlink:href=\"#DejaVuSans-4c\" transform=\"translate(0 0.015625)\"/>\n      <use xlink:href=\"#DejaVuSans-65\" transform=\"translate(55.712891 0.015625)\"/>\n      <use xlink:href=\"#DejaVuSans-6e\" transform=\"translate(117.236328 0.015625)\"/>\n      <use xlink:href=\"#DejaVuSans-67\" transform=\"translate(180.615234 0.015625)\"/>\n      <use xlink:href=\"#DejaVuSans-74\" transform=\"translate(244.091797 0.015625)\"/>\n      <use xlink:href=\"#DejaVuSans-68\" transform=\"translate(283.300781 0.015625)\"/>\n      <use xlink:href=\"#DejaVuSans-20\" transform=\"translate(346.679688 0.015625)\"/>\n      <use xlink:href=\"#DejaVuSans-53\" transform=\"translate(378.466797 0.015625)\"/>\n      <use xlink:href=\"#DejaVuSans-63\" transform=\"translate(441.943359 0.015625)\"/>\n      <use xlink:href=\"#DejaVuSans-61\" transform=\"translate(496.923828 0.015625)\"/>\n      <use xlink:href=\"#DejaVuSans-6c\" transform=\"translate(558.203125 0.015625)\"/>\n      <use xlink:href=\"#DejaVuSans-65\" transform=\"translate(585.986328 0.015625)\"/>\n      <use xlink:href=\"#DejaVuSans-2c\" transform=\"translate(647.509766 0.015625)\"/>\n      <use xlink:href=\"#DejaVuSans-20\" transform=\"translate(679.296875 0.015625)\"/>\n      <use xlink:href=\"#DejaVuSans-Oblique-6c\" transform=\"translate(711.083984 0.015625)\"/>\n     </g>\n    </g>\n   </g>\n   <g id=\"patch_3\">\n    <path d=\"M 47.275312 212.578125 \nL 47.275312 22.318125 \n\" style=\"fill: none; stroke: #000000; stroke-width: 0.8; stroke-linejoin: miter; stroke-linecap: square\"/>\n   </g>\n   <g id=\"patch_4\">\n    <path d=\"M 248.155312 212.578125 \nL 248.155312 22.318125 \n\" style=\"fill: none; stroke: #000000; stroke-width: 0.8; stroke-linejoin: miter; stroke-linecap: square\"/>\n   </g>\n   <g id=\"patch_5\">\n    <path d=\"M 47.275312 212.578125 \nL 248.155312 212.578125 \n\" style=\"fill: none; stroke: #000000; stroke-width: 0.8; stroke-linejoin: miter; stroke-linecap: square\"/>\n   </g>\n   <g id=\"patch_6\">\n    <path d=\"M 47.275312 22.318125 \nL 248.155312 22.318125 \n\" style=\"fill: none; stroke: #000000; stroke-width: 0.8; stroke-linejoin: miter; stroke-linecap: square\"/>\n   </g>\n   <g id=\"text_7\">\n    <!-- Val. Error Contour for PATCH-GP, Matern Kernel -->\n    <g transform=\"translate(7.2 16.318125)scale(0.12 -0.12)\">\n     <defs>\n      <path id=\"DejaVuSans-56\" d=\"M 1831 0 \nL 50 4666 \nL 709 4666 \nL 2188 738 \nL 3669 4666 \nL 4325 4666 \nL 2547 0 \nL 1831 0 \nz\n\" transform=\"scale(0.015625)\"/>\n      <path id=\"DejaVuSans-2e\" d=\"M 684 794 \nL 1344 794 \nL 1344 0 \nL 684 0 \nL 684 794 \nz\n\" transform=\"scale(0.015625)\"/>\n      <path id=\"DejaVuSans-45\" d=\"M 628 4666 \nL 3578 4666 \nL 3578 4134 \nL 1259 4134 \nL 1259 2753 \nL 3481 2753 \nL 3481 2222 \nL 1259 2222 \nL 1259 531 \nL 3634 531 \nL 3634 0 \nL 628 0 \nL 628 4666 \nz\n\" transform=\"scale(0.015625)\"/>\n      <path id=\"DejaVuSans-72\" d=\"M 2631 2963 \nQ 2534 3019 2420 3045 \nQ 2306 3072 2169 3072 \nQ 1681 3072 1420 2755 \nQ 1159 2438 1159 1844 \nL 1159 0 \nL 581 0 \nL 581 3500 \nL 1159 3500 \nL 1159 2956 \nQ 1341 3275 1631 3429 \nQ 1922 3584 2338 3584 \nQ 2397 3584 2469 3576 \nQ 2541 3569 2628 3553 \nL 2631 2963 \nz\n\" transform=\"scale(0.015625)\"/>\n      <path id=\"DejaVuSans-6f\" d=\"M 1959 3097 \nQ 1497 3097 1228 2736 \nQ 959 2375 959 1747 \nQ 959 1119 1226 758 \nQ 1494 397 1959 397 \nQ 2419 397 2687 759 \nQ 2956 1122 2956 1747 \nQ 2956 2369 2687 2733 \nQ 2419 3097 1959 3097 \nz\nM 1959 3584 \nQ 2709 3584 3137 3096 \nQ 3566 2609 3566 1747 \nQ 3566 888 3137 398 \nQ 2709 -91 1959 -91 \nQ 1206 -91 779 398 \nQ 353 888 353 1747 \nQ 353 2609 779 3096 \nQ 1206 3584 1959 3584 \nz\n\" transform=\"scale(0.015625)\"/>\n      <path id=\"DejaVuSans-43\" d=\"M 4122 4306 \nL 4122 3641 \nQ 3803 3938 3442 4084 \nQ 3081 4231 2675 4231 \nQ 1875 4231 1450 3742 \nQ 1025 3253 1025 2328 \nQ 1025 1406 1450 917 \nQ 1875 428 2675 428 \nQ 3081 428 3442 575 \nQ 3803 722 4122 1019 \nL 4122 359 \nQ 3791 134 3420 21 \nQ 3050 -91 2638 -91 \nQ 1578 -91 968 557 \nQ 359 1206 359 2328 \nQ 359 3453 968 4101 \nQ 1578 4750 2638 4750 \nQ 3056 4750 3426 4639 \nQ 3797 4528 4122 4306 \nz\n\" transform=\"scale(0.015625)\"/>\n      <path id=\"DejaVuSans-75\" d=\"M 544 1381 \nL 544 3500 \nL 1119 3500 \nL 1119 1403 \nQ 1119 906 1312 657 \nQ 1506 409 1894 409 \nQ 2359 409 2629 706 \nQ 2900 1003 2900 1516 \nL 2900 3500 \nL 3475 3500 \nL 3475 0 \nL 2900 0 \nL 2900 538 \nQ 2691 219 2414 64 \nQ 2138 -91 1772 -91 \nQ 1169 -91 856 284 \nQ 544 659 544 1381 \nz\nM 1991 3584 \nL 1991 3584 \nz\n\" transform=\"scale(0.015625)\"/>\n      <path id=\"DejaVuSans-66\" d=\"M 2375 4863 \nL 2375 4384 \nL 1825 4384 \nQ 1516 4384 1395 4259 \nQ 1275 4134 1275 3809 \nL 1275 3500 \nL 2222 3500 \nL 2222 3053 \nL 1275 3053 \nL 1275 0 \nL 697 0 \nL 697 3053 \nL 147 3053 \nL 147 3500 \nL 697 3500 \nL 697 3744 \nQ 697 4328 969 4595 \nQ 1241 4863 1831 4863 \nL 2375 4863 \nz\n\" transform=\"scale(0.015625)\"/>\n      <path id=\"DejaVuSans-50\" d=\"M 1259 4147 \nL 1259 2394 \nL 2053 2394 \nQ 2494 2394 2734 2622 \nQ 2975 2850 2975 3272 \nQ 2975 3691 2734 3919 \nQ 2494 4147 2053 4147 \nL 1259 4147 \nz\nM 628 4666 \nL 2053 4666 \nQ 2838 4666 3239 4311 \nQ 3641 3956 3641 3272 \nQ 3641 2581 3239 2228 \nQ 2838 1875 2053 1875 \nL 1259 1875 \nL 1259 0 \nL 628 0 \nL 628 4666 \nz\n\" transform=\"scale(0.015625)\"/>\n      <path id=\"DejaVuSans-41\" d=\"M 2188 4044 \nL 1331 1722 \nL 3047 1722 \nL 2188 4044 \nz\nM 1831 4666 \nL 2547 4666 \nL 4325 0 \nL 3669 0 \nL 3244 1197 \nL 1141 1197 \nL 716 0 \nL 50 0 \nL 1831 4666 \nz\n\" transform=\"scale(0.015625)\"/>\n      <path id=\"DejaVuSans-54\" d=\"M -19 4666 \nL 3928 4666 \nL 3928 4134 \nL 2272 4134 \nL 2272 0 \nL 1638 0 \nL 1638 4134 \nL -19 4134 \nL -19 4666 \nz\n\" transform=\"scale(0.015625)\"/>\n      <path id=\"DejaVuSans-48\" d=\"M 628 4666 \nL 1259 4666 \nL 1259 2753 \nL 3553 2753 \nL 3553 4666 \nL 4184 4666 \nL 4184 0 \nL 3553 0 \nL 3553 2222 \nL 1259 2222 \nL 1259 0 \nL 628 0 \nL 628 4666 \nz\n\" transform=\"scale(0.015625)\"/>\n      <path id=\"DejaVuSans-2d\" d=\"M 313 2009 \nL 1997 2009 \nL 1997 1497 \nL 313 1497 \nL 313 2009 \nz\n\" transform=\"scale(0.015625)\"/>\n      <path id=\"DejaVuSans-47\" d=\"M 3809 666 \nL 3809 1919 \nL 2778 1919 \nL 2778 2438 \nL 4434 2438 \nL 4434 434 \nQ 4069 175 3628 42 \nQ 3188 -91 2688 -91 \nQ 1594 -91 976 548 \nQ 359 1188 359 2328 \nQ 359 3472 976 4111 \nQ 1594 4750 2688 4750 \nQ 3144 4750 3555 4637 \nQ 3966 4525 4313 4306 \nL 4313 3634 \nQ 3963 3931 3569 4081 \nQ 3175 4231 2741 4231 \nQ 1884 4231 1454 3753 \nQ 1025 3275 1025 2328 \nQ 1025 1384 1454 906 \nQ 1884 428 2741 428 \nQ 3075 428 3337 486 \nQ 3600 544 3809 666 \nz\n\" transform=\"scale(0.015625)\"/>\n      <path id=\"DejaVuSans-4d\" d=\"M 628 4666 \nL 1569 4666 \nL 2759 1491 \nL 3956 4666 \nL 4897 4666 \nL 4897 0 \nL 4281 0 \nL 4281 4097 \nL 3078 897 \nL 2444 897 \nL 1241 4097 \nL 1241 0 \nL 628 0 \nL 628 4666 \nz\n\" transform=\"scale(0.015625)\"/>\n      <path id=\"DejaVuSans-4b\" d=\"M 628 4666 \nL 1259 4666 \nL 1259 2694 \nL 3353 4666 \nL 4166 4666 \nL 1850 2491 \nL 4331 0 \nL 3500 0 \nL 1259 2247 \nL 1259 0 \nL 628 0 \nL 628 4666 \nz\n\" transform=\"scale(0.015625)\"/>\n     </defs>\n     <use xlink:href=\"#DejaVuSans-56\"/>\n     <use xlink:href=\"#DejaVuSans-61\" x=\"60.658203\"/>\n     <use xlink:href=\"#DejaVuSans-6c\" x=\"121.9375\"/>\n     <use xlink:href=\"#DejaVuSans-2e\" x=\"149.720703\"/>\n     <use xlink:href=\"#DejaVuSans-20\" x=\"181.507812\"/>\n     <use xlink:href=\"#DejaVuSans-45\" x=\"213.294922\"/>\n     <use xlink:href=\"#DejaVuSans-72\" x=\"276.478516\"/>\n     <use xlink:href=\"#DejaVuSans-72\" x=\"315.841797\"/>\n     <use xlink:href=\"#DejaVuSans-6f\" x=\"354.705078\"/>\n     <use xlink:href=\"#DejaVuSans-72\" x=\"415.886719\"/>\n     <use xlink:href=\"#DejaVuSans-20\" x=\"457\"/>\n     <use xlink:href=\"#DejaVuSans-43\" x=\"488.787109\"/>\n     <use xlink:href=\"#DejaVuSans-6f\" x=\"558.611328\"/>\n     <use xlink:href=\"#DejaVuSans-6e\" x=\"619.792969\"/>\n     <use xlink:href=\"#DejaVuSans-74\" x=\"683.171875\"/>\n     <use xlink:href=\"#DejaVuSans-6f\" x=\"722.380859\"/>\n     <use xlink:href=\"#DejaVuSans-75\" x=\"783.5625\"/>\n     <use xlink:href=\"#DejaVuSans-72\" x=\"846.941406\"/>\n     <use xlink:href=\"#DejaVuSans-20\" x=\"888.054688\"/>\n     <use xlink:href=\"#DejaVuSans-66\" x=\"919.841797\"/>\n     <use xlink:href=\"#DejaVuSans-6f\" x=\"955.046875\"/>\n     <use xlink:href=\"#DejaVuSans-72\" x=\"1016.228516\"/>\n     <use xlink:href=\"#DejaVuSans-20\" x=\"1057.341797\"/>\n     <use xlink:href=\"#DejaVuSans-50\" x=\"1089.128906\"/>\n     <use xlink:href=\"#DejaVuSans-41\" x=\"1143.056641\"/>\n     <use xlink:href=\"#DejaVuSans-54\" x=\"1203.714844\"/>\n     <use xlink:href=\"#DejaVuSans-43\" x=\"1258.923828\"/>\n     <use xlink:href=\"#DejaVuSans-48\" x=\"1328.748047\"/>\n     <use xlink:href=\"#DejaVuSans-2d\" x=\"1403.943359\"/>\n     <use xlink:href=\"#DejaVuSans-47\" x=\"1443.652344\"/>\n     <use xlink:href=\"#DejaVuSans-50\" x=\"1521.142578\"/>\n     <use xlink:href=\"#DejaVuSans-2c\" x=\"1581.445312\"/>\n     <use xlink:href=\"#DejaVuSans-20\" x=\"1613.232422\"/>\n     <use xlink:href=\"#DejaVuSans-4d\" x=\"1645.019531\"/>\n     <use xlink:href=\"#DejaVuSans-61\" x=\"1731.298828\"/>\n     <use xlink:href=\"#DejaVuSans-74\" x=\"1792.578125\"/>\n     <use xlink:href=\"#DejaVuSans-65\" x=\"1831.787109\"/>\n     <use xlink:href=\"#DejaVuSans-72\" x=\"1893.310547\"/>\n     <use xlink:href=\"#DejaVuSans-6e\" x=\"1932.673828\"/>\n     <use xlink:href=\"#DejaVuSans-20\" x=\"1996.052734\"/>\n     <use xlink:href=\"#DejaVuSans-4b\" x=\"2027.839844\"/>\n     <use xlink:href=\"#DejaVuSans-65\" x=\"2088.416016\"/>\n     <use xlink:href=\"#DejaVuSans-72\" x=\"2149.939453\"/>\n     <use xlink:href=\"#DejaVuSans-6e\" x=\"2189.302734\"/>\n     <use xlink:href=\"#DejaVuSans-65\" x=\"2252.681641\"/>\n     <use xlink:href=\"#DejaVuSans-6c\" x=\"2314.205078\"/>\n    </g>\n   </g>\n  </g>\n  <g id=\"axes_2\">\n   <g id=\"patch_7\">\n    <path d=\"M 260.710313 212.578125 \nL 270.223313 212.578125 \nL 270.223313 22.318125 \nL 260.710313 22.318125 \nz\n\" style=\"fill: #ffffff\"/>\n   </g>\n   <g id=\"patch_8\">\n    <path clip-path=\"url(#p07c5090eb5)\" style=\"fill: #ffffff; stroke: #ffffff; stroke-width: 0.01; stroke-linejoin: miter\"/>\n   </g>\n   <g id=\"QuadMesh_1\">\n    <path d=\"M 260.710313 212.578125 \nL 270.223313 212.578125 \nL 270.223313 185.398125 \nL 260.710313 185.398125 \nL 260.710313 212.578125 \n\" clip-path=\"url(#p07c5090eb5)\" style=\"fill: #481d6f\"/>\n    <path d=\"M 260.710313 185.398125 \nL 270.223313 185.398125 \nL 270.223313 158.218125 \nL 260.710313 158.218125 \nL 260.710313 185.398125 \n\" clip-path=\"url(#p07c5090eb5)\" style=\"fill: #3d4e8a\"/>\n    <path d=\"M 260.710313 158.218125 \nL 270.223313 158.218125 \nL 270.223313 131.038125 \nL 260.710313 131.038125 \nL 260.710313 158.218125 \n\" clip-path=\"url(#p07c5090eb5)\" style=\"fill: #2a778e\"/>\n    <path d=\"M 260.710313 131.038125 \nL 270.223313 131.038125 \nL 270.223313 103.858125 \nL 260.710313 103.858125 \nL 260.710313 131.038125 \n\" clip-path=\"url(#p07c5090eb5)\" style=\"fill: #21918c\"/>\n    <path d=\"M 260.710313 103.858125 \nL 270.223313 103.858125 \nL 270.223313 76.678125 \nL 260.710313 76.678125 \nL 260.710313 103.858125 \n\" clip-path=\"url(#p07c5090eb5)\" style=\"fill: #23a983\"/>\n    <path d=\"M 260.710313 76.678125 \nL 270.223313 76.678125 \nL 270.223313 49.498125 \nL 260.710313 49.498125 \nL 260.710313 76.678125 \n\" clip-path=\"url(#p07c5090eb5)\" style=\"fill: #65cb5e\"/>\n    <path d=\"M 260.710313 49.498125 \nL 270.223313 49.498125 \nL 270.223313 22.318125 \nL 260.710313 22.318125 \nL 260.710313 49.498125 \n\" clip-path=\"url(#p07c5090eb5)\" style=\"fill: #cae11f\"/>\n   </g>\n   <g id=\"matplotlib.axis_3\">\n    <g id=\"ytick_19\">\n     <g id=\"line2d_37\">\n      <defs>\n       <path id=\"mf1fc1474cd\" d=\"M 0 0 \nL 3.5 0 \n\" style=\"stroke: #000000; stroke-width: 0.8\"/>\n      </defs>\n      <g>\n       <use xlink:href=\"#mf1fc1474cd\" x=\"270.223313\" y=\"212.578125\" style=\"stroke: #000000; stroke-width: 0.8\"/>\n      </g>\n     </g>\n     <g id=\"text_8\">\n      <!-- 0.0005 -->\n      <g transform=\"translate(277.223313 216.377344)scale(0.1 -0.1)\">\n       <defs>\n        <path id=\"DejaVuSans-35\" d=\"M 691 4666 \nL 3169 4666 \nL 3169 4134 \nL 1269 4134 \nL 1269 2991 \nQ 1406 3038 1543 3061 \nQ 1681 3084 1819 3084 \nQ 2600 3084 3056 2656 \nQ 3513 2228 3513 1497 \nQ 3513 744 3044 326 \nQ 2575 -91 1722 -91 \nQ 1428 -91 1123 -41 \nQ 819 9 494 109 \nL 494 744 \nQ 775 591 1075 516 \nQ 1375 441 1709 441 \nQ 2250 441 2565 725 \nQ 2881 1009 2881 1497 \nQ 2881 1984 2565 2268 \nQ 2250 2553 1709 2553 \nQ 1456 2553 1204 2497 \nQ 953 2441 691 2322 \nL 691 4666 \nz\n\" transform=\"scale(0.015625)\"/>\n       </defs>\n       <use xlink:href=\"#DejaVuSans-30\"/>\n       <use xlink:href=\"#DejaVuSans-2e\" x=\"63.623047\"/>\n       <use xlink:href=\"#DejaVuSans-30\" x=\"95.410156\"/>\n       <use xlink:href=\"#DejaVuSans-30\" x=\"159.033203\"/>\n       <use xlink:href=\"#DejaVuSans-30\" x=\"222.65625\"/>\n       <use xlink:href=\"#DejaVuSans-35\" x=\"286.279297\"/>\n      </g>\n     </g>\n    </g>\n    <g id=\"ytick_20\">\n     <g id=\"line2d_38\">\n      <g>\n       <use xlink:href=\"#mf1fc1474cd\" x=\"270.223313\" y=\"185.398125\" style=\"stroke: #000000; stroke-width: 0.8\"/>\n      </g>\n     </g>\n     <g id=\"text_9\">\n      <!-- 0.0010 -->\n      <g transform=\"translate(277.223313 189.197344)scale(0.1 -0.1)\">\n       <use xlink:href=\"#DejaVuSans-30\"/>\n       <use xlink:href=\"#DejaVuSans-2e\" x=\"63.623047\"/>\n       <use xlink:href=\"#DejaVuSans-30\" x=\"95.410156\"/>\n       <use xlink:href=\"#DejaVuSans-30\" x=\"159.033203\"/>\n       <use xlink:href=\"#DejaVuSans-31\" x=\"222.65625\"/>\n       <use xlink:href=\"#DejaVuSans-30\" x=\"286.279297\"/>\n      </g>\n     </g>\n    </g>\n    <g id=\"ytick_21\">\n     <g id=\"line2d_39\">\n      <g>\n       <use xlink:href=\"#mf1fc1474cd\" x=\"270.223313\" y=\"158.218125\" style=\"stroke: #000000; stroke-width: 0.8\"/>\n      </g>\n     </g>\n     <g id=\"text_10\">\n      <!-- 0.0020 -->\n      <g transform=\"translate(277.223313 162.017344)scale(0.1 -0.1)\">\n       <defs>\n        <path id=\"DejaVuSans-32\" d=\"M 1228 531 \nL 3431 531 \nL 3431 0 \nL 469 0 \nL 469 531 \nQ 828 903 1448 1529 \nQ 2069 2156 2228 2338 \nQ 2531 2678 2651 2914 \nQ 2772 3150 2772 3378 \nQ 2772 3750 2511 3984 \nQ 2250 4219 1831 4219 \nQ 1534 4219 1204 4116 \nQ 875 4013 500 3803 \nL 500 4441 \nQ 881 4594 1212 4672 \nQ 1544 4750 1819 4750 \nQ 2544 4750 2975 4387 \nQ 3406 4025 3406 3419 \nQ 3406 3131 3298 2873 \nQ 3191 2616 2906 2266 \nQ 2828 2175 2409 1742 \nQ 1991 1309 1228 531 \nz\n\" transform=\"scale(0.015625)\"/>\n       </defs>\n       <use xlink:href=\"#DejaVuSans-30\"/>\n       <use xlink:href=\"#DejaVuSans-2e\" x=\"63.623047\"/>\n       <use xlink:href=\"#DejaVuSans-30\" x=\"95.410156\"/>\n       <use xlink:href=\"#DejaVuSans-30\" x=\"159.033203\"/>\n       <use xlink:href=\"#DejaVuSans-32\" x=\"222.65625\"/>\n       <use xlink:href=\"#DejaVuSans-30\" x=\"286.279297\"/>\n      </g>\n     </g>\n    </g>\n    <g id=\"ytick_22\">\n     <g id=\"line2d_40\">\n      <g>\n       <use xlink:href=\"#mf1fc1474cd\" x=\"270.223313\" y=\"131.038125\" style=\"stroke: #000000; stroke-width: 0.8\"/>\n      </g>\n     </g>\n     <g id=\"text_11\">\n      <!-- 0.0040 -->\n      <g transform=\"translate(277.223313 134.837344)scale(0.1 -0.1)\">\n       <defs>\n        <path id=\"DejaVuSans-34\" d=\"M 2419 4116 \nL 825 1625 \nL 2419 1625 \nL 2419 4116 \nz\nM 2253 4666 \nL 3047 4666 \nL 3047 1625 \nL 3713 1625 \nL 3713 1100 \nL 3047 1100 \nL 3047 0 \nL 2419 0 \nL 2419 1100 \nL 313 1100 \nL 313 1709 \nL 2253 4666 \nz\n\" transform=\"scale(0.015625)\"/>\n       </defs>\n       <use xlink:href=\"#DejaVuSans-30\"/>\n       <use xlink:href=\"#DejaVuSans-2e\" x=\"63.623047\"/>\n       <use xlink:href=\"#DejaVuSans-30\" x=\"95.410156\"/>\n       <use xlink:href=\"#DejaVuSans-30\" x=\"159.033203\"/>\n       <use xlink:href=\"#DejaVuSans-34\" x=\"222.65625\"/>\n       <use xlink:href=\"#DejaVuSans-30\" x=\"286.279297\"/>\n      </g>\n     </g>\n    </g>\n    <g id=\"ytick_23\">\n     <g id=\"line2d_41\">\n      <g>\n       <use xlink:href=\"#mf1fc1474cd\" x=\"270.223313\" y=\"103.858125\" style=\"stroke: #000000; stroke-width: 0.8\"/>\n      </g>\n     </g>\n     <g id=\"text_12\">\n      <!-- 0.0050 -->\n      <g transform=\"translate(277.223313 107.657344)scale(0.1 -0.1)\">\n       <use xlink:href=\"#DejaVuSans-30\"/>\n       <use xlink:href=\"#DejaVuSans-2e\" x=\"63.623047\"/>\n       <use xlink:href=\"#DejaVuSans-30\" x=\"95.410156\"/>\n       <use xlink:href=\"#DejaVuSans-30\" x=\"159.033203\"/>\n       <use xlink:href=\"#DejaVuSans-35\" x=\"222.65625\"/>\n       <use xlink:href=\"#DejaVuSans-30\" x=\"286.279297\"/>\n      </g>\n     </g>\n    </g>\n    <g id=\"ytick_24\">\n     <g id=\"line2d_42\">\n      <g>\n       <use xlink:href=\"#mf1fc1474cd\" x=\"270.223313\" y=\"76.678125\" style=\"stroke: #000000; stroke-width: 0.8\"/>\n      </g>\n     </g>\n     <g id=\"text_13\">\n      <!-- 0.0100 -->\n      <g transform=\"translate(277.223313 80.477344)scale(0.1 -0.1)\">\n       <use xlink:href=\"#DejaVuSans-30\"/>\n       <use xlink:href=\"#DejaVuSans-2e\" x=\"63.623047\"/>\n       <use xlink:href=\"#DejaVuSans-30\" x=\"95.410156\"/>\n       <use xlink:href=\"#DejaVuSans-31\" x=\"159.033203\"/>\n       <use xlink:href=\"#DejaVuSans-30\" x=\"222.65625\"/>\n       <use xlink:href=\"#DejaVuSans-30\" x=\"286.279297\"/>\n      </g>\n     </g>\n    </g>\n    <g id=\"ytick_25\">\n     <g id=\"line2d_43\">\n      <g>\n       <use xlink:href=\"#mf1fc1474cd\" x=\"270.223313\" y=\"49.498125\" style=\"stroke: #000000; stroke-width: 0.8\"/>\n      </g>\n     </g>\n     <g id=\"text_14\">\n      <!-- 0.0200 -->\n      <g transform=\"translate(277.223313 53.297344)scale(0.1 -0.1)\">\n       <use xlink:href=\"#DejaVuSans-30\"/>\n       <use xlink:href=\"#DejaVuSans-2e\" x=\"63.623047\"/>\n       <use xlink:href=\"#DejaVuSans-30\" x=\"95.410156\"/>\n       <use xlink:href=\"#DejaVuSans-32\" x=\"159.033203\"/>\n       <use xlink:href=\"#DejaVuSans-30\" x=\"222.65625\"/>\n       <use xlink:href=\"#DejaVuSans-30\" x=\"286.279297\"/>\n      </g>\n     </g>\n    </g>\n    <g id=\"ytick_26\">\n     <g id=\"line2d_44\">\n      <g>\n       <use xlink:href=\"#mf1fc1474cd\" x=\"270.223313\" y=\"22.318125\" style=\"stroke: #000000; stroke-width: 0.8\"/>\n      </g>\n     </g>\n     <g id=\"text_15\">\n      <!-- 0.0400 -->\n      <g transform=\"translate(277.223313 26.117344)scale(0.1 -0.1)\">\n       <use xlink:href=\"#DejaVuSans-30\"/>\n       <use xlink:href=\"#DejaVuSans-2e\" x=\"63.623047\"/>\n       <use xlink:href=\"#DejaVuSans-30\" x=\"95.410156\"/>\n       <use xlink:href=\"#DejaVuSans-34\" x=\"159.033203\"/>\n       <use xlink:href=\"#DejaVuSans-30\" x=\"222.65625\"/>\n       <use xlink:href=\"#DejaVuSans-30\" x=\"286.279297\"/>\n      </g>\n     </g>\n    </g>\n    <g id=\"text_16\">\n     <!-- Validation relRMSE -->\n     <g transform=\"translate(323.812375 164.258281)rotate(-90)scale(0.1 -0.1)\">\n      <defs>\n       <path id=\"DejaVuSans-69\" d=\"M 603 3500 \nL 1178 3500 \nL 1178 0 \nL 603 0 \nL 603 3500 \nz\nM 603 4863 \nL 1178 4863 \nL 1178 4134 \nL 603 4134 \nL 603 4863 \nz\n\" transform=\"scale(0.015625)\"/>\n       <path id=\"DejaVuSans-64\" d=\"M 2906 2969 \nL 2906 4863 \nL 3481 4863 \nL 3481 0 \nL 2906 0 \nL 2906 525 \nQ 2725 213 2448 61 \nQ 2172 -91 1784 -91 \nQ 1150 -91 751 415 \nQ 353 922 353 1747 \nQ 353 2572 751 3078 \nQ 1150 3584 1784 3584 \nQ 2172 3584 2448 3432 \nQ 2725 3281 2906 2969 \nz\nM 947 1747 \nQ 947 1113 1208 752 \nQ 1469 391 1925 391 \nQ 2381 391 2643 752 \nQ 2906 1113 2906 1747 \nQ 2906 2381 2643 2742 \nQ 2381 3103 1925 3103 \nQ 1469 3103 1208 2742 \nQ 947 2381 947 1747 \nz\n\" transform=\"scale(0.015625)\"/>\n       <path id=\"DejaVuSans-52\" d=\"M 2841 2188 \nQ 3044 2119 3236 1894 \nQ 3428 1669 3622 1275 \nL 4263 0 \nL 3584 0 \nL 2988 1197 \nQ 2756 1666 2539 1819 \nQ 2322 1972 1947 1972 \nL 1259 1972 \nL 1259 0 \nL 628 0 \nL 628 4666 \nL 2053 4666 \nQ 2853 4666 3247 4331 \nQ 3641 3997 3641 3322 \nQ 3641 2881 3436 2590 \nQ 3231 2300 2841 2188 \nz\nM 1259 4147 \nL 1259 2491 \nL 2053 2491 \nQ 2509 2491 2742 2702 \nQ 2975 2913 2975 3322 \nQ 2975 3731 2742 3939 \nQ 2509 4147 2053 4147 \nL 1259 4147 \nz\n\" transform=\"scale(0.015625)\"/>\n      </defs>\n      <use xlink:href=\"#DejaVuSans-56\"/>\n      <use xlink:href=\"#DejaVuSans-61\" x=\"60.658203\"/>\n      <use xlink:href=\"#DejaVuSans-6c\" x=\"121.9375\"/>\n      <use xlink:href=\"#DejaVuSans-69\" x=\"149.720703\"/>\n      <use xlink:href=\"#DejaVuSans-64\" x=\"177.503906\"/>\n      <use xlink:href=\"#DejaVuSans-61\" x=\"240.980469\"/>\n      <use xlink:href=\"#DejaVuSans-74\" x=\"302.259766\"/>\n      <use xlink:href=\"#DejaVuSans-69\" x=\"341.46875\"/>\n      <use xlink:href=\"#DejaVuSans-6f\" x=\"369.251953\"/>\n      <use xlink:href=\"#DejaVuSans-6e\" x=\"430.433594\"/>\n      <use xlink:href=\"#DejaVuSans-20\" x=\"493.8125\"/>\n      <use xlink:href=\"#DejaVuSans-72\" x=\"525.599609\"/>\n      <use xlink:href=\"#DejaVuSans-65\" x=\"564.462891\"/>\n      <use xlink:href=\"#DejaVuSans-6c\" x=\"625.986328\"/>\n      <use xlink:href=\"#DejaVuSans-52\" x=\"653.769531\"/>\n      <use xlink:href=\"#DejaVuSans-4d\" x=\"723.251953\"/>\n      <use xlink:href=\"#DejaVuSans-53\" x=\"809.53125\"/>\n      <use xlink:href=\"#DejaVuSans-45\" x=\"873.007812\"/>\n     </g>\n    </g>\n   </g>\n   <g id=\"LineCollection_1\"/>\n   <g id=\"patch_9\">\n    <path d=\"M 260.710313 212.578125 \nL 265.466813 212.578125 \nL 270.223313 212.578125 \nL 270.223313 22.318125 \nL 265.466813 22.318125 \nL 260.710313 22.318125 \nL 260.710313 212.578125 \nz\n\" style=\"fill: none; stroke: #000000; stroke-width: 0.8; stroke-linejoin: miter; stroke-linecap: square\"/>\n   </g>\n  </g>\n </g>\n <defs>\n  <clipPath id=\"p785eb1d9b2\">\n   <rect x=\"47.275312\" y=\"22.318125\" width=\"200.88\" height=\"190.26\"/>\n  </clipPath>\n  <clipPath id=\"p07c5090eb5\">\n   <rect x=\"260.710313\" y=\"22.318125\" width=\"9.513\" height=\"190.26\"/>\n  </clipPath>\n </defs>\n</svg>\n",
      "text/plain": [
       "<Figure size 324x252 with 2 Axes>"
      ]
     },
     "metadata": {
      "needs_background": "light"
     },
     "output_type": "display_data"
    }
   ],
   "source": [
    "from matplotlib import ticker, cm\n",
    "from ssapp.Utils import FigureSaver\n",
    "\n",
    "\n",
    "\n",
    "fig,ax=plt.subplots(1,1,figsize=(4.5,3.5))\n",
    "print(score_grid.min()+0.5)\n",
    "norm = cm.colors.Normalize(vmax=abs(score_grid).max(), vmin=-abs(score_grid).max())\n",
    "\n",
    "cp = ax.contourf(nu_scales,RBF_scales,score_grid,levels = 20,locator=ticker.LogLocator(subs = [0.5,1,2,4]))\n",
    "cb = fig.colorbar(cp)\n",
    "cb.set_label('Validation relRMSE')\n",
    "ax.set_xscale('log')\n",
    "ax.set_yscale('log')\n",
    "ax.set_xlabel(r\"$\\nu$\")\n",
    "ax.set_ylabel(\"Length Scale, $l$\")\n",
    "ax.set_title(\"Val. Error Contour for PATCH-GP, Matern Kernel\")\n",
    "\n",
    "figSaver.save(filename = 'ValidationErrorContourPlotPATCH_Matern')"
   ]
  },
  {
   "cell_type": "code",
   "execution_count": 5,
   "id": "bc8d0a33",
   "metadata": {},
   "outputs": [
    {
     "ename": "FileNotFoundError",
     "evalue": "[Errno 2] No such file or directory: 'c:\\\\Users\\\\Niels\\\\Documents\\\\GitHub\\\\Supervised-Machine-Learning-for-Space-Antenna-Performance-Prediction\\\\data\\\\processed\\\\RFCLT_Train.pickle'",
     "output_type": "error",
     "traceback": [
      "\u001b[1;31m---------------------------------------------------------------------------\u001b[0m",
      "\u001b[1;31mFileNotFoundError\u001b[0m                         Traceback (most recent call last)",
      "\u001b[1;32m~\\AppData\\Local\\Temp/ipykernel_8808/1329758578.py\u001b[0m in \u001b[0;36m<module>\u001b[1;34m\u001b[0m\n\u001b[0;32m      1\u001b[0m \u001b[1;31m# RFLCT\u001b[0m\u001b[1;33m\u001b[0m\u001b[1;33m\u001b[0m\u001b[1;33m\u001b[0m\u001b[0m\n\u001b[1;32m----> 2\u001b[1;33m \u001b[0mtrain_dataset\u001b[0m \u001b[1;33m=\u001b[0m \u001b[0mload_serialized_dataset\u001b[0m\u001b[1;33m(\u001b[0m\u001b[1;34m'RFCLT_Train'\u001b[0m\u001b[1;33m)\u001b[0m\u001b[1;33m\u001b[0m\u001b[1;33m\u001b[0m\u001b[0m\n\u001b[0m\u001b[0;32m      3\u001b[0m \u001b[0mval_dataset\u001b[0m \u001b[1;33m=\u001b[0m \u001b[0mload_serialized_dataset\u001b[0m\u001b[1;33m(\u001b[0m\u001b[1;34m'RFLCT_Val'\u001b[0m\u001b[1;33m)\u001b[0m\u001b[1;33m\u001b[0m\u001b[1;33m\u001b[0m\u001b[0m\n\u001b[0;32m      4\u001b[0m \u001b[1;33m\u001b[0m\u001b[0m\n\u001b[0;32m      5\u001b[0m \u001b[0mtrain_params\u001b[0m\u001b[1;33m,\u001b[0m \u001b[0mtrain_fields\u001b[0m \u001b[1;33m=\u001b[0m \u001b[0mnext\u001b[0m\u001b[1;33m(\u001b[0m\u001b[0miter\u001b[0m\u001b[1;33m(\u001b[0m\u001b[0mtrain_dataloader\u001b[0m\u001b[1;33m)\u001b[0m\u001b[1;33m)\u001b[0m\u001b[1;33m\u001b[0m\u001b[1;33m\u001b[0m\u001b[0m\n",
      "\u001b[1;32mc:\\users\\niels\\documents\\github\\supervised-machine-learning-for-space-antenna-performance-prediction\\ssapp\\data\\AntennaDatasetLoaders.py\u001b[0m in \u001b[0;36mload_serialized_dataset\u001b[1;34m(dataset_name, extra_back_steps)\u001b[0m\n\u001b[0;32m     72\u001b[0m \u001b[1;33m\u001b[0m\u001b[0m\n\u001b[0;32m     73\u001b[0m     \u001b[0mload_dir\u001b[0m \u001b[1;33m=\u001b[0m \u001b[0m_get_processed_dataset_path\u001b[0m\u001b[1;33m(\u001b[0m\u001b[0mdataset_name\u001b[0m\u001b[1;33m,\u001b[0m\u001b[0mextra_back_steps\u001b[0m\u001b[1;33m)\u001b[0m\u001b[1;33m\u001b[0m\u001b[1;33m\u001b[0m\u001b[0m\n\u001b[1;32m---> 74\u001b[1;33m     \u001b[1;32mwith\u001b[0m \u001b[0mopen\u001b[0m\u001b[1;33m(\u001b[0m\u001b[0mload_dir\u001b[0m\u001b[1;33m,\u001b[0m\u001b[1;34m'rb'\u001b[0m\u001b[1;33m)\u001b[0m \u001b[1;32mas\u001b[0m \u001b[0mf\u001b[0m\u001b[1;33m:\u001b[0m\u001b[1;33m\u001b[0m\u001b[1;33m\u001b[0m\u001b[0m\n\u001b[0m\u001b[0;32m     75\u001b[0m         \u001b[0mdataset\u001b[0m \u001b[1;33m=\u001b[0m \u001b[0mpickle\u001b[0m\u001b[1;33m.\u001b[0m\u001b[0mload\u001b[0m\u001b[1;33m(\u001b[0m\u001b[0mf\u001b[0m\u001b[1;33m)\u001b[0m\u001b[1;33m\u001b[0m\u001b[1;33m\u001b[0m\u001b[0m\n\u001b[0;32m     76\u001b[0m         \u001b[0mf\u001b[0m\u001b[1;33m.\u001b[0m\u001b[0mclose\u001b[0m\u001b[1;33m(\u001b[0m\u001b[1;33m)\u001b[0m\u001b[1;33m\u001b[0m\u001b[1;33m\u001b[0m\u001b[0m\n",
      "\u001b[1;31mFileNotFoundError\u001b[0m: [Errno 2] No such file or directory: 'c:\\\\Users\\\\Niels\\\\Documents\\\\GitHub\\\\Supervised-Machine-Learning-for-Space-Antenna-Performance-Prediction\\\\data\\\\processed\\\\RFCLT_Train.pickle'"
     ]
    }
   ],
   "source": [
    "# RFLCT\n",
    "train_dataset = load_serialized_dataset('RFCLT_Train')\n",
    "val_dataset = load_serialized_dataset('RFLCT_Val')\n",
    "\n",
    "train_params, train_fields = next(iter(train_dataloader))\n",
    "val_params, val_fields = next(iter(val_dataloader))\n",
    "\n",
    "print(train_fields.shape)\n",
    "\n",
    "dims = (10,10)\n",
    "#const_scales = np.logspace(0.001, 1, num=dims[0])\n",
    "#RBF_scales = np.logspace(0.001, 1, num=dims[1])\n",
    "const_scales = np.logspace(-1, 1, num=dims[0], base=10)\n",
    "RBF_scales = np.logspace(-1,  1, num=dims[1], base=10)\n",
    "const_scales, RBF_scales = np.meshgrid(const_scales, RBF_scales)\n",
    "\n",
    "\n",
    "score_grid = np.array([])\n",
    "\n",
    "for const_scale,RBF_scale in zip(const_scales.flatten(),RBF_scales.flatten()):\n",
    "\n",
    "    \n",
    "    kernel = ConstantKernel(const_scale, constant_value_bounds=\"fixed\") * RBF(RBF_scale,length_scale_bounds=\"fixed\")\n",
    "    gp = Pipeline([('scaler', StandardScaler()), ('gp', GaussianProcessRegressor(kernel = kernel, normalize_y=True))])\n",
    "\n",
    "    gp.fit(train_params,train_fields.reshape(len(train_fields),-1))\n",
    "\n",
    "    \n",
    "    iter_score = score(gp,val_params,val_fields)\n",
    "    score_grid = np.append(score_grid,iter_score)\n",
    "    print(f'Const:{const_scale}, Length Scale: {RBF_scale}, Score: {iter_score}')\n",
    "\n",
    "score_grid = score_grid.reshape(dims)"
   ]
  },
  {
   "cell_type": "code",
   "execution_count": null,
   "id": "1215df8d",
   "metadata": {},
   "outputs": [],
   "source": [
    "from matplotlib import ticker, cm\n",
    "from ssapp.Utils import FigureSaver\n",
    "\n",
    "\n",
    "\n",
    "fig,ax=plt.subplots(1,1,figsize=(4.5,3.5))\n",
    "print(score_grid.min()+0.5)\n",
    "norm = cm.colors.Normalize(vmax=abs(score_grid).max(), vmin=-abs(score_grid).max())\n",
    "\n",
    "cp = ax.contourf(const_scales,RBF_scales,score_grid,levels = 20,locator=ticker.LogLocator(subs = [0.5,1,2,4]))\n",
    "cb = fig.colorbar(cp)\n",
    "cb.set_label('Validation relRMSE')\n",
    "ax.set_xscale('log')\n",
    "ax.set_yscale('log')\n",
    "ax.set_xlabel(\"Constant Value, $\\sigma_0^2$\")\n",
    "ax.set_ylabel(\"Length Scale, $l$\")\n",
    "ax.set_title(\"Val. Error Contour for CHA-GP, RBF Kernel\")\n",
    "figSaver.save(filename = 'ValidationErrorContourPlotCHA_RBF')"
   ]
  }
 ],
 "metadata": {
  "interpreter": {
   "hash": "782afe0adb43165cec1d9b9577b039717a288993fbf7f77b75fd4e421338de20"
  },
  "kernelspec": {
   "display_name": "Python 3.8.12 ('Kandidatspeciale')",
   "language": "python",
   "name": "python3"
  },
  "language_info": {
   "codemirror_mode": {
    "name": "ipython",
    "version": 3
   },
   "file_extension": ".py",
   "mimetype": "text/x-python",
   "name": "python",
   "nbconvert_exporter": "python",
   "pygments_lexer": "ipython3",
   "version": "3.8.12"
  }
 },
 "nbformat": 4,
 "nbformat_minor": 5
}
