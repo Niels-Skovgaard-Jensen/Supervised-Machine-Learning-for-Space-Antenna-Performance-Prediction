{
 "cells": [
  {
   "cell_type": "code",
   "execution_count": 20,
   "id": "1bed02a3",
   "metadata": {},
   "outputs": [
    {
     "name": "stdout",
     "output_type": "stream",
     "text": [
      "The autoreload extension is already loaded. To reload it, use:\n",
      "  %reload_ext autoreload\n"
     ]
    }
   ],
   "source": [
    "import numpy as np\n",
    "from ssapp.data.AntennaDatasetLoaders import load_serialized_dataset\n",
    "from ssapp.data.Metrics import relRMSE\n",
    "from ssapp.Utils import FigureSaver\n",
    "from torch.utils.data.dataloader import DataLoader\n",
    "from sklearn.gaussian_process import GaussianProcessRegressor\n",
    "from sklearn.gaussian_process.kernels import RBF, ConstantKernel,Matern\n",
    "from sklearn.pipeline import Pipeline\n",
    "from sklearn.preprocessing import StandardScaler\n",
    "from matplotlib import pyplot as plt\n",
    "\n",
    "%matplotlib inline\n",
    "%config InlineBackend.figure_formats = ['svg']\n",
    "%load_ext autoreload\n",
    "%autoreload 2\n",
    "\n",
    "figSaver = FigureSaver('GaussianProcessHyperParameterTuning')\n",
    "\n",
    "dataset_names = ['RFLCT','CircularHornDataset1','PatchAntennaDataset2','MLADataset1']\n",
    "\n",
    "dataset_name = dataset_names[0]\n"
   ]
  },
  {
   "cell_type": "code",
   "execution_count": 21,
   "id": "b744d2c7",
   "metadata": {},
   "outputs": [],
   "source": [
    "train_dataset = load_serialized_dataset(dataset_names[1]+'_Train')\n",
    "val_dataset = load_serialized_dataset(dataset_names[1]+'_Val')\n",
    "\n",
    "train_dataloader = DataLoader(train_dataset,batch_size=len(train_dataset),shuffle=True,num_workers=4)\n",
    "val_dataloader = DataLoader(val_dataset,batch_size=len(val_dataset),shuffle=True,num_workers=4)\n",
    "\n",
    "train_params, train_fields = next(iter(train_dataloader))\n",
    "val_params, val_fields = next(iter(val_dataloader))\n",
    "\n",
    "\n"
   ]
  },
  {
   "cell_type": "code",
   "execution_count": 22,
   "metadata": {},
   "outputs": [
    {
     "name": "stdout",
     "output_type": "stream",
     "text": [
      "torch.Size([2800, 4332])\n"
     ]
    }
   ],
   "source": [
    "print(train_fields.reshape(len(train_fields),-1).shape)"
   ]
  },
  {
   "cell_type": "code",
   "execution_count": 29,
   "id": "b871e96a",
   "metadata": {},
   "outputs": [
    {
     "name": "stdout",
     "output_type": "stream",
     "text": [
      "0.024569714131531736\n",
      "1.3856389933977857\n"
     ]
    }
   ],
   "source": [
    "from sklearn.neighbors import KNeighborsRegressor as KNNRegressor\n",
    "# Import sk learn linear regressor\n",
    "from sklearn.linear_model import LinearRegression as LinearRegression\n",
    "\n",
    "KNNR = KNNRegressor(n_neighbors=30).fit(train_params,train_fields.reshape(len(train_fields),-1))\n",
    "\n",
    "\n",
    "pred = KNNR.predict(val_params)\n",
    "pred_lin = LinReg.predict(val_params)\n",
    "\n",
    "print(relRMSE(val_fields.flatten(),pred.flatten()))\n",
    "print(relRMSE(val_fields.flatten(),pred_lin.flatten()))"
   ]
  },
  {
   "cell_type": "code",
   "execution_count": 39,
   "id": "3c6c1739",
   "metadata": {},
   "outputs": [
    {
     "name": "stdout",
     "output_type": "stream",
     "text": [
      "ReflectorCutDataset2 KNN Regression at 1 NN 1.5027246096330027 0.0\n",
      "ReflectorCutDataset2 1 1.5027246096330027\n",
      "dataset ReflectorCutDataset2 train loss at best num neighbors 1 is 0.0, best remse 1.5027246096330027\n",
      "CircularHornDataset1 KNN Regression at 1 NN 0.024012983852678405 0.0\n",
      "CircularHornDataset1 5 0.018118595447877788\n",
      "dataset CircularHornDataset1 train loss at best num neighbors 5 is 0.01580504536039672, best remse 0.018118595447877788\n",
      "PatchAntennaDataset2 KNN Regression at 1 NN 0.06885656744999483 0.0\n",
      "PatchAntennaDataset2 1 0.06885656744999483\n",
      "dataset PatchAntennaDataset2 train loss at best num neighbors 1 is 0.0, best remse 0.06885656744999483\n",
      "MLADataset1 KNN Regression at 1 NN 0.9440939244864153 0.0\n",
      "MLADataset1 2 0.9394742782853145\n",
      "dataset MLADataset1 train loss at best num neighbors 2 is 0.5243946995245707, best remse 0.9394742782853145\n"
     ]
    }
   ],
   "source": [
    "for dataset_name in dataset_names:\n",
    "    train_dataset = load_serialized_dataset(dataset_name+'_Train')\n",
    "    val_dataset = load_serialized_dataset(dataset_name+'_Val')\n",
    "\n",
    "    train_dataloader = DataLoader(train_dataset,batch_size=len(train_dataset),shuffle=True,num_workers=4)\n",
    "    val_dataloader = DataLoader(val_dataset,batch_size=len(val_dataset),shuffle=True,num_workers=4)\n",
    "\n",
    "    train_params, train_fields = next(iter(train_dataloader))\n",
    "    val_params, val_fields = next(iter(val_dataloader))\n",
    "\n",
    "    best_remse = np.inf\n",
    "    best_num_neighbors = 0\n",
    "    train_loss_at_best_num_neighbors = np.inf\n",
    "\n",
    "\n",
    "    for num_neigh in range(1,20):\n",
    "        \n",
    "        \n",
    "        KNNR = KNNRegressor(n_neighbors=num_neigh).fit(train_params,train_fields.reshape(len(train_fields),-1))\n",
    "        pred = KNNR.predict(val_params)\n",
    "        train_pred = KNNR.predict(train_params)\n",
    "        remse = relRMSE(val_fields.flatten(),pred.flatten())\n",
    "        train_remse = relRMSE(train_fields.flatten(),train_pred.flatten())\n",
    "        if num_neigh == 1:\n",
    "            print(dataset_name,'KNN Regression at 1 NN',remse,train_remse)\n",
    "        if remse < best_remse:\n",
    "            best_remse = remse\n",
    "            best_num_neighbors = num_neigh\n",
    "            train_loss_at_best_num_neighbors = train_remse\n",
    "\n",
    "\n",
    "    print(dataset_name,best_num_neighbors,best_remse)\n",
    "    print(f'dataset {dataset_name} train loss at best num neighbors {best_num_neighbors} is {train_loss_at_best_num_neighbors}, best remse {best_remse}')\n",
    "\n",
    "        "
   ]
  },
  {
   "cell_type": "code",
   "execution_count": 52,
   "id": "3619f97c",
   "metadata": {},
   "outputs": [
    {
     "name": "stdout",
     "output_type": "stream",
     "text": [
      "ReflectorCutDataset2 Dummy Regression 14.975820844124028 14.23430518984844\n",
      "CircularHornDataset1 Dummy Regression 4.866439283831752 4.824529391236859\n",
      "PatchAntennaDataset2 Dummy Regression 0.3212554531030823 0.32438049589787926\n",
      "MLADataset1 Dummy Regression 91.03618168133369 91.78954458662254\n"
     ]
    }
   ],
   "source": [
    "from sklearn.dummy import DummyRegressor\n",
    "for dataset_name in dataset_names:\n",
    "    train_dataset = load_serialized_dataset(dataset_name+'_Train')\n",
    "    val_dataset = load_serialized_dataset(dataset_name+'_Val')\n",
    "\n",
    "    train_dataloader = DataLoader(train_dataset,batch_size=len(train_dataset),shuffle=True,num_workers=4)\n",
    "    val_dataloader = DataLoader(val_dataset,batch_size=len(val_dataset),shuffle=True,num_workers=4)\n",
    "\n",
    "    train_params, train_fields = next(iter(train_dataloader))\n",
    "    val_params, val_fields = next(iter(val_dataloader))\n",
    "\n",
    "    DMR = DummyRegressor(strategy='mean')\n",
    "\n",
    "    DMR.fit(train_params,train_fields.reshape(len(train_fields),-1))\n",
    "\n",
    "    pred = DMR.predict(val_params)\n",
    "    train_pred = DMR.predict(train_params)\n",
    "\n",
    "\n",
    "    remse = relRMSE(val_fields.flatten(),pred.flatten())\n",
    "    train_remse = relRMSE(train_fields.flatten(),train_pred.flatten())\n",
    "\n",
    "    print(dataset_name,'Dummy Regression',remse,train_remse)"
   ]
  }
 ],
 "metadata": {
  "interpreter": {
   "hash": "782afe0adb43165cec1d9b9577b039717a288993fbf7f77b75fd4e421338de20"
  },
  "kernelspec": {
   "display_name": "Python 3.8.12 ('Kandidatspeciale')",
   "language": "python",
   "name": "python3"
  },
  "language_info": {
   "codemirror_mode": {
    "name": "ipython",
    "version": 3
   },
   "file_extension": ".py",
   "mimetype": "text/x-python",
   "name": "python",
   "nbconvert_exporter": "python",
   "pygments_lexer": "ipython3",
   "version": "3.8.12"
  }
 },
 "nbformat": 4,
 "nbformat_minor": 5
}
