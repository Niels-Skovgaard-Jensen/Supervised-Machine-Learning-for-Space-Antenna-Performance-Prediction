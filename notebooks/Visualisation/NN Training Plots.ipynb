{
 "cells": [
  {
   "cell_type": "code",
   "execution_count": null,
   "id": "98e19389",
   "metadata": {},
   "outputs": [],
   "source": [
    "import pandas as pd\n",
    "import numpy as np\n",
    "import matplotlib.pyplot as plt\n",
    "import seaborn as sns\n",
    "from pathlib import Path\n",
    "\n",
    "def get_training_csv_path(csv_name: str,ekstra_back_steps: int = 0):\n",
    "\n",
    "    main_dir = Path().cwd().parents[1+ekstra_back_steps]\n",
    "    models_dir = main_dir / 'models'\n",
    "    subdict_dir = models_dir / 'CSV Training Data'\n",
    "    csv_dir = subdict_dir / csv_name\n",
    "\n",
    "    return csv_dir\n",
    "\n",
    "\n",
    "class CSVLoader():\n",
    "    \"\"\"\n",
    "    Loads the training csv file and returns a pandas dataframe.\n",
    "    \"\"\"\n",
    "    def __init__(self, subfolder):\n",
    "        self.subfolder = subfolder\n",
    "        self.path = get_training_csv_path()\n",
    "\n",
    "    def load(self,name):\n",
    "        \n",
    "        return pd.read_csv(self.path)\n",
    "\n",
    "\n",
    "def load_training_csv(path):\n",
    "    \"\"\"\n",
    "    Loads the training csv file and returns a pandas dataframe.\n",
    "    \"\"\"\n",
    "    return pd.read_csv(path)"
   ]
  }
 ],
 "metadata": {
  "interpreter": {
   "hash": "19454b367d78121c3abb3ee884f0c07fc1b47190a48b98adb60dc2da62b39d5e"
  },
  "kernelspec": {
   "display_name": "Python 3.8.11 64-bit",
   "language": "python",
   "name": "python3"
  },
  "language_info": {
   "codemirror_mode": {
    "name": "ipython",
    "version": 3
   },
   "file_extension": ".py",
   "mimetype": "text/x-python",
   "name": "python",
   "nbconvert_exporter": "python",
   "pygments_lexer": "ipython3",
   "version": "3.8.11"
  }
 },
 "nbformat": 4,
 "nbformat_minor": 5
}
