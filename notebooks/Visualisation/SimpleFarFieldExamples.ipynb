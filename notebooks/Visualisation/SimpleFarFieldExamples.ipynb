{
 "cells": [
  {
   "cell_type": "markdown",
   "id": "2740d848",
   "metadata": {},
   "source": [
    "# This notebook is inteded for making explanatory far field patterns for the introductory EM section"
   ]
  },
  {
   "cell_type": "code",
   "execution_count": null,
   "id": "a70f8058",
   "metadata": {},
   "outputs": [],
   "source": [
    "from matplotlib import pyplot as plt\n",
    "import numpy as np\n",
    "\n",
    "\n"
   ]
  }
 ],
 "metadata": {
  "interpreter": {
   "hash": "19454b367d78121c3abb3ee884f0c07fc1b47190a48b98adb60dc2da62b39d5e"
  },
  "kernelspec": {
   "display_name": "Python 3.8.11 64-bit",
   "language": "python",
   "name": "python3"
  },
  "language_info": {
   "codemirror_mode": {
    "name": "ipython",
    "version": 3
   },
   "file_extension": ".py",
   "mimetype": "text/x-python",
   "name": "python",
   "nbconvert_exporter": "python",
   "pygments_lexer": "ipython3",
   "version": "3.8.11"
  }
 },
 "nbformat": 4,
 "nbformat_minor": 5
}
