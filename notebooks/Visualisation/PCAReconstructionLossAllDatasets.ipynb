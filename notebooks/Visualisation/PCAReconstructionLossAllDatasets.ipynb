{
 "cells": [
  {
   "cell_type": "code",
   "execution_count": null,
   "id": "56e8fa29",
   "metadata": {},
   "outputs": [],
   "source": [
    "from ssapp.data.AntennaDatasetLoaders import load_serialized_dataset\n",
    "\n"
   ]
  },
  {
   "cell_type": "code",
   "execution_count": null,
   "id": "d00aa6cf",
   "metadata": {},
   "outputs": [],
   "source": []
  }
 ],
 "metadata": {
  "interpreter": {
   "hash": "782afe0adb43165cec1d9b9577b039717a288993fbf7f77b75fd4e421338de20"
  },
  "kernelspec": {
   "display_name": "Python 3.8.12 ('Kandidatspeciale')",
   "language": "python",
   "name": "python3"
  },
  "language_info": {
   "codemirror_mode": {
    "name": "ipython",
    "version": 3
   },
   "file_extension": ".py",
   "mimetype": "text/x-python",
   "name": "python",
   "nbconvert_exporter": "python",
   "pygments_lexer": "ipython3",
   "version": "3.8.12"
  }
 },
 "nbformat": 4,
 "nbformat_minor": 5
}
