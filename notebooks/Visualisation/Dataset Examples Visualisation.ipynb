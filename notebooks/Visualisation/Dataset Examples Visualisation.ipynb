{
 "cells": [
  {
   "cell_type": "code",
   "execution_count": 2,
   "id": "f192528c",
   "metadata": {},
   "outputs": [
    {
     "name": "stdout",
     "output_type": "stream",
     "text": [
      "The autoreload extension is already loaded. To reload it, use:\n",
      "  %reload_ext autoreload\n"
     ]
    }
   ],
   "source": [
    "from ssapp.data.AntennaDatasetLoaders import load_serialized_dataset\n",
    "from ssapp.visualization.data_visualisation import plot_dataset_field_example\n",
    "from ssapp.Utils import FigureSaver\n",
    "#----#\n",
    "%matplotlib inline\n",
    "import matplotlib as mpl\n",
    "mpl.rcParams['figure.dpi'] = 300\n",
    "%config InlineBackend.figure_formats = ['png']\n",
    "%load_ext autoreload\n",
    "%autoreload 2\n",
    "#----#\n",
    "\n",
    "\n",
    "figSaver = FigureSaver(subfolder = 'Dataset Examples')\n",
    "\n",
    "\n"
   ]
  },
  {
   "cell_type": "code",
   "execution_count": 3,
   "id": "d0ae98a7",
   "metadata": {},
   "outputs": [
    {
     "ename": "TypeError",
     "evalue": "return arrays must be of ArrayType",
     "output_type": "error",
     "traceback": [
      "\u001b[0;31m---------------------------------------------------------------------------\u001b[0m",
      "\u001b[0;31mTypeError\u001b[0m                                 Traceback (most recent call last)",
      "\u001b[1;32m/zhome/5b/b/127277/Supervised-Machine-Learning-for-Space-Antenna-Performance-Prediction/notebooks/Visualisation/Dataset Examples Visualisation.ipynb Cell 2'\u001b[0m in \u001b[0;36m<cell line: 3>\u001b[0;34m()\u001b[0m\n\u001b[1;32m      <a href='vscode-notebook-cell://ssh-remote%2Blogin1.hpc.dtu.dk/zhome/5b/b/127277/Supervised-Machine-Learning-for-Space-Antenna-Performance-Prediction/notebooks/Visualisation/Dataset%20Examples%20Visualisation.ipynb#ch0000001vscode-remote?line=0'>1</a>\u001b[0m dataset \u001b[39m=\u001b[39m load_serialized_dataset(\u001b[39m'\u001b[39m\u001b[39mPatchAntennaDataset2\u001b[39m\u001b[39m'\u001b[39m)\n\u001b[0;32m----> <a href='vscode-notebook-cell://ssh-remote%2Blogin1.hpc.dtu.dk/zhome/5b/b/127277/Supervised-Machine-Learning-for-Space-Antenna-Performance-Prediction/notebooks/Visualisation/Dataset%20Examples%20Visualisation.ipynb#ch0000001vscode-remote?line=2'>3</a>\u001b[0m plot_dataset_field_example(dataset,\u001b[39m0\u001b[39;49m)\n",
      "File \u001b[0;32m~/Supervised-Machine-Learning-for-Space-Antenna-Performance-Prediction/ssapp/visualization/data_visualisation.py:20\u001b[0m, in \u001b[0;36mplot_dataset_field_example\u001b[0;34m(dataset, idx)\u001b[0m\n\u001b[1;32m     <a href='file:///zhome/5b/b/127277/Supervised-Machine-Learning-for-Space-Antenna-Performance-Prediction/ssapp/visualization/data_visualisation.py?line=15'>16</a>\u001b[0m mag_cross \u001b[39m=\u001b[39m \u001b[39mlambda\u001b[39;00m a,i: \u001b[39m20\u001b[39m\u001b[39m*\u001b[39mnp\u001b[39m.\u001b[39mlog10(a[i,:,:,\u001b[39m2\u001b[39m],a[i,:,:,\u001b[39m3\u001b[39m]) \u001b[39m# -||-, crosspolar\u001b[39;00m\n\u001b[1;32m     <a href='file:///zhome/5b/b/127277/Supervised-Machine-Learning-for-Space-Antenna-Performance-Prediction/ssapp/visualization/data_visualisation.py?line=17'>18</a>\u001b[0m theta \u001b[39m=\u001b[39m np\u001b[39m.\u001b[39mlinspace(\u001b[39m-\u001b[39m\u001b[39m180\u001b[39m,\u001b[39m180\u001b[39m,\u001b[39m361\u001b[39m) \u001b[39m# Generate theta values for x-axis\u001b[39;00m\n\u001b[0;32m---> <a href='file:///zhome/5b/b/127277/Supervised-Machine-Learning-for-Space-Antenna-Performance-Prediction/ssapp/visualization/data_visualisation.py?line=19'>20</a>\u001b[0m \u001b[39mprint\u001b[39m(mag_co(fields,idx))\n\u001b[1;32m     <a href='file:///zhome/5b/b/127277/Supervised-Machine-Learning-for-Space-Antenna-Performance-Prediction/ssapp/visualization/data_visualisation.py?line=20'>21</a>\u001b[0m \u001b[39m# Plots\u001b[39;00m\n\u001b[1;32m     <a href='file:///zhome/5b/b/127277/Supervised-Machine-Learning-for-Space-Antenna-Performance-Prediction/ssapp/visualization/data_visualisation.py?line=21'>22</a>\u001b[0m plt\u001b[39m.\u001b[39mfigure()\n",
      "File \u001b[0;32m~/Supervised-Machine-Learning-for-Space-Antenna-Performance-Prediction/ssapp/visualization/data_visualisation.py:15\u001b[0m, in \u001b[0;36mplot_dataset_field_example.<locals>.<lambda>\u001b[0;34m(a, i)\u001b[0m\n\u001b[1;32m     <a href='file:///zhome/5b/b/127277/Supervised-Machine-Learning-for-Space-Antenna-Performance-Prediction/ssapp/visualization/data_visualisation.py?line=10'>11</a>\u001b[0m params, fields \u001b[39m=\u001b[39m \u001b[39mnext\u001b[39m(\u001b[39miter\u001b[39m(DataLoader(dataset, batch_size\u001b[39m=\u001b[39m\u001b[39mlen\u001b[39m(dataset))))\n\u001b[1;32m     <a href='file:///zhome/5b/b/127277/Supervised-Machine-Learning-for-Space-Antenna-Performance-Prediction/ssapp/visualization/data_visualisation.py?line=12'>13</a>\u001b[0m phi_name \u001b[39m=\u001b[39m [\u001b[39m'\u001b[39m\u001b[39m$\u001b[39m\u001b[39m\\\u001b[39m\u001b[39mphi$ = 0\u001b[39m\u001b[39m\\\u001b[39m\u001b[39mdegree\u001b[39m\u001b[39m'\u001b[39m,\u001b[39m'\u001b[39m\u001b[39m\\\u001b[39m\u001b[39mphi$ = 45\u001b[39m\u001b[39m\\\u001b[39m\u001b[39mdegree\u001b[39m\u001b[39m'\u001b[39m,\u001b[39m'\u001b[39m\u001b[39m\\\u001b[39m\u001b[39mphi$ = 90\u001b[39m\u001b[39m\\\u001b[39m\u001b[39mdegree\u001b[39m\u001b[39m'\u001b[39m]\n\u001b[0;32m---> <a href='file:///zhome/5b/b/127277/Supervised-Machine-Learning-for-Space-Antenna-Performance-Prediction/ssapp/visualization/data_visualisation.py?line=14'>15</a>\u001b[0m mag_co \u001b[39m=\u001b[39m \u001b[39mlambda\u001b[39;00m a,i: \u001b[39m20\u001b[39m\u001b[39m*\u001b[39mnp\u001b[39m.\u001b[39;49mlog10(a[i,:,:,\u001b[39m0\u001b[39;49m],a[i,:,:,\u001b[39m1\u001b[39;49m]) \u001b[39m# Convert fields to dB power plots, copolar\u001b[39;00m\n\u001b[1;32m     <a href='file:///zhome/5b/b/127277/Supervised-Machine-Learning-for-Space-Antenna-Performance-Prediction/ssapp/visualization/data_visualisation.py?line=15'>16</a>\u001b[0m mag_cross \u001b[39m=\u001b[39m \u001b[39mlambda\u001b[39;00m a,i: \u001b[39m20\u001b[39m\u001b[39m*\u001b[39mnp\u001b[39m.\u001b[39mlog10(a[i,:,:,\u001b[39m2\u001b[39m],a[i,:,:,\u001b[39m3\u001b[39m]) \u001b[39m# -||-, crosspolar\u001b[39;00m\n\u001b[1;32m     <a href='file:///zhome/5b/b/127277/Supervised-Machine-Learning-for-Space-Antenna-Performance-Prediction/ssapp/visualization/data_visualisation.py?line=17'>18</a>\u001b[0m theta \u001b[39m=\u001b[39m np\u001b[39m.\u001b[39mlinspace(\u001b[39m-\u001b[39m\u001b[39m180\u001b[39m,\u001b[39m180\u001b[39m,\u001b[39m361\u001b[39m) \u001b[39m# Generate theta values for x-axis\u001b[39;00m\n",
      "\u001b[0;31mTypeError\u001b[0m: return arrays must be of ArrayType"
     ]
    }
   ],
   "source": [
    "dataset = load_serialized_dataset('PatchAntennaDataset2')\n",
    "\n",
    "plot_dataset_field_example(dataset,0)"
   ]
  }
 ],
 "metadata": {
  "interpreter": {
   "hash": "19454b367d78121c3abb3ee884f0c07fc1b47190a48b98adb60dc2da62b39d5e"
  },
  "kernelspec": {
   "display_name": "Python 3.8.11 64-bit",
   "language": "python",
   "name": "python3"
  },
  "language_info": {
   "codemirror_mode": {
    "name": "ipython",
    "version": 3
   },
   "file_extension": ".py",
   "mimetype": "text/x-python",
   "name": "python",
   "nbconvert_exporter": "python",
   "pygments_lexer": "ipython3",
   "version": "3.8.11"
  }
 },
 "nbformat": 4,
 "nbformat_minor": 5
}
