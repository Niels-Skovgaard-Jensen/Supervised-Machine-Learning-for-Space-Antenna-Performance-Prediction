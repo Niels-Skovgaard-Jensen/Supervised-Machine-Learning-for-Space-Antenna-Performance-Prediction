{
 "cells": [
  {
   "cell_type": "code",
   "execution_count": 9,
   "id": "1bed02a3",
   "metadata": {},
   "outputs": [
    {
     "name": "stdout",
     "output_type": "stream",
     "text": [
      "The autoreload extension is already loaded. To reload it, use:\n",
      "  %reload_ext autoreload\n"
     ]
    }
   ],
   "source": [
    "import numpy as np\n",
    "from ssapp.data.AntennaDatasetLoaders import load_serialized_dataset\n",
    "from ssapp.data.Metrics import relRMSE\n",
    "from ssapp.Utils import FigureSaver\n",
    "from torch.utils.data.dataloader import DataLoader\n",
    "from sklearn.gaussian_process import GaussianProcessRegressor\n",
    "from sklearn.pipeline import Pipeline\n",
    "from sklearn.preprocessing import StandardScaler\n",
    "from matplotlib import pyplot as plt\n",
    "from sklearn.gaussian_process.kernels import RBF, ConstantKernel,Matern\n",
    "%matplotlib inline\n",
    "%config InlineBackend.figure_formats = ['png']\n",
    "%load_ext autoreload\n",
    "%autoreload 2\n",
    "\n",
    "figSaver = FigureSaver('GaussianProcessHyperParameterTuning')"
   ]
  },
  {
   "cell_type": "code",
   "execution_count": 2,
   "id": "3d50ec0a",
   "metadata": {},
   "outputs": [
    {
     "name": "stdout",
     "output_type": "stream",
     "text": [
      "<class 'torch.Tensor'>\n"
     ]
    }
   ],
   "source": [
    "train_dataset = load_serialized_dataset('PatchAntennaDataset2_Train',extra_back_steps=1)\n",
    "val_dataset = load_serialized_dataset('PatchAntennaDataset2_Val',extra_back_steps=1)\n",
    "\n",
    "train_dataloader = DataLoader(train_dataset,batch_size=len(train_dataset),shuffle=True,num_workers=4)\n",
    "val_dataloader = DataLoader(val_dataset,batch_size=len(val_dataset),shuffle=True,num_workers=4)\n",
    "\n",
    "train_params, train_fields = next(iter(train_dataloader))\n",
    "val_params, val_fields = next(iter(val_dataloader))\n",
    "\n",
    "print(type(train_fields.float()))\n",
    "\n",
    "kernel = ConstantKernel(1.0, constant_value_bounds=\"fixed\") * RBF(1.0, length_scale_bounds=\"fixed\")\n",
    "\n",
    "std_gp = Pipeline([('scaler', StandardScaler()), ('gp', GaussianProcessRegressor(kernel = kernel, normalize_y=True))])\n",
    "\n",
    "def score(model,x,y):\n",
    "    pred = model.predict(x)\n",
    "    return relRMSE(y.reshape(len(y),-1),pred.reshape(len(pred),-1))\n",
    "\n"
   ]
  },
  {
   "cell_type": "code",
   "execution_count": 3,
   "id": "240e032e",
   "metadata": {},
   "outputs": [
    {
     "name": "stdout",
     "output_type": "stream",
     "text": [
      "2361\n"
     ]
    }
   ],
   "source": [
    "print(len(train_fields))"
   ]
  },
  {
   "cell_type": "code",
   "execution_count": 4,
   "id": "6a598f05",
   "metadata": {},
   "outputs": [],
   "source": [
    "length_scale_sweep = np.linspace(1,20,20)\n",
    "\n",
    "train_loss = []\n",
    "val_loss = []\n",
    "\n",
    "for length_scale in length_scale_sweep:\n",
    "    kernel = ConstantKernel(1.0, constant_value_bounds=\"fixed\") * RBF(length_scale, length_scale_bounds=\"fixed\")\n",
    "\n",
    "    std_gp = Pipeline([('scaler', StandardScaler()), ('gp', GaussianProcessRegressor(kernel = kernel, normalize_y=True))])\n",
    "    std_gp.fit(train_params,train_fields.reshape(len(train_fields),-1))\n",
    "\n",
    "    train_loss.append(score(std_gp,train_params,train_fields))\n",
    "    val_loss.append(score(std_gp,val_params,val_fields))\n",
    "\n"
   ]
  },
  {
   "cell_type": "code",
   "execution_count": 5,
   "id": "76a14ec2",
   "metadata": {},
   "outputs": [
    {
     "name": "stdout",
     "output_type": "stream",
     "text": [
      "Best Val:0.001097979949350578, at length scale:[1.]\n"
     ]
    },
    {
     "data": {
      "image/png": "[encoded data removed]",
      "text/plain": [
       "<Figure size 360x216 with 1 Axes>"
      ]
     },
     "metadata": {
      "needs_background": "light"
     },
     "output_type": "display_data"
    }
   ],
   "source": [
    "plt.figure(figsize = (5,3))\n",
    "plt.plot(length_scale_sweep,train_loss,label = 'Training Loss',linewidth = 3)\n",
    "plt.plot(length_scale_sweep,val_loss,label = 'Validation Loss',linewidth = 3)\n",
    "#plt.xscale('log')\n",
    "plt.yscale('log')\n",
    "plt.xlim([0,max(length_scale_sweep)])\n",
    "plt.grid()\n",
    "plt.title('Gaussian Process relRMSE v RBF Length Scale')\n",
    "plt.xlabel('RBF Length Scale')\n",
    "plt.ylabel('relRMSE')\n",
    "\n",
    "plt.legend()\n",
    "best_val = length_scale_sweep[val_loss == min(val_loss)]\n",
    "print(f'Best Val:{min(val_loss)}, at length scale:{best_val}')\n",
    "#figSaver.save(filename = 'RBF_Length_scale_error')"
   ]
  },
  {
   "cell_type": "code",
   "execution_count": 31,
   "id": "e70f5df3",
   "metadata": {},
   "outputs": [
    {
     "name": "stderr",
     "output_type": "stream",
     "text": [
      "c:\\users\\niels\\documents\\github\\supervised-machine-learning-for-space-antenna-performance-prediction\\ssapp\\data\\Metrics.py:23: RuntimeWarning: invalid value encountered in double_scalars\n",
      "  return np.sqrt(nomin / denom)\n"
     ]
    },
    {
     "data": {
      "text/plain": [
       "array([3.16631579])"
      ]
     },
     "execution_count": 31,
     "metadata": {},
     "output_type": "execute_result"
    },
    {
     "data": {
      "image/png": "[encoded data removed]",
      "text/plain": [
       "<Figure size 432x288 with 1 Axes>"
      ]
     },
     "metadata": {
      "needs_background": "light"
     },
     "output_type": "display_data"
    }
   ],
   "source": [
    "ConstVals = np.linspace(0.01,20,20)\n",
    "\n",
    "train_loss = []\n",
    "val_loss = []\n",
    "\n",
    "for ConstVal in ConstVals:\n",
    "    kernel = ConstantKernel(0.5, constant_value_bounds=\"fixed\") * Matern(length_scale = 5, nu = ConstVal,length_scale_bounds=\"fixed\")\n",
    "\n",
    "    std_gp = Pipeline([('scaler', StandardScaler()), ('gp', GaussianProcessRegressor(kernel = kernel, normalize_y=True))])\n",
    "    std_gp.fit(train_params,train_fields.reshape(len(train_fields),-1))\n",
    "\n",
    "    train_loss.append(score(std_gp,train_params,train_fields))\n",
    "    val_loss.append(score(std_gp,val_params,val_fields))\n",
    "\n",
    "plt.figure()\n",
    "plt.plot(ConstVals,train_loss,label = 'Training Loss')\n",
    "plt.plot(ConstVals,val_loss,label = 'Validation Loss')\n",
    "plt.xlabel('ConstantKernel Length Scale')\n",
    "ConstVals[val_loss == min(val_loss)]"
   ]
  },
  {
   "cell_type": "code",
   "execution_count": 36,
   "id": "cf5767c8",
   "metadata": {},
   "outputs": [
    {
     "name": "stdout",
     "output_type": "stream",
     "text": [
      "Training loss: 3.417e-05\n",
      "Validation loss: 8.819e-04\n"
     ]
    }
   ],
   "source": [
    "kernel = ConstantKernel(0.5, constant_value_bounds=\"fixed\") * RBF(5, length_scale_bounds=\"fixed\")\n",
    "kernel = ConstantKernel(0.5, constant_value_bounds=\"fixed\") * Matern(length_scale= 5,nu=3.3, length_scale_bounds=\"fixed\")\n",
    "\n",
    "std_gp = Pipeline([('scaler', StandardScaler()), ('gp', GaussianProcessRegressor(kernel = kernel, normalize_y=True,alpha=1e-10))])\n",
    "std_gp.fit(train_params,train_fields.reshape(len(train_fields),-1))\n",
    "\n",
    "print(f'Training loss: {score(std_gp,train_params,train_fields):.3e}')\n",
    "print(f'Validation loss: {score(std_gp,val_params,val_fields):.3e}')"
   ]
  },
  {
   "cell_type": "code",
   "execution_count": null,
   "id": "de54758d",
   "metadata": {},
   "outputs": [],
   "source": []
  },
  {
   "cell_type": "code",
   "execution_count": null,
   "id": "44a727f7",
   "metadata": {},
   "outputs": [],
   "source": [
    "from matplotlib.colors import LogNorm\n",
    "train_dataloader, val_dataloader = train_test_dataloader_split(dataset,batch_size = None,TRAIN_TEST_RATIO=0.07)\n",
    "train_params, train_fields = next(iter(train_dataloader))\n",
    "val_params, val_fields = next(iter(val_dataloader))\n",
    "\n",
    "\n",
    "\n",
    "gp =  GaussianProcessRegressor(kernel = kernel, normalize_y=True)\n",
    "\n",
    "dims = (10,10)\n",
    "#const_scales = np.logspace(0.001, 1, num=dims[0])\n",
    "#RBF_scales = np.logspace(0.001, 1, num=dims[1])\n",
    "const_scales = np.logspace(0.01, 1.1, num=dims[0], base=10)-1\n",
    "RBF_scales = np.logspace(0.01,  1.1, num=dims[1], base=10)-1\n",
    "const_scales, RBF_scales = np.meshgrid(const_scales, RBF_scales)\n",
    "\n",
    "\n",
    "score_grid = np.array([])\n",
    "\n",
    "for const_scale,RBF_scale in zip(const_scales.flatten(),RBF_scales.flatten()):\n",
    "\n",
    "    \n",
    "    kernel = ConstantKernel(const_scale, constant_value_bounds=\"fixed\") * RBF(RBF_scale,length_scale_bounds=\"fixed\")\n",
    "    gp =  GaussianProcessRegressor(kernel = kernel, normalize_y=True)\n",
    "\n",
    "    gp.fit(train_params,train_fields.reshape(len(train_fields),-1))\n",
    "\n",
    "    \n",
    "    iter_score = score(gp,val_params,val_fields)\n",
    "    score_grid = np.append(score_grid,iter_score)\n",
    "    print(f'Const:{const_scale}, Length Scale: {RBF_scale}, Score: {iter_score}')\n",
    "\n",
    "score_grid = score_grid.reshape(dims)"
   ]
  },
  {
   "cell_type": "code",
   "execution_count": null,
   "id": "158c126f",
   "metadata": {},
   "outputs": [],
   "source": [
    "from matplotlib import ticker, cm\n",
    "from ssapp.Utils import FigureSaver\n",
    "\n",
    "\n",
    "\n",
    "fig,ax=plt.subplots(1,1)\n",
    "print(score_grid.min()+0.5)\n",
    "norm = cm.colors.Normalize(vmax=abs(score_grid).max(), vmin=-abs(score_grid).max())\n",
    "\n",
    "cp = ax.contourf(const_scales,RBF_scales,score_grid*100,levels = 20,locator=ticker.LogLocator(subs = [0.5,1,2,4]))\n",
    "cb = fig.colorbar(cp)\n",
    "cb.set_label('Validation relRMSE [%]')\n",
    "ax.set_xscale('log')\n",
    "ax.set_yscale('log')\n",
    "ax.axvline(1,c='r',linestyle = '--')\n",
    "ax.set_xlabel(\"Constant Value, $\\sigma_0$\")\n",
    "ax.set_ylabel(\"Length Scale, $l$\")\n",
    "ax.set_title(\"Validation Error Contour for GP with RBF Kernel\")\n",
    "plt.tight_layout()\n",
    "plt.show()\n",
    "figSaver.save(filename = 'ValidationErrorContourPlot_RBF')"
   ]
  },
  {
   "cell_type": "code",
   "execution_count": null,
   "id": "3e4724c3",
   "metadata": {},
   "outputs": [],
   "source": [
    "\n",
    "from matplotlib.colors import LogNorm\n",
    "train_dataloader, val_dataloader = train_test_dataloader_split(dataset,batch_size = None,TRAIN_TEST_RATIO=0.07)\n",
    "train_params, train_fields = next(iter(train_dataloader))\n",
    "val_params, val_fields = next(iter(val_dataloader))\n",
    "\n",
    "\n",
    "\n",
    "gp =  GaussianProcessRegressor(kernel = kernel, normalize_y=True)\n",
    "\n",
    "dims = (10,10)\n",
    "#const_scales = np.logspace(0.001, 1, num=dims[0])\n",
    "#RBF_scales = np.logspace(0.001, 1, num=dims[1])\n",
    "length_scales = np.logspace(0.1, 1.5, num=dims[0], base=10)-1\n",
    "Nu_scales = np.logspace(0.1,  1.5, num=dims[1], base=10)-1\n",
    "length_scales, Nu_scales = np.meshgrid(length_scales, Nu_scales)\n",
    "\n",
    "\n",
    "score_grid = np.array([])\n",
    "\n",
    "for length_scale,Nu_scale in zip(length_scales.flatten(),Nu_scales.flatten()):\n",
    "\n",
    "    \n",
    "    kernel = ConstantKernel(1, constant_value_bounds=\"fixed\") * Matern(length_scale=length_scale,length_scale_bounds='fixed',nu=Nu_scale)\n",
    "\n",
    "    gp = Pipeline([('scaler', StandardScaler()), ('gp', GaussianProcessRegressor(kernel = kernel, normalize_y=True))])\n",
    "    gp.fit(train_params,train_fields.reshape(len(train_fields),-1))\n",
    "\n",
    "    \n",
    "    iter_score = score(gp,val_params,val_fields)\n",
    "    score_grid = np.append(score_grid,iter_score)\n",
    "    print(f'Length Scale:{length_scale}, Nu: {Nu_scale}, Score: {iter_score}')\n",
    "\n",
    "score_grid = score_grid.reshape(dims)"
   ]
  },
  {
   "cell_type": "code",
   "execution_count": null,
   "id": "b3478a74",
   "metadata": {},
   "outputs": [],
   "source": [
    "\n",
    "fig,ax=plt.subplots(1,1)\n",
    "print(score_grid.min()+0.5)\n",
    "norm = cm.colors.Normalize(vmax=abs(score_grid).max(), vmin=-abs(score_grid).max())\n",
    "\n",
    "cp = ax.contourf(Nu_scales,length_scales,score_grid*100,levels = 20,locator=ticker.LogLocator(subs = [0.5,1,2]))\n",
    "cb = fig.colorbar(cp)\n",
    "cb.set_label('Validation relRMSE [%]')\n",
    "ax.set_xscale('log')\n",
    "ax.set_yscale('log')\n",
    "ax.set_xlabel(r\" $ \\nu$\")\n",
    "ax.set_ylabel(\"Length Scale, $l$\")\n",
    "ax.set_title(\"Validation Error Contour for GP with Matern Kernel\")\n",
    "\n",
    "\n",
    "\n",
    "\n",
    "\n",
    "ind = np.unravel_index(np.argmin(score_grid, axis=None), score_grid.shape)\n",
    "\n",
    "best_length_scale = length_scales[ind]\n",
    "best_Nu_scales = Nu_scales[ind]\n",
    "ax.scatter(best_Nu_scales,best_length_scale,marker = 'x',c='r')\n",
    "ax.annotate(f'Best Error: {100*score_grid[ind]:.3f}%', (best_Nu_scales+0.2,best_length_scale),c='w')\n",
    "plt.tight_layout()\n",
    "plt.show()\n",
    "\n",
    "figSaver.save(filename = 'ValidationErrorContourPlot_Matern')"
   ]
  },
  {
   "cell_type": "code",
   "execution_count": null,
   "id": "964f5c44",
   "metadata": {},
   "outputs": [],
   "source": [
    "kernel = ConstantKernel(1, constant_value_bounds=\"fixed\") * Matern(length_scale=best_length_scale,length_scale_bounds='fixed',nu=best_Nu_scales)\n",
    "\n",
    "gp = Pipeline([('scaler', StandardScaler()), ('gp', GaussianProcessRegressor(kernel = kernel, normalize_y=True))])\n",
    "gp.fit(train_params,train_fields.reshape(len(train_fields),-1))\n",
    "\n",
    "    \n",
    "iter_score = score(gp,val_params,val_fields)\n",
    "score_grid = np.append(score_grid,iter_score)\n",
    "print(f'Length Scale:{best_length_scale}, Nu: {best_Nu_scales}, Score: {iter_score}')"
   ]
  },
  {
   "cell_type": "code",
   "execution_count": null,
   "id": "c1b119cb",
   "metadata": {},
   "outputs": [],
   "source": [
    "dims = (5,5)\n",
    "#const_scales = np.logspace(0.001, 1, num=dims[0])\n",
    "#RBF_scales = np.logspace(0.001, 1, num=dims[1])\n",
    "length_scales = np.linspace(0.4, 1.5, num=dims[0])\n",
    "Nu_scales = np.linspace(5,  10, num=dims[1])\n",
    "length_scales, Nu_scales = np.meshgrid(length_scales, Nu_scales)\n",
    "\n",
    "\n",
    "score_grid = np.array([])\n",
    "\n",
    "for length_scale,Nu_scale in zip(length_scales.flatten(),Nu_scales.flatten()):\n",
    "\n",
    "    \n",
    "    kernel = ConstantKernel(1, constant_value_bounds=\"fixed\") * Matern(length_scale=length_scale,length_scale_bounds='fixed',nu=Nu_scale)\n",
    "\n",
    "    gp = Pipeline([('scaler', StandardScaler()), ('gp', GaussianProcessRegressor(kernel = kernel, normalize_y=True))])\n",
    "    gp.fit(train_params,train_fields.reshape(len(train_fields),-1))\n",
    "\n",
    "    \n",
    "    iter_score = score(gp,val_params,val_fields)\n",
    "    score_grid = np.append(score_grid,iter_score)\n",
    "    print(f'Length Scale:{length_scale}, Nu: {Nu_scale}, Score: {iter_score}')\n",
    "\n",
    "\n",
    "score_grid = score_grid.reshape(dims)\n"
   ]
  },
  {
   "cell_type": "code",
   "execution_count": null,
   "id": "0f767172",
   "metadata": {},
   "outputs": [],
   "source": [
    "fig,ax=plt.subplots(1,1)\n",
    "print(score_grid.min()+0.5)\n",
    "norm = cm.colors.Normalize(vmax=abs(score_grid).max(), vmin=-abs(score_grid).max())\n",
    "\n",
    "cp = ax.contourf(Nu_scales,length_scales,score_grid*100,levels = 20,locator=ticker.LogLocator(subs = [0.5,1,2]))\n",
    "cb = fig.colorbar(cp)\n",
    "cb.set_label('Validation relRMSE [%]')\n",
    "\n",
    "ax.set_xlabel(r\" $ \\nu$\")\n",
    "ax.set_ylabel(\"Length Scale, $l$\")\n",
    "ax.set_title(\"Validation Error Contour for GP with Matern Kernel\")\n",
    "\n",
    "figSaver.save(filename = 'ValidationErrorContourPlot_Matern')\n",
    "\n",
    "\n",
    "\n",
    "ind = np.unravel_index(np.argmin(score_grid, axis=None), score_grid.shape)\n",
    "\n",
    "best_length_scale = length_scales[ind]\n",
    "best_Nu_scales = Nu_scales[ind]\n",
    "ax.scatter(best_Nu_scales,best_length_scale,marker = 'x',c='r')\n",
    "\n",
    "plt.tight_layout()\n",
    "plt.show()"
   ]
  },
  {
   "cell_type": "code",
   "execution_count": null,
   "id": "b4d56fee",
   "metadata": {},
   "outputs": [],
   "source": [
    "def runge_"
   ]
  }
 ],
 "metadata": {
  "interpreter": {
   "hash": "782afe0adb43165cec1d9b9577b039717a288993fbf7f77b75fd4e421338de20"
  },
  "kernelspec": {
   "display_name": "Python 3.8.12 ('Kandidatspeciale')",
   "language": "python",
   "name": "python3"
  },
  "language_info": {
   "codemirror_mode": {
    "name": "ipython",
    "version": 3
   },
   "file_extension": ".py",
   "mimetype": "text/x-python",
   "name": "python",
   "nbconvert_exporter": "python",
   "pygments_lexer": "ipython3",
   "version": "3.8.12"
  }
 },
 "nbformat": 4,
 "nbformat_minor": 5
}
