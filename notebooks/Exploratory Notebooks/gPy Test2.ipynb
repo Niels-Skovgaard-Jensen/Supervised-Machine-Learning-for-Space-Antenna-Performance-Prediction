{
 "cells": [
  {
   "cell_type": "code",
   "execution_count": 11,
   "id": "e06c2396",
   "metadata": {},
   "outputs": [
    {
     "name": "stdout",
     "output_type": "stream",
     "text": [
      "The autoreload extension is already loaded. To reload it, use:\n",
      "  %reload_ext autoreload\n"
     ]
    }
   ],
   "source": [
    "import math\n",
    "import torch\n",
    "import gpytorch\n",
    "from gpytorch.models.gplvm import bayesian_gplvm\n",
    "from matplotlib import pyplot as plt\n",
    "from ssapp.data.AntennaDatasetLoaders import load_serialized_dataset, set_global_random_seed\n",
    "from ssapp.Utils import train_test_data_split\n",
    "from torch.utils.data.dataloader import DataLoader\n",
    "%matplotlib inline\n",
    "%load_ext autoreload\n",
    "%autoreload 2"
   ]
  },
  {
   "cell_type": "code",
   "execution_count": 12,
   "id": "ebe5b1e1",
   "metadata": {},
   "outputs": [
    {
     "name": "stdout",
     "output_type": "stream",
     "text": [
      "torch.Size([240, 3]) torch.Size([240, 2])\n"
     ]
    }
   ],
   "source": [
    "set_global_random_seed(42)\n",
    "\n",
    "dataset = load_serialized_dataset('PatchAntennaDataset1')\n",
    "train_dataset,test_dataset = train_test_data_split(dataset)\n",
    "train_dataloader = DataLoader(train_dataset,batch_size = len(train_dataset))\n",
    "test_dataloader = DataLoader(test_dataset,batch_size = len(test_dataset))\n",
    "\n",
    "train_parameters, train_fields = next(iter(train_dataloader))\n",
    "\n",
    "train_parameters = train_parameters.reshape(len(train_parameters),-1)\n",
    "train_parameters = train_parameters.float()\n",
    "\n",
    "\n",
    "train_fields = train_fields.reshape(len(train_fields),-1)\n",
    "\n",
    "\n",
    "\n",
    "test_parameters, test_fields = next(iter(test_dataloader))\n",
    "\n",
    "test_parameters = test_parameters.float()\n",
    "test_fields = test_fields.reshape(len(test_fields),-1)\n",
    "\n",
    "\n",
    "N_DIM = 2\n",
    "train_fields = train_fields[:,0:N_DIM]\n",
    "test_fields = test_fields[:,0:N_DIM]\n",
    "print(train_parameters.shape, train_fields.shape)"
   ]
  },
  {
   "cell_type": "code",
   "execution_count": null,
   "id": "fc3e71b1",
   "metadata": {},
   "outputs": [],
   "source": []
  },
  {
   "cell_type": "code",
   "execution_count": 13,
   "id": "1f4f9d8b",
   "metadata": {},
   "outputs": [
    {
     "name": "stdout",
     "output_type": "stream",
     "text": [
      "torch.Size([240, 3])\n"
     ]
    }
   ],
   "source": [
    "class BatchIndependentMultitaskGPModel(gpytorch.models.ExactGP):\n",
    "    def __init__(self, train_x, train_y, likelihood):\n",
    "        super().__init__(train_x, train_y, likelihood)\n",
    "\n",
    "        BATCH_SHAPE = torch.Size([N_DIM])\n",
    "        self.mean_module = gpytorch.means.ConstantMean(batch_shape=BATCH_SHAPE)\n",
    "        self.covar_module = gpytorch.kernels.ScaleKernel(\n",
    "            gpytorch.kernels.RBFKernel(batch_shape=BATCH_SHAPE),\n",
    "            batch_shape=BATCH_SHAPE\n",
    "        )\n",
    "\n",
    "    def forward(self, x):\n",
    "        mean_x = self.mean_module(x)\n",
    "        covar_x = self.covar_module(x)\n",
    "        return gpytorch.distributions.MultitaskMultivariateNormal.from_batch_mvn(\n",
    "            gpytorch.distributions.MultivariateNormal(mean_x, covar_x)\n",
    "        )\n",
    "\n",
    "\n",
    "print(train_parameters.shape)\n",
    "\n",
    "likelihood = gpytorch.likelihoods.MultitaskGaussianLikelihood(num_tasks=N_DIM)\n",
    "model = BatchIndependentMultitaskGPModel(train_parameters.float(), train_fields.float(), likelihood)\n"
   ]
  },
  {
   "cell_type": "code",
   "execution_count": 14,
   "id": "c6bcf2e1",
   "metadata": {},
   "outputs": [
    {
     "name": "stderr",
     "output_type": "stream",
     "text": [
      "c:\\Users\\Niels\\.conda\\envs\\Kandidatspeciale\\lib\\site-packages\\gpytorch\\lazy\\triangular_lazy_tensor.py:130: UserWarning: torch.triangular_solve is deprecated in favor of torch.linalg.solve_triangularand will be removed in a future PyTorch release.\n",
      "torch.linalg.solve_triangular has its arguments reversed and does not return a copy of one of the inputs.\n",
      "X = torch.triangular_solve(B, A).solution\n",
      "should be replaced with\n",
      "X = torch.linalg.solve_triangular(A, B). (Triggered internally at  C:\\actions-runner\\_work\\pytorch\\pytorch\\builder\\windows\\pytorch\\aten\\src\\ATen\\native\\BatchLinearAlgebra.cpp:1672.)\n",
      "  res = torch.triangular_solve(right_tensor, self.evaluate(), upper=self.upper).solution\n"
     ]
    },
    {
     "name": "stdout",
     "output_type": "stream",
     "text": [
      "Iter 1/50 - Loss: 1.173\n",
      "Iter 2/50 - Loss: 1.132\n",
      "Iter 3/50 - Loss: 1.090\n",
      "Iter 4/50 - Loss: 1.048\n",
      "Iter 5/50 - Loss: 1.005\n",
      "Iter 6/50 - Loss: 0.961\n",
      "Iter 7/50 - Loss: 0.917\n",
      "Iter 8/50 - Loss: 0.873\n",
      "Iter 9/50 - Loss: 0.828\n",
      "Iter 10/50 - Loss: 0.783\n",
      "Iter 11/50 - Loss: 0.737\n",
      "Iter 12/50 - Loss: 0.691\n",
      "Iter 13/50 - Loss: 0.645\n",
      "Iter 14/50 - Loss: 0.597\n",
      "Iter 15/50 - Loss: 0.550\n",
      "Iter 16/50 - Loss: 0.502\n",
      "Iter 17/50 - Loss: 0.454\n",
      "Iter 18/50 - Loss: 0.405\n",
      "Iter 19/50 - Loss: 0.356\n",
      "Iter 20/50 - Loss: 0.306\n",
      "Iter 21/50 - Loss: 0.257\n",
      "Iter 22/50 - Loss: 0.206\n",
      "Iter 23/50 - Loss: 0.156\n",
      "Iter 24/50 - Loss: 0.105\n",
      "Iter 25/50 - Loss: 0.054\n",
      "Iter 26/50 - Loss: 0.003\n",
      "Iter 27/50 - Loss: -0.048\n",
      "Iter 28/50 - Loss: -0.100\n",
      "Iter 29/50 - Loss: -0.151\n",
      "Iter 30/50 - Loss: -0.203\n",
      "Iter 31/50 - Loss: -0.255\n",
      "Iter 32/50 - Loss: -0.307\n",
      "Iter 33/50 - Loss: -0.359\n",
      "Iter 34/50 - Loss: -0.412\n",
      "Iter 35/50 - Loss: -0.464\n",
      "Iter 36/50 - Loss: -0.516\n",
      "Iter 37/50 - Loss: -0.569\n",
      "Iter 38/50 - Loss: -0.621\n",
      "Iter 39/50 - Loss: -0.673\n",
      "Iter 40/50 - Loss: -0.726\n",
      "Iter 41/50 - Loss: -0.778\n",
      "Iter 42/50 - Loss: -0.830\n",
      "Iter 43/50 - Loss: -0.882\n",
      "Iter 44/50 - Loss: -0.934\n",
      "Iter 45/50 - Loss: -0.986\n",
      "Iter 46/50 - Loss: -1.037\n",
      "Iter 47/50 - Loss: -1.089\n",
      "Iter 48/50 - Loss: -1.140\n",
      "Iter 49/50 - Loss: -1.191\n",
      "Iter 50/50 - Loss: -1.242\n"
     ]
    }
   ],
   "source": [
    "\n",
    "# Find optimal model hyperparameters\n",
    "model.train()\n",
    "likelihood.train()\n",
    "\n",
    "# Use the adam optimizer\n",
    "optimizer = torch.optim.Adam(model.parameters(), lr=0.1)  # Includes GaussianLikelihood parameters\n",
    "\n",
    "training_iterations  = 50\n",
    "\n",
    "# \"Loss\" for GPs - the marginal log likelihood\n",
    "mll = gpytorch.mlls.ExactMarginalLogLikelihood(likelihood, model)\n",
    "\n",
    "for i in range(training_iterations):\n",
    "    optimizer.zero_grad()\n",
    "\n",
    "    output = model(train_parameters)\n",
    "\n",
    "    loss = -mll(output, train_fields.float())\n",
    "    loss.backward()\n",
    "    print('Iter %d/%d - Loss: %.3f' % (i + 1, training_iterations, loss.item()))\n",
    "    optimizer.step()\n",
    "\n"
   ]
  },
  {
   "cell_type": "code",
   "execution_count": 18,
   "id": "a22fae84",
   "metadata": {},
   "outputs": [
    {
     "name": "stderr",
     "output_type": "stream",
     "text": [
      "C:\\Users\\Niels\\AppData\\Local\\Temp/ipykernel_194504/818858518.py:15: UserWarning: To copy construct from a tensor, it is recommended to use sourceTensor.clone().detach() or sourceTensor.clone().detach().requires_grad_(True), rather than torch.tensor(sourceTensor).\n",
      "  relRMSE_pytorch(torch.tensor(mean),train_fields)\n"
     ]
    },
    {
     "data": {
      "text/plain": [
       "[<matplotlib.lines.Line2D at 0x298e1f6dd00>]"
      ]
     },
     "execution_count": 18,
     "metadata": {},
     "output_type": "execute_result"
    },
    {
     "data": {
      "image/png": "[encoded data removed]",
      "text/plain": [
       "<Figure size 432x288 with 1 Axes>"
      ]
     },
     "metadata": {
      "needs_background": "light"
     },
     "output_type": "display_data"
    }
   ],
   "source": [
    "from ssapp.data.Metrics import relRMSE_pytorch\n",
    "# Set into eval mode\n",
    "model.train()\n",
    "likelihood.train()\n",
    "\n",
    "# Make predictions\n",
    "with torch.no_grad():\n",
    "\n",
    "    output = model(train_parameters)\n",
    "    predictions = likelihood(output)\n",
    "    mean = predictions.mean\n",
    "    lower, upper = predictions.confidence_region()\n",
    "\n",
    "\n",
    "relRMSE_pytorch(torch.tensor(mean),train_fields)\n",
    "\n",
    "\n",
    "from matplotlib import pyplot as plt\n",
    "\n",
    "plt.figure()\n",
    "plt.plot(mean[:,0])\n",
    "plt.plot(train_fields[:,0])"
   ]
  }
 ],
 "metadata": {
  "interpreter": {
   "hash": "782afe0adb43165cec1d9b9577b039717a288993fbf7f77b75fd4e421338de20"
  },
  "kernelspec": {
   "display_name": "Python 3.8.12 ('Kandidatspeciale')",
   "language": "python",
   "name": "python3"
  },
  "language_info": {
   "codemirror_mode": {
    "name": "ipython",
    "version": 3
   },
   "file_extension": ".py",
   "mimetype": "text/x-python",
   "name": "python",
   "nbconvert_exporter": "python",
   "pygments_lexer": "ipython3",
   "version": "3.8.12"
  }
 },
 "nbformat": 4,
 "nbformat_minor": 5
}
