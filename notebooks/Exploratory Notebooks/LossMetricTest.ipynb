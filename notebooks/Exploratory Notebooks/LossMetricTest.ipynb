{
 "cells": [
  {
   "cell_type": "code",
   "execution_count": 15,
   "id": "d00e0c90",
   "metadata": {},
   "outputs": [
    {
     "name": "stdout",
     "output_type": "stream",
     "text": [
      "The autoreload extension is already loaded. To reload it, use:\n",
      "  %reload_ext autoreload\n"
     ]
    }
   ],
   "source": [
    "from ssapp.data.Metrics import relRMSEComplex\n",
    "from ssapp.data.AntennaDatasetLoaders import PatchAntennaDataset\n",
    "from torch.utils.data.dataloader import DataLoader\n",
    "import numpy as np\n",
    "%load_ext autoreload\n",
    "%autoreload 2\n",
    "dataset = PatchAntennaDataset()\n"
   ]
  },
  {
   "cell_type": "code",
   "execution_count": 73,
   "id": "3d8236c4",
   "metadata": {},
   "outputs": [
    {
     "name": "stdout",
     "output_type": "stream",
     "text": [
      "<class 'torch.Tensor'>\n",
      "(343, 361, 3, 2)\n",
      "(2,)\n",
      "[0. 0.]\n",
      "[-0. -0.]\n"
     ]
    }
   ],
   "source": [
    "data = DataLoader(dataset=dataset, batch_size = len(dataset))\n",
    "\n",
    "params,fields = next(iter(data))\n",
    "print(type(fields))\n",
    "\n",
    "test_field = fields\n",
    "pred_field = np.array(fields).view(dtype=np.complex128)\n",
    "pred_field = pred_field\n",
    "\n",
    "\n",
    "loss = relRMSEComplex(pred_field,test_field)\n",
    "print(loss.shape)\n",
    "print(np.abs(loss))\n",
    "\n",
    "print(np.angle(loss))"
   ]
  }
 ],
 "metadata": {
  "kernelspec": {
   "display_name": "Python 3 (ipykernel)",
   "language": "python",
   "name": "python3"
  },
  "language_info": {
   "codemirror_mode": {
    "name": "ipython",
    "version": 3
   },
   "file_extension": ".py",
   "mimetype": "text/x-python",
   "name": "python",
   "nbconvert_exporter": "python",
   "pygments_lexer": "ipython3",
   "version": "3.8.12"
  }
 },
 "nbformat": 4,
 "nbformat_minor": 5
}
