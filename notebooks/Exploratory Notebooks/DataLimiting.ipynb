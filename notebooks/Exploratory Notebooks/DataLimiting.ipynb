{
 "cells": [
  {
   "cell_type": "code",
   "execution_count": 13,
   "id": "1bed02a3",
   "metadata": {},
   "outputs": [],
   "source": [
    "import numpy as np\n",
    "from ssapp.data.AntennaDatasetLoaders import load_serialized_dataset\n",
    "from ssapp.data.Metrics import relRMSE\n",
    "from ssapp.Utils import train_test_dataloader_split\n",
    "from torch.utils.data.dataloader import DataLoader\n",
    "from sklearn.gaussian_process import GaussianProcessRegressor\n",
    "from sklearn.pipeline import Pipeline\n",
    "from sklearn.preprocessing import StandardScaler\n",
    "from matplotlib import pyplot as plt\n",
    "\n"
   ]
  },
  {
   "cell_type": "code",
   "execution_count": 14,
   "id": "3d50ec0a",
   "metadata": {},
   "outputs": [
    {
     "data": {
      "text/plain": [
       "0.0036957274979061215"
      ]
     },
     "execution_count": 14,
     "metadata": {},
     "output_type": "execute_result"
    }
   ],
   "source": [
    "dataset = load_serialized_dataset('CircularHornDataset1')\n",
    "\n",
    "train_dataloader, val_dataloader = train_test_dataloader_split(dataset,batch_size = None,TRAIN_TEST_RATIO=0.7)\n",
    "\n",
    "train_params, train_fields = next(iter(train_dataloader))\n",
    "\n",
    "std_gp = Pipeline([('scaler', StandardScaler()), ('gp', GaussianProcessRegressor())])\n",
    "\n",
    "def score(model,x,y):\n",
    "    pred = model.predict(x)\n",
    "    return relRMSE(y.reshape(len(y),-1),pred.reshape(len(pred),-1))\n"
   ]
  },
  {
   "cell_type": "code",
   "execution_count": 22,
   "id": "ef39d316",
   "metadata": {},
   "outputs": [],
   "source": []
  },
  {
   "cell_type": "code",
   "execution_count": 20,
   "id": "44a727f7",
   "metadata": {},
   "outputs": [],
   "source": [
    "test_ratios =  np.linspace(0.01,0.99,20)\n",
    "training_size = []\n",
    "train_loss = []\n",
    "val_loss = []\n",
    "\n",
    "\n",
    "\n",
    "for idx,test_ratio in enumerate(test_ratios):\n",
    "    train_dataloader, val_dataloader = train_test_dataloader_split(dataset,batch_size = None,TRAIN_TEST_RATIO=test_ratio)\n",
    "    train_params, train_fields = next(iter(train_dataloader))\n",
    "    training_size.append(len(train_params))\n",
    "    val_params, val_fields = next(iter(val_dataloader))\n",
    "    std_gp.fit(train_params,train_fields.reshape(len(train_fields),-1))\n",
    "\n",
    "    train_loss.append(score(std_gp,train_params,train_fields))\n",
    "    val_loss.append(score(std_gp,val_params,val_fields))\n",
    "    print(idx/len(test_ratios))\n"
   ]
  },
  {
   "cell_type": "code",
   "execution_count": 21,
   "id": "df9193a6",
   "metadata": {},
   "outputs": [
    {
     "data": {
      "text/plain": [
       "<matplotlib.legend.Legend at 0x7f0c02fd07c0>"
      ]
     },
     "execution_count": 21,
     "metadata": {},
     "output_type": "execute_result"
    },
    {
     "data": {
      "image/png": "[encoded data removed]",
      "text/plain": [
       "<Figure size 432x288 with 1 Axes>"
      ]
     },
     "metadata": {
      "needs_background": "light"
     },
     "output_type": "display_data"
    }
   ],
   "source": [
    "plt.figure()\n",
    "plt.semilogy(training_size,train_loss,label = 'Training Loss')\n",
    "plt.semilogy(training_size,val_loss,label = 'Val Loss')\n",
    "plt.legend()"
   ]
  }
 ],
 "metadata": {
  "interpreter": {
   "hash": "19454b367d78121c3abb3ee884f0c07fc1b47190a48b98adb60dc2da62b39d5e"
  },
  "kernelspec": {
   "display_name": "Python 3.8.11 64-bit",
   "language": "python",
   "name": "python3"
  },
  "language_info": {
   "codemirror_mode": {
    "name": "ipython",
    "version": 3
   },
   "file_extension": ".py",
   "mimetype": "text/x-python",
   "name": "python",
   "nbconvert_exporter": "python",
   "pygments_lexer": "ipython3",
   "version": "3.8.11"
  }
 },
 "nbformat": 4,
 "nbformat_minor": 5
}
