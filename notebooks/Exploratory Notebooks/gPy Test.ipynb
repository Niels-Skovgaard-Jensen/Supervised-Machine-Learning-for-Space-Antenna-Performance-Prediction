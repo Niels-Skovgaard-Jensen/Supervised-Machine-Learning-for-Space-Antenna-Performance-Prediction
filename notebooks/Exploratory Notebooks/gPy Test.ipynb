{
 "cells": [
  {
   "cell_type": "code",
   "execution_count": 61,
   "id": "e06c2396",
   "metadata": {},
   "outputs": [
    {
     "name": "stdout",
     "output_type": "stream",
     "text": [
      "The autoreload extension is already loaded. To reload it, use:\n",
      "  %reload_ext autoreload\n"
     ]
    }
   ],
   "source": [
    "import math\n",
    "import torch\n",
    "import gpytorch\n",
    "from gpytorch.models.gplvm import bayesian_gplvm\n",
    "from matplotlib import pyplot as plt\n",
    "from ssapp.data.AntennaDatasetLoaders import load_serialized_dataset, set_global_random_seed\n",
    "from ssapp.Utils import train_test_data_split\n",
    "from torch.utils.data.dataloader import DataLoader\n",
    "%matplotlib inline\n",
    "%load_ext autoreload\n",
    "%autoreload 2"
   ]
  },
  {
   "cell_type": "code",
   "execution_count": 62,
   "id": "77eb3578",
   "metadata": {},
   "outputs": [
    {
     "name": "stdout",
     "output_type": "stream",
     "text": [
      "torch.Size([240, 3]) torch.Size([240, 4332])\n"
     ]
    }
   ],
   "source": [
    "set_global_random_seed(42)\n",
    "\n",
    "dataset = load_serialized_dataset('PatchAntennaDataset1')\n",
    "train_dataset,test_dataset = train_test_data_split(dataset)\n",
    "train_dataloader = DataLoader(train_dataset,batch_size = len(train_dataset))\n",
    "test_dataloader = DataLoader(test_dataset,batch_size = len(test_dataset))\n",
    "\n",
    "train_parameters, train_fields = next(iter(train_dataloader))\n",
    "\n",
    "train_parameters = train_parameters.reshape(len(train_parameters),-1)\n",
    "train_fields = train_fields.reshape(len(train_fields),-1)\n",
    "print(train_parameters.shape, train_fields.shape)\n",
    "\n",
    "\n",
    "test_parameters, test_fields = next(iter(test_dataloader))\n",
    "\n",
    "# Training data is 100 points in [0,1] inclusive regularly spaced\n",
    "X_train = torch.linspace(0, 1, 5)\n",
    "# True function is sin(2*pi*x) with Gaussian noise\n",
    "Y_train = torch.sin(X_train * (0.5 * math.pi)) + torch.randn(X_train.size()) * math.sqrt(0.0)\n"
   ]
  },
  {
   "cell_type": "code",
   "execution_count": 63,
   "id": "1f4f9d8b",
   "metadata": {},
   "outputs": [],
   "source": [
    "class ExactGPModel(gpytorch.models.ExactGP):\n",
    "    def __init__(self, train_x, train_y, likelihood):\n",
    "        super(ExactGPModel, self).__init__(train_x, train_y, likelihood)\n",
    "        self.mean_module = gpytorch.means.ConstantMean()\n",
    "        self.covar_module = gpytorch.kernels.ScaleKernel(gpytorch.kernels.RBFKernel())\n",
    "\n",
    "    def forward(self, x):\n",
    "        mean_x = self.mean_module(x)\n",
    "        covar_x = self.covar_module(x)\n",
    "        return gpytorch.distributions.MultivariateNormal(mean_x, covar_x)\n",
    "\n",
    "# initialize likelihood and model\n",
    "likelihood = gpytorch.likelihoods.GaussianLikelihood()\n",
    "\n",
    "model = ExactGPModel(X_train, Y_train, likelihood)"
   ]
  },
  {
   "cell_type": "code",
   "execution_count": 64,
   "id": "0261629b",
   "metadata": {},
   "outputs": [
    {
     "name": "stdout",
     "output_type": "stream",
     "text": [
      "Input shape torch.Size([5])\n",
      "Iter 1/50 - Loss: 1.072   lengthscale: 0.693   noise: 0.693\n",
      "Input shape torch.Size([5])\n",
      "Iter 2/50 - Loss: 1.025   lengthscale: 0.744   noise: 0.644\n",
      "Input shape torch.Size([5])\n",
      "Iter 3/50 - Loss: 0.979   lengthscale: 0.797   noise: 0.598\n",
      "Input shape torch.Size([5])\n",
      "Iter 4/50 - Loss: 0.936   lengthscale: 0.849   noise: 0.554\n",
      "Input shape torch.Size([5])\n",
      "Iter 5/50 - Loss: 0.896   lengthscale: 0.899   noise: 0.513\n",
      "Input shape torch.Size([5])\n",
      "Iter 6/50 - Loss: 0.859   lengthscale: 0.945   noise: 0.474\n",
      "Input shape torch.Size([5])\n",
      "Iter 7/50 - Loss: 0.825   lengthscale: 0.984   noise: 0.437\n",
      "Input shape torch.Size([5])\n",
      "Iter 8/50 - Loss: 0.794   lengthscale: 1.015   noise: 0.403\n",
      "Input shape torch.Size([5])\n",
      "Iter 9/50 - Loss: 0.765   lengthscale: 1.037   noise: 0.371\n",
      "Input shape torch.Size([5])\n",
      "Iter 10/50 - Loss: 0.738   lengthscale: 1.048   noise: 0.341\n",
      "Input shape torch.Size([5])\n",
      "Iter 11/50 - Loss: 0.711   lengthscale: 1.049   noise: 0.313\n",
      "Input shape torch.Size([5])\n",
      "Iter 12/50 - Loss: 0.683   lengthscale: 1.038   noise: 0.287\n",
      "Input shape torch.Size([5])\n",
      "Iter 13/50 - Loss: 0.653   lengthscale: 1.018   noise: 0.263\n",
      "Input shape torch.Size([5])\n",
      "Iter 14/50 - Loss: 0.621   lengthscale: 0.988   noise: 0.241\n",
      "Input shape torch.Size([5])\n",
      "Iter 15/50 - Loss: 0.589   lengthscale: 0.951   noise: 0.221\n",
      "Input shape torch.Size([5])\n",
      "Iter 16/50 - Loss: 0.558   lengthscale: 0.908   noise: 0.202\n",
      "Input shape torch.Size([5])\n",
      "Iter 17/50 - Loss: 0.528   lengthscale: 0.861   noise: 0.185\n",
      "Input shape torch.Size([5])\n",
      "Iter 18/50 - Loss: 0.500   lengthscale: 0.811   noise: 0.169\n",
      "Input shape torch.Size([5])\n",
      "Iter 19/50 - Loss: 0.475   lengthscale: 0.760   noise: 0.155\n",
      "Input shape torch.Size([5])\n",
      "Iter 20/50 - Loss: 0.450   lengthscale: 0.709   noise: 0.142\n",
      "Input shape torch.Size([5])\n",
      "Iter 21/50 - Loss: 0.424   lengthscale: 0.658   noise: 0.129\n",
      "Input shape torch.Size([5])\n",
      "Iter 22/50 - Loss: 0.397   lengthscale: 0.608   noise: 0.118\n",
      "Input shape torch.Size([5])\n",
      "Iter 23/50 - Loss: 0.369   lengthscale: 0.559   noise: 0.108\n",
      "Input shape torch.Size([5])\n",
      "Iter 24/50 - Loss: 0.342   lengthscale: 0.513   noise: 0.099\n",
      "Input shape torch.Size([5])\n",
      "Iter 25/50 - Loss: 0.320   lengthscale: 0.470   noise: 0.091\n",
      "Input shape torch.Size([5])\n",
      "Iter 26/50 - Loss: 0.303   lengthscale: 0.430   noise: 0.083\n",
      "Input shape torch.Size([5])\n",
      "Iter 27/50 - Loss: 0.289   lengthscale: 0.394   noise: 0.076\n",
      "Input shape torch.Size([5])\n",
      "Iter 28/50 - Loss: 0.275   lengthscale: 0.365   noise: 0.070\n",
      "Input shape torch.Size([5])\n",
      "Iter 29/50 - Loss: 0.263   lengthscale: 0.342   noise: 0.064\n",
      "Input shape torch.Size([5])\n",
      "Iter 30/50 - Loss: 0.252   lengthscale: 0.327   noise: 0.059\n",
      "Input shape torch.Size([5])\n",
      "Iter 31/50 - Loss: 0.244   lengthscale: 0.320   noise: 0.054\n",
      "Input shape torch.Size([5])\n",
      "Iter 32/50 - Loss: 0.234   lengthscale: 0.320   noise: 0.050\n",
      "Input shape torch.Size([5])\n",
      "Iter 33/50 - Loss: 0.221   lengthscale: 0.325   noise: 0.046\n",
      "Input shape torch.Size([5])\n",
      "Iter 34/50 - Loss: 0.205   lengthscale: 0.336   noise: 0.042\n",
      "Input shape torch.Size([5])\n",
      "Iter 35/50 - Loss: 0.188   lengthscale: 0.351   noise: 0.039\n",
      "Input shape torch.Size([5])\n",
      "Iter 36/50 - Loss: 0.172   lengthscale: 0.369   noise: 0.036\n",
      "Input shape torch.Size([5])\n",
      "Iter 37/50 - Loss: 0.155   lengthscale: 0.391   noise: 0.033\n",
      "Input shape torch.Size([5])\n",
      "Iter 38/50 - Loss: 0.137   lengthscale: 0.414   noise: 0.031\n",
      "Input shape torch.Size([5])\n",
      "Iter 39/50 - Loss: 0.118   lengthscale: 0.438   noise: 0.029\n",
      "Input shape torch.Size([5])\n",
      "Iter 40/50 - Loss: 0.099   lengthscale: 0.462   noise: 0.027\n",
      "Input shape torch.Size([5])\n",
      "Iter 41/50 - Loss: 0.081   lengthscale: 0.485   noise: 0.025\n",
      "Input shape torch.Size([5])\n",
      "Iter 42/50 - Loss: 0.063   lengthscale: 0.505   noise: 0.023\n",
      "Input shape torch.Size([5])\n",
      "Iter 43/50 - Loss: 0.045   lengthscale: 0.522   noise: 0.021\n",
      "Input shape torch.Size([5])\n",
      "Iter 44/50 - Loss: 0.027   lengthscale: 0.537   noise: 0.019\n",
      "Input shape torch.Size([5])\n",
      "Iter 45/50 - Loss: 0.009   lengthscale: 0.549   noise: 0.018\n",
      "Input shape torch.Size([5])\n",
      "Iter 46/50 - Loss: -0.009   lengthscale: 0.560   noise: 0.016\n",
      "Input shape torch.Size([5])\n",
      "Iter 47/50 - Loss: -0.025   lengthscale: 0.571   noise: 0.015\n",
      "Input shape torch.Size([5])\n",
      "Iter 48/50 - Loss: -0.041   lengthscale: 0.584   noise: 0.014\n",
      "Input shape torch.Size([5])\n",
      "Iter 49/50 - Loss: -0.057   lengthscale: 0.597   noise: 0.013\n",
      "Input shape torch.Size([5])\n",
      "Iter 50/50 - Loss: -0.073   lengthscale: 0.613   noise: 0.012\n"
     ]
    }
   ],
   "source": [
    "\n",
    "training_iter = 50\n",
    "\n",
    "\n",
    "# Find optimal model hyperparameters\n",
    "model.train()\n",
    "likelihood.train()\n",
    "\n",
    "# Use the adam optimizer\n",
    "optimizer = torch.optim.Adam(model.parameters(), lr=0.1)  # Includes GaussianLikelihood parameters\n",
    "\n",
    "# \"Loss\" for GPs - the marginal log likelihood\n",
    "mll = gpytorch.mlls.ExactMarginalLogLikelihood(likelihood, model)\n",
    "\n",
    "for i in range(training_iter):\n",
    "    # Zero gradients from previous iteration\n",
    "    optimizer.zero_grad()\n",
    "    # Output from model\n",
    "    print('Input shape', X_train.shape)\n",
    "    output = model(X_train)\n",
    "    # Calc loss and backprop gradients\n",
    "    loss = -mll(output, Y_train)\n",
    "    loss.backward()\n",
    "    print('Iter %d/%d - Loss: %.3f   lengthscale: %.3f   noise: %.3f' % (\n",
    "        i + 1, training_iter, loss.item(),\n",
    "        model.covar_module.base_kernel.lengthscale.item(),\n",
    "        model.likelihood.noise.item()\n",
    "    ))\n",
    "    optimizer.step()"
   ]
  },
  {
   "cell_type": "code",
   "execution_count": 65,
   "id": "185eb06a",
   "metadata": {},
   "outputs": [],
   "source": [
    "# Get into evaluation (predictive posterior) mode\n",
    "model.eval()\n",
    "likelihood.eval()\n",
    "\n",
    "# Test points are regularly spaced along [0,1]\n",
    "# Make predictions by feeding model through likelihood\n",
    "with torch.no_grad(), gpytorch.settings.fast_pred_var():\n",
    "    test_x = torch.linspace(0, 1, 51)\n",
    "    observed_pred = likelihood(model(test_x))"
   ]
  },
  {
   "cell_type": "code",
   "execution_count": 66,
   "id": "1c665f96",
   "metadata": {},
   "outputs": [
    {
     "data": {
      "image/png": "[encoded data removed]",
      "text/plain": [
       "<Figure size 288x216 with 1 Axes>"
      ]
     },
     "metadata": {
      "needs_background": "light"
     },
     "output_type": "display_data"
    }
   ],
   "source": [
    "with torch.no_grad():\n",
    "    # Initialize plot\n",
    "    f, ax = plt.subplots(1, 1, figsize=(4, 3))\n",
    "\n",
    "    # Get upper and lower confidence bounds\n",
    "    lower, upper = observed_pred.confidence_region()\n",
    "    # Plot training data as black stars\n",
    "    ax.plot(X_train.numpy(), Y_train.numpy(), 'k*')\n",
    "    # Plot predictive means as blue line\n",
    "    ax.plot(test_x.numpy(), observed_pred.mean.numpy(), 'b')\n",
    "    # Shade between the lower and upper confidence bounds\n",
    "    ax.fill_between(test_x.numpy(), lower.numpy(), upper.numpy(), alpha=0.5)\n",
    "    ax.set_ylim([-3, 3])\n",
    "    ax.legend(['Observed Data', 'Mean', 'Confidence'])\n",
    "\n"
   ]
  }
 ],
 "metadata": {
  "interpreter": {
   "hash": "19454b367d78121c3abb3ee884f0c07fc1b47190a48b98adb60dc2da62b39d5e"
  },
  "kernelspec": {
   "display_name": "Python 3.8.11 64-bit",
   "language": "python",
   "name": "python3"
  },
  "language_info": {
   "codemirror_mode": {
    "name": "ipython",
    "version": 3
   },
   "file_extension": ".py",
   "mimetype": "text/x-python",
   "name": "python",
   "nbconvert_exporter": "python",
   "pygments_lexer": "ipython3",
   "version": "3.8.11"
  }
 },
 "nbformat": 4,
 "nbformat_minor": 5
}
