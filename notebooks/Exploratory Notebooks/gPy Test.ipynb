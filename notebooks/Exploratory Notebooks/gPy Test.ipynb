{
 "cells": [
  {
   "cell_type": "code",
   "execution_count": 1,
   "id": "e06c2396",
   "metadata": {},
   "outputs": [],
   "source": [
    "import math\n",
    "import torch\n",
    "import gpytorch\n",
    "from gpytorch.models.gplvm import bayesian_gplvm\n",
    "from matplotlib import pyplot as plt\n",
    "from ssapp.data.AntennaDatasetLoaders import load_serialized_dataset, set_global_random_seed\n",
    "from ssapp.Utils import train_test_data_split\n",
    "from torch.utils.data.dataloader import DataLoader\n",
    "%matplotlib inline\n",
    "%load_ext autoreload\n",
    "%autoreload 2"
   ]
  },
  {
   "cell_type": "code",
   "execution_count": 3,
   "id": "77eb3578",
   "metadata": {},
   "outputs": [
    {
     "name": "stdout",
     "output_type": "stream",
     "text": [
      "torch.Size([240, 3]) torch.Size([240, 4332])\n"
     ]
    }
   ],
   "source": [
    "set_global_random_seed(42)\n",
    "\n",
    "dataset = load_serialized_dataset('PatchAntennaDataset1')\n",
    "train_dataset,test_dataset = train_test_data_split(dataset)\n",
    "train_dataloader = DataLoader(train_dataset,batch_size = len(train_dataset))\n",
    "test_dataloader = DataLoader(test_dataset,batch_size = len(test_dataset))\n",
    "\n",
    "train_parameters, train_fields = next(iter(train_dataloader))\n",
    "\n",
    "train_parameters = train_parameters.reshape(len(train_parameters),-1)\n",
    "train_fields = train_fields.reshape(len(train_fields),-1)\n",
    "print(train_parameters.shape, train_fields.shape)\n",
    "\n",
    "\n",
    "test_parameters, test_fields = next(iter(test_dataloader))\n",
    "\n",
    "# Training data is 100 points in [0,1] inclusive regularly spaced\n",
    "X_train = torch.linspace(0, 1, 100)\n",
    "# True function is sin(2*pi*x) with Gaussian noise\n",
    "Y_train = torch.sin(X_train * (2 * math.pi)) + torch.randn(X_train.size()) * math.sqrt(0.04)\n"
   ]
  },
  {
   "cell_type": "code",
   "execution_count": 4,
   "id": "1f4f9d8b",
   "metadata": {},
   "outputs": [],
   "source": [
    "class ExactGPModel(gpytorch.models.ExactGP):\n",
    "    def __init__(self, train_x, train_y, likelihood):\n",
    "        super(ExactGPModel, self).__init__(train_x, train_y, likelihood)\n",
    "        self.mean_module = gpytorch.means.ConstantMean()\n",
    "        self.covar_module = gpytorch.kernels.ScaleKernel(gpytorch.kernels.RBFKernel())\n",
    "\n",
    "    def forward(self, x):\n",
    "        mean_x = self.mean_module(x)\n",
    "        covar_x = self.covar_module(x)\n",
    "        return gpytorch.distributions.MultivariateNormal(mean_x, covar_x)\n",
    "\n",
    "# initialize likelihood and model\n",
    "likelihood = gpytorch.likelihoods.GaussianLikelihood()\n",
    "\n",
    "model = ExactGPModel(X_train, Y_train, likelihood)"
   ]
  },
  {
   "cell_type": "code",
   "execution_count": 5,
   "id": "0261629b",
   "metadata": {},
   "outputs": [
    {
     "name": "stdout",
     "output_type": "stream",
     "text": [
      "Input shape torch.Size([100])\n",
      "Iter 1/50 - Loss: 0.934   lengthscale: 0.693   noise: 0.693\n",
      "Input shape torch.Size([100])\n",
      "Iter 2/50 - Loss: 0.902   lengthscale: 0.644   noise: 0.644\n",
      "Input shape torch.Size([100])\n",
      "Iter 3/50 - Loss: 0.868   lengthscale: 0.598   noise: 0.598\n",
      "Input shape torch.Size([100])\n",
      "Iter 4/50 - Loss: 0.830   lengthscale: 0.555   noise: 0.554\n",
      "Input shape torch.Size([100])\n",
      "Iter 5/50 - Loss: 0.787   lengthscale: 0.514   noise: 0.513\n",
      "Input shape torch.Size([100])\n",
      "Iter 6/50 - Loss: 0.740   lengthscale: 0.475   noise: 0.474\n",
      "Input shape torch.Size([100])\n",
      "Iter 7/50 - Loss: 0.690   lengthscale: 0.438   noise: 0.437\n",
      "Input shape torch.Size([100])\n",
      "Iter 8/50 - Loss: 0.639   lengthscale: 0.404   noise: 0.402\n",
      "Input shape torch.Size([100])\n",
      "Iter 9/50 - Loss: 0.591   lengthscale: 0.371   noise: 0.369\n",
      "Input shape torch.Size([100])\n",
      "Iter 10/50 - Loss: 0.547   lengthscale: 0.341   noise: 0.339\n",
      "Input shape torch.Size([100])\n",
      "Iter 11/50 - Loss: 0.507   lengthscale: 0.315   noise: 0.310\n",
      "Input shape torch.Size([100])\n",
      "Iter 12/50 - Loss: 0.470   lengthscale: 0.292   noise: 0.284\n",
      "Input shape torch.Size([100])\n",
      "Iter 13/50 - Loss: 0.435   lengthscale: 0.273   noise: 0.259\n",
      "Input shape torch.Size([100])\n",
      "Iter 14/50 - Loss: 0.402   lengthscale: 0.257   noise: 0.237\n",
      "Input shape torch.Size([100])\n",
      "Iter 15/50 - Loss: 0.368   lengthscale: 0.244   noise: 0.216\n",
      "Input shape torch.Size([100])\n",
      "Iter 16/50 - Loss: 0.335   lengthscale: 0.234   noise: 0.197\n",
      "Input shape torch.Size([100])\n",
      "Iter 17/50 - Loss: 0.302   lengthscale: 0.227   noise: 0.179\n",
      "Input shape torch.Size([100])\n",
      "Iter 18/50 - Loss: 0.270   lengthscale: 0.222   noise: 0.163\n",
      "Input shape torch.Size([100])\n",
      "Iter 19/50 - Loss: 0.238   lengthscale: 0.218   noise: 0.148\n",
      "Input shape torch.Size([100])\n",
      "Iter 20/50 - Loss: 0.207   lengthscale: 0.217   noise: 0.135\n",
      "Input shape torch.Size([100])\n",
      "Iter 21/50 - Loss: 0.176   lengthscale: 0.217   noise: 0.122\n",
      "Input shape torch.Size([100])\n",
      "Iter 22/50 - Loss: 0.147   lengthscale: 0.218   noise: 0.111\n",
      "Input shape torch.Size([100])\n",
      "Iter 23/50 - Loss: 0.118   lengthscale: 0.221   noise: 0.101\n",
      "Input shape torch.Size([100])\n",
      "Iter 24/50 - Loss: 0.091   lengthscale: 0.226   noise: 0.092\n",
      "Input shape torch.Size([100])\n",
      "Iter 25/50 - Loss: 0.066   lengthscale: 0.231   noise: 0.084\n",
      "Input shape torch.Size([100])\n",
      "Iter 26/50 - Loss: 0.044   lengthscale: 0.237   noise: 0.077\n",
      "Input shape torch.Size([100])\n",
      "Iter 27/50 - Loss: 0.024   lengthscale: 0.244   noise: 0.070\n",
      "Input shape torch.Size([100])\n",
      "Iter 28/50 - Loss: 0.006   lengthscale: 0.252   noise: 0.064\n",
      "Input shape torch.Size([100])\n",
      "Iter 29/50 - Loss: -0.008   lengthscale: 0.260   noise: 0.059\n"
     ]
    },
    {
     "name": "stderr",
     "output_type": "stream",
     "text": [
      "C:\\Users\\Niels\\.conda\\envs\\Kandidatspeciale\\lib\\site-packages\\gpytorch\\lazy\\triangular_lazy_tensor.py:130: UserWarning: torch.triangular_solve is deprecated in favor of torch.linalg.solve_triangularand will be removed in a future PyTorch release.\n",
      "torch.linalg.solve_triangular has its arguments reversed and does not return a copy of one of the inputs.\n",
      "X = torch.triangular_solve(B, A).solution\n",
      "should be replaced with\n",
      "X = torch.linalg.solve_triangular(A, B). (Triggered internally at  C:\\actions-runner\\_work\\pytorch\\pytorch\\builder\\windows\\pytorch\\aten\\src\\ATen\\native\\BatchLinearAlgebra.cpp:1672.)\n",
      "  res = torch.triangular_solve(right_tensor, self.evaluate(), upper=self.upper).solution\n"
     ]
    },
    {
     "name": "stdout",
     "output_type": "stream",
     "text": [
      "Input shape torch.Size([100])\n",
      "Iter 30/50 - Loss: -0.019   lengthscale: 0.268   noise: 0.054\n",
      "Input shape torch.Size([100])\n",
      "Iter 31/50 - Loss: -0.027   lengthscale: 0.276   noise: 0.050\n",
      "Input shape torch.Size([100])\n",
      "Iter 32/50 - Loss: -0.032   lengthscale: 0.284   noise: 0.046\n",
      "Input shape torch.Size([100])\n",
      "Iter 33/50 - Loss: -0.034   lengthscale: 0.291   noise: 0.043\n",
      "Input shape torch.Size([100])\n",
      "Iter 34/50 - Loss: -0.034   lengthscale: 0.296   noise: 0.041\n",
      "Input shape torch.Size([100])\n",
      "Iter 35/50 - Loss: -0.032   lengthscale: 0.301   noise: 0.038\n",
      "Input shape torch.Size([100])\n",
      "Iter 36/50 - Loss: -0.029   lengthscale: 0.304   noise: 0.036\n",
      "Input shape torch.Size([100])\n",
      "Iter 37/50 - Loss: -0.025   lengthscale: 0.305   noise: 0.035\n",
      "Input shape torch.Size([100])\n",
      "Iter 38/50 - Loss: -0.021   lengthscale: 0.305   noise: 0.034\n",
      "Input shape torch.Size([100])\n",
      "Iter 39/50 - Loss: -0.018   lengthscale: 0.303   noise: 0.033\n",
      "Input shape torch.Size([100])\n",
      "Iter 40/50 - Loss: -0.015   lengthscale: 0.300   noise: 0.032\n",
      "Input shape torch.Size([100])\n",
      "Iter 41/50 - Loss: -0.014   lengthscale: 0.295   noise: 0.031\n",
      "Input shape torch.Size([100])\n",
      "Iter 42/50 - Loss: -0.013   lengthscale: 0.290   noise: 0.031\n",
      "Input shape torch.Size([100])\n",
      "Iter 43/50 - Loss: -0.014   lengthscale: 0.285   noise: 0.031\n",
      "Input shape torch.Size([100])\n",
      "Iter 44/50 - Loss: -0.015   lengthscale: 0.279   noise: 0.031\n",
      "Input shape torch.Size([100])\n",
      "Iter 45/50 - Loss: -0.017   lengthscale: 0.274   noise: 0.032\n",
      "Input shape torch.Size([100])\n",
      "Iter 46/50 - Loss: -0.019   lengthscale: 0.268   noise: 0.032\n",
      "Input shape torch.Size([100])\n",
      "Iter 47/50 - Loss: -0.022   lengthscale: 0.264   noise: 0.033\n",
      "Input shape torch.Size([100])\n",
      "Iter 48/50 - Loss: -0.024   lengthscale: 0.260   noise: 0.034\n",
      "Input shape torch.Size([100])\n",
      "Iter 49/50 - Loss: -0.027   lengthscale: 0.256   noise: 0.034\n",
      "Input shape torch.Size([100])\n",
      "Iter 50/50 - Loss: -0.029   lengthscale: 0.254   noise: 0.035\n"
     ]
    }
   ],
   "source": [
    "import os\n",
    "smoke_test = ('CI' in os.environ)\n",
    "training_iter = 2 if smoke_test else 50\n",
    "\n",
    "\n",
    "# Find optimal model hyperparameters\n",
    "model.train()\n",
    "likelihood.train()\n",
    "\n",
    "# Use the adam optimizer\n",
    "optimizer = torch.optim.Adam(model.parameters(), lr=0.1)  # Includes GaussianLikelihood parameters\n",
    "\n",
    "# \"Loss\" for GPs - the marginal log likelihood\n",
    "mll = gpytorch.mlls.ExactMarginalLogLikelihood(likelihood, model)\n",
    "\n",
    "for i in range(training_iter):\n",
    "    # Zero gradients from previous iteration\n",
    "    optimizer.zero_grad()\n",
    "    # Output from model\n",
    "    print('Input shape', X_train.shape)\n",
    "    output = model(X_train)\n",
    "    # Calc loss and backprop gradients\n",
    "    loss = -mll(output, Y_train)\n",
    "    loss.backward()\n",
    "    print('Iter %d/%d - Loss: %.3f   lengthscale: %.3f   noise: %.3f' % (\n",
    "        i + 1, training_iter, loss.item(),\n",
    "        model.covar_module.base_kernel.lengthscale.item(),\n",
    "        model.likelihood.noise.item()\n",
    "    ))\n",
    "    optimizer.step()"
   ]
  },
  {
   "cell_type": "code",
   "execution_count": 6,
   "id": "185eb06a",
   "metadata": {},
   "outputs": [],
   "source": [
    "# Get into evaluation (predictive posterior) mode\n",
    "model.eval()\n",
    "likelihood.eval()\n",
    "\n",
    "# Test points are regularly spaced along [0,1]\n",
    "# Make predictions by feeding model through likelihood\n",
    "with torch.no_grad(), gpytorch.settings.fast_pred_var():\n",
    "    test_x = torch.linspace(0, 1, 51)\n",
    "    observed_pred = likelihood(model(test_x))"
   ]
  },
  {
   "cell_type": "code",
   "execution_count": 9,
   "id": "1c665f96",
   "metadata": {},
   "outputs": [
    {
     "data": {
      "image/png": "[encoded data removed]",
      "text/plain": [
       "<Figure size 288x216 with 1 Axes>"
      ]
     },
     "metadata": {
      "needs_background": "light"
     },
     "output_type": "display_data"
    }
   ],
   "source": [
    "with torch.no_grad():\n",
    "    # Initialize plot\n",
    "    f, ax = plt.subplots(1, 1, figsize=(4, 3))\n",
    "\n",
    "    # Get upper and lower confidence bounds\n",
    "    lower, upper = observed_pred.confidence_region()\n",
    "    # Plot training data as black stars\n",
    "    ax.plot(X_train.numpy(), Y_train.numpy(), 'k*')\n",
    "    # Plot predictive means as blue line\n",
    "    ax.plot(test_x.numpy(), observed_pred.mean.numpy(), 'b')\n",
    "    # Shade between the lower and upper confidence bounds\n",
    "    ax.fill_between(test_x.numpy(), lower.numpy(), upper.numpy(), alpha=0.5)\n",
    "    ax.set_ylim([-3, 3])\n",
    "    ax.legend(['Observed Data', 'Mean', 'Confidence'])\n",
    "\n"
   ]
  }
 ],
 "metadata": {
  "kernelspec": {
   "display_name": "Python 3 (ipykernel)",
   "language": "python",
   "name": "python3"
  },
  "language_info": {
   "codemirror_mode": {
    "name": "ipython",
    "version": 3
   },
   "file_extension": ".py",
   "mimetype": "text/x-python",
   "name": "python",
   "nbconvert_exporter": "python",
   "pygments_lexer": "ipython3",
   "version": "3.8.12"
  }
 },
 "nbformat": 4,
 "nbformat_minor": 5
}
