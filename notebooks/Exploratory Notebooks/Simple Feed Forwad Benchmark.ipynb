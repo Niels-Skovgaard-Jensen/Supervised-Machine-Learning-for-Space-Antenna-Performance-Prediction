{
 "cells": [
  {
   "cell_type": "code",
   "execution_count": 1,
   "id": "8c0ce738-58e2-46ee-9a65-64a69fee25dd",
   "metadata": {},
   "outputs": [],
   "source": [
    "# Standard Packages\n",
    "from torch.utils.data import random_split, DataLoader\n",
    "import torch\n",
    "import wandb\n",
    "from datetime import datetime\n",
    "from matplotlib import pyplot as plt\n",
    "import torch.nn as nn\n",
    "# Custom Packages\n",
    "from ssapp.data.AntennaDatasetLoaders import load_serialized_dataset\n",
    "from ssapp.Utils import train_test_data_split\n",
    "\n",
    "# General Settings\n",
    "torch.manual_seed(42) # Manual seed for sanity\n",
    "device = torch.device(\"cuda:0\" if torch.cuda.is_available() else \"cpu\")\n",
    "\n"
   ]
  },
  {
   "cell_type": "code",
   "execution_count": 16,
   "id": "90b68687",
   "metadata": {},
   "outputs": [],
   "source": [
    "## Define Model\n",
    "\n",
    "NN = 1000\n",
    "\n",
    "class Net(nn.Module):\n",
    "    def __init__(self):\n",
    "        super(Net, self).__init__()\n",
    "        self.regressor = nn.Sequential(nn.Linear(3, NN),\n",
    "                                       nn.ReLU(),\n",
    "                                       nn.Linear(NN, NN),\n",
    "                                       nn.ReLU(),\n",
    "                                       nn.Linear(NN, 361*3*4))\n",
    "        \n",
    "    def forward(self, x):\n",
    "        output = self.regressor(x)\n",
    "        return output"
   ]
  },
  {
   "cell_type": "code",
   "execution_count": 12,
   "id": "e2b11887-9ac5-4a6b-8ef2-96ec5967cdfb",
   "metadata": {},
   "outputs": [],
   "source": [
    "\n",
    "dataset = load_serialized_dataset('PatchAntennaDataset2')\n"
   ]
  },
  {
   "cell_type": "code",
   "execution_count": 13,
   "id": "a498d096-88df-4f8c-84ce-36f405ed17b1",
   "metadata": {},
   "outputs": [],
   "source": [
    "TEST_TRAIN_RATIO = 0.7\n",
    "BATCH_SIZE = 1\n",
    "\n",
    "train_set, test_set = train_test_data_split(dataset)\n",
    "\n",
    "train_dataloader = DataLoader(train_set, batch_size = BATCH_SIZE, shuffle=True)\n",
    "test_dataloader = DataLoader(test_set, batch_size = BATCH_SIZE, shuffle=True)\n",
    "\n"
   ]
  },
  {
   "cell_type": "code",
   "execution_count": 14,
   "id": "353f2acf",
   "metadata": {},
   "outputs": [
    {
     "name": "stdout",
     "output_type": "stream",
     "text": [
      "torch.Size([1, 3])\n"
     ]
    }
   ],
   "source": [
    "params,fields = next(iter(train_dataloader))\n",
    "print(params.shape)"
   ]
  },
  {
   "cell_type": "code",
   "execution_count": 17,
   "id": "52f57f1c-6f1a-4d02-bfae-4e8c62c09f2c",
   "metadata": {},
   "outputs": [
    {
     "name": "stdout",
     "output_type": "stream",
     "text": [
      "tensor([[-0.2309,  0.0827,  0.0967,  ..., -0.0139, -0.0969, -0.0800],\n",
      "        [-0.1234,  0.0403, -0.0731,  ..., -0.0141, -0.0994,  0.0217]],\n",
      "       grad_fn=<AddmmBackward0>)\n"
     ]
    }
   ],
   "source": [
    "\n",
    "#Define model\n",
    "model = Net()\n",
    "#Test Forward pass\n",
    "print(model(torch.randn(2,3).to(device)))"
   ]
  },
  {
   "cell_type": "code",
   "execution_count": 27,
   "id": "dc725eba-e59e-49e7-b02b-2158260ae561",
   "metadata": {},
   "outputs": [],
   "source": [
    "LEARNING_RATE = 3e-4\n",
    "\n",
    "criterion = torch.nn.MSELoss()"
   ]
  },
  {
   "cell_type": "code",
   "execution_count": 28,
   "id": "71bec362-c4cb-47d3-8acf-212cd4990e18",
   "metadata": {},
   "outputs": [
    {
     "ename": "KeyboardInterrupt",
     "evalue": "",
     "output_type": "error",
     "traceback": [
      "\u001b[0;31m---------------------------------------------------------------------------\u001b[0m",
      "\u001b[0;31mKeyboardInterrupt\u001b[0m                         Traceback (most recent call last)",
      "\u001b[1;32m/zhome/5b/b/127277/Supervised-Machine-Learning-for-Space-Antenna-Performance-Prediction/notebooks/Exploratory Notebooks/Simple Feed Forwad Benchmark.ipynb Cell 8'\u001b[0m in \u001b[0;36m<cell line: 12>\u001b[0;34m()\u001b[0m\n\u001b[1;32m     <a href='vscode-notebook-cell://ssh-remote%2Blogin2.gbar.dtu.dk/zhome/5b/b/127277/Supervised-Machine-Learning-for-Space-Antenna-Performance-Prediction/notebooks/Exploratory%20Notebooks/Simple%20Feed%20Forwad%20Benchmark.ipynb#ch0000007vscode-remote?line=28'>29</a>\u001b[0m     optimizer\u001b[39m.\u001b[39mzero_grad()\n\u001b[1;32m     <a href='vscode-notebook-cell://ssh-remote%2Blogin2.gbar.dtu.dk/zhome/5b/b/127277/Supervised-Machine-Learning-for-Space-Antenna-Performance-Prediction/notebooks/Exploratory%20Notebooks/Simple%20Feed%20Forwad%20Benchmark.ipynb#ch0000007vscode-remote?line=29'>30</a>\u001b[0m     loss\u001b[39m.\u001b[39mbackward()\n\u001b[0;32m---> <a href='vscode-notebook-cell://ssh-remote%2Blogin2.gbar.dtu.dk/zhome/5b/b/127277/Supervised-Machine-Learning-for-Space-Antenna-Performance-Prediction/notebooks/Exploratory%20Notebooks/Simple%20Feed%20Forwad%20Benchmark.ipynb#ch0000007vscode-remote?line=30'>31</a>\u001b[0m     optimizer\u001b[39m.\u001b[39;49mstep()\n\u001b[1;32m     <a href='vscode-notebook-cell://ssh-remote%2Blogin2.gbar.dtu.dk/zhome/5b/b/127277/Supervised-Machine-Learning-for-Space-Antenna-Performance-Prediction/notebooks/Exploratory%20Notebooks/Simple%20Feed%20Forwad%20Benchmark.ipynb#ch0000007vscode-remote?line=34'>35</a>\u001b[0m epoch_test_loss \u001b[39m=\u001b[39m \u001b[39m0\u001b[39m\n\u001b[1;32m     <a href='vscode-notebook-cell://ssh-remote%2Blogin2.gbar.dtu.dk/zhome/5b/b/127277/Supervised-Machine-Learning-for-Space-Antenna-Performance-Prediction/notebooks/Exploratory%20Notebooks/Simple%20Feed%20Forwad%20Benchmark.ipynb#ch0000007vscode-remote?line=35'>36</a>\u001b[0m epoch_test_targets \u001b[39m=\u001b[39m \u001b[39m0\u001b[39m\n",
      "File \u001b[0;32m~/.local/lib/python3.8/site-packages/torch/optim/optimizer.py:88\u001b[0m, in \u001b[0;36mOptimizer._hook_for_profile.<locals>.profile_hook_step.<locals>.wrapper\u001b[0;34m(*args, **kwargs)\u001b[0m\n\u001b[1;32m     <a href='file:///zhome/5b/b/127277/.local/lib/python3.8/site-packages/torch/optim/optimizer.py?line=85'>86</a>\u001b[0m profile_name \u001b[39m=\u001b[39m \u001b[39m\"\u001b[39m\u001b[39mOptimizer.step#\u001b[39m\u001b[39m{}\u001b[39;00m\u001b[39m.step\u001b[39m\u001b[39m\"\u001b[39m\u001b[39m.\u001b[39mformat(obj\u001b[39m.\u001b[39m\u001b[39m__class__\u001b[39m\u001b[39m.\u001b[39m\u001b[39m__name__\u001b[39m)\n\u001b[1;32m     <a href='file:///zhome/5b/b/127277/.local/lib/python3.8/site-packages/torch/optim/optimizer.py?line=86'>87</a>\u001b[0m \u001b[39mwith\u001b[39;00m torch\u001b[39m.\u001b[39mautograd\u001b[39m.\u001b[39mprofiler\u001b[39m.\u001b[39mrecord_function(profile_name):\n\u001b[0;32m---> <a href='file:///zhome/5b/b/127277/.local/lib/python3.8/site-packages/torch/optim/optimizer.py?line=87'>88</a>\u001b[0m     \u001b[39mreturn\u001b[39;00m func(\u001b[39m*\u001b[39;49margs, \u001b[39m*\u001b[39;49m\u001b[39m*\u001b[39;49mkwargs)\n",
      "File \u001b[0;32m~/.local/lib/python3.8/site-packages/torch/autograd/grad_mode.py:28\u001b[0m, in \u001b[0;36m_DecoratorContextManager.__call__.<locals>.decorate_context\u001b[0;34m(*args, **kwargs)\u001b[0m\n\u001b[1;32m     <a href='file:///zhome/5b/b/127277/.local/lib/python3.8/site-packages/torch/autograd/grad_mode.py?line=24'>25</a>\u001b[0m \u001b[39m@functools\u001b[39m\u001b[39m.\u001b[39mwraps(func)\n\u001b[1;32m     <a href='file:///zhome/5b/b/127277/.local/lib/python3.8/site-packages/torch/autograd/grad_mode.py?line=25'>26</a>\u001b[0m \u001b[39mdef\u001b[39;00m \u001b[39mdecorate_context\u001b[39m(\u001b[39m*\u001b[39margs, \u001b[39m*\u001b[39m\u001b[39m*\u001b[39mkwargs):\n\u001b[1;32m     <a href='file:///zhome/5b/b/127277/.local/lib/python3.8/site-packages/torch/autograd/grad_mode.py?line=26'>27</a>\u001b[0m     \u001b[39mwith\u001b[39;00m \u001b[39mself\u001b[39m\u001b[39m.\u001b[39m\u001b[39m__class__\u001b[39m():\n\u001b[0;32m---> <a href='file:///zhome/5b/b/127277/.local/lib/python3.8/site-packages/torch/autograd/grad_mode.py?line=27'>28</a>\u001b[0m         \u001b[39mreturn\u001b[39;00m func(\u001b[39m*\u001b[39;49margs, \u001b[39m*\u001b[39;49m\u001b[39m*\u001b[39;49mkwargs)\n",
      "File \u001b[0;32m~/.local/lib/python3.8/site-packages/torch/optim/adamw.py:137\u001b[0m, in \u001b[0;36mAdamW.step\u001b[0;34m(self, closure)\u001b[0m\n\u001b[1;32m    <a href='file:///zhome/5b/b/127277/.local/lib/python3.8/site-packages/torch/optim/adamw.py?line=133'>134</a>\u001b[0m         \u001b[39m# record the step after step update\u001b[39;00m\n\u001b[1;32m    <a href='file:///zhome/5b/b/127277/.local/lib/python3.8/site-packages/torch/optim/adamw.py?line=134'>135</a>\u001b[0m         state_steps\u001b[39m.\u001b[39mappend(state[\u001b[39m'\u001b[39m\u001b[39mstep\u001b[39m\u001b[39m'\u001b[39m])\n\u001b[0;32m--> <a href='file:///zhome/5b/b/127277/.local/lib/python3.8/site-packages/torch/optim/adamw.py?line=136'>137</a>\u001b[0m     F\u001b[39m.\u001b[39;49madamw(params_with_grad,\n\u001b[1;32m    <a href='file:///zhome/5b/b/127277/.local/lib/python3.8/site-packages/torch/optim/adamw.py?line=137'>138</a>\u001b[0m             grads,\n\u001b[1;32m    <a href='file:///zhome/5b/b/127277/.local/lib/python3.8/site-packages/torch/optim/adamw.py?line=138'>139</a>\u001b[0m             exp_avgs,\n\u001b[1;32m    <a href='file:///zhome/5b/b/127277/.local/lib/python3.8/site-packages/torch/optim/adamw.py?line=139'>140</a>\u001b[0m             exp_avg_sqs,\n\u001b[1;32m    <a href='file:///zhome/5b/b/127277/.local/lib/python3.8/site-packages/torch/optim/adamw.py?line=140'>141</a>\u001b[0m             max_exp_avg_sqs,\n\u001b[1;32m    <a href='file:///zhome/5b/b/127277/.local/lib/python3.8/site-packages/torch/optim/adamw.py?line=141'>142</a>\u001b[0m             state_steps,\n\u001b[1;32m    <a href='file:///zhome/5b/b/127277/.local/lib/python3.8/site-packages/torch/optim/adamw.py?line=142'>143</a>\u001b[0m             amsgrad\u001b[39m=\u001b[39;49mamsgrad,\n\u001b[1;32m    <a href='file:///zhome/5b/b/127277/.local/lib/python3.8/site-packages/torch/optim/adamw.py?line=143'>144</a>\u001b[0m             beta1\u001b[39m=\u001b[39;49mbeta1,\n\u001b[1;32m    <a href='file:///zhome/5b/b/127277/.local/lib/python3.8/site-packages/torch/optim/adamw.py?line=144'>145</a>\u001b[0m             beta2\u001b[39m=\u001b[39;49mbeta2,\n\u001b[1;32m    <a href='file:///zhome/5b/b/127277/.local/lib/python3.8/site-packages/torch/optim/adamw.py?line=145'>146</a>\u001b[0m             lr\u001b[39m=\u001b[39;49mgroup[\u001b[39m'\u001b[39;49m\u001b[39mlr\u001b[39;49m\u001b[39m'\u001b[39;49m],\n\u001b[1;32m    <a href='file:///zhome/5b/b/127277/.local/lib/python3.8/site-packages/torch/optim/adamw.py?line=146'>147</a>\u001b[0m             weight_decay\u001b[39m=\u001b[39;49mgroup[\u001b[39m'\u001b[39;49m\u001b[39mweight_decay\u001b[39;49m\u001b[39m'\u001b[39;49m],\n\u001b[1;32m    <a href='file:///zhome/5b/b/127277/.local/lib/python3.8/site-packages/torch/optim/adamw.py?line=147'>148</a>\u001b[0m             eps\u001b[39m=\u001b[39;49mgroup[\u001b[39m'\u001b[39;49m\u001b[39meps\u001b[39;49m\u001b[39m'\u001b[39;49m])\n\u001b[1;32m    <a href='file:///zhome/5b/b/127277/.local/lib/python3.8/site-packages/torch/optim/adamw.py?line=149'>150</a>\u001b[0m \u001b[39mreturn\u001b[39;00m loss\n",
      "File \u001b[0;32m~/.local/lib/python3.8/site-packages/torch/optim/_functional.py:132\u001b[0m, in \u001b[0;36madamw\u001b[0;34m(params, grads, exp_avgs, exp_avg_sqs, max_exp_avg_sqs, state_steps, amsgrad, beta1, beta2, lr, weight_decay, eps)\u001b[0m\n\u001b[1;32m    <a href='file:///zhome/5b/b/127277/.local/lib/python3.8/site-packages/torch/optim/_functional.py?line=129'>130</a>\u001b[0m \u001b[39m# Decay the first and second moment running average coefficient\u001b[39;00m\n\u001b[1;32m    <a href='file:///zhome/5b/b/127277/.local/lib/python3.8/site-packages/torch/optim/_functional.py?line=130'>131</a>\u001b[0m exp_avg\u001b[39m.\u001b[39mmul_(beta1)\u001b[39m.\u001b[39madd_(grad, alpha\u001b[39m=\u001b[39m\u001b[39m1\u001b[39m \u001b[39m-\u001b[39m beta1)\n\u001b[0;32m--> <a href='file:///zhome/5b/b/127277/.local/lib/python3.8/site-packages/torch/optim/_functional.py?line=131'>132</a>\u001b[0m exp_avg_sq\u001b[39m.\u001b[39;49mmul_(beta2)\u001b[39m.\u001b[39maddcmul_(grad, grad, value\u001b[39m=\u001b[39m\u001b[39m1\u001b[39m \u001b[39m-\u001b[39m beta2)\n\u001b[1;32m    <a href='file:///zhome/5b/b/127277/.local/lib/python3.8/site-packages/torch/optim/_functional.py?line=132'>133</a>\u001b[0m \u001b[39mif\u001b[39;00m amsgrad:\n\u001b[1;32m    <a href='file:///zhome/5b/b/127277/.local/lib/python3.8/site-packages/torch/optim/_functional.py?line=133'>134</a>\u001b[0m     \u001b[39m# Maintains the maximum of all 2nd moment running avg. till now\u001b[39;00m\n\u001b[1;32m    <a href='file:///zhome/5b/b/127277/.local/lib/python3.8/site-packages/torch/optim/_functional.py?line=134'>135</a>\u001b[0m     torch\u001b[39m.\u001b[39mmaximum(max_exp_avg_sqs[i], exp_avg_sq, out\u001b[39m=\u001b[39mmax_exp_avg_sqs[i])\n",
      "\u001b[0;31mKeyboardInterrupt\u001b[0m: "
     ]
    }
   ],
   "source": [
    "EPOCHS = int(200)\n",
    "\n",
    "# Optional\n",
    "\n",
    "optimizer = torch.optim.AdamW(model.parameters(), lr=LEARNING_RATE)\n",
    "\n",
    "startTime = datetime.now()\n",
    "train_loss_array = []\n",
    "test_loss_array = []\n",
    "loss_array = []\n",
    "\n",
    "for epoch in range(EPOCHS):\n",
    "\n",
    "    epoch_training_loss = 0\n",
    "    epoch_training_targets = 0\n",
    "    train_batches = 0\n",
    "    for train_params, train_fields in train_dataloader:\n",
    "        \n",
    "        ## Transfer Batch to Device\n",
    "        train_params = train_params.float().to(device)\n",
    "        train_fields = train_fields.float().to(device).reshape(len(train_fields),-1)\n",
    "        \n",
    "        prediction = model(train_params)\n",
    "        \n",
    "\n",
    "        loss = criterion(input = prediction, target = train_fields)\n",
    "        epoch_training_loss += loss\n",
    "        train_batches +=1\n",
    "        optimizer.zero_grad()\n",
    "        loss.backward()\n",
    "        optimizer.step()\n",
    "        \n",
    "    \n",
    "    \n",
    "    epoch_test_loss = 0\n",
    "    epoch_test_targets = 0\n",
    "    test_batches=0\n",
    "    with torch.no_grad():\n",
    "        \n",
    "        for test_params, test_fields in test_dataloader:\n",
    "            \n",
    "            # Put thing to device\n",
    "            test_params = test_params.float().to(device)\n",
    "            test_fields = test_fields.float().to(device).reshape(len(test_fields),-1)\n",
    "            \n",
    "            \n",
    "            \n",
    "            prediction = model(test_params)\n",
    "            loss = criterion(input = prediction, target = test_fields)\n",
    "            epoch_test_loss += loss\n",
    "            \n",
    "            test_batches += 1\n",
    "    \n",
    "\n",
    "    print('Training Loss',(epoch_training_loss/train_batches).item())\n",
    "    print('Test Loss',(epoch_test_loss/test_batches).item())\n",
    "    \n",
    "\n",
    "print('Training time:', datetime.now()-startTime)"
   ]
  },
  {
   "cell_type": "code",
   "execution_count": null,
   "id": "fdca3fab-4cae-4a4f-bd56-7d35f07dbd05",
   "metadata": {},
   "outputs": [],
   "source": [
    "inp, tar = next(iter(train_dataloader)) \n",
    "print(inp)\n",
    "plt.figure()\n",
    "plt.title('Training set example')\n",
    "plt.plot(model(inp).flatten().detach(),label = 'Model Prediction')\n",
    "plt.plot(tar.flatten(),label ='Truth')\n",
    "plt.legend()\n",
    "\n",
    "inp, tar = next(iter(test_dataloader)) \n",
    "plt.figure()\n",
    "plt.title('Test set example')\n",
    "plt.plot(model(inp).flatten().detach(),label = 'Model Prediction')\n",
    "plt.plot(tar.flatten(),label = 'Truth')\n",
    "plt.legend()"
   ]
  },
  {
   "cell_type": "code",
   "execution_count": null,
   "id": "88d5058f-3496-48ac-8538-e2453f32dd3d",
   "metadata": {},
   "outputs": [],
   "source": [
    "## Test overfitting\n",
    "EPOCHS = int(2e3)\n",
    "\n",
    "overFitModel = DirectFeedForwardNet(in_features = 3,out_features = 4004,NN = 100)\n",
    "optimizer = torch.optim.SGD(overFitModel.parameters(), lr=LEARNING_RATE, momentum=MOMENTUM)\n",
    "inp, tar = next(iter(train_dataloader)) \n",
    "for epoch in range(EPOCHS):\n",
    "    prediction = overFitModel(inp)\n",
    "        \n",
    "    loss = criterion(input = prediction, target = tar)\n",
    "    optimizer.zero_grad()\n",
    "    loss.backward()\n",
    "    optimizer.step()\n",
    "    if epoch%(EPOCHS/10) == 0:\n",
    "        print('Loss', loss.item())\n",
    "    \n",
    "    \n",
    "plt.plot(overFitModel(inp).flatten().detach())\n",
    "plt.plot(tar.flatten())"
   ]
  },
  {
   "cell_type": "code",
   "execution_count": null,
   "id": "ed9f19c2-3c0f-493d-b608-daa85a5965e5",
   "metadata": {},
   "outputs": [],
   "source": [
    "inputs, classes = next(iter(train_dataloader)) \n",
    "print(inputs,classes)"
   ]
  }
 ],
 "metadata": {
  "kernelspec": {
   "display_name": "Python 3 (ipykernel)",
   "language": "python",
   "name": "python3"
  },
  "language_info": {
   "codemirror_mode": {
    "name": "ipython",
    "version": 3
   },
   "file_extension": ".py",
   "mimetype": "text/x-python",
   "name": "python",
   "nbconvert_exporter": "python",
   "pygments_lexer": "ipython3",
   "version": "3.8.11"
  }
 },
 "nbformat": 4,
 "nbformat_minor": 5
}
