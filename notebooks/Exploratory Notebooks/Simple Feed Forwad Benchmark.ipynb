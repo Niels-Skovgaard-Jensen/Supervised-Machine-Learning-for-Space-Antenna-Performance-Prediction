{
 "cells": [
  {
   "cell_type": "code",
   "execution_count": 1,
   "id": "8c0ce738-58e2-46ee-9a65-64a69fee25dd",
   "metadata": {},
   "outputs": [
    {
     "name": "stderr",
     "output_type": "stream",
     "text": [
      "\u001b[34m\u001b[1mwandb\u001b[0m: Currently logged in as: \u001b[33mskoogy_dan\u001b[0m (use `wandb login --relogin` to force relogin)\n"
     ]
    },
    {
     "data": {
      "text/html": [
       "Tracking run with wandb version 0.12.11"
      ],
      "text/plain": [
       "<IPython.core.display.HTML object>"
      ]
     },
     "metadata": {},
     "output_type": "display_data"
    },
    {
     "data": {
      "text/html": [
       "Run data is saved locally in <code>C:\\Users\\Niels\\Documents\\GitHub\\Supervised-Machine-Learning-for-Space-Antenna-Performance-Prediction\\wandb\\run-20220308_132827-315bmm0q</code>"
      ],
      "text/plain": [
       "<IPython.core.display.HTML object>"
      ]
     },
     "metadata": {},
     "output_type": "display_data"
    },
    {
     "data": {
      "text/html": [
       "Syncing run <strong><a href=\"https://wandb.ai/skoogy_dan/my-test-project/runs/315bmm0q\" target=\"_blank\">young-feather-4</a></strong> to <a href=\"https://wandb.ai/skoogy_dan/my-test-project\" target=\"_blank\">Weights & Biases</a> (<a href=\"https://wandb.me/run\" target=\"_blank\">docs</a>)<br/>"
      ],
      "text/plain": [
       "<IPython.core.display.HTML object>"
      ]
     },
     "metadata": {},
     "output_type": "display_data"
    },
    {
     "data": {
      "text/html": [
       "<button onClick=\"this.nextSibling.style.display='block';this.style.display='none';\">Display W&B run</button><iframe src=\"https://wandb.ai/skoogy_dan/my-test-project/runs/315bmm0q?jupyter=true\" style=\"border:none;width:100%;height:420px;display:none;\"></iframe>"
      ],
      "text/plain": [
       "<wandb.sdk.wandb_run.Run at 0x26be796ba30>"
      ]
     },
     "execution_count": 1,
     "metadata": {},
     "output_type": "execute_result"
    }
   ],
   "source": [
    "# Standard Packages\n",
    "from torch.utils.data import random_split, DataLoader\n",
    "import torch\n",
    "import wandb\n",
    "from datetime import datetime\n",
    "from matplotlib import pyplot as plt\n",
    "# Custom Packages\n",
    "from NeuralNetworkModels.SimpleFeedForward import DirectFeedForwardNet\n",
    "from AntennaDatasets import AntennaDatasetLoaders\n",
    "\n",
    "# General Settings\n",
    "torch.manual_seed(42) # Manual seed for sanity\n",
    "device = torch.device(\"cuda:0\" if torch.cuda.is_available() else \"cpu\")\n",
    "\n",
    "\n",
    "wandb.init(project=\"my-test-project\", entity=\"skoogy_dan\")\n"
   ]
  },
  {
   "cell_type": "code",
   "execution_count": null,
   "id": "289806b6-a3da-454f-a91f-bfd8ec1754d9",
   "metadata": {},
   "outputs": [],
   "source": []
  },
  {
   "cell_type": "code",
   "execution_count": null,
   "id": "257ec4c5-b688-4cfd-9ca5-01db884cac77",
   "metadata": {},
   "outputs": [],
   "source": []
  },
  {
   "cell_type": "code",
   "execution_count": 2,
   "id": "e2b11887-9ac5-4a6b-8ef2-96ec5967cdfb",
   "metadata": {},
   "outputs": [
    {
     "name": "stdout",
     "output_type": "stream",
     "text": [
      "(4, 4)\n"
     ]
    }
   ],
   "source": [
    "CUTS_IN_DATASET = 4\n",
    "\n",
    "dataset = AntennaDatasetLoaders.ReflectorCutDataset(cuts = CUTS_IN_DATASET,flatten_output = True)\n",
    "print(dataset.antenna_parameters.shape)"
   ]
  },
  {
   "cell_type": "code",
   "execution_count": 3,
   "id": "a498d096-88df-4f8c-84ce-36f405ed17b1",
   "metadata": {},
   "outputs": [],
   "source": [
    "TEST_TRAIN_RATIO = 0.7\n",
    "BATCH_SIZE = 1\n",
    "train_len = int(len(dataset)*TEST_TRAIN_RATIO)\n",
    "train_set, test_set = random_split(dataset, [train_len, len(dataset) - train_len])\n",
    "\n",
    "train_dataloader = DataLoader(train_set, batch_size = BATCH_SIZE, shuffle=True)\n",
    "test_dataloader = DataLoader(test_set, batch_size = BATCH_SIZE, shuffle=True)"
   ]
  },
  {
   "cell_type": "code",
   "execution_count": 4,
   "id": "52f57f1c-6f1a-4d02-bfae-4e8c62c09f2c",
   "metadata": {},
   "outputs": [
    {
     "name": "stdout",
     "output_type": "stream",
     "text": [
      "tensor([[-0.2152,  0.2801, -0.0478,  ..., -0.1290,  0.0782, -0.1980],\n",
      "        [-0.0999,  0.5365, -0.0406,  ..., -0.2524,  0.0116, -0.0440]],\n",
      "       grad_fn=<AddmmBackward>)\n"
     ]
    }
   ],
   "source": [
    "\n",
    "#Define model\n",
    "model = DirectFeedForwardNet(in_features = 3,out_features = 4004,NN = 10)\n",
    "#Test Forward pass\n",
    "print(model(torch.randn(2,3).to(device)))"
   ]
  },
  {
   "cell_type": "code",
   "execution_count": 5,
   "id": "dc725eba-e59e-49e7-b02b-2158260ae561",
   "metadata": {},
   "outputs": [],
   "source": [
    "LEARNING_RATE = 4e-2\n",
    "\n",
    "criterion = torch.nn.MSELoss()"
   ]
  },
  {
   "cell_type": "code",
   "execution_count": 6,
   "id": "71bec362-c4cb-47d3-8acf-212cd4990e18",
   "metadata": {},
   "outputs": [
    {
     "name": "stdout",
     "output_type": "stream",
     "text": [
      "Training Loss 0.0038277101702988148\n",
      "Test Loss 0.0037915969733148813\n",
      "Training Loss 0.0004725236794911325\n",
      "Test Loss 0.005850824993103743\n",
      "Training Loss 0.00044620054541155696\n",
      "Test Loss 0.006139309145510197\n",
      "Training Loss 0.00044694216921925545\n",
      "Test Loss 0.005810227710753679\n",
      "Training Loss 0.000444492616225034\n",
      "Test Loss 0.005856419447809458\n",
      "Training Loss 0.00044176593655720353\n",
      "Test Loss 0.0060477000661194324\n",
      "Training Loss 0.0004453331930562854\n",
      "Test Loss 0.005832598078995943\n",
      "Training Loss 0.00044398073805496097\n",
      "Test Loss 0.005874232854694128\n",
      "Training Loss 0.00044520283699966967\n",
      "Test Loss 0.005767519120126963\n",
      "Training Loss 0.0004442406352609396\n",
      "Test Loss 0.006076055578887463\n",
      "Training time: 0:00:01.692058\n"
     ]
    }
   ],
   "source": [
    "EPOCHS = int(200)\n",
    "wandb.config = {\n",
    "  \"learning_rate\": LEARNING_RATE,\n",
    "  \"epochs\": EPOCHS,\n",
    "  \"batch_size\": BATCH_SIZE,\n",
    "  \"dataset_cuts\": CUTS_IN_DATASET\n",
    "}\n",
    "\n",
    "\n",
    "\n",
    "# Optional\n",
    "\n",
    "optimizer = torch.optim.AdamW(model.parameters(), lr=LEARNING_RATE)\n",
    "\n",
    "startTime = datetime.now()\n",
    "train_loss_array = []\n",
    "test_loss_array = []\n",
    "loss_array = []\n",
    "\n",
    "for epoch in range(EPOCHS):\n",
    "\n",
    "    epoch_training_loss = 0\n",
    "    epoch_training_targets = 0\n",
    "    train_batches = 0\n",
    "    for input_train_batch, target_train_batch in train_dataloader:\n",
    "        \n",
    "        ## Transfer Batch to Device\n",
    "        input_train_batch = input_train_batch.to(device)\n",
    "        target_train_batch = target_train_batch.to(device)\n",
    "        \n",
    "        prediction = model(input_train_batch)\n",
    "        \n",
    "        loss = criterion(input = prediction, target = target_train_batch)\n",
    "        epoch_training_loss += loss/(target_train_batch.shape[0]*target_train_batch.shape[1])\n",
    "        train_batches +=1\n",
    "        optimizer.zero_grad()\n",
    "        loss.backward()\n",
    "        optimizer.step()\n",
    "        \n",
    "    \n",
    "    \n",
    "    epoch_test_loss = 0\n",
    "    epoch_test_targets = 0\n",
    "    test_batches=0\n",
    "    with torch.no_grad():\n",
    "        \n",
    "        for input_test_batch, target_test_batch in test_dataloader:\n",
    "            \n",
    "            # Put thing to device\n",
    "            input_test_batch = input_test_batch.to(device)\n",
    "            target_test_batch = target_test_batch.to(device)\n",
    "            \n",
    "            \n",
    "            prediction = model(input_train_batch)\n",
    "            loss = criterion(input = prediction, target = target_test_batch)\n",
    "            epoch_test_loss += loss/(target_test_batch.shape[0]*target_test_batch.shape[1])\n",
    "            test_batches += 1\n",
    "    \n",
    "    if epoch%(EPOCHS/10) == 0:\n",
    "        print('Training Loss',(epoch_training_loss/train_batches).item())\n",
    "        print('Test Loss',(epoch_test_loss/test_batches).item())\n",
    "    \n",
    "    wandb.log({\"Training Loss\": epoch_training_loss.item(),\n",
    "               \"Test Loss\" : epoch_test_loss.item()})\n",
    "\n",
    "wandb.watch(model)\n",
    "\n",
    "print('Training time:', datetime.now()-startTime)"
   ]
  },
  {
   "cell_type": "code",
   "execution_count": 7,
   "id": "fdca3fab-4cae-4a4f-bd56-7d35f07dbd05",
   "metadata": {},
   "outputs": [
    {
     "name": "stdout",
     "output_type": "stream",
     "text": [
      "tensor([[0.0100, 0.6667, 0.0000]])\n"
     ]
    },
    {
     "data": {
      "text/plain": [
       "<matplotlib.legend.Legend at 0x26be7c1e9d0>"
      ]
     },
     "execution_count": 7,
     "metadata": {},
     "output_type": "execute_result"
    },
    {
     "data": {
      "image/png": "[encoded data removed]",
      "text/plain": [
       "<Figure size 432x288 with 1 Axes>"
      ]
     },
     "metadata": {
      "needs_background": "light"
     },
     "output_type": "display_data"
    },
    {
     "data": {
      "image/png": "[encoded data removed]",
      "text/plain": [
       "<Figure size 432x288 with 1 Axes>"
      ]
     },
     "metadata": {
      "needs_background": "light"
     },
     "output_type": "display_data"
    }
   ],
   "source": [
    "inp, tar = next(iter(train_dataloader)) \n",
    "print(inp)\n",
    "plt.figure()\n",
    "plt.title('Training set example')\n",
    "plt.plot(model(inp).flatten().detach(),label = 'Model Prediction')\n",
    "plt.plot(tar.flatten(),label ='Truth')\n",
    "plt.legend()\n",
    "\n",
    "inp, tar = next(iter(test_dataloader)) \n",
    "plt.figure()\n",
    "plt.title('Test set example')\n",
    "plt.plot(model(inp).flatten().detach(),label = 'Model Prediction')\n",
    "plt.plot(tar.flatten(),label = 'Truth')\n",
    "plt.legend()"
   ]
  },
  {
   "cell_type": "code",
   "execution_count": 8,
   "id": "88d5058f-3496-48ac-8538-e2453f32dd3d",
   "metadata": {},
   "outputs": [
    {
     "ename": "NameError",
     "evalue": "name 'MOMENTUM' is not defined",
     "output_type": "error",
     "traceback": [
      "\u001b[1;31m---------------------------------------------------------------------------\u001b[0m",
      "\u001b[1;31mNameError\u001b[0m                                 Traceback (most recent call last)",
      "\u001b[1;32m~\\AppData\\Local\\Temp/ipykernel_21048/521192683.py\u001b[0m in \u001b[0;36m<module>\u001b[1;34m\u001b[0m\n\u001b[0;32m      3\u001b[0m \u001b[1;33m\u001b[0m\u001b[0m\n\u001b[0;32m      4\u001b[0m \u001b[0moverFitModel\u001b[0m \u001b[1;33m=\u001b[0m \u001b[0mDirectFeedForwardNet\u001b[0m\u001b[1;33m(\u001b[0m\u001b[0min_features\u001b[0m \u001b[1;33m=\u001b[0m \u001b[1;36m3\u001b[0m\u001b[1;33m,\u001b[0m\u001b[0mout_features\u001b[0m \u001b[1;33m=\u001b[0m \u001b[1;36m4004\u001b[0m\u001b[1;33m,\u001b[0m\u001b[0mNN\u001b[0m \u001b[1;33m=\u001b[0m \u001b[1;36m100\u001b[0m\u001b[1;33m)\u001b[0m\u001b[1;33m\u001b[0m\u001b[1;33m\u001b[0m\u001b[0m\n\u001b[1;32m----> 5\u001b[1;33m \u001b[0moptimizer\u001b[0m \u001b[1;33m=\u001b[0m \u001b[0mtorch\u001b[0m\u001b[1;33m.\u001b[0m\u001b[0moptim\u001b[0m\u001b[1;33m.\u001b[0m\u001b[0mSGD\u001b[0m\u001b[1;33m(\u001b[0m\u001b[0moverFitModel\u001b[0m\u001b[1;33m.\u001b[0m\u001b[0mparameters\u001b[0m\u001b[1;33m(\u001b[0m\u001b[1;33m)\u001b[0m\u001b[1;33m,\u001b[0m \u001b[0mlr\u001b[0m\u001b[1;33m=\u001b[0m\u001b[0mLEARNING_RATE\u001b[0m\u001b[1;33m,\u001b[0m \u001b[0mmomentum\u001b[0m\u001b[1;33m=\u001b[0m\u001b[0mMOMENTUM\u001b[0m\u001b[1;33m)\u001b[0m\u001b[1;33m\u001b[0m\u001b[1;33m\u001b[0m\u001b[0m\n\u001b[0m\u001b[0;32m      6\u001b[0m \u001b[0minp\u001b[0m\u001b[1;33m,\u001b[0m \u001b[0mtar\u001b[0m \u001b[1;33m=\u001b[0m \u001b[0mnext\u001b[0m\u001b[1;33m(\u001b[0m\u001b[0miter\u001b[0m\u001b[1;33m(\u001b[0m\u001b[0mtrain_dataloader\u001b[0m\u001b[1;33m)\u001b[0m\u001b[1;33m)\u001b[0m\u001b[1;33m\u001b[0m\u001b[1;33m\u001b[0m\u001b[0m\n\u001b[0;32m      7\u001b[0m \u001b[1;32mfor\u001b[0m \u001b[0mepoch\u001b[0m \u001b[1;32min\u001b[0m \u001b[0mrange\u001b[0m\u001b[1;33m(\u001b[0m\u001b[0mEPOCHS\u001b[0m\u001b[1;33m)\u001b[0m\u001b[1;33m:\u001b[0m\u001b[1;33m\u001b[0m\u001b[1;33m\u001b[0m\u001b[0m\n",
      "\u001b[1;31mNameError\u001b[0m: name 'MOMENTUM' is not defined"
     ]
    }
   ],
   "source": [
    "## Test overfitting\n",
    "EPOCHS = int(2e3)\n",
    "\n",
    "overFitModel = DirectFeedForwardNet(in_features = 3,out_features = 4004,NN = 100)\n",
    "optimizer = torch.optim.SGD(overFitModel.parameters(), lr=LEARNING_RATE, momentum=MOMENTUM)\n",
    "inp, tar = next(iter(train_dataloader)) \n",
    "for epoch in range(EPOCHS):\n",
    "    prediction = overFitModel(inp)\n",
    "        \n",
    "    loss = criterion(input = prediction, target = tar)\n",
    "    optimizer.zero_grad()\n",
    "    loss.backward()\n",
    "    optimizer.step()\n",
    "    if epoch%(EPOCHS/10) == 0:\n",
    "        print('Loss', loss.item())\n",
    "    \n",
    "    \n",
    "plt.plot(overFitModel(inp).flatten().detach())\n",
    "plt.plot(tar.flatten())"
   ]
  },
  {
   "cell_type": "code",
   "execution_count": null,
   "id": "ed9f19c2-3c0f-493d-b608-daa85a5965e5",
   "metadata": {},
   "outputs": [],
   "source": [
    "inputs, classes = next(iter(train_dataloader)) \n",
    "print(inputs,classes)"
   ]
  }
 ],
 "metadata": {
  "kernelspec": {
   "display_name": "Python 3 (ipykernel)",
   "language": "python",
   "name": "python3"
  },
  "language_info": {
   "codemirror_mode": {
    "name": "ipython",
    "version": 3
   },
   "file_extension": ".py",
   "mimetype": "text/x-python",
   "name": "python",
   "nbconvert_exporter": "python",
   "pygments_lexer": "ipython3",
   "version": "3.8.12"
  }
 },
 "nbformat": 4,
 "nbformat_minor": 5
}
