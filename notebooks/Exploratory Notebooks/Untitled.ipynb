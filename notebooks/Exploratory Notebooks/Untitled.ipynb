{
 "cells": [
  {
   "cell_type": "code",
   "execution_count": 35,
   "id": "565c62eb-0de8-45ba-9119-211e7a845538",
   "metadata": {},
   "outputs": [
    {
     "name": "stdout",
     "output_type": "stream",
     "text": [
      "The autoreload extension is already loaded. To reload it, use:\n",
      "  %reload_ext autoreload\n"
     ]
    }
   ],
   "source": [
    "%load_ext autoreload\n",
    "%autoreload 2"
   ]
  },
  {
   "cell_type": "code",
   "execution_count": 63,
   "id": "56e81efa",
   "metadata": {},
   "outputs": [
    {
     "name": "stdout",
     "output_type": "stream",
     "text": [
      "parameters tensor([[0.0100, 0.4000, 0.0000]])\n",
      "Field Cuts: tensor([[[-3.9886e-02, -1.1229e-01, -2.5134e-16, -8.8881e-17],\n",
      "         [-3.5864e-02, -1.1596e-01, -1.9664e-16, -6.0601e-17],\n",
      "         [-3.1714e-02, -1.1944e-01, -2.4459e-16, -9.6585e-17],\n",
      "         ...,\n",
      "         [-3.1398e-02, -1.2380e-01,  1.0151e-16, -2.0273e-16],\n",
      "         [-3.5598e-02, -1.2043e-01,  1.3699e-16, -2.8258e-16],\n",
      "         [-3.9672e-02, -1.1689e-01,  5.6395e-17, -3.1269e-16]]])\n",
      "tensor([[[1.1917e-01, 2.6659e-16],\n",
      "         [1.2138e-01, 2.0577e-16],\n",
      "         [1.2358e-01, 2.6297e-16],\n",
      "         ...,\n",
      "         [1.2772e-01, 2.2672e-16],\n",
      "         [1.2558e-01, 3.1403e-16],\n",
      "         [1.2344e-01, 3.1774e-16]]])\n",
      "tensor([[[-1.9121, -2.8017],\n",
      "         [-1.8708, -2.8426],\n",
      "         [-1.8303, -2.7655],\n",
      "         ...,\n",
      "         [-1.8192, -1.1066],\n",
      "         [-1.8582, -1.1194],\n",
      "         [-1.8980, -1.3924]]])\n",
      "parameters tensor([[0.0100, 0.4889, 0.0000]])\n",
      "Field Cuts: tensor([[[-3.9886e-02, -1.1229e-01, -2.5134e-16, -8.8881e-17],\n",
      "         [-3.5864e-02, -1.1596e-01, -1.9664e-16, -6.0601e-17],\n",
      "         [-3.1714e-02, -1.1944e-01, -2.4459e-16, -9.6585e-17],\n",
      "         ...,\n",
      "         [-3.1398e-02, -1.2380e-01,  1.0151e-16, -2.0273e-16],\n",
      "         [-3.5598e-02, -1.2043e-01,  1.3699e-16, -2.8258e-16],\n",
      "         [-3.9672e-02, -1.1689e-01,  5.6395e-17, -3.1269e-16]]])\n",
      "tensor([[[1.0825e-01, 8.7676e-17],\n",
      "         [1.1088e-01, 7.6471e-17],\n",
      "         [1.1352e-01, 8.6348e-17],\n",
      "         ...,\n",
      "         [1.1430e-01, 2.9054e-16],\n",
      "         [1.1170e-01, 2.6907e-16],\n",
      "         [1.0911e-01, 3.1895e-16]]])\n",
      "tensor([[[-0.7625, -2.7613],\n",
      "         [-0.7191, -2.1574],\n",
      "         [-0.6771, -1.7617],\n",
      "         ...,\n",
      "         [-0.6795, -2.6267],\n",
      "         [-0.7214, -2.6651],\n",
      "         [-0.7647, -2.6629]]])\n"
     ]
    }
   ],
   "source": [
    "from ssapp.data.AntennaDatasetLoaders import ReflectorCutDatasetComplex, ReflectorCutDataset\n",
    "from torch.utils.data.dataloader import DataLoader\n",
    "import torch\n",
    "\n",
    "CUTS = 2\n",
    "dataset_complex = ReflectorCutDatasetComplex(cuts = CUTS, mag_phase_transform=True)\n",
    "dataset_simple = ReflectorCutDataset(cuts = CUTS)\n",
    "\n",
    "complex_dataloader = DataLoader(dataset_complex)\n",
    "dataloaderSimple = DataLoader(dataset_simple)\n",
    "\n",
    "\n",
    "\n",
    "\n",
    "\n"
   ]
  },
  {
   "cell_type": "code",
   "execution_count": 64,
   "id": "2faab2bf",
   "metadata": {},
   "outputs": [
    {
     "name": "stdout",
     "output_type": "stream",
     "text": [
      "parameters tensor([[0.0100, 0.4000, 0.0000]])\n",
      "tensor([[[1.1917e-01, 2.6659e-16],\n",
      "         [1.2138e-01, 2.0577e-16],\n",
      "         [1.2358e-01, 2.6297e-16],\n",
      "         ...,\n",
      "         [1.2772e-01, 2.2672e-16],\n",
      "         [1.2558e-01, 3.1403e-16],\n",
      "         [1.2344e-01, 3.1774e-16]]])\n",
      "tensor([[[-1.9121, -2.8017],\n",
      "         [-1.8708, -2.8426],\n",
      "         [-1.8303, -2.7655],\n",
      "         ...,\n",
      "         [-1.8192, -1.1066],\n",
      "         [-1.8582, -1.1194],\n",
      "         [-1.8980, -1.3924]]])\n",
      "parameters tensor([[0.0100, 0.4889, 0.0000]])\n",
      "tensor([[[1.0825e-01, 8.7676e-17],\n",
      "         [1.1088e-01, 7.6471e-17],\n",
      "         [1.1352e-01, 8.6348e-17],\n",
      "         ...,\n",
      "         [1.1430e-01, 2.9054e-16],\n",
      "         [1.1170e-01, 2.6907e-16],\n",
      "         [1.0911e-01, 3.1895e-16]]])\n",
      "tensor([[[-0.7625, -2.7613],\n",
      "         [-0.7191, -2.1574],\n",
      "         [-0.6771, -1.7617],\n",
      "         ...,\n",
      "         [-0.6795, -2.6267],\n",
      "         [-0.7214, -2.6651],\n",
      "         [-0.7647, -2.6629]]])\n"
     ]
    }
   ],
   "source": [
    "for parameters, mag, phase in iter(complex_dataloader):\n",
    "    print('parameters',parameters)\n",
    "    print(mag)\n",
    "    print(phase)"
   ]
  },
  {
   "cell_type": "code",
   "execution_count": 48,
   "id": "b1d3116d",
   "metadata": {},
   "outputs": [
    {
     "ename": "ValueError",
     "evalue": "Some errors were detected !\n    Line #365 (got 7 columns instead of 4)\n    Line #728 (got 7 columns instead of 4)",
     "output_type": "error",
     "traceback": [
      "\u001b[1;31m---------------------------------------------------------------------------\u001b[0m",
      "\u001b[1;31mValueError\u001b[0m                                Traceback (most recent call last)",
      "\u001b[1;32m~\\AppData\\Local\\Temp/ipykernel_22728/562904386.py\u001b[0m in \u001b[0;36m<module>\u001b[1;34m\u001b[0m\n\u001b[0;32m      1\u001b[0m \u001b[1;32mfrom\u001b[0m \u001b[0mssapp\u001b[0m\u001b[1;33m.\u001b[0m\u001b[0mdata\u001b[0m\u001b[1;33m.\u001b[0m\u001b[0mAntennaDatasetLoaders\u001b[0m \u001b[1;32mimport\u001b[0m \u001b[0mPatchAntennaDataset\u001b[0m\u001b[1;33m\u001b[0m\u001b[1;33m\u001b[0m\u001b[0m\n\u001b[0;32m      2\u001b[0m \u001b[1;33m\u001b[0m\u001b[0m\n\u001b[1;32m----> 3\u001b[1;33m \u001b[0mtest_dataset\u001b[0m \u001b[1;33m=\u001b[0m \u001b[0mPatchAntennaDataset\u001b[0m\u001b[1;33m(\u001b[0m\u001b[0mcuts\u001b[0m \u001b[1;33m=\u001b[0m \u001b[1;36m1\u001b[0m\u001b[1;33m)\u001b[0m\u001b[1;33m\u001b[0m\u001b[1;33m\u001b[0m\u001b[0m\n\u001b[0m\u001b[0;32m      4\u001b[0m \u001b[1;33m\u001b[0m\u001b[0m\n\u001b[0;32m      5\u001b[0m \u001b[1;33m\u001b[0m\u001b[0m\n",
      "\u001b[1;32mc:\\users\\niels\\documents\\github\\supervised-machine-learning-for-space-antenna-performance-prediction\\ssapp\\data\\AntennaDatasetLoaders.py\u001b[0m in \u001b[0;36m__init__\u001b[1;34m(self, cuts, flatten_output, standardized_parameters)\u001b[0m\n\u001b[0;32m    233\u001b[0m \u001b[1;33m\u001b[0m\u001b[0m\n\u001b[0;32m    234\u001b[0m         \u001b[0mfile_to_open\u001b[0m \u001b[1;33m=\u001b[0m \u001b[0mcut_dir\u001b[0m \u001b[1;33m/\u001b[0m \u001b[1;34m'0.cut'\u001b[0m\u001b[1;33m\u001b[0m\u001b[1;33m\u001b[0m\u001b[0m\n\u001b[1;32m--> 235\u001b[1;33m         \u001b[0mself\u001b[0m\u001b[1;33m.\u001b[0m\u001b[0mfield_cut\u001b[0m \u001b[1;33m=\u001b[0m \u001b[0mnp\u001b[0m\u001b[1;33m.\u001b[0m\u001b[0mgenfromtxt\u001b[0m\u001b[1;33m(\u001b[0m\u001b[0mfile_to_open\u001b[0m\u001b[1;33m,\u001b[0m \u001b[0mskip_header\u001b[0m\u001b[1;33m=\u001b[0m\u001b[1;36m2\u001b[0m\u001b[1;33m,\u001b[0m\u001b[0mdtype\u001b[0m \u001b[1;33m=\u001b[0m \u001b[0mnp\u001b[0m\u001b[1;33m.\u001b[0m\u001b[0mfloat32\u001b[0m\u001b[1;33m)\u001b[0m\u001b[1;33m.\u001b[0m\u001b[0mreshape\u001b[0m\u001b[1;33m(\u001b[0m\u001b[1;36m1\u001b[0m\u001b[1;33m,\u001b[0m\u001b[1;36m1001\u001b[0m\u001b[1;33m,\u001b[0m\u001b[1;36m4\u001b[0m\u001b[1;33m)\u001b[0m\u001b[1;33m\u001b[0m\u001b[1;33m\u001b[0m\u001b[0m\n\u001b[0m\u001b[0;32m    236\u001b[0m         \u001b[1;32mfor\u001b[0m \u001b[0mi\u001b[0m \u001b[1;32min\u001b[0m \u001b[0mrange\u001b[0m\u001b[1;33m(\u001b[0m\u001b[1;36m1\u001b[0m\u001b[1;33m,\u001b[0m\u001b[0mcuts\u001b[0m\u001b[1;33m)\u001b[0m\u001b[1;33m:\u001b[0m\u001b[1;33m\u001b[0m\u001b[1;33m\u001b[0m\u001b[0m\n\u001b[0;32m    237\u001b[0m             \u001b[0mfile_to_open\u001b[0m \u001b[1;33m=\u001b[0m \u001b[0mcut_dir\u001b[0m \u001b[1;33m/\u001b[0m \u001b[1;33m(\u001b[0m\u001b[0mstr\u001b[0m\u001b[1;33m(\u001b[0m\u001b[0mi\u001b[0m\u001b[1;33m)\u001b[0m\u001b[1;33m+\u001b[0m\u001b[1;34m'.cut'\u001b[0m\u001b[1;33m)\u001b[0m\u001b[1;33m\u001b[0m\u001b[1;33m\u001b[0m\u001b[0m\n",
      "\u001b[1;32m~\\.conda\\envs\\Kandidatspeciale\\lib\\site-packages\\numpy\\lib\\npyio.py\u001b[0m in \u001b[0;36mgenfromtxt\u001b[1;34m(fname, dtype, comments, delimiter, skip_header, skip_footer, converters, missing_values, filling_values, usecols, names, excludelist, deletechars, replace_space, autostrip, case_sensitive, defaultfmt, unpack, usemask, loose, invalid_raise, max_rows, encoding)\u001b[0m\n\u001b[0;32m   2078\u001b[0m             \u001b[1;31m# Raise an exception ?\u001b[0m\u001b[1;33m\u001b[0m\u001b[1;33m\u001b[0m\u001b[1;33m\u001b[0m\u001b[0m\n\u001b[0;32m   2079\u001b[0m             \u001b[1;32mif\u001b[0m \u001b[0minvalid_raise\u001b[0m\u001b[1;33m:\u001b[0m\u001b[1;33m\u001b[0m\u001b[1;33m\u001b[0m\u001b[0m\n\u001b[1;32m-> 2080\u001b[1;33m                 \u001b[1;32mraise\u001b[0m \u001b[0mValueError\u001b[0m\u001b[1;33m(\u001b[0m\u001b[0merrmsg\u001b[0m\u001b[1;33m)\u001b[0m\u001b[1;33m\u001b[0m\u001b[1;33m\u001b[0m\u001b[0m\n\u001b[0m\u001b[0;32m   2081\u001b[0m             \u001b[1;31m# Issue a warning ?\u001b[0m\u001b[1;33m\u001b[0m\u001b[1;33m\u001b[0m\u001b[1;33m\u001b[0m\u001b[0m\n\u001b[0;32m   2082\u001b[0m             \u001b[1;32melse\u001b[0m\u001b[1;33m:\u001b[0m\u001b[1;33m\u001b[0m\u001b[1;33m\u001b[0m\u001b[0m\n",
      "\u001b[1;31mValueError\u001b[0m: Some errors were detected !\n    Line #365 (got 7 columns instead of 4)\n    Line #728 (got 7 columns instead of 4)"
     ]
    }
   ],
   "source": [
    "from ssapp.data.AntennaDatasetLoaders import PatchAntennaDataset\n",
    "\n",
    "test_dataset = PatchAntennaDataset(cuts = 1)\n",
    "\n",
    "\n"
   ]
  }
 ],
 "metadata": {
  "kernelspec": {
   "display_name": "Python 3 (ipykernel)",
   "language": "python",
   "name": "python3"
  },
  "language_info": {
   "codemirror_mode": {
    "name": "ipython",
    "version": 3
   },
   "file_extension": ".py",
   "mimetype": "text/x-python",
   "name": "python",
   "nbconvert_exporter": "python",
   "pygments_lexer": "ipython3",
   "version": "3.8.12"
  }
 },
 "nbformat": 4,
 "nbformat_minor": 5
}
