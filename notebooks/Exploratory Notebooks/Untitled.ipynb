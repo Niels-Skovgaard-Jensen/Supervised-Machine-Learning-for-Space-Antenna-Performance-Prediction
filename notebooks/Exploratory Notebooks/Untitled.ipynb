{
 "cells": [
  {
   "cell_type": "code",
   "execution_count": 87,
   "id": "565c62eb-0de8-45ba-9119-211e7a845538",
   "metadata": {},
   "outputs": [
    {
     "name": "stdout",
     "output_type": "stream",
     "text": [
      "The autoreload extension is already loaded. To reload it, use:\n",
      "  %reload_ext autoreload\n"
     ]
    }
   ],
   "source": [
    "%load_ext autoreload\n",
    "%autoreload 2"
   ]
  },
  {
   "cell_type": "code",
   "execution_count": 88,
   "id": "56e81efa",
   "metadata": {},
   "outputs": [],
   "source": [
    "from ssapp.data.AntennaDatasetLoaders import ReflectorCutDatasetComplex, ReflectorCutDataset\n",
    "from torch.utils.data.dataloader import DataLoader\n",
    "import torch\n",
    "\n",
    "CUTS = 2\n",
    "dataset_complex = ReflectorCutDatasetComplex(cuts = CUTS, mag_phase_transform=True)\n",
    "dataset_simple = ReflectorCutDataset(cuts = CUTS)\n",
    "\n",
    "complex_dataloader = DataLoader(dataset_complex)\n",
    "dataloaderSimple = DataLoader(dataset_simple)\n",
    "\n",
    "\n",
    "\n",
    "\n",
    "\n"
   ]
  },
  {
   "cell_type": "code",
   "execution_count": 89,
   "id": "2faab2bf",
   "metadata": {},
   "outputs": [
    {
     "name": "stdout",
     "output_type": "stream",
     "text": [
      "parameters tensor([[0.0100, 0.4000, 0.0000]])\n",
      "tensor([[[1.1917e-01, 2.6659e-16],\n",
      "         [1.2138e-01, 2.0577e-16],\n",
      "         [1.2358e-01, 2.6297e-16],\n",
      "         ...,\n",
      "         [1.2772e-01, 2.2672e-16],\n",
      "         [1.2558e-01, 3.1403e-16],\n",
      "         [1.2344e-01, 3.1774e-16]]])\n",
      "tensor([[[-1.9121, -2.8017],\n",
      "         [-1.8708, -2.8426],\n",
      "         [-1.8303, -2.7655],\n",
      "         ...,\n",
      "         [-1.8192, -1.1066],\n",
      "         [-1.8582, -1.1194],\n",
      "         [-1.8980, -1.3924]]])\n",
      "parameters tensor([[0.0100, 0.4889, 0.0000]])\n",
      "tensor([[[1.0825e-01, 8.7676e-17],\n",
      "         [1.1088e-01, 7.6471e-17],\n",
      "         [1.1352e-01, 8.6348e-17],\n",
      "         ...,\n",
      "         [1.1430e-01, 2.9054e-16],\n",
      "         [1.1170e-01, 2.6907e-16],\n",
      "         [1.0911e-01, 3.1895e-16]]])\n",
      "tensor([[[-0.7625, -2.7613],\n",
      "         [-0.7191, -2.1574],\n",
      "         [-0.6771, -1.7617],\n",
      "         ...,\n",
      "         [-0.6795, -2.6267],\n",
      "         [-0.7214, -2.6651],\n",
      "         [-0.7647, -2.6629]]])\n"
     ]
    }
   ],
   "source": [
    "for parameters, mag, phase in iter(complex_dataloader):\n",
    "    print('parameters',parameters)\n",
    "    print(mag)\n",
    "    print(phase)"
   ]
  },
  {
   "cell_type": "code",
   "execution_count": 90,
   "id": "b1d3116d",
   "metadata": {},
   "outputs": [
    {
     "name": "stdout",
     "output_type": "stream",
     "text": [
      "c:\\Users\\Niels\\Documents\\GitHub\\Supervised-Machine-Learning-for-Space-Antenna-Performance-Prediction\\data\\raw\\PatchAntennaDataset1\\cut_files\n",
      "[[-2.   5.   2.9]]\n",
      "(1, 361, 3, 4)\n"
     ]
    }
   ],
   "source": [
    "from ssapp.data.AntennaDatasetLoaders import get_raw_dataset_path\n",
    "import numpy as np\n",
    "\n",
    "cut_dir, param_dir = get_raw_dataset_path('PatchAntennaDataset1')\n",
    "print(cut_dir)\n",
    "\n",
    "file_to_open = cut_dir / '0.cut'\n",
    "param_file = param_dir / 'lookup.log'\n",
    "cuts = 1 \n",
    "\n",
    "antenna_parameters = np.genfromtxt(param_file, skip_header=1,skip_footer=343-cuts,dtype = np.float32)\n",
    "antenna_parameters = antenna_parameters.reshape(cuts,4)[:,1:4]\n",
    "print(antenna_parameters)\n",
    "\n",
    "\n",
    "V_INI, V_INC, V_NUM, C, ICOMP, ICUT, NCOMP = np.genfromtxt(file_to_open, max_rows=1, skip_header=1)\n",
    "V_NUM = int(V_NUM)\n",
    "\n",
    "phi_cut = np.genfromtxt(file_to_open, skip_header=2, max_rows= V_NUM).reshape(1,V_NUM,1,4)\n",
    "for i in range(1,3):\n",
    "    phi_cut=np.append(phi_cut, np.genfromtxt(file_to_open, skip_header=2+i*(V_NUM+2), max_rows= V_NUM).reshape(1,V_NUM,1,4),axis=2)\n",
    "\n",
    "print(phi_cut.shape)\n"
   ]
  },
  {
   "cell_type": "code",
   "execution_count": 91,
   "id": "c9f0257d",
   "metadata": {},
   "outputs": [
    {
     "name": "stdout",
     "output_type": "stream",
     "text": [
      "torch.Size([1, 361, 3, 4])\n",
      "tensor([[[[0.0358, 0.2153, 0.0272, 0.2058],\n",
      "          [0.0562, 0.2176, 0.0214, 0.2084],\n",
      "          [0.0551, 0.2153, 0.0252, 0.2051]],\n",
      "\n",
      "         [[0.0603, 0.2177, 0.0256, 0.2075],\n",
      "          [0.0603, 0.2183, 0.0234, 0.2106],\n",
      "          [0.0578, 0.2182, 0.0224, 0.2071]],\n",
      "\n",
      "         [[0.0585, 0.2169, 0.0251, 0.2057],\n",
      "          [0.0585, 0.2185, 0.0267, 0.2076],\n",
      "          [0.0572, 0.2183, 0.0235, 0.2096]],\n",
      "\n",
      "         ...,\n",
      "\n",
      "         [[0.2958, 0.3324, 0.3240, 0.2891],\n",
      "          [0.2939, 0.3342, 0.3248, 0.2848],\n",
      "          [0.2967, 0.3332, 0.3247, 0.2890]],\n",
      "\n",
      "         [[0.2948, 0.3318, 0.3261, 0.2887],\n",
      "          [0.2926, 0.3355, 0.3249, 0.2855],\n",
      "          [0.2933, 0.3332, 0.3238, 0.2890]],\n",
      "\n",
      "         [[0.2933, 0.3356, 0.3224, 0.2893],\n",
      "          [0.2939, 0.3352, 0.3252, 0.2897],\n",
      "          [0.2945, 0.3200, 0.3051, 0.3287]]]], grad_fn=<ViewBackward>)\n"
     ]
    }
   ],
   "source": [
    "from ssapp.models.NeuralNetworkModels.Autoencoders import PatchAntenna1ConvAutoEncoder\n",
    "from ssapp.data.AntennaDatasetLoaders import PatchAntennaDatasetComplex,PatchAntennaDataset\n",
    "from torch.utils.data.dataloader import DataLoader\n",
    "from sklearn.preprocessing import StandardScaler\n",
    "from torch import optim\n",
    "from torch import nn\n",
    "\n",
    "\n",
    "data = PatchAntennaDataset(cuts=20)\n",
    "patch_dataloader = DataLoader(data,batch_size=1)\n",
    "\n",
    "model = PatchAntenna1ConvAutoEncoder(Latent_size = 20)\n",
    "\n",
    "params,test_input = next(iter(patch_dataloader))\n",
    "print(test_input.shape)\n",
    "\n",
    "out = model.encode(test_input.float())\n",
    "\n",
    "out = model.decode(out)\n",
    "\n",
    "out = model(test_input.float())\n",
    "print(out)\n",
    "#  use gpu if available\n",
    "\n",
    "\n",
    "# create a model from `AE` autoencoder class\n",
    "# load it to the specified device, either gpu or cpu\n",
    "\n",
    "\n",
    "# create an optimizer object\n",
    "# Adam optimizer with learning rate 1e-3\n",
    "optimizer = optim.Adam(model.parameters(), lr=1e-4)\n",
    "\n",
    "# mean-squared error loss\n",
    "criterion = nn.MSELoss()"
   ]
  },
  {
   "cell_type": "code",
   "execution_count": 92,
   "id": "860d8d38",
   "metadata": {},
   "outputs": [
    {
     "name": "stdout",
     "output_type": "stream",
     "text": [
      "epoch : 1/50, loss = 1.805996597e-01\n",
      "epoch : 6/50, loss = 3.487032279e-02\n",
      "epoch : 11/50, loss = 2.837988921e-02\n",
      "epoch : 16/50, loss = 2.856669016e-02\n",
      "epoch : 21/50, loss = 2.842948027e-02\n",
      "epoch : 26/50, loss = 2.843145840e-02\n",
      "epoch : 31/50, loss = 2.788212337e-02\n",
      "epoch : 36/50, loss = 2.730649151e-02\n",
      "epoch : 41/50, loss = 2.596866712e-02\n",
      "epoch : 46/50, loss = 2.486278862e-02\n"
     ]
    }
   ],
   "source": [
    "EPOCHS = 50\n",
    "data = PatchAntennaDataset(cuts = 10)\n",
    "patch_dataloader = DataLoader(data,batch_size=1)\n",
    "model = PatchAntenna1ConvAutoEncoder(Latent_size = 20)\n",
    "optimizer = optim.Adam(model.parameters(), lr=1e-4)\n",
    "# mean-squared error loss\n",
    "criterion = nn.MSELoss()\n",
    "for epoch in range(EPOCHS):\n",
    "    \n",
    "    for params, field in patch_dataloader:\n",
    "    # reset the gradients back to zero\n",
    "    # PyTorch accumulates gradients on subsequent backward passes\n",
    "        optimizer.zero_grad()\n",
    "        field = field.float()\n",
    "        # compute reconstructions\n",
    "        outputs = model(field)\n",
    "            \n",
    "        # compute training reconstruction loss\n",
    "        train_loss = criterion(outputs, field)\n",
    "            \n",
    "        # compute accumulated gradients\n",
    "        train_loss.backward()\n",
    "            \n",
    "        # perform parameter update based on current gradients\n",
    "        optimizer.step()\n",
    "            \n",
    "        # add the mini-batch training loss to epoch loss\n",
    "        loss = train_loss.item()\n",
    "        \n",
    "        # compute the epoch training loss\n",
    "        loss = loss\n",
    "    \n",
    "    # display the epoch training loss\n",
    "    if epoch % (EPOCHS/10) == 0:\n",
    "        print(\"epoch : {}/{}, loss = {:.9e}\".format(epoch + 1, EPOCHS, loss))"
   ]
  },
  {
   "cell_type": "code",
   "execution_count": 94,
   "id": "c3f5bfaf",
   "metadata": {},
   "outputs": [
    {
     "data": {
      "text/plain": [
       "<matplotlib.image.AxesImage at 0x20544f476a0>"
      ]
     },
     "execution_count": 94,
     "metadata": {},
     "output_type": "execute_result"
    },
    {
     "data": {
      "image/png": "[encoded data removed]",
      "text/plain": [
       "<Figure size 432x288 with 1 Axes>"
      ]
     },
     "metadata": {
      "needs_background": "light"
     },
     "output_type": "display_data"
    },
    {
     "data": {
      "image/png": "[encoded data removed]",
      "text/plain": [
       "<Figure size 432x288 with 1 Axes>"
      ]
     },
     "metadata": {
      "needs_background": "light"
     },
     "output_type": "display_data"
    }
   ],
   "source": [
    "from matplotlib import pyplot as plt\n",
    "params,test_input = next(iter(patch_dataloader))\n",
    "\n",
    "output = model(test_input.float())\n",
    "\n",
    "plt.figure()\n",
    "plt.imshow(torch.abs(test_input[0,:,:,1:2]),aspect=1/100)\n",
    "plt.figure()\n",
    "plt.imshow(torch.abs(output[0,:,:,1:2].detach()),aspect=1/100)"
   ]
  }
 ],
 "metadata": {
  "kernelspec": {
   "display_name": "Python 3 (ipykernel)",
   "language": "python",
   "name": "python3"
  },
  "language_info": {
   "codemirror_mode": {
    "name": "ipython",
    "version": 3
   },
   "file_extension": ".py",
   "mimetype": "text/x-python",
   "name": "python",
   "nbconvert_exporter": "python",
   "pygments_lexer": "ipython3",
   "version": "3.8.12"
  }
 },
 "nbformat": 4,
 "nbformat_minor": 5
}
