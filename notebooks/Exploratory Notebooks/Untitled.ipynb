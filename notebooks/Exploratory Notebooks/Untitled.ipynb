{
 "cells": [
  {
   "cell_type": "code",
   "execution_count": 28,
   "id": "565c62eb-0de8-45ba-9119-211e7a845538",
   "metadata": {},
   "outputs": [
    {
     "name": "stdout",
     "output_type": "stream",
     "text": [
      "The autoreload extension is already loaded. To reload it, use:\n",
      "  %reload_ext autoreload\n"
     ]
    }
   ],
   "source": [
    "%load_ext autoreload\n",
    "%autoreload 2"
   ]
  },
  {
   "cell_type": "code",
   "execution_count": 29,
   "id": "56e81efa",
   "metadata": {},
   "outputs": [],
   "source": [
    "from ssapp.data.AntennaDatasetLoaders import ReflectorCutDatasetComplex, ReflectorCutDataset\n",
    "from torch.utils.data.dataloader import DataLoader\n",
    "import torch\n",
    "\n",
    "CUTS = 2\n",
    "dataset_complex = ReflectorCutDatasetComplex(cuts = CUTS, mag_phase_transform=True)\n",
    "dataset_simple = ReflectorCutDataset(cuts = CUTS)\n",
    "\n",
    "complex_dataloader = DataLoader(dataset_complex)\n",
    "dataloaderSimple = DataLoader(dataset_simple)\n",
    "\n",
    "\n",
    "\n",
    "\n",
    "\n"
   ]
  },
  {
   "cell_type": "code",
   "execution_count": 30,
   "id": "2faab2bf",
   "metadata": {},
   "outputs": [
    {
     "name": "stdout",
     "output_type": "stream",
     "text": [
      "parameters tensor([[0.0100, 0.4000, 0.0000]])\n",
      "tensor([[[1.1917e-01, 2.6659e-16],\n",
      "         [1.2138e-01, 2.0577e-16],\n",
      "         [1.2358e-01, 2.6297e-16],\n",
      "         ...,\n",
      "         [1.2772e-01, 2.2672e-16],\n",
      "         [1.2558e-01, 3.1403e-16],\n",
      "         [1.2344e-01, 3.1774e-16]]])\n",
      "tensor([[[-1.9121, -2.8017],\n",
      "         [-1.8708, -2.8426],\n",
      "         [-1.8303, -2.7655],\n",
      "         ...,\n",
      "         [-1.8192, -1.1066],\n",
      "         [-1.8582, -1.1194],\n",
      "         [-1.8980, -1.3924]]])\n",
      "parameters tensor([[0.0100, 0.4889, 0.0000]])\n",
      "tensor([[[1.0825e-01, 8.7676e-17],\n",
      "         [1.1088e-01, 7.6471e-17],\n",
      "         [1.1352e-01, 8.6348e-17],\n",
      "         ...,\n",
      "         [1.1430e-01, 2.9054e-16],\n",
      "         [1.1170e-01, 2.6907e-16],\n",
      "         [1.0911e-01, 3.1895e-16]]])\n",
      "tensor([[[-0.7625, -2.7613],\n",
      "         [-0.7191, -2.1574],\n",
      "         [-0.6771, -1.7617],\n",
      "         ...,\n",
      "         [-0.6795, -2.6267],\n",
      "         [-0.7214, -2.6651],\n",
      "         [-0.7647, -2.6629]]])\n"
     ]
    }
   ],
   "source": [
    "for parameters, mag, phase in iter(complex_dataloader):\n",
    "    print('parameters',parameters)\n",
    "    print(mag)\n",
    "    print(phase)"
   ]
  },
  {
   "cell_type": "code",
   "execution_count": 31,
   "id": "b1d3116d",
   "metadata": {},
   "outputs": [
    {
     "name": "stdout",
     "output_type": "stream",
     "text": [
      "c:\\Users\\Niels\\Documents\\GitHub\\Supervised-Machine-Learning-for-Space-Antenna-Performance-Prediction\\data\\raw\\PatchAntennaDataset1\\cut_files\n",
      "[[-2.   5.   2.9]]\n",
      "(1, 361, 3, 4)\n"
     ]
    }
   ],
   "source": [
    "from ssapp.data.AntennaDatasetLoaders import get_raw_dataset_path\n",
    "import numpy as np\n",
    "\n",
    "cut_dir, param_dir = get_raw_dataset_path('PatchAntennaDataset1')\n",
    "print(cut_dir)\n",
    "\n",
    "file_to_open = cut_dir / '0.cut'\n",
    "param_file = param_dir / 'lookup.log'\n",
    "cuts = 1 \n",
    "\n",
    "antenna_parameters = np.genfromtxt(param_file, skip_header=1,skip_footer=343-cuts,dtype = np.float32)\n",
    "antenna_parameters = antenna_parameters.reshape(cuts,4)[:,1:4]\n",
    "print(antenna_parameters)\n",
    "\n",
    "\n",
    "V_INI, V_INC, V_NUM, C, ICOMP, ICUT, NCOMP = np.genfromtxt(file_to_open, max_rows=1, skip_header=1)\n",
    "V_NUM = int(V_NUM)\n",
    "\n",
    "phi_cut = np.genfromtxt(file_to_open, skip_header=2, max_rows= V_NUM).reshape(1,V_NUM,1,4)\n",
    "for i in range(1,3):\n",
    "    phi_cut=np.append(phi_cut, np.genfromtxt(file_to_open, skip_header=2+i*(V_NUM+2), max_rows= V_NUM).reshape(1,V_NUM,1,4),axis=2)\n",
    "\n",
    "print(phi_cut.shape)\n"
   ]
  },
  {
   "cell_type": "code",
   "execution_count": 32,
   "id": "c9f0257d",
   "metadata": {},
   "outputs": [
    {
     "name": "stdout",
     "output_type": "stream",
     "text": [
      "torch.Size([1, 361, 3, 4])\n",
      "tensor([[[[ 0.0164, -0.0492,  0.0156, -0.0470],\n",
      "          [-0.0181, -0.0412,  0.0192, -0.0324],\n",
      "          [ 0.0081, -0.0627,  0.0089, -0.0342]],\n",
      "\n",
      "         [[-0.0285, -0.0628,  0.0244, -0.0246],\n",
      "          [-0.0171, -0.0622,  0.0242, -0.0322],\n",
      "          [-0.0110, -0.0596,  0.0148, -0.0465]],\n",
      "\n",
      "         [[-0.0032, -0.0525,  0.0192, -0.0373],\n",
      "          [ 0.0059, -0.0525,  0.0334, -0.0432],\n",
      "          [ 0.0042, -0.0518,  0.0153, -0.0386]],\n",
      "\n",
      "         ...,\n",
      "\n",
      "         [[ 0.0257,  0.0606,  0.0265,  0.0414],\n",
      "          [ 0.0417,  0.0630,  0.0437,  0.0636],\n",
      "          [ 0.0309,  0.0550,  0.0322,  0.0538]],\n",
      "\n",
      "         [[ 0.0384,  0.0623,  0.0294,  0.0265],\n",
      "          [ 0.0461,  0.0601,  0.0425,  0.0534],\n",
      "          [ 0.0448,  0.0569,  0.0463,  0.0648]],\n",
      "\n",
      "         [[ 0.0436,  0.0647,  0.0331,  0.0499],\n",
      "          [ 0.0437,  0.0654,  0.0299,  0.0505],\n",
      "          [ 0.0423,  0.0562,  0.0419,  0.0573]]]], grad_fn=<ViewBackward>)\n"
     ]
    }
   ],
   "source": [
    "from ssapp.models.NeuralNetworkModels.Autoencoders import PatchAntenna1ConvAutoEncoder\n",
    "from ssapp.data.AntennaDatasetLoaders import PatchAntennaDatasetComplex,PatchAntennaDataset\n",
    "from torch.utils.data.dataloader import DataLoader\n",
    "from sklearn.preprocessing import StandardScaler\n",
    "from torch import optim\n",
    "from torch import nn\n",
    "\n",
    "\n",
    "data = PatchAntennaDataset(cuts=20)\n",
    "patch_dataloader = DataLoader(data,batch_size=1)\n",
    "\n",
    "model = PatchAntenna1ConvAutoEncoder(Latent_size = 20)\n",
    "\n",
    "params,test_input = next(iter(patch_dataloader))\n",
    "print(test_input.shape)\n",
    "\n",
    "out = model.encode(test_input.float())\n",
    "\n",
    "out = model.decode(out)\n",
    "\n",
    "out = model(test_input.float())\n",
    "print(out)\n",
    "#  use gpu if available\n",
    "\n",
    "\n",
    "# create a model from `AE` autoencoder class\n",
    "# load it to the specified device, either gpu or cpu\n",
    "\n",
    "\n",
    "# create an optimizer object\n",
    "# Adam optimizer with learning rate 1e-3\n",
    "optimizer = optim.Adam(model.parameters(), lr=1e-4)\n",
    "\n",
    "# mean-squared error loss\n",
    "criterion = nn.MSELoss()"
   ]
  },
  {
   "cell_type": "code",
   "execution_count": 33,
   "id": "860d8d38",
   "metadata": {},
   "outputs": [
    {
     "data": {
      "image/png": "[encoded data removed]",
      "text/plain": [
       "<Figure size 432x288 with 1 Axes>"
      ]
     },
     "metadata": {},
     "output_type": "display_data"
    },
    {
     "name": "stdout",
     "output_type": "stream",
     "text": [
      "epoch : 19/20, loss = 1.657412648e-02\n"
     ]
    },
    {
     "data": {
      "text/plain": [
       "True"
      ]
     },
     "execution_count": 33,
     "metadata": {},
     "output_type": "execute_result"
    },
    {
     "data": {
      "image/png": "[encoded data removed]",
      "text/plain": [
       "<Figure size 432x288 with 1 Axes>"
      ]
     },
     "metadata": {
      "needs_background": "light"
     },
     "output_type": "display_data"
    }
   ],
   "source": [
    "from IPython import display \n",
    "from pathlib import Path\n",
    "from matplotlib import pyplot as plt\n",
    "import pylab as pl\n",
    "from ssapp.models.HelperFunctions import saveModel, loadModel\n",
    "\n",
    "BATCH_SIZE = 1\n",
    "EPOCHS = 20\n",
    "CUTS = 20\n",
    "LATENT_SIZE = 3\n",
    "\n",
    "data = PatchAntennaDataset()\n",
    "patch_dataloader = DataLoader(data,batch_size=BATCH_SIZE,shuffle=True)\n",
    "model = PatchAntenna1ConvAutoEncoder(Latent_size = LATENT_SIZE)\n",
    "optimizer = optim.Adam(model.parameters(), lr=1e-3)\n",
    "# mean-squared error loss\n",
    "criterion = nn.MSELoss()\n",
    "for epoch in range(EPOCHS):\n",
    "    loss = 0\n",
    "    for params, field in patch_dataloader:\n",
    "    # reset the gradients back to zero\n",
    "    # PyTorch accumulates gradients on subsequent backward passes\n",
    "        optimizer.zero_grad()\n",
    "        field = field.float()\n",
    "        # compute reconstructions\n",
    "        outputs = model(field)\n",
    "            \n",
    "        # compute training reconstruction loss\n",
    "        train_loss = criterion(outputs, field)\n",
    "            \n",
    "        # compute accumulated gradients\n",
    "        train_loss.backward()\n",
    "            \n",
    "        # perform parameter update based on current gradients\n",
    "        optimizer.step()\n",
    "            \n",
    "        # add the mini-batch training loss to epoch loss\n",
    "        loss += train_loss.item()\n",
    "    \n",
    "    loss = loss/(len(patch_dataloader)*BATCH_SIZE)\n",
    "    \n",
    "    # display the epoch training loss\n",
    "    if epoch % (EPOCHS/10) == 0:\n",
    "        %matplotlib inline\n",
    "        display.clear_output(wait=True)\n",
    "        plt.figure(1)\n",
    "        plt.subplot(211)\n",
    "        plt.imshow(torch.abs(field[0,:,:,1:2]),aspect=1/100)\n",
    "        plt.subplot(221)\n",
    "        plt.imshow(torch.abs(model(field.float())[0,:,:,1:2].detach()),aspect=1/100)\n",
    "        display.display(pl.gcf())\n",
    "        print(\"epoch : {}/{}, loss = {:.9e}\".format(epoch + 1, EPOCHS, loss))\n",
    "    \n",
    "pth = Path().cwd()\n",
    "saveModel(model, 'modelTestSave')\n"
   ]
  },
  {
   "cell_type": "code",
   "execution_count": 34,
   "id": "e600548d",
   "metadata": {},
   "outputs": [
    {
     "data": {
      "text/plain": [
       "343"
      ]
     },
     "execution_count": 34,
     "metadata": {},
     "output_type": "execute_result"
    }
   ],
   "source": [
    "len(patch_dataloader)"
   ]
  },
  {
   "cell_type": "code",
   "execution_count": 35,
   "id": "c3f5bfaf",
   "metadata": {},
   "outputs": [
    {
     "ename": "TypeError",
     "evalue": "super(type, obj): obj must be an instance or subtype of type",
     "output_type": "error",
     "traceback": [
      "\u001b[1;31m---------------------------------------------------------------------------\u001b[0m",
      "\u001b[1;31mTypeError\u001b[0m                                 Traceback (most recent call last)",
      "\u001b[1;32m~\\AppData\\Local\\Temp/ipykernel_12040/3779505569.py\u001b[0m in \u001b[0;36m<module>\u001b[1;34m\u001b[0m\n\u001b[1;32m----> 1\u001b[1;33m \u001b[0mmodel\u001b[0m \u001b[1;33m=\u001b[0m \u001b[0mloadModel\u001b[0m\u001b[1;33m(\u001b[0m\u001b[0mPatchAntenna1ConvAutoEncoder\u001b[0m\u001b[1;33m(\u001b[0m\u001b[0mLatent_size\u001b[0m\u001b[1;33m=\u001b[0m\u001b[0mLATENT_SIZE\u001b[0m\u001b[1;33m)\u001b[0m\u001b[1;33m,\u001b[0m\u001b[1;34m'modelTestSave'\u001b[0m\u001b[1;33m)\u001b[0m\u001b[1;33m\u001b[0m\u001b[1;33m\u001b[0m\u001b[0m\n\u001b[0m\u001b[0;32m      2\u001b[0m \u001b[1;33m\u001b[0m\u001b[0m\n\u001b[0;32m      3\u001b[0m \u001b[1;32mfrom\u001b[0m \u001b[0mmatplotlib\u001b[0m \u001b[1;32mimport\u001b[0m \u001b[0mpyplot\u001b[0m \u001b[1;32mas\u001b[0m \u001b[0mplt\u001b[0m\u001b[1;33m\u001b[0m\u001b[1;33m\u001b[0m\u001b[0m\n\u001b[0;32m      4\u001b[0m \u001b[0mparams\u001b[0m\u001b[1;33m,\u001b[0m\u001b[0mtest_input\u001b[0m \u001b[1;33m=\u001b[0m \u001b[0mnext\u001b[0m\u001b[1;33m(\u001b[0m\u001b[0miter\u001b[0m\u001b[1;33m(\u001b[0m\u001b[0mpatch_dataloader\u001b[0m\u001b[1;33m)\u001b[0m\u001b[1;33m)\u001b[0m\u001b[1;33m\u001b[0m\u001b[1;33m\u001b[0m\u001b[0m\n\u001b[0;32m      5\u001b[0m \u001b[1;33m\u001b[0m\u001b[0m\n",
      "\u001b[1;32mc:\\users\\niels\\documents\\github\\supervised-machine-learning-for-space-antenna-performance-prediction\\ssapp\\models\\NeuralNetworkModels\\Autoencoders.py\u001b[0m in \u001b[0;36m__init__\u001b[1;34m(self, Latent_size)\u001b[0m\n\u001b[0;32m      4\u001b[0m \u001b[1;32mclass\u001b[0m \u001b[0mPatchAntenna1ConvAutoEncoder\u001b[0m\u001b[1;33m(\u001b[0m\u001b[0mnn\u001b[0m\u001b[1;33m.\u001b[0m\u001b[0mModule\u001b[0m\u001b[1;33m)\u001b[0m\u001b[1;33m:\u001b[0m\u001b[1;33m\u001b[0m\u001b[1;33m\u001b[0m\u001b[0m\n\u001b[0;32m      5\u001b[0m     \u001b[1;32mdef\u001b[0m \u001b[0m__init__\u001b[0m\u001b[1;33m(\u001b[0m\u001b[0mself\u001b[0m\u001b[1;33m,\u001b[0m \u001b[0mLatent_size\u001b[0m \u001b[1;33m=\u001b[0m \u001b[1;36m10\u001b[0m\u001b[1;33m)\u001b[0m\u001b[1;33m:\u001b[0m\u001b[1;33m\u001b[0m\u001b[1;33m\u001b[0m\u001b[0m\n\u001b[1;32m----> 6\u001b[1;33m         \u001b[0msuper\u001b[0m\u001b[1;33m(\u001b[0m\u001b[0mPatchAntenna1ConvAutoEncoder\u001b[0m\u001b[1;33m,\u001b[0m \u001b[0mself\u001b[0m\u001b[1;33m)\u001b[0m\u001b[1;33m.\u001b[0m\u001b[0m__init__\u001b[0m\u001b[1;33m(\u001b[0m\u001b[1;33m)\u001b[0m\u001b[1;33m\u001b[0m\u001b[1;33m\u001b[0m\u001b[0m\n\u001b[0m\u001b[0;32m      7\u001b[0m \u001b[1;33m\u001b[0m\u001b[0m\n\u001b[0;32m      8\u001b[0m \u001b[1;33m\u001b[0m\u001b[0m\n",
      "\u001b[1;31mTypeError\u001b[0m: super(type, obj): obj must be an instance or subtype of type"
     ]
    }
   ],
   "source": [
    "model = loadModel(PatchAntenna1ConvAutoEncoder,'modelTestSave')\n",
    "\n",
    "from matplotlib import pyplot as plt\n",
    "params,test_input = next(iter(patch_dataloader))\n",
    "\n",
    "output = model(test_input.float())\n",
    "\n",
    "plt.figure()\n",
    "plt.imshow(torch.abs(test_input[0,:,:,1:2]),aspect=1/100)\n",
    "plt.figure()\n",
    "plt.imshow(torch.abs(model(test_input.float())[0,:,:,1:2].detach()),aspect=1/100)\n",
    "plt.figure()\n",
    "plt.imshow(torch.abs(test_input[0,:,:,3:4]),aspect=1/100)\n",
    "plt.figure()\n",
    "plt.plot(torch.abs(test_input[0,:,0,3:4]))\n",
    "plt.plot(torch.abs(output[0,:,0,3:4].detach()))\n"
   ]
  }
 ],
 "metadata": {
  "kernelspec": {
   "display_name": "Python 3 (ipykernel)",
   "language": "python",
   "name": "python3"
  },
  "language_info": {
   "codemirror_mode": {
    "name": "ipython",
    "version": 3
   },
   "file_extension": ".py",
   "mimetype": "text/x-python",
   "name": "python",
   "nbconvert_exporter": "python",
   "pygments_lexer": "ipython3",
   "version": "3.8.11"
  }
 },
 "nbformat": 4,
 "nbformat_minor": 5
}
