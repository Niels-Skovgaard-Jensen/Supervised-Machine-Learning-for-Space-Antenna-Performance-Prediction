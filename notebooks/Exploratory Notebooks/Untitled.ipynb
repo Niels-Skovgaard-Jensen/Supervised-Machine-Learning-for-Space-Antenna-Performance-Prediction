{
 "cells": [
  {
   "cell_type": "code",
   "execution_count": 35,
   "id": "565c62eb-0de8-45ba-9119-211e7a845538",
   "metadata": {},
   "outputs": [
    {
     "name": "stdout",
     "output_type": "stream",
     "text": [
      "The autoreload extension is already loaded. To reload it, use:\n",
      "  %reload_ext autoreload\n"
     ]
    }
   ],
   "source": [
    "%load_ext autoreload\n",
    "%autoreload 2"
   ]
  },
  {
   "cell_type": "code",
   "execution_count": 63,
   "id": "56e81efa",
   "metadata": {},
   "outputs": [
    {
     "name": "stdout",
     "output_type": "stream",
     "text": [
      "parameters tensor([[0.0100, 0.4000, 0.0000]])\n",
      "Field Cuts: tensor([[[-3.9886e-02, -1.1229e-01, -2.5134e-16, -8.8881e-17],\n",
      "         [-3.5864e-02, -1.1596e-01, -1.9664e-16, -6.0601e-17],\n",
      "         [-3.1714e-02, -1.1944e-01, -2.4459e-16, -9.6585e-17],\n",
      "         ...,\n",
      "         [-3.1398e-02, -1.2380e-01,  1.0151e-16, -2.0273e-16],\n",
      "         [-3.5598e-02, -1.2043e-01,  1.3699e-16, -2.8258e-16],\n",
      "         [-3.9672e-02, -1.1689e-01,  5.6395e-17, -3.1269e-16]]])\n",
      "tensor([[[1.1917e-01, 2.6659e-16],\n",
      "         [1.2138e-01, 2.0577e-16],\n",
      "         [1.2358e-01, 2.6297e-16],\n",
      "         ...,\n",
      "         [1.2772e-01, 2.2672e-16],\n",
      "         [1.2558e-01, 3.1403e-16],\n",
      "         [1.2344e-01, 3.1774e-16]]])\n",
      "tensor([[[-1.9121, -2.8017],\n",
      "         [-1.8708, -2.8426],\n",
      "         [-1.8303, -2.7655],\n",
      "         ...,\n",
      "         [-1.8192, -1.1066],\n",
      "         [-1.8582, -1.1194],\n",
      "         [-1.8980, -1.3924]]])\n",
      "parameters tensor([[0.0100, 0.4889, 0.0000]])\n",
      "Field Cuts: tensor([[[-3.9886e-02, -1.1229e-01, -2.5134e-16, -8.8881e-17],\n",
      "         [-3.5864e-02, -1.1596e-01, -1.9664e-16, -6.0601e-17],\n",
      "         [-3.1714e-02, -1.1944e-01, -2.4459e-16, -9.6585e-17],\n",
      "         ...,\n",
      "         [-3.1398e-02, -1.2380e-01,  1.0151e-16, -2.0273e-16],\n",
      "         [-3.5598e-02, -1.2043e-01,  1.3699e-16, -2.8258e-16],\n",
      "         [-3.9672e-02, -1.1689e-01,  5.6395e-17, -3.1269e-16]]])\n",
      "tensor([[[1.0825e-01, 8.7676e-17],\n",
      "         [1.1088e-01, 7.6471e-17],\n",
      "         [1.1352e-01, 8.6348e-17],\n",
      "         ...,\n",
      "         [1.1430e-01, 2.9054e-16],\n",
      "         [1.1170e-01, 2.6907e-16],\n",
      "         [1.0911e-01, 3.1895e-16]]])\n",
      "tensor([[[-0.7625, -2.7613],\n",
      "         [-0.7191, -2.1574],\n",
      "         [-0.6771, -1.7617],\n",
      "         ...,\n",
      "         [-0.6795, -2.6267],\n",
      "         [-0.7214, -2.6651],\n",
      "         [-0.7647, -2.6629]]])\n"
     ]
    }
   ],
   "source": [
    "from ssapp.data.AntennaDatasetLoaders import ReflectorCutDatasetComplex, ReflectorCutDataset\n",
    "from torch.utils.data.dataloader import DataLoader\n",
    "import torch\n",
    "\n",
    "CUTS = 2\n",
    "dataset_complex = ReflectorCutDatasetComplex(cuts = CUTS, mag_phase_transform=True)\n",
    "dataset_simple = ReflectorCutDataset(cuts = CUTS)\n",
    "\n",
    "complex_dataloader = DataLoader(dataset_complex)\n",
    "dataloaderSimple = DataLoader(dataset_simple)\n",
    "\n",
    "\n",
    "\n",
    "\n",
    "\n"
   ]
  },
  {
   "cell_type": "code",
   "execution_count": 64,
   "id": "2faab2bf",
   "metadata": {},
   "outputs": [
    {
     "name": "stdout",
     "output_type": "stream",
     "text": [
      "parameters tensor([[0.0100, 0.4000, 0.0000]])\n",
      "tensor([[[1.1917e-01, 2.6659e-16],\n",
      "         [1.2138e-01, 2.0577e-16],\n",
      "         [1.2358e-01, 2.6297e-16],\n",
      "         ...,\n",
      "         [1.2772e-01, 2.2672e-16],\n",
      "         [1.2558e-01, 3.1403e-16],\n",
      "         [1.2344e-01, 3.1774e-16]]])\n",
      "tensor([[[-1.9121, -2.8017],\n",
      "         [-1.8708, -2.8426],\n",
      "         [-1.8303, -2.7655],\n",
      "         ...,\n",
      "         [-1.8192, -1.1066],\n",
      "         [-1.8582, -1.1194],\n",
      "         [-1.8980, -1.3924]]])\n",
      "parameters tensor([[0.0100, 0.4889, 0.0000]])\n",
      "tensor([[[1.0825e-01, 8.7676e-17],\n",
      "         [1.1088e-01, 7.6471e-17],\n",
      "         [1.1352e-01, 8.6348e-17],\n",
      "         ...,\n",
      "         [1.1430e-01, 2.9054e-16],\n",
      "         [1.1170e-01, 2.6907e-16],\n",
      "         [1.0911e-01, 3.1895e-16]]])\n",
      "tensor([[[-0.7625, -2.7613],\n",
      "         [-0.7191, -2.1574],\n",
      "         [-0.6771, -1.7617],\n",
      "         ...,\n",
      "         [-0.6795, -2.6267],\n",
      "         [-0.7214, -2.6651],\n",
      "         [-0.7647, -2.6629]]])\n"
     ]
    }
   ],
   "source": [
    "for parameters, mag, phase in iter(complex_dataloader):\n",
    "    print('parameters',parameters)\n",
    "    print(mag)\n",
    "    print(phase)"
   ]
  },
  {
   "cell_type": "code",
   "execution_count": 89,
   "id": "b1d3116d",
   "metadata": {},
   "outputs": [
    {
     "name": "stdout",
     "output_type": "stream",
     "text": [
      "c:\\Users\\Niels\\Documents\\GitHub\\Supervised-Machine-Learning-for-Space-Antenna-Performance-Prediction\\data\\raw\\PatchAntennaDataset1\\cut_files\n",
      "[[-2.   5.   2.9]]\n",
      "(1, 361, 3, 4)\n"
     ]
    }
   ],
   "source": [
    "from ssapp.data.AntennaDatasetLoaders import get_raw_dataset_path\n",
    "import numpy as np\n",
    "\n",
    "cut_dir, param_dir = get_raw_dataset_path('PatchAntennaDataset1')\n",
    "print(cut_dir)\n",
    "\n",
    "file_to_open = cut_dir / '0.cut'\n",
    "param_file = param_dir / 'lookup.log'\n",
    "cuts = 1 \n",
    "\n",
    "antenna_parameters = np.genfromtxt(param_file, skip_header=1,skip_footer=343-cuts,dtype = np.float32)\n",
    "antenna_parameters = antenna_parameters.reshape(cuts,4)[:,1:4]\n",
    "print(antenna_parameters)\n",
    "\n",
    "\n",
    "V_INI, V_INC, V_NUM, C, ICOMP, ICUT, NCOMP = np.genfromtxt(file_to_open, max_rows=1, skip_header=1)\n",
    "V_NUM = int(V_NUM)\n",
    "\n",
    "phi_cut = np.genfromtxt(file_to_open, skip_header=2, max_rows= V_NUM).reshape(1,V_NUM,1,4)\n",
    "for i in range(1,3):\n",
    "    phi_cut=np.append(phi_cut, np.genfromtxt(file_to_open, skip_header=2+i*(V_NUM+2), max_rows= V_NUM).reshape(1,V_NUM,1,4),axis=2)\n",
    "\n",
    "print(phi_cut.shape)\n"
   ]
  },
  {
   "cell_type": "code",
   "execution_count": 130,
   "id": "959e96e2",
   "metadata": {},
   "outputs": [
    {
     "name": "stdout",
     "output_type": "stream",
     "text": [
      "torch.Size([343, 361, 3, 2])\n"
     ]
    }
   ],
   "source": [
    "from ssapp.data.AntennaDatasetLoaders import PatchAntennaDatasetComplex\n",
    "\n",
    "data = PatchAntennaDatasetComplex()\n",
    "\n",
    "patch_dataloader = DataLoader(data)\n",
    "\n",
    "\n",
    "\n",
    "print(data.field_cut.shape)\n",
    "\n",
    "\n",
    "from matplotlib import pyplot as plt\n",
    "\n"
   ]
  },
  {
   "cell_type": "code",
   "execution_count": 179,
   "id": "1acd07f9",
   "metadata": {},
   "outputs": [
    {
     "ename": "IndexError",
     "evalue": "only integers, slices (`:`), ellipsis (`...`), numpy.newaxis (`None`) and integer or boolean arrays are valid indices",
     "output_type": "error",
     "traceback": [
      "\u001b[1;31m---------------------------------------------------------------------------\u001b[0m",
      "\u001b[1;31mIndexError\u001b[0m                                Traceback (most recent call last)",
      "\u001b[1;32m~\\AppData\\Local\\Temp/ipykernel_22728/1767274014.py\u001b[0m in \u001b[0;36m<module>\u001b[1;34m\u001b[0m\n\u001b[0;32m      1\u001b[0m \u001b[0mplt\u001b[0m\u001b[1;33m.\u001b[0m\u001b[0mfigure\u001b[0m\u001b[1;33m(\u001b[0m\u001b[1;33m)\u001b[0m\u001b[1;33m\u001b[0m\u001b[1;33m\u001b[0m\u001b[0m\n\u001b[1;32m----> 2\u001b[1;33m \u001b[0mprint\u001b[0m\u001b[1;33m(\u001b[0m\u001b[0mdata\u001b[0m\u001b[1;33m[\u001b[0m\u001b[1;36m0\u001b[0m\u001b[1;33m,\u001b[0m\u001b[1;33m:\u001b[0m\u001b[1;33m,\u001b[0m\u001b[1;33m:\u001b[0m\u001b[1;33m,\u001b[0m\u001b[1;36m0\u001b[0m\u001b[1;33m]\u001b[0m\u001b[1;33m)\u001b[0m\u001b[1;33m\u001b[0m\u001b[1;33m\u001b[0m\u001b[0m\n\u001b[0m",
      "\u001b[1;32mc:\\users\\niels\\documents\\github\\supervised-machine-learning-for-space-antenna-performance-prediction\\ssapp\\data\\AntennaDatasetLoaders.py\u001b[0m in \u001b[0;36m__getitem__\u001b[1;34m(self, idx)\u001b[0m\n\u001b[0;32m    221\u001b[0m             \u001b[0midx\u001b[0m \u001b[1;33m=\u001b[0m \u001b[0midx\u001b[0m\u001b[1;33m.\u001b[0m\u001b[0mtolist\u001b[0m\u001b[1;33m(\u001b[0m\u001b[1;33m)\u001b[0m\u001b[1;33m\u001b[0m\u001b[1;33m\u001b[0m\u001b[0m\n\u001b[0;32m    222\u001b[0m \u001b[1;33m\u001b[0m\u001b[0m\n\u001b[1;32m--> 223\u001b[1;33m         \u001b[0mparameters\u001b[0m \u001b[1;33m=\u001b[0m \u001b[0mtorch\u001b[0m\u001b[1;33m.\u001b[0m\u001b[0mtensor\u001b[0m\u001b[1;33m(\u001b[0m\u001b[0mself\u001b[0m\u001b[1;33m.\u001b[0m\u001b[0mantenna_parameters\u001b[0m\u001b[1;33m[\u001b[0m\u001b[0midx\u001b[0m\u001b[1;33m,\u001b[0m\u001b[1;33m:\u001b[0m\u001b[1;33m]\u001b[0m\u001b[1;33m)\u001b[0m\u001b[1;33m\u001b[0m\u001b[1;33m\u001b[0m\u001b[0m\n\u001b[0m\u001b[0;32m    224\u001b[0m \u001b[1;33m\u001b[0m\u001b[0m\n\u001b[0;32m    225\u001b[0m \u001b[1;33m\u001b[0m\u001b[0m\n",
      "\u001b[1;31mIndexError\u001b[0m: only integers, slices (`:`), ellipsis (`...`), numpy.newaxis (`None`) and integer or boolean arrays are valid indices"
     ]
    },
    {
     "data": {
      "text/plain": [
       "<Figure size 432x288 with 0 Axes>"
      ]
     },
     "metadata": {},
     "output_type": "display_data"
    }
   ],
   "source": [
    "\n",
    "\n",
    "\n"
   ]
  },
  {
   "cell_type": "code",
   "execution_count": 231,
   "id": "c9f0257d",
   "metadata": {},
   "outputs": [
    {
     "name": "stdout",
     "output_type": "stream",
     "text": [
      "torch.Size([1, 361, 3, 4])\n",
      "Encoder conv1Shape torch.Size([1, 8, 3, 182])\n",
      "Encoder Conv2Shape torch.Size([1, 16, 3, 91])\n",
      "torch.Size([10])\n",
      "torch.Size([1, 8, 7, 181])\n"
     ]
    }
   ],
   "source": [
    "from ssapp.models.NeuralNetworkModels.Autoencoders import PatchAntenna1ConvAutoEncoder\n",
    "from ssapp.data.AntennaDatasetLoaders import PatchAntennaDatasetComplex,PatchAntennaDataset\n",
    "data = PatchAntennaDataset(cuts = 20)\n",
    "patch_dataloader = DataLoader(data)\n",
    "\n",
    "model = PatchAntenna1ConvAutoEncoder()\n",
    "\n",
    "params,test_input = next(iter(patch_dataloader))\n",
    "print(test_input.shape)\n",
    "\n",
    "out = model.encode(test_input.float())\n",
    "print(out.shape)\n",
    "out = model.decode(out)\n",
    "print(out.shape)\n",
    "\n"
   ]
  },
  {
   "cell_type": "code",
   "execution_count": 205,
   "id": "c3f5bfaf",
   "metadata": {},
   "outputs": [
    {
     "data": {
      "text/plain": [
       "<matplotlib.image.AxesImage at 0x1419e62f640>"
      ]
     },
     "execution_count": 205,
     "metadata": {},
     "output_type": "execute_result"
    },
    {
     "data": {
      "image/png": "[encoded data removed]",
      "text/plain": [
       "<Figure size 432x288 with 1 Axes>"
      ]
     },
     "metadata": {
      "needs_background": "light"
     },
     "output_type": "display_data"
    }
   ],
   "source": [
    "params,test_input = next(iter(patch_dataloader))\n",
    "plt.figure()\n",
    "plt.imshow(torch.abs(test_input[0,:,:,1:2]),aspect=1/100)"
   ]
  }
 ],
 "metadata": {
  "kernelspec": {
   "display_name": "Python 3 (ipykernel)",
   "language": "python",
   "name": "python3"
  },
  "language_info": {
   "codemirror_mode": {
    "name": "ipython",
    "version": 3
   },
   "file_extension": ".py",
   "mimetype": "text/x-python",
   "name": "python",
   "nbconvert_exporter": "python",
   "pygments_lexer": "ipython3",
   "version": "3.8.12"
  }
 },
 "nbformat": 4,
 "nbformat_minor": 5
}
