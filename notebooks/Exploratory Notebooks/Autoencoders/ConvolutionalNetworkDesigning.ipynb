{
 "cells": [
  {
   "cell_type": "code",
   "execution_count": 59,
   "id": "53a2b099",
   "metadata": {},
   "outputs": [
    {
     "name": "stdout",
     "output_type": "stream",
     "text": [
      "The autoreload extension is already loaded. To reload it, use:\n",
      "  %reload_ext autoreload\n",
      "torch.Size([4, 361, 3, 4])\n",
      "torch.Size([2, 361, 3, 4])\n"
     ]
    }
   ],
   "source": [
    "%matplotlib inline\n",
    "%config InlineBackend.figure_formats = ['svg']\n",
    "%load_ext autoreload\n",
    "%autoreload 2\n",
    "from ssapp.models.NeuralNetworkModels.Autoencoders import ConvAutoEncoderAndLatentRegressor, PatchAntenna1ConvAutoEncoder\n",
    "import torch\n",
    "\n",
    "\n",
    "model = ConvAutoEncoderAndLatentRegressor()\n",
    "\n",
    "recon = model.autoencode_train(torch.randn(4,361,3,4))\n",
    "\n",
    "print(recon.shape)\n",
    "pred = model(torch.randn(2,3))\n",
    "\n",
    "print(pred.shape)\n",
    "\n",
    "\n",
    "\n",
    "\n"
   ]
  }
 ],
 "metadata": {
  "kernelspec": {
   "display_name": "Python 3 (ipykernel)",
   "language": "python",
   "name": "python3"
  },
  "language_info": {
   "codemirror_mode": {
    "name": "ipython",
    "version": 3
   },
   "file_extension": ".py",
   "mimetype": "text/x-python",
   "name": "python",
   "nbconvert_exporter": "python",
   "pygments_lexer": "ipython3",
   "version": "3.8.12"
  }
 },
 "nbformat": 4,
 "nbformat_minor": 5
}
