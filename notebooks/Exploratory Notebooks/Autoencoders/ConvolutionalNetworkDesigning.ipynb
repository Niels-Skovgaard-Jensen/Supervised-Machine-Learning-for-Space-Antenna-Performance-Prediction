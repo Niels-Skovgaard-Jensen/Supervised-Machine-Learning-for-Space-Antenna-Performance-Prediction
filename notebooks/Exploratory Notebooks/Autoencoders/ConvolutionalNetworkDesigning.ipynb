{
 "cells": [
  {
   "cell_type": "code",
   "execution_count": 1,
   "id": "53a2b099",
   "metadata": {},
   "outputs": [
    {
     "name": "stdout",
     "output_type": "stream",
     "text": [
      "[2278, 1519, 1012, 675, 450, 300]\n",
      "PDRN(\n",
      "  (regressor): Sequential(\n",
      "    (0): Linear(in_features=3, out_features=2278, bias=True)\n",
      "    (1): LeakyReLU(negative_slope=0.01)\n",
      "    (2): Linear(in_features=2278, out_features=1519, bias=True)\n",
      "    (3): LeakyReLU(negative_slope=0.01)\n",
      "    (4): Linear(in_features=1519, out_features=1012, bias=True)\n",
      "    (5): LeakyReLU(negative_slope=0.01)\n",
      "    (6): Linear(in_features=1012, out_features=675, bias=True)\n",
      "    (7): LeakyReLU(negative_slope=0.01)\n",
      "    (8): Linear(in_features=675, out_features=450, bias=True)\n",
      "    (9): LeakyReLU(negative_slope=0.01)\n",
      "    (10): Linear(in_features=450, out_features=300, bias=True)\n",
      "    (11): LeakyReLU(negative_slope=0.01)\n",
      "    (12): Linear(in_features=300, out_features=4332, bias=True)\n",
      "    (13): LeakyReLU(negative_slope=0.01)\n",
      "  )\n",
      ")\n",
      "torch.Size([2, 361, 3, 4])\n"
     ]
    }
   ],
   "source": [
    "%matplotlib inline\n",
    "%config InlineBackend.figure_formats = ['svg']\n",
    "%load_ext autoreload\n",
    "%autoreload 2\n",
    "from ssapp.models.NeuralNetworkModels.Autoencoders import ConvAutoEncoderAndLatentRegressor, PatchAntenna1ConvAutoEncoder\n",
    "from ssapp.models.NeuralNetworkModels.SimpleFeedForward import PDRN\n",
    "import torch\n",
    "\n",
    "\n",
    "model = PDRN(num_layers= 6,\n",
    "                phi_k = 300,\n",
    "                s_c = 1.5,\n",
    "                alpha = 0.01)\n",
    "\n",
    "pred = model(torch.randn(2,3))\n",
    "print(model)\n",
    "print(pred.shape)\n"
   ]
  }
 ],
 "metadata": {
  "interpreter": {
   "hash": "19454b367d78121c3abb3ee884f0c07fc1b47190a48b98adb60dc2da62b39d5e"
  },
  "kernelspec": {
   "display_name": "Python 3.8.11 64-bit",
   "language": "python",
   "name": "python3"
  },
  "language_info": {
   "codemirror_mode": {
    "name": "ipython",
    "version": 3
   },
   "file_extension": ".py",
   "mimetype": "text/x-python",
   "name": "python",
   "nbconvert_exporter": "python",
   "pygments_lexer": "ipython3",
   "version": "3.8.11"
  }
 },
 "nbformat": 4,
 "nbformat_minor": 5
}
