{
 "cells": [
  {
   "cell_type": "code",
   "execution_count": 10,
   "id": "53a2b099",
   "metadata": {},
   "outputs": [
    {
     "name": "stdout",
     "output_type": "stream",
     "text": [
      "The autoreload extension is already loaded. To reload it, use:\n",
      "  %reload_ext autoreload\n",
      "torch.Size([4, 361, 3, 4])\n",
      "torch.Size([2, 361, 3, 4])\n"
     ]
    },
    {
     "ename": "FileNotFoundError",
     "evalue": "[Errno 2] No such file or directory: '/zhome/5b/b/127277/Supervised-Machine-Learning-for-Space-Antenna-Performance-Prediction/notebooks/models/LatentSpaceRegression/test.pt'",
     "output_type": "error",
     "traceback": [
      "\u001b[0;31m---------------------------------------------------------------------------\u001b[0m",
      "\u001b[0;31mFileNotFoundError\u001b[0m                         Traceback (most recent call last)",
      "\u001b[1;32m/zhome/5b/b/127277/Supervised-Machine-Learning-for-Space-Antenna-Performance-Prediction/notebooks/Exploratory Notebooks/Autoencoders/ConvolutionalNetworkDesigning.ipynb Cell 1'\u001b[0m in \u001b[0;36m<cell line: 21>\u001b[0;34m()\u001b[0m\n\u001b[1;32m     <a href='vscode-notebook-cell://ssh-remote%2Blogin2.gbar.dtu.dk/zhome/5b/b/127277/Supervised-Machine-Learning-for-Space-Antenna-Performance-Prediction/notebooks/Exploratory%20Notebooks/Autoencoders/ConvolutionalNetworkDesigning.ipynb#ch0000000vscode-remote?line=15'>16</a>\u001b[0m \u001b[39mprint\u001b[39m(pred\u001b[39m.\u001b[39mshape)\n\u001b[1;32m     <a href='vscode-notebook-cell://ssh-remote%2Blogin2.gbar.dtu.dk/zhome/5b/b/127277/Supervised-Machine-Learning-for-Space-Antenna-Performance-Prediction/notebooks/Exploratory%20Notebooks/Autoencoders/ConvolutionalNetworkDesigning.ipynb#ch0000000vscode-remote?line=18'>19</a>\u001b[0m \u001b[39mfrom\u001b[39;00m \u001b[39mssapp\u001b[39;00m\u001b[39m.\u001b[39;00m\u001b[39mmodels\u001b[39;00m\u001b[39m.\u001b[39;00m\u001b[39mHelperFunctions\u001b[39;00m \u001b[39mimport\u001b[39;00m saveModel\n\u001b[0;32m---> <a href='vscode-notebook-cell://ssh-remote%2Blogin2.gbar.dtu.dk/zhome/5b/b/127277/Supervised-Machine-Learning-for-Space-Antenna-Performance-Prediction/notebooks/Exploratory%20Notebooks/Autoencoders/ConvolutionalNetworkDesigning.ipynb#ch0000000vscode-remote?line=20'>21</a>\u001b[0m saveModel(model, name \u001b[39m=\u001b[39;49m \u001b[39m'\u001b[39;49m\u001b[39mtest\u001b[39;49m\u001b[39m'\u001b[39;49m,subfolder\u001b[39m=\u001b[39;49m\u001b[39m'\u001b[39;49m\u001b[39mLatentSpaceRegression\u001b[39;49m\u001b[39m'\u001b[39;49m)\n",
      "File \u001b[0;32m~/Supervised-Machine-Learning-for-Space-Antenna-Performance-Prediction/ssapp/models/HelperFunctions.py:23\u001b[0m, in \u001b[0;36msaveModel\u001b[0;34m(model, name, subfolder)\u001b[0m\n\u001b[1;32m     <a href='file:///zhome/5b/b/127277/Supervised-Machine-Learning-for-Space-Antenna-Performance-Prediction/ssapp/models/HelperFunctions.py?line=19'>20</a>\u001b[0m \u001b[39melse\u001b[39;00m:\n\u001b[1;32m     <a href='file:///zhome/5b/b/127277/Supervised-Machine-Learning-for-Space-Antenna-Performance-Prediction/ssapp/models/HelperFunctions.py?line=20'>21</a>\u001b[0m     PATH \u001b[39m=\u001b[39m models_dir \u001b[39m/\u001b[39m name\n\u001b[0;32m---> <a href='file:///zhome/5b/b/127277/Supervised-Machine-Learning-for-Space-Antenna-Performance-Prediction/ssapp/models/HelperFunctions.py?line=22'>23</a>\u001b[0m torch\u001b[39m.\u001b[39;49msave(model,f \u001b[39m=\u001b[39;49m PATH)\n\u001b[1;32m     <a href='file:///zhome/5b/b/127277/Supervised-Machine-Learning-for-Space-Antenna-Performance-Prediction/ssapp/models/HelperFunctions.py?line=24'>25</a>\u001b[0m \u001b[39mreturn\u001b[39;00m \u001b[39mTrue\u001b[39;00m\n",
      "File \u001b[0;32m~/.local/lib/python3.8/site-packages/torch/serialization.py:376\u001b[0m, in \u001b[0;36msave\u001b[0;34m(obj, f, pickle_module, pickle_protocol, _use_new_zipfile_serialization)\u001b[0m\n\u001b[1;32m    <a href='file:///zhome/5b/b/127277/.local/lib/python3.8/site-packages/torch/serialization.py?line=339'>340</a>\u001b[0m \u001b[39m\"\"\"save(obj, f, pickle_module=pickle, pickle_protocol=DEFAULT_PROTOCOL, _use_new_zipfile_serialization=True)\u001b[39;00m\n\u001b[1;32m    <a href='file:///zhome/5b/b/127277/.local/lib/python3.8/site-packages/torch/serialization.py?line=340'>341</a>\u001b[0m \n\u001b[1;32m    <a href='file:///zhome/5b/b/127277/.local/lib/python3.8/site-packages/torch/serialization.py?line=341'>342</a>\u001b[0m \u001b[39mSaves an object to a disk file.\u001b[39;00m\n\u001b[0;32m   (...)\u001b[0m\n\u001b[1;32m    <a href='file:///zhome/5b/b/127277/.local/lib/python3.8/site-packages/torch/serialization.py?line=371'>372</a>\u001b[0m \u001b[39m    >>> torch.save(x, buffer)\u001b[39;00m\n\u001b[1;32m    <a href='file:///zhome/5b/b/127277/.local/lib/python3.8/site-packages/torch/serialization.py?line=372'>373</a>\u001b[0m \u001b[39m\"\"\"\u001b[39;00m\n\u001b[1;32m    <a href='file:///zhome/5b/b/127277/.local/lib/python3.8/site-packages/torch/serialization.py?line=373'>374</a>\u001b[0m _check_dill_version(pickle_module)\n\u001b[0;32m--> <a href='file:///zhome/5b/b/127277/.local/lib/python3.8/site-packages/torch/serialization.py?line=375'>376</a>\u001b[0m \u001b[39mwith\u001b[39;00m _open_file_like(f, \u001b[39m'\u001b[39;49m\u001b[39mwb\u001b[39;49m\u001b[39m'\u001b[39;49m) \u001b[39mas\u001b[39;00m opened_file:\n\u001b[1;32m    <a href='file:///zhome/5b/b/127277/.local/lib/python3.8/site-packages/torch/serialization.py?line=376'>377</a>\u001b[0m     \u001b[39mif\u001b[39;00m _use_new_zipfile_serialization:\n\u001b[1;32m    <a href='file:///zhome/5b/b/127277/.local/lib/python3.8/site-packages/torch/serialization.py?line=377'>378</a>\u001b[0m         \u001b[39mwith\u001b[39;00m _open_zipfile_writer(opened_file) \u001b[39mas\u001b[39;00m opened_zipfile:\n",
      "File \u001b[0;32m~/.local/lib/python3.8/site-packages/torch/serialization.py:230\u001b[0m, in \u001b[0;36m_open_file_like\u001b[0;34m(name_or_buffer, mode)\u001b[0m\n\u001b[1;32m    <a href='file:///zhome/5b/b/127277/.local/lib/python3.8/site-packages/torch/serialization.py?line=227'>228</a>\u001b[0m \u001b[39mdef\u001b[39;00m \u001b[39m_open_file_like\u001b[39m(name_or_buffer, mode):\n\u001b[1;32m    <a href='file:///zhome/5b/b/127277/.local/lib/python3.8/site-packages/torch/serialization.py?line=228'>229</a>\u001b[0m     \u001b[39mif\u001b[39;00m _is_path(name_or_buffer):\n\u001b[0;32m--> <a href='file:///zhome/5b/b/127277/.local/lib/python3.8/site-packages/torch/serialization.py?line=229'>230</a>\u001b[0m         \u001b[39mreturn\u001b[39;00m _open_file(name_or_buffer, mode)\n\u001b[1;32m    <a href='file:///zhome/5b/b/127277/.local/lib/python3.8/site-packages/torch/serialization.py?line=230'>231</a>\u001b[0m     \u001b[39melse\u001b[39;00m:\n\u001b[1;32m    <a href='file:///zhome/5b/b/127277/.local/lib/python3.8/site-packages/torch/serialization.py?line=231'>232</a>\u001b[0m         \u001b[39mif\u001b[39;00m \u001b[39m'\u001b[39m\u001b[39mw\u001b[39m\u001b[39m'\u001b[39m \u001b[39min\u001b[39;00m mode:\n",
      "File \u001b[0;32m~/.local/lib/python3.8/site-packages/torch/serialization.py:211\u001b[0m, in \u001b[0;36m_open_file.__init__\u001b[0;34m(self, name, mode)\u001b[0m\n\u001b[1;32m    <a href='file:///zhome/5b/b/127277/.local/lib/python3.8/site-packages/torch/serialization.py?line=209'>210</a>\u001b[0m \u001b[39mdef\u001b[39;00m \u001b[39m__init__\u001b[39m(\u001b[39mself\u001b[39m, name, mode):\n\u001b[0;32m--> <a href='file:///zhome/5b/b/127277/.local/lib/python3.8/site-packages/torch/serialization.py?line=210'>211</a>\u001b[0m     \u001b[39msuper\u001b[39m(_open_file, \u001b[39mself\u001b[39m)\u001b[39m.\u001b[39m\u001b[39m__init__\u001b[39m(\u001b[39mopen\u001b[39;49m(name, mode))\n",
      "\u001b[0;31mFileNotFoundError\u001b[0m: [Errno 2] No such file or directory: '/zhome/5b/b/127277/Supervised-Machine-Learning-for-Space-Antenna-Performance-Prediction/notebooks/models/LatentSpaceRegression/test.pt'"
     ]
    }
   ],
   "source": [
    "%matplotlib inline\n",
    "%config InlineBackend.figure_formats = ['svg']\n",
    "%load_ext autoreload\n",
    "%autoreload 2\n",
    "from ssapp.models.NeuralNetworkModels.Autoencoders import ConvAutoEncoderAndLatentRegressor, PatchAntenna1ConvAutoEncoder\n",
    "import torch\n",
    "\n",
    "\n",
    "model = ConvAutoEncoderAndLatentRegressor()\n",
    "\n",
    "recon = model.autoencode_train(torch.randn(4,361,3,4))\n",
    "\n",
    "print(recon.shape)\n",
    "pred = model(torch.randn(2,3))\n",
    "\n",
    "print(pred.shape)\n",
    "\n",
    "\n",
    "from ssapp.models.HelperFunctions import saveModel\n",
    "\n",
    "saveModel(model, name = 'test',subfolder='LatentSpaceRegression')\n"
   ]
  }
 ],
 "metadata": {
  "kernelspec": {
   "display_name": "Python 3 (ipykernel)",
   "language": "python",
   "name": "python3"
  },
  "language_info": {
   "codemirror_mode": {
    "name": "ipython",
    "version": 3
   },
   "file_extension": ".py",
   "mimetype": "text/x-python",
   "name": "python",
   "nbconvert_exporter": "python",
   "pygments_lexer": "ipython3",
   "version": "3.8.11"
  }
 },
 "nbformat": 4,
 "nbformat_minor": 5
}
