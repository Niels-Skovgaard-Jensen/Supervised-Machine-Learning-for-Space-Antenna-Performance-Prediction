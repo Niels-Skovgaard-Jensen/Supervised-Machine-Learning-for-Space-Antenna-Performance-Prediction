{
 "cells": [
  {
   "cell_type": "code",
   "execution_count": 1,
   "id": "762c1c76-e3fc-461e-b8c6-d6dc84f22121",
   "metadata": {},
   "outputs": [
    {
     "ename": "RuntimeError",
     "evalue": "Found no NVIDIA driver on your system. Please check that you have an NVIDIA GPU and installed a driver from http://www.nvidia.com/Download/index.aspx",
     "output_type": "error",
     "traceback": [
      "\u001b[0;31m---------------------------------------------------------------------------\u001b[0m",
      "\u001b[0;31mRuntimeError\u001b[0m                              Traceback (most recent call last)",
      "\u001b[1;32m/zhome/5b/b/127277/Supervised-Machine-Learning-for-Space-Antenna-Performance-Prediction/notebooks/Exploratory Notebooks/Autoencoders/VAE_test.ipynb Cell 1'\u001b[0m in \u001b[0;36m<cell line: 28>\u001b[0;34m()\u001b[0m\n\u001b[1;32m     <a href='vscode-notebook-cell://ssh-remote%2Blogin2.gbar.dtu.dk/zhome/5b/b/127277/Supervised-Machine-Learning-for-Space-Antenna-Performance-Prediction/notebooks/Exploratory%20Notebooks/Autoencoders/VAE_test.ipynb#ch0000000vscode-remote?line=22'>23</a>\u001b[0m test_dataloader \u001b[39m=\u001b[39m DataLoader(test_dataset,batch_size\u001b[39m=\u001b[39mconfig[\u001b[39m'\u001b[39m\u001b[39mbatch_size\u001b[39m\u001b[39m'\u001b[39m])\n\u001b[1;32m     <a href='vscode-notebook-cell://ssh-remote%2Blogin2.gbar.dtu.dk/zhome/5b/b/127277/Supervised-Machine-Learning-for-Space-Antenna-Performance-Prediction/notebooks/Exploratory%20Notebooks/Autoencoders/VAE_test.ipynb#ch0000000vscode-remote?line=24'>25</a>\u001b[0m train_params, train_fields \u001b[39m=\u001b[39m \u001b[39mnext\u001b[39m(\u001b[39miter\u001b[39m(train_dataloader))\n\u001b[0;32m---> <a href='vscode-notebook-cell://ssh-remote%2Blogin2.gbar.dtu.dk/zhome/5b/b/127277/Supervised-Machine-Learning-for-Space-Antenna-Performance-Prediction/notebooks/Exploratory%20Notebooks/Autoencoders/VAE_test.ipynb#ch0000000vscode-remote?line=27'>28</a>\u001b[0m model \u001b[39m=\u001b[39m VAE(config)\n",
      "File \u001b[0;32m~/Supervised-Machine-Learning-for-Space-Antenna-Performance-Prediction/ssapp/models/NeuralNetworkModels/variational_autoencoder.py:69\u001b[0m, in \u001b[0;36mVAE.__init__\u001b[0;34m(self, device, config)\u001b[0m\n\u001b[1;32m     <a href='file:///zhome/5b/b/127277/Supervised-Machine-Learning-for-Space-Antenna-Performance-Prediction/ssapp/models/NeuralNetworkModels/variational_autoencoder.py?line=65'>66</a>\u001b[0m \u001b[39mself\u001b[39m\u001b[39m.\u001b[39mactivation \u001b[39m=\u001b[39m nn\u001b[39m.\u001b[39mReLU()\n\u001b[1;32m     <a href='file:///zhome/5b/b/127277/Supervised-Machine-Learning-for-Space-Antenna-Performance-Prediction/ssapp/models/NeuralNetworkModels/variational_autoencoder.py?line=67'>68</a>\u001b[0m \u001b[39mself\u001b[39m\u001b[39m.\u001b[39mN \u001b[39m=\u001b[39m torch\u001b[39m.\u001b[39mdistributions\u001b[39m.\u001b[39mNormal(\u001b[39m0\u001b[39m, \u001b[39m1\u001b[39m)\n\u001b[0;32m---> <a href='file:///zhome/5b/b/127277/Supervised-Machine-Learning-for-Space-Antenna-Performance-Prediction/ssapp/models/NeuralNetworkModels/variational_autoencoder.py?line=68'>69</a>\u001b[0m \u001b[39mself\u001b[39m\u001b[39m.\u001b[39mN\u001b[39m.\u001b[39mloc \u001b[39m=\u001b[39m \u001b[39mself\u001b[39;49m\u001b[39m.\u001b[39;49mN\u001b[39m.\u001b[39;49mloc\u001b[39m.\u001b[39;49mcuda() \u001b[39m# hack to get sampling on the GPU\u001b[39;00m\n\u001b[1;32m     <a href='file:///zhome/5b/b/127277/Supervised-Machine-Learning-for-Space-Antenna-Performance-Prediction/ssapp/models/NeuralNetworkModels/variational_autoencoder.py?line=69'>70</a>\u001b[0m \u001b[39mself\u001b[39m\u001b[39m.\u001b[39mN\u001b[39m.\u001b[39mscale \u001b[39m=\u001b[39m \u001b[39mself\u001b[39m\u001b[39m.\u001b[39mN\u001b[39m.\u001b[39mscale\u001b[39m.\u001b[39mcuda()\n\u001b[1;32m     <a href='file:///zhome/5b/b/127277/Supervised-Machine-Learning-for-Space-Antenna-Performance-Prediction/ssapp/models/NeuralNetworkModels/variational_autoencoder.py?line=70'>71</a>\u001b[0m \u001b[39mself\u001b[39m\u001b[39m.\u001b[39mkl \u001b[39m=\u001b[39m \u001b[39m0\u001b[39m\n",
      "File \u001b[0;32m~/.local/lib/python3.8/site-packages/torch/cuda/__init__.py:214\u001b[0m, in \u001b[0;36m_lazy_init\u001b[0;34m()\u001b[0m\n\u001b[1;32m    <a href='file:///zhome/5b/b/127277/.local/lib/python3.8/site-packages/torch/cuda/__init__.py?line=209'>210</a>\u001b[0m     \u001b[39mraise\u001b[39;00m \u001b[39mAssertionError\u001b[39;00m(\n\u001b[1;32m    <a href='file:///zhome/5b/b/127277/.local/lib/python3.8/site-packages/torch/cuda/__init__.py?line=210'>211</a>\u001b[0m         \u001b[39m\"\u001b[39m\u001b[39mlibcudart functions unavailable. It looks like you have a broken build?\u001b[39m\u001b[39m\"\u001b[39m)\n\u001b[1;32m    <a href='file:///zhome/5b/b/127277/.local/lib/python3.8/site-packages/torch/cuda/__init__.py?line=211'>212</a>\u001b[0m \u001b[39m# This function throws if there's a driver initialization error, no GPUs\u001b[39;00m\n\u001b[1;32m    <a href='file:///zhome/5b/b/127277/.local/lib/python3.8/site-packages/torch/cuda/__init__.py?line=212'>213</a>\u001b[0m \u001b[39m# are found or any other error occurs\u001b[39;00m\n\u001b[0;32m--> <a href='file:///zhome/5b/b/127277/.local/lib/python3.8/site-packages/torch/cuda/__init__.py?line=213'>214</a>\u001b[0m torch\u001b[39m.\u001b[39;49m_C\u001b[39m.\u001b[39;49m_cuda_init()\n\u001b[1;32m    <a href='file:///zhome/5b/b/127277/.local/lib/python3.8/site-packages/torch/cuda/__init__.py?line=214'>215</a>\u001b[0m \u001b[39m# Some of the queued calls may reentrantly call _lazy_init();\u001b[39;00m\n\u001b[1;32m    <a href='file:///zhome/5b/b/127277/.local/lib/python3.8/site-packages/torch/cuda/__init__.py?line=215'>216</a>\u001b[0m \u001b[39m# we need to just return without initializing in that case.\u001b[39;00m\n\u001b[1;32m    <a href='file:///zhome/5b/b/127277/.local/lib/python3.8/site-packages/torch/cuda/__init__.py?line=216'>217</a>\u001b[0m \u001b[39m# However, we must not let any *other* threads in!\u001b[39;00m\n\u001b[1;32m    <a href='file:///zhome/5b/b/127277/.local/lib/python3.8/site-packages/torch/cuda/__init__.py?line=217'>218</a>\u001b[0m _tls\u001b[39m.\u001b[39mis_initializing \u001b[39m=\u001b[39m \u001b[39mTrue\u001b[39;00m\n",
      "\u001b[0;31mRuntimeError\u001b[0m: Found no NVIDIA driver on your system. Please check that you have an NVIDIA GPU and installed a driver from http://www.nvidia.com/Download/index.aspx"
     ]
    }
   ],
   "source": [
    "\n",
    "from ssapp.models.NeuralNetworkModels.variational_autoencoder import VAE\n",
    "from ssapp.data.AntennaDatasetLoaders import load_serialized_dataset\n",
    "from ssapp.Utils import train_test_data_split\n",
    "from torch.utils.data.dataloader import DataLoader\n",
    "import torch.optim as optim\n",
    "import torch.nn as nn\n",
    "import torch\n",
    "%matplotlib inline\n",
    "%load_ext autoreload\n",
    "%autoreload 2\n",
    "\n",
    "dataset = load_serialized_dataset('CircularHornDataset1',extra_back_steps=1)\n",
    "\n",
    "train_dataset, test_dataset = train_test_data_split(dataset)\n",
    "\n",
    "config = {'latent_size': 1,\n",
    "            'coder_channel_1': 16,\n",
    "            'coder_channel_2': 32,\n",
    "            'batch_size' : 2}\n",
    "\n",
    "\n",
    "train_dataloader = DataLoader(train_dataset,batch_size=config['batch_size'])\n",
    "test_dataloader = DataLoader(test_dataset,batch_size=config['batch_size'])\n",
    "\n",
    "train_params, train_fields = next(iter(train_dataloader))\n",
    "\n",
    "\n",
    "model = VAE(config)\n",
    "\n"
   ]
  },
  {
   "cell_type": "code",
   "execution_count": null,
   "id": "ac60b105",
   "metadata": {},
   "outputs": [],
   "source": [
    "\n",
    "optimizer = optim.Adam(model.parameters(), lr=4e-3)\n",
    "criterion = nn.MSELoss()\n",
    "\n"
   ]
  },
  {
   "cell_type": "code",
   "execution_count": null,
   "id": "b2a7b3de",
   "metadata": {},
   "outputs": [
    {
     "name": "stdout",
     "output_type": "stream",
     "text": [
      "epoch : 1/10, rec_loss = 1.903418091e+03, kl_loss = 6.635011597e+02\n",
      "epoch : 2/10, rec_loss = 1.860978638e+03, kl_loss = 4.852287598e+02\n",
      "epoch : 3/10, rec_loss = 1.852744263e+03, kl_loss = 4.852440491e+02\n"
     ]
    },
    {
     "ename": "KeyboardInterrupt",
     "evalue": "",
     "output_type": "error",
     "traceback": [
      "\u001b[1;31m---------------------------------------------------------------------------\u001b[0m",
      "\u001b[1;31mKeyboardInterrupt\u001b[0m                         Traceback (most recent call last)",
      "\u001b[1;32m~\\AppData\\Local\\Temp/ipykernel_13548/1566126991.py\u001b[0m in \u001b[0;36m<module>\u001b[1;34m\u001b[0m\n\u001b[0;32m     13\u001b[0m         \u001b[0mloss\u001b[0m \u001b[1;33m=\u001b[0m \u001b[0mrec_loss\u001b[0m \u001b[1;33m+\u001b[0m \u001b[0mmodel\u001b[0m\u001b[1;33m.\u001b[0m\u001b[0mkl\u001b[0m\u001b[1;33m\u001b[0m\u001b[1;33m\u001b[0m\u001b[0m\n\u001b[0;32m     14\u001b[0m \u001b[1;33m\u001b[0m\u001b[0m\n\u001b[1;32m---> 15\u001b[1;33m         \u001b[0mloss\u001b[0m\u001b[1;33m.\u001b[0m\u001b[0mbackward\u001b[0m\u001b[1;33m(\u001b[0m\u001b[1;33m)\u001b[0m\u001b[1;33m\u001b[0m\u001b[1;33m\u001b[0m\u001b[0m\n\u001b[0m\u001b[0;32m     16\u001b[0m \u001b[1;33m\u001b[0m\u001b[0m\n\u001b[0;32m     17\u001b[0m         \u001b[0mepoch_rec_loss\u001b[0m \u001b[1;33m+=\u001b[0m \u001b[0mrec_loss\u001b[0m\u001b[1;33m/\u001b[0m\u001b[0mlen\u001b[0m\u001b[1;33m(\u001b[0m\u001b[0mtrain_fields\u001b[0m\u001b[1;33m)\u001b[0m\u001b[1;33m\u001b[0m\u001b[1;33m\u001b[0m\u001b[0m\n",
      "\u001b[1;32m~\\.conda\\envs\\Kandidatspeciale\\lib\\site-packages\\torch\\_tensor.py\u001b[0m in \u001b[0;36mbackward\u001b[1;34m(self, gradient, retain_graph, create_graph, inputs)\u001b[0m\n\u001b[0;32m    361\u001b[0m                 \u001b[0mcreate_graph\u001b[0m\u001b[1;33m=\u001b[0m\u001b[0mcreate_graph\u001b[0m\u001b[1;33m,\u001b[0m\u001b[1;33m\u001b[0m\u001b[1;33m\u001b[0m\u001b[0m\n\u001b[0;32m    362\u001b[0m                 inputs=inputs)\n\u001b[1;32m--> 363\u001b[1;33m         \u001b[0mtorch\u001b[0m\u001b[1;33m.\u001b[0m\u001b[0mautograd\u001b[0m\u001b[1;33m.\u001b[0m\u001b[0mbackward\u001b[0m\u001b[1;33m(\u001b[0m\u001b[0mself\u001b[0m\u001b[1;33m,\u001b[0m \u001b[0mgradient\u001b[0m\u001b[1;33m,\u001b[0m \u001b[0mretain_graph\u001b[0m\u001b[1;33m,\u001b[0m \u001b[0mcreate_graph\u001b[0m\u001b[1;33m,\u001b[0m \u001b[0minputs\u001b[0m\u001b[1;33m=\u001b[0m\u001b[0minputs\u001b[0m\u001b[1;33m)\u001b[0m\u001b[1;33m\u001b[0m\u001b[1;33m\u001b[0m\u001b[0m\n\u001b[0m\u001b[0;32m    364\u001b[0m \u001b[1;33m\u001b[0m\u001b[0m\n\u001b[0;32m    365\u001b[0m     \u001b[1;32mdef\u001b[0m \u001b[0mregister_hook\u001b[0m\u001b[1;33m(\u001b[0m\u001b[0mself\u001b[0m\u001b[1;33m,\u001b[0m \u001b[0mhook\u001b[0m\u001b[1;33m)\u001b[0m\u001b[1;33m:\u001b[0m\u001b[1;33m\u001b[0m\u001b[1;33m\u001b[0m\u001b[0m\n",
      "\u001b[1;32m~\\.conda\\envs\\Kandidatspeciale\\lib\\site-packages\\torch\\autograd\\__init__.py\u001b[0m in \u001b[0;36mbackward\u001b[1;34m(tensors, grad_tensors, retain_graph, create_graph, grad_variables, inputs)\u001b[0m\n\u001b[0;32m    171\u001b[0m     \u001b[1;31m# some Python versions print out the first line of a multi-line function\u001b[0m\u001b[1;33m\u001b[0m\u001b[1;33m\u001b[0m\u001b[1;33m\u001b[0m\u001b[0m\n\u001b[0;32m    172\u001b[0m     \u001b[1;31m# calls in the traceback and some print out the last line\u001b[0m\u001b[1;33m\u001b[0m\u001b[1;33m\u001b[0m\u001b[1;33m\u001b[0m\u001b[0m\n\u001b[1;32m--> 173\u001b[1;33m     Variable._execution_engine.run_backward(  # Calls into the C++ engine to run the backward pass\n\u001b[0m\u001b[0;32m    174\u001b[0m         \u001b[0mtensors\u001b[0m\u001b[1;33m,\u001b[0m \u001b[0mgrad_tensors_\u001b[0m\u001b[1;33m,\u001b[0m \u001b[0mretain_graph\u001b[0m\u001b[1;33m,\u001b[0m \u001b[0mcreate_graph\u001b[0m\u001b[1;33m,\u001b[0m \u001b[0minputs\u001b[0m\u001b[1;33m,\u001b[0m\u001b[1;33m\u001b[0m\u001b[1;33m\u001b[0m\u001b[0m\n\u001b[0;32m    175\u001b[0m         allow_unreachable=True, accumulate_grad=True)  # Calls into the C++ engine to run the backward pass\n",
      "\u001b[1;31mKeyboardInterrupt\u001b[0m: "
     ]
    }
   ],
   "source": [
    "\n",
    "\n",
    "\n",
    "EPOCHS=10\n",
    "for epoch in range(EPOCHS):\n",
    "    epoch_loss,epoch_rec_loss,epoch_kl_loss = (0,0,0)\n",
    "\n",
    "    for train_params, train_fields in train_dataloader:\n",
    "\n",
    "        train_fields= train_fields.float()\n",
    "\n",
    "        optimizer.zero_grad()\n",
    "        reconstruction = model(train_fields.float())\n",
    "        rec_loss = criterion(reconstruction, train_fields)\n",
    "        \n",
    "        loss = rec_loss + model.kl\n",
    "\n",
    "        loss.backward()\n",
    "\n",
    "        epoch_rec_loss += rec_loss/len(train_fields)\n",
    "        epoch_kl_loss += model.kl/len(train_fields)\n",
    "        epoch_loss += loss/len(train_fields)\n",
    "\n",
    "        optimizer.step()\n",
    "\n",
    "\n",
    "\n",
    "    print(\"epoch : {}/{}, rec_loss = {:.9e}, kl_loss = {:.9e}\".format(epoch + 1, EPOCHS, epoch_rec_loss,epoch_kl_loss))"
   ]
  }
 ],
 "metadata": {
  "kernelspec": {
   "display_name": "Python 3 (ipykernel)",
   "language": "python",
   "name": "python3"
  },
  "language_info": {
   "codemirror_mode": {
    "name": "ipython",
    "version": 3
   },
   "file_extension": ".py",
   "mimetype": "text/x-python",
   "name": "python",
   "nbconvert_exporter": "python",
   "pygments_lexer": "ipython3",
   "version": "3.8.11"
  }
 },
 "nbformat": 4,
 "nbformat_minor": 5
}
