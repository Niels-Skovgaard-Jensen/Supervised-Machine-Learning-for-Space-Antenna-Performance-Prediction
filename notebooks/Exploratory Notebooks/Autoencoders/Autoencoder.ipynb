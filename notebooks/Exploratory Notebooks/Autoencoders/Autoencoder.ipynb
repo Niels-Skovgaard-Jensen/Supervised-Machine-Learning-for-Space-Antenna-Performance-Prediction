{
 "cells": [
  {
   "cell_type": "code",
   "execution_count": 1,
   "id": "762c1c76-e3fc-461e-b8c6-d6dc84f22121",
   "metadata": {},
   "outputs": [
    {
     "name": "stdout",
     "output_type": "stream",
     "text": [
      "c:\\Users\\Niels\\OneDrive\\Documents\\GitHub\\Supervised-Machine-Learning-for-Space-Antenna-Performance-Prediction\\notebooks\\data\\raw\\ReflectorAntennaSimpleDataset1\\cut_files\n"
     ]
    }
   ],
   "source": [
    "from torch import nn\n",
    "import torch\n",
    "from torch import optim\n",
    "import numpy as np\n",
    "from pathlib import Path\n",
    "from sklearn.preprocessing import StandardScaler\n",
    "from ssapp.data import AntennaDatasetLoaders\n",
    "\n",
    "cut_folder, log_file = AntennaDatasetLoaders.get_raw_dataset_path('ReflectorAntennaSimpleDataset1')\n",
    "\n",
    "print(cut_folder)"
   ]
  },
  {
   "cell_type": "code",
   "execution_count": null,
   "id": "9c1ba7a0",
   "metadata": {},
   "outputs": [],
   "source": [
    "features = torch.from_numpy(np.genfromtxt(log_file, skip_header=1,dtype = np.float32))\n",
    "features = features[:,1:4]\n",
    "\n",
    "\n",
    "class AE(nn.Module):\n",
    "    def __init__(self):\n",
    "        super().__init__()\n",
    "        self.encoder = nn.Sequential(nn.Linear(3,4),\n",
    "                                    nn.Sigmoid(),\n",
    "                                    nn.Linear(4,2),\n",
    "                                    nn.Sigmoid())\n",
    "        self.decoder = nn.Sequential(nn.Linear(2,4),\n",
    "                                    nn.Sigmoid(),\n",
    "                                    nn.Linear(4,3))\n",
    "\n",
    "    def forward(self, features):\n",
    "        self.latent = self.encoder(features)\n",
    "        reconstructed = self.decoder(self.latent)\n",
    "        return reconstructed\n",
    "    \n",
    "    def encode(self,features):\n",
    "        return self.encoder(features)\n",
    "    \n",
    "    def decode(self,latentVariables):\n",
    "        return self.decoder(latentVariables)\n",
    "    \n",
    "    def getLatent(self):\n",
    "        return self.latent\n",
    "    \n",
    "\n",
    "\n",
    "AutoEncoder = AE()\n",
    "## Test Forward Pass\n",
    "AutoEncoder(features[1])\n",
    "\n",
    "stdFeatures = torch.tensor(StandardScaler().fit_transform(features),dtype = torch.float32)\n"
   ]
  },
  {
   "cell_type": "code",
   "execution_count": 66,
   "id": "2b80d4f3-e78f-4891-afd9-6ec29796949b",
   "metadata": {},
   "outputs": [
    {
     "name": "stdout",
     "output_type": "stream",
     "text": [
      "tensor([[-1.6641, -1.5667, -1.5667],\n",
      "        [-1.6641, -1.2185, -1.5667],\n",
      "        [-1.6641, -0.8704, -1.5667],\n",
      "        ...,\n",
      "        [ 1.6641,  0.8704,  1.5667],\n",
      "        [ 1.6641,  1.2185,  1.5667],\n",
      "        [ 1.6641,  1.5667,  1.5667]])\n"
     ]
    }
   ],
   "source": [
    "print(stdFeatures)"
   ]
  },
  {
   "cell_type": "code",
   "execution_count": 67,
   "id": "85f5a3d0-0774-426b-bf86-019bf056d148",
   "metadata": {},
   "outputs": [],
   "source": [
    "#  use gpu if available\n",
    "device = torch.device(\"cuda\" if torch.cuda.is_available() else \"cpu\")\n",
    "\n",
    "# create a model from `AE` autoencoder class\n",
    "# load it to the specified device, either gpu or cpu\n",
    "model = AE().to(device)\n",
    "\n",
    "# create an optimizer object\n",
    "# Adam optimizer with learning rate 1e-3\n",
    "optimizer = optim.Adam(model.parameters(), lr=1e-4)\n",
    "\n",
    "# mean-squared error loss\n",
    "criterion = nn.MSELoss()"
   ]
  },
  {
   "cell_type": "code",
   "execution_count": 68,
   "id": "38e71e1b-9516-4903-a676-9f2e53f162d9",
   "metadata": {},
   "outputs": [
    {
     "name": "stdout",
     "output_type": "stream",
     "text": [
      "epoch : 1/50000, loss = 1.401942968\n",
      "epoch : 5001/50000, loss = 0.983305037\n",
      "epoch : 10001/50000, loss = 0.761415184\n",
      "epoch : 15001/50000, loss = 0.685513854\n",
      "epoch : 20001/50000, loss = 0.647317946\n",
      "epoch : 25001/50000, loss = 0.394353151\n",
      "epoch : 30001/50000, loss = 0.350977838\n",
      "epoch : 35001/50000, loss = 0.336973220\n",
      "epoch : 40001/50000, loss = 0.333731443\n",
      "epoch : 45001/50000, loss = 0.330244035\n"
     ]
    }
   ],
   "source": [
    "EPOCHS = 50000\n",
    "for epoch in range(EPOCHS):\n",
    "        \n",
    "    # reset the gradients back to zero\n",
    "    # PyTorch accumulates gradients on subsequent backward passes\n",
    "    optimizer.zero_grad()\n",
    "        \n",
    "    # compute reconstructions\n",
    "    outputs = model(stdFeatures)\n",
    "        \n",
    "    # compute training reconstruction loss\n",
    "    train_loss = criterion(outputs, stdFeatures)\n",
    "        \n",
    "    # compute accumulated gradients\n",
    "    train_loss.backward()\n",
    "        \n",
    "    # perform parameter update based on current gradients\n",
    "    optimizer.step()\n",
    "        \n",
    "    # add the mini-batch training loss to epoch loss\n",
    "    loss = train_loss.item()\n",
    "    \n",
    "    # compute the epoch training loss\n",
    "    loss = loss\n",
    "    \n",
    "    # display the epoch training loss\n",
    "    if epoch % (EPOCHS/10) == 0:\n",
    "        print(\"epoch : {}/{}, loss = {:.9f}\".format(epoch + 1, EPOCHS, loss))"
   ]
  },
  {
   "cell_type": "code",
   "execution_count": 69,
   "id": "9fa4917a-cd32-4e64-a967-bc9db6eadd5e",
   "metadata": {},
   "outputs": [
    {
     "name": "stdout",
     "output_type": "stream",
     "text": [
      "[0.01 0.4  0.  ]\n",
      "[0.2 1.2 3. ]\n"
     ]
    }
   ],
   "source": [
    "minFeatures = np.min(features.numpy(),axis = 0)\n",
    "maxFeatures = np.max(features.numpy(),axis = 0)\n",
    "\n",
    "print(minFeatures)\n",
    "print(maxFeatures)"
   ]
  },
  {
   "cell_type": "code",
   "execution_count": null,
   "id": "a40fb2f0-c809-40a8-98e2-da41843dce1b",
   "metadata": {},
   "outputs": [],
   "source": []
  },
  {
   "cell_type": "code",
   "execution_count": 70,
   "id": "c98d27e7-ee1b-4f71-9a0d-059e47a3f581",
   "metadata": {},
   "outputs": [
    {
     "data": {
      "text/plain": [
       "<matplotlib.collections.PathCollection at 0x281978e97f0>"
      ]
     },
     "execution_count": 70,
     "metadata": {},
     "output_type": "execute_result"
    },
    {
     "data": {
      "image/png": "[encoded data removed]",
      "text/plain": [
       "<Figure size 432x288 with 1 Axes>"
      ]
     },
     "metadata": {
      "needs_background": "light"
     },
     "output_type": "display_data"
    },
    {
     "data": {
      "image/png": "[encoded data removed]",
      "text/plain": [
       "<Figure size 432x288 with 1 Axes>"
      ]
     },
     "metadata": {
      "needs_background": "light"
     },
     "output_type": "display_data"
    }
   ],
   "source": [
    "from matplotlib import pyplot as plt\n",
    "\n",
    "diameterSweep = torch.tensor([[x, minFeatures[1],minFeatures[2]] for x in torch.linspace(minFeatures[0],maxFeatures[0],100)])\n",
    "\n",
    "latent = model.encode(features)\n",
    "\n",
    "\n",
    "diameterSweepLatent = model.encode(diameterSweep).detach().numpy()\n",
    "\n",
    "\n",
    "plt.figure()\n",
    "plt.title('Latent Space')\n",
    "plt.scatter(latent[:,0].detach().numpy(),latent[:,1].detach().numpy())\n",
    "\n",
    "plt.figure()\n",
    "plt.title('Reflector Diameter Sweep in Latent Space')\n",
    "plt.scatter(diameterSweepLatent[:,0],diameterSweepLatent[:,1])"
   ]
  }
 ],
 "metadata": {
  "kernelspec": {
   "display_name": "Python 3 (ipykernel)",
   "language": "python",
   "name": "python3"
  },
  "language_info": {
   "codemirror_mode": {
    "name": "ipython",
    "version": 3
   },
   "file_extension": ".py",
   "mimetype": "text/x-python",
   "name": "python",
   "nbconvert_exporter": "python",
   "pygments_lexer": "ipython3",
   "version": "3.8.12"
  }
 },
 "nbformat": 4,
 "nbformat_minor": 5
}
