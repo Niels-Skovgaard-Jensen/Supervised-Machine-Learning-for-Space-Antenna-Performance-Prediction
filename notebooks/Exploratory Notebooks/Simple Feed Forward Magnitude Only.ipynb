{
 "cells": [
  {
   "cell_type": "code",
   "execution_count": 1,
   "id": "8c0ce738-58e2-46ee-9a65-64a69fee25dd",
   "metadata": {},
   "outputs": [],
   "source": [
    "# Standard Packages\n",
    "from torch.utils.data import random_split, DataLoader\n",
    "import torch\n",
    "from datetime import datetime\n",
    "from matplotlib import pyplot as plt\n",
    "# Custom Packages\n",
    "from NeuralNetworkModels.SimpleFeedForward import DirectFeedForwardNet\n",
    "from AntennaDatasets import AntennaDatasetLoaders\n",
    "\n",
    "# General Settings\n",
    "torch.manual_seed(42) # Manual seed for sanity\n",
    "device = torch.device(\"cuda:0\" if torch.cuda.is_available() else \"cpu\")\n"
   ]
  },
  {
   "cell_type": "code",
   "execution_count": 28,
   "id": "e2b11887-9ac5-4a6b-8ef2-96ec5967cdfb",
   "metadata": {},
   "outputs": [
    {
     "name": "stdout",
     "output_type": "stream",
     "text": [
      "(4, 20)\n"
     ]
    }
   ],
   "source": [
    "CUTS_IN_DATASET = 20\n",
    "\n",
    "dataset = AntennaDatasetLoaders.ReflectorCutDataset(cuts = CUTS_IN_DATASET,flatten_output = True)"
   ]
  },
  {
   "cell_type": "code",
   "execution_count": 47,
   "id": "a498d096-88df-4f8c-84ce-36f405ed17b1",
   "metadata": {},
   "outputs": [],
   "source": [
    "TEST_TRAIN_RATIO = 0.7\n",
    "BATCH_SIZE = 1\n",
    "train_len = int(len(dataset)*TEST_TRAIN_RATIO)\n",
    "train_set, test_set = random_split(dataset, [train_len, len(dataset) - train_len])\n",
    "\n",
    "train_dataloader = DataLoader(train_set, batch_size = BATCH_SIZE, shuffle=True)\n",
    "test_dataloader = DataLoader(test_set, batch_size = BATCH_SIZE, shuffle=True)"
   ]
  },
  {
   "cell_type": "code",
   "execution_count": 48,
   "id": "52f57f1c-6f1a-4d02-bfae-4e8c62c09f2c",
   "metadata": {},
   "outputs": [
    {
     "name": "stdout",
     "output_type": "stream",
     "text": [
      "tensor([[ 0.1102, -0.1614, -0.2065,  ...,  0.1476,  0.0598,  0.0337],\n",
      "        [ 0.1768, -0.0837,  0.0250,  ...,  0.0824, -0.0510,  0.0138]],\n",
      "       grad_fn=<AddmmBackward>)\n"
     ]
    }
   ],
   "source": [
    "\n",
    "#Define model\n",
    "model = DirectFeedForwardNet(in_features = 3,out_features = 4004,NN = 100)\n",
    "#Test Forward pass\n",
    "print(model(torch.randn(2,3).to(device)))"
   ]
  },
  {
   "cell_type": "code",
   "execution_count": 58,
   "id": "dc725eba-e59e-49e7-b02b-2158260ae561",
   "metadata": {},
   "outputs": [],
   "source": [
    "LEARNING_RATE = 4e-2\n",
    "\n",
    "criterion = torch.nn.MSELoss()"
   ]
  },
  {
   "cell_type": "code",
   "execution_count": 59,
   "id": "71bec362-c4cb-47d3-8acf-212cd4990e18",
   "metadata": {},
   "outputs": [
    {
     "name": "stdout",
     "output_type": "stream",
     "text": [
      "Training Loss 0.005366393364965916\n",
      "Test Loss 0.005342715885490179\n",
      "Training Loss 0.005356003064662218\n",
      "Test Loss 0.00534076290205121\n",
      "Training Loss 0.005355412606149912\n",
      "Test Loss 0.005341805517673492\n",
      "Training Loss 0.0053598009981215\n",
      "Test Loss 0.005340259522199631\n",
      "Training Loss 0.0053568677976727486\n",
      "Test Loss 0.005340361502021551\n",
      "Training Loss 0.005355886183679104\n",
      "Test Loss 0.005341093987226486\n",
      "Training Loss 0.005357544403523207\n",
      "Test Loss 0.005342054646462202\n",
      "Training Loss 0.005356170702725649\n",
      "Test Loss 0.005340444389730692\n",
      "Training Loss 0.005356398411095142\n",
      "Test Loss 0.005340887233614922\n",
      "Training Loss 0.00535658048465848\n",
      "Test Loss 0.005341962445527315\n",
      "Training time: 0:00:15.714435\n"
     ]
    }
   ],
   "source": [
    "EPOCHS = int(200)\n",
    "\n",
    "optimizer = torch.optim.AdamW(model.parameters(), lr=LEARNING_RATE)\n",
    "\n",
    "startTime = datetime.now()\n",
    "train_loss_array = []\n",
    "test_loss_array = []\n",
    "loss_array = []\n",
    "\n",
    "for epoch in range(EPOCHS):\n",
    "\n",
    "    epoch_training_loss = 0\n",
    "    epoch_training_targets = 0\n",
    "    train_batches = 0\n",
    "    for input_train_batch, target_train_batch in train_dataloader:\n",
    "        \n",
    "        ## Transfer Batch to Device\n",
    "        input_train_batch = input_train_batch.to(device)\n",
    "        target_train_batch = target_train_batch.to(device)\n",
    "        \n",
    "        prediction = model(input_train_batch)\n",
    "        \n",
    "        loss = criterion(input = prediction, target = target_train_batch)\n",
    "        epoch_training_loss += loss/(target_train_batch.shape[0]*target_train_batch.shape[1])\n",
    "        train_batches +=1\n",
    "        optimizer.zero_grad()\n",
    "        loss.backward()\n",
    "        optimizer.step()\n",
    "        \n",
    "    \n",
    "    \n",
    "    epoch_test_loss = 0\n",
    "    epoch_test_targets = 0\n",
    "    test_batches=0\n",
    "    with torch.no_grad():\n",
    "        \n",
    "        for input_test_batch, target_test_batch in test_dataloader:\n",
    "            \n",
    "            # Put thing to device\n",
    "            input_test_batch = input_test_batch.to(device)\n",
    "            target_test_batch = target_test_batch.to(device)\n",
    "            \n",
    "            \n",
    "            prediction = model(input_train_batch)\n",
    "            loss = criterion(input = prediction, target = target_test_batch)\n",
    "            epoch_test_loss += loss/(target_test_batch.shape[0]*target_test_batch.shape[1])\n",
    "            test_batches += 1\n",
    "    \n",
    "    if epoch%(EPOCHS/10) == 0:\n",
    "        print('Training Loss',(epoch_training_loss/train_batches).item())\n",
    "        print('Test Loss',(epoch_test_loss/test_batches).item())\n",
    "\n",
    "\n",
    "\n",
    "print('Training time:', datetime.now()-startTime)"
   ]
  },
  {
   "cell_type": "code",
   "execution_count": 50,
   "id": "fdca3fab-4cae-4a4f-bd56-7d35f07dbd05",
   "metadata": {},
   "outputs": [
    {
     "name": "stdout",
     "output_type": "stream",
     "text": [
      "tensor([[0.0179, 0.8444, 0.0000]])\n"
     ]
    },
    {
     "data": {
      "text/plain": [
       "<matplotlib.legend.Legend at 0x237030a2100>"
      ]
     },
     "execution_count": 50,
     "metadata": {},
     "output_type": "execute_result"
    },
    {
     "data": {
      "image/png": "[encoded data removed]",
      "text/plain": [
       "<Figure size 432x288 with 1 Axes>"
      ]
     },
     "metadata": {
      "needs_background": "light"
     },
     "output_type": "display_data"
    },
    {
     "data": {
      "image/png": "[encoded data removed]",
      "text/plain": [
       "<Figure size 432x288 with 1 Axes>"
      ]
     },
     "metadata": {
      "needs_background": "light"
     },
     "output_type": "display_data"
    }
   ],
   "source": [
    "inp, tar = next(iter(train_dataloader)) \n",
    "print(inp)\n",
    "plt.figure()\n",
    "plt.title('Training set example')\n",
    "plt.plot(model(inp).flatten().detach(),label = 'Model Prediction')\n",
    "plt.plot(tar.flatten(),label ='Truth')\n",
    "plt.legend()\n",
    "\n",
    "inp, tar = next(iter(test_dataloader)) \n",
    "plt.figure()\n",
    "plt.title('Test set example')\n",
    "plt.plot(model(inp).flatten().detach(),label = 'Model Prediction')\n",
    "plt.plot(tar.flatten(),label = 'Truth')\n",
    "plt.legend()"
   ]
  },
  {
   "cell_type": "code",
   "execution_count": 32,
   "id": "88d5058f-3496-48ac-8538-e2453f32dd3d",
   "metadata": {},
   "outputs": [
    {
     "name": "stdout",
     "output_type": "stream",
     "text": [
      "Loss 15.391279220581055\n",
      "Loss 14.888325691223145\n",
      "Loss 3.9582700729370117\n",
      "Loss 0.008918371982872486\n",
      "Loss 1.7854410543804988e-05\n",
      "Loss 3.5790336028185266e-08\n",
      "Loss 2.4906976481275933e-10\n",
      "Loss 6.686366738062333e-11\n",
      "Loss 3.7077733244794686e-11\n",
      "Loss 2.578907400130337e-11\n"
     ]
    },
    {
     "data": {
      "text/plain": [
       "[<matplotlib.lines.Line2D at 0x23701579760>]"
      ]
     },
     "execution_count": 32,
     "metadata": {},
     "output_type": "execute_result"
    },
    {
     "data": {
      "image/png": "[encoded data removed]",
      "text/plain": [
       "<Figure size 432x288 with 1 Axes>"
      ]
     },
     "metadata": {
      "needs_background": "light"
     },
     "output_type": "display_data"
    }
   ],
   "source": [
    "## Test overfitting\n",
    "EPOCHS = int(2e3)\n",
    "\n",
    "overFitModel = DirectFeedForwardNet(in_features = 3,out_features = 4004,NN = 100)\n",
    "optimizer = torch.optim.SGD(overFitModel.parameters(), lr=LEARNING_RATE, momentum=MOMENTUM)\n",
    "inp, tar = next(iter(train_dataloader)) \n",
    "for epoch in range(EPOCHS):\n",
    "    prediction = overFitModel(inp)\n",
    "        \n",
    "    loss = criterion(input = prediction, target = tar)\n",
    "    optimizer.zero_grad()\n",
    "    loss.backward()\n",
    "    optimizer.step()\n",
    "    if epoch%(EPOCHS/10) == 0:\n",
    "        print('Loss', loss.item())\n",
    "    \n",
    "    \n",
    "plt.plot(overFitModel(inp).flatten().detach())\n",
    "plt.plot(tar.flatten())"
   ]
  },
  {
   "cell_type": "code",
   "execution_count": null,
   "id": "ed9f19c2-3c0f-493d-b608-daa85a5965e5",
   "metadata": {},
   "outputs": [],
   "source": [
    "inputs, classes = next(iter(train_dataloader)) \n",
    "print(inputs,classes)"
   ]
  }
 ],
 "metadata": {
  "kernelspec": {
   "display_name": "Python 3 (ipykernel)",
   "language": "python",
   "name": "python3"
  },
  "language_info": {
   "codemirror_mode": {
    "name": "ipython",
    "version": 3
   },
   "file_extension": ".py",
   "mimetype": "text/x-python",
   "name": "python",
   "nbconvert_exporter": "python",
   "pygments_lexer": "ipython3",
   "version": "3.8.12"
  }
 },
 "nbformat": 4,
 "nbformat_minor": 5
}
