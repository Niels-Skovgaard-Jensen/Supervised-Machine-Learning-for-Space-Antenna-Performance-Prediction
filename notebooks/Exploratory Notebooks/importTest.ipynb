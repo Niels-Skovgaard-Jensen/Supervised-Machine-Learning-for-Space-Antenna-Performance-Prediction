{
 "cells": [
  {
   "cell_type": "code",
   "execution_count": 1,
   "id": "ba5871c9-38f6-4b0d-978b-4216c55676ac",
   "metadata": {},
   "outputs": [],
   "source": [
    "import torch\n",
    "import numpy as np\n",
    "from AntennaDatasets import AntennaDatasetLoaders\n",
    "from matplotlib import pyplot as plt"
   ]
  },
  {
   "cell_type": "code",
   "execution_count": 27,
   "id": "a59b3ebd-561a-491d-935f-ada5997d797f",
   "metadata": {},
   "outputs": [
    {
     "name": "stdout",
     "output_type": "stream",
     "text": [
      "(200, 3)\n",
      "torch.Size([200, 1001, 4])\n"
     ]
    }
   ],
   "source": [
    "from torch.utils.data import DataLoader\n",
    "CUTS = 200\n",
    "batch_size = 1; \n",
    "dataset = AntennaDatasetLoaders.ReflectorCutDataset(cuts = CUTS,flatten_output = False)\n",
    "print(dataset.antenna_parameters.shape)\n",
    "print(dataset.field_cut.shape)\n",
    "\n",
    "dataloader = DataLoader(dataset, batch_size = 1, shuffle=True)"
   ]
  },
  {
   "cell_type": "code",
   "execution_count": 3,
   "id": "2522b72d-5aee-4249-9a58-ce73bc74bdc5",
   "metadata": {},
   "outputs": [
    {
     "name": "stdout",
     "output_type": "stream",
     "text": [
      "torch.Size([1, 3]) torch.Size([1, 1001, 4])\n"
     ]
    }
   ],
   "source": [
    "params, field_cut = next(iter(dataloader))\n",
    "print(params.shape,field_cut.shape)\n"
   ]
  },
  {
   "cell_type": "code",
   "execution_count": null,
   "id": "30f874eb-45e1-4319-8eef-76f415f08d1c",
   "metadata": {},
   "outputs": [],
   "source": []
  },
  {
   "cell_type": "code",
   "execution_count": 39,
   "id": "735ade69-68e1-45ef-85e8-5a24c06a0115",
   "metadata": {},
   "outputs": [
    {
     "name": "stdout",
     "output_type": "stream",
     "text": [
      "torch.Size([1, 1001])\n",
      "tensor([[0.0445-0.0247j, 0.0440-0.0141j, 0.0418-0.0032j,  ...,\n",
      "         0.0422-0.0043j, 0.0443-0.0152j, 0.0448-0.0260j]])\n",
      "tensor([[0.0509, 0.0462, 0.0420,  ..., 0.0424, 0.0469, 0.0518]])\n",
      "tensor([[-0.5071, -0.3091, -0.0753,  ..., -0.1008, -0.3313, -0.5260]])\n"
     ]
    },
    {
     "data": {
      "text/plain": [
       "<matplotlib.legend.Legend at 0x1ae089966d0>"
      ]
     },
     "execution_count": 39,
     "metadata": {},
     "output_type": "execute_result"
    },
    {
     "data": {
      "image/png": "[encoded data removed]",
      "text/plain": [
       "<Figure size 432x288 with 1 Axes>"
      ]
     },
     "metadata": {
      "needs_background": "light"
     },
     "output_type": "display_data"
    }
   ],
   "source": [
    "params, field_cut = next(iter(dataloader))\n",
    "\n",
    "x = field_cut[:,:,0:2]\n",
    "\n",
    "x_polar_complex = torch.view_as_complex(x)\n",
    "\n",
    "print(x_polar_complex.shape)\n",
    "\n",
    "print(x_polar_complex)\n",
    "\n",
    "print(torch.abs(x_polar_complex))\n",
    "print(torch.angle(x_polar_complex))\n",
    "plt.figure()\n",
    "plt.plot(torch.abs(x_polar_complex[0]),label = 'Magnitude')\n",
    "plt.plot(np.unwrap(torch.angle(x_polar_complex[0]).detach().numpy()),label = 'Phase')\n",
    "plt.legend()"
   ]
  },
  {
   "cell_type": "code",
   "execution_count": 55,
   "id": "56071fe3-53da-4478-bf84-47ed3b43b5f7",
   "metadata": {},
   "outputs": [
    {
     "name": "stdout",
     "output_type": "stream",
     "text": [
      "torch.Size([20, 1001, 4])\n",
      "torch.Size([20, 1001, 1])\n",
      "torch.Size([20, 1001, 1])\n",
      "torch.Size([20, 1001, 2])\n"
     ]
    }
   ],
   "source": [
    "dataset = AntennaDatasetLoaders.ReflectorCutDatasetComplex(cuts = 20)\n",
    "\n",
    "params, field_cut = next(iter(dataloader))\n",
    "\n",
    "plt.figure()\n",
    "plt.plot(torch.abs(x_polar_complex[0]),label = 'Magnitude')\n",
    "plt.plot(np.unwrap(torch.angle(x_polar_complex[0]).detach().numpy()),label = 'Phase')\n",
    "plt.legend()"
   ]
  },
  {
   "cell_type": "code",
   "execution_count": 3,
   "id": "1fd9ccb4-41f5-4745-959c-6262cab040e1",
   "metadata": {},
   "outputs": [
    {
     "data": {
      "text/plain": [
       "tensor([-0.0991,  0.3056], grad_fn=<AddBackward0>)"
      ]
     },
     "execution_count": 3,
     "metadata": {},
     "output_type": "execute_result"
    }
   ],
   "source": [
    "from ssapp.models.NeuralNetworkModels.FFT_Neural_Nets import LatentSpaceNet\n",
    "import torch\n",
    "\n",
    "\n",
    "model = LatentSpaceNet()\n",
    "model(torch.randn(3))"
   ]
  }
 ],
 "metadata": {
  "kernelspec": {
   "display_name": "Python 3 (ipykernel)",
   "language": "python",
   "name": "python3"
  },
  "language_info": {
   "codemirror_mode": {
    "name": "ipython",
    "version": 3
   },
   "file_extension": ".py",
   "mimetype": "text/x-python",
   "name": "python",
   "nbconvert_exporter": "python",
   "pygments_lexer": "ipython3",
   "version": "3.8.12"
  }
 },
 "nbformat": 4,
 "nbformat_minor": 5
}
