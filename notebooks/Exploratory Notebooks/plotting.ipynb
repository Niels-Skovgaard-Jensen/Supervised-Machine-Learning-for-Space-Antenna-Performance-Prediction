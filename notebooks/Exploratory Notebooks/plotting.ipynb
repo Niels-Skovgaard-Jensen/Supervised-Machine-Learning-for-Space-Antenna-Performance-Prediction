{
 "cells": [
  {
   "cell_type": "code",
   "execution_count": 1,
   "metadata": {},
   "outputs": [
    {
     "name": "stdout",
     "output_type": "stream",
     "text": [
      "1.6.0\n"
     ]
    }
   ],
   "source": [
    "import torch\n",
    "import torch.nn as nn\n",
    "import numpy as np\n",
    "import matplotlib.pyplot as plt\n",
    "%config InlineBackend.figure_formats = ['svg']\n",
    "print(torch.__version__)"
   ]
  },
  {
   "cell_type": "code",
   "execution_count": 2,
   "metadata": {},
   "outputs": [
    {
     "ename": "OSError",
     "evalue": "Documents/GitHub/Supervised-Machine-Learning-for-Space-Antenna-Performance-Prediction/Prelimary Data Analysis/Single Reflector Settings and Field Cuts for Niels/cut_files/2.cut not found.",
     "output_type": "error",
     "traceback": [
      "\u001b[1;31m---------------------------------------------------------------------------\u001b[0m",
      "\u001b[1;31mOSError\u001b[0m                                   Traceback (most recent call last)",
      "\u001b[1;32m~\\AppData\\Local\\Temp/ipykernel_7488/940998126.py\u001b[0m in \u001b[0;36m<module>\u001b[1;34m\u001b[0m\n\u001b[0;32m      1\u001b[0m \u001b[0mfilename\u001b[0m \u001b[1;33m=\u001b[0m \u001b[1;34m'Documents/GitHub/Supervised-Machine-Learning-for-Space-Antenna-Performance-Prediction/Prelimary Data Analysis/Single Reflector Settings and Field Cuts for Niels/cut_files/2.cut'\u001b[0m\u001b[1;33m\u001b[0m\u001b[1;33m\u001b[0m\u001b[0m\n\u001b[1;32m----> 2\u001b[1;33m \u001b[0mV_INI\u001b[0m\u001b[1;33m,\u001b[0m \u001b[0mV_INC\u001b[0m\u001b[1;33m,\u001b[0m \u001b[0mV_NUM\u001b[0m\u001b[1;33m,\u001b[0m \u001b[0mC\u001b[0m\u001b[1;33m,\u001b[0m \u001b[0mICOMP\u001b[0m\u001b[1;33m,\u001b[0m \u001b[0mICUT\u001b[0m\u001b[1;33m,\u001b[0m \u001b[0mNCOMP\u001b[0m \u001b[1;33m=\u001b[0m \u001b[0mnp\u001b[0m\u001b[1;33m.\u001b[0m\u001b[0mgenfromtxt\u001b[0m\u001b[1;33m(\u001b[0m\u001b[0mfilename\u001b[0m\u001b[1;33m,\u001b[0m \u001b[0mmax_rows\u001b[0m\u001b[1;33m=\u001b[0m\u001b[1;36m1\u001b[0m\u001b[1;33m,\u001b[0m \u001b[0mskip_header\u001b[0m\u001b[1;33m=\u001b[0m\u001b[1;36m1\u001b[0m\u001b[1;33m)\u001b[0m\u001b[1;33m\u001b[0m\u001b[1;33m\u001b[0m\u001b[0m\n\u001b[0m\u001b[0;32m      3\u001b[0m \u001b[0mprint\u001b[0m\u001b[1;33m(\u001b[0m\u001b[0mV_INI\u001b[0m\u001b[1;33m,\u001b[0m \u001b[0mV_INC\u001b[0m\u001b[1;33m,\u001b[0m \u001b[0mV_NUM\u001b[0m\u001b[1;33m,\u001b[0m \u001b[0mC\u001b[0m\u001b[1;33m,\u001b[0m \u001b[0mICOMP\u001b[0m\u001b[1;33m,\u001b[0m \u001b[0mICUT\u001b[0m\u001b[1;33m,\u001b[0m \u001b[0mNCOMP\u001b[0m\u001b[1;33m)\u001b[0m\u001b[1;33m\u001b[0m\u001b[1;33m\u001b[0m\u001b[0m\n\u001b[0;32m      4\u001b[0m \u001b[0mdata\u001b[0m \u001b[1;33m=\u001b[0m \u001b[0mnp\u001b[0m\u001b[1;33m.\u001b[0m\u001b[0mgenfromtxt\u001b[0m\u001b[1;33m(\u001b[0m\u001b[0mfilename\u001b[0m\u001b[1;33m,\u001b[0m \u001b[0mskip_header\u001b[0m\u001b[1;33m=\u001b[0m\u001b[1;36m2\u001b[0m\u001b[1;33m,\u001b[0m\u001b[0mdtype\u001b[0m \u001b[1;33m=\u001b[0m \u001b[0mnp\u001b[0m\u001b[1;33m.\u001b[0m\u001b[0mfloat32\u001b[0m\u001b[1;33m)\u001b[0m\u001b[1;33m.\u001b[0m\u001b[0mT\u001b[0m\u001b[1;33m\u001b[0m\u001b[1;33m\u001b[0m\u001b[0m\n\u001b[0;32m      5\u001b[0m \u001b[0mprint\u001b[0m\u001b[1;33m(\u001b[0m\u001b[0mdata\u001b[0m\u001b[1;33m.\u001b[0m\u001b[0mshape\u001b[0m\u001b[1;33m)\u001b[0m\u001b[1;33m\u001b[0m\u001b[1;33m\u001b[0m\u001b[0m\n",
      "\u001b[1;32m~\\.conda\\envs\\Kandidatspeciale\\lib\\site-packages\\numpy\\lib\\npyio.py\u001b[0m in \u001b[0;36mgenfromtxt\u001b[1;34m(fname, dtype, comments, delimiter, skip_header, skip_footer, converters, missing_values, filling_values, usecols, names, excludelist, deletechars, replace_space, autostrip, case_sensitive, defaultfmt, unpack, usemask, loose, invalid_raise, max_rows, encoding)\u001b[0m\n\u001b[0;32m   1747\u001b[0m             \u001b[0mfname\u001b[0m \u001b[1;33m=\u001b[0m \u001b[0mos_fspath\u001b[0m\u001b[1;33m(\u001b[0m\u001b[0mfname\u001b[0m\u001b[1;33m)\u001b[0m\u001b[1;33m\u001b[0m\u001b[1;33m\u001b[0m\u001b[0m\n\u001b[0;32m   1748\u001b[0m         \u001b[1;32mif\u001b[0m \u001b[0misinstance\u001b[0m\u001b[1;33m(\u001b[0m\u001b[0mfname\u001b[0m\u001b[1;33m,\u001b[0m \u001b[0mstr\u001b[0m\u001b[1;33m)\u001b[0m\u001b[1;33m:\u001b[0m\u001b[1;33m\u001b[0m\u001b[1;33m\u001b[0m\u001b[0m\n\u001b[1;32m-> 1749\u001b[1;33m             \u001b[0mfid\u001b[0m \u001b[1;33m=\u001b[0m \u001b[0mnp\u001b[0m\u001b[1;33m.\u001b[0m\u001b[0mlib\u001b[0m\u001b[1;33m.\u001b[0m\u001b[0m_datasource\u001b[0m\u001b[1;33m.\u001b[0m\u001b[0mopen\u001b[0m\u001b[1;33m(\u001b[0m\u001b[0mfname\u001b[0m\u001b[1;33m,\u001b[0m \u001b[1;34m'rt'\u001b[0m\u001b[1;33m,\u001b[0m \u001b[0mencoding\u001b[0m\u001b[1;33m=\u001b[0m\u001b[0mencoding\u001b[0m\u001b[1;33m)\u001b[0m\u001b[1;33m\u001b[0m\u001b[1;33m\u001b[0m\u001b[0m\n\u001b[0m\u001b[0;32m   1750\u001b[0m             \u001b[0mfid_ctx\u001b[0m \u001b[1;33m=\u001b[0m \u001b[0mcontextlib\u001b[0m\u001b[1;33m.\u001b[0m\u001b[0mclosing\u001b[0m\u001b[1;33m(\u001b[0m\u001b[0mfid\u001b[0m\u001b[1;33m)\u001b[0m\u001b[1;33m\u001b[0m\u001b[1;33m\u001b[0m\u001b[0m\n\u001b[0;32m   1751\u001b[0m         \u001b[1;32melse\u001b[0m\u001b[1;33m:\u001b[0m\u001b[1;33m\u001b[0m\u001b[1;33m\u001b[0m\u001b[0m\n",
      "\u001b[1;32m~\\.conda\\envs\\Kandidatspeciale\\lib\\site-packages\\numpy\\lib\\_datasource.py\u001b[0m in \u001b[0;36mopen\u001b[1;34m(path, mode, destpath, encoding, newline)\u001b[0m\n\u001b[0;32m    193\u001b[0m \u001b[1;33m\u001b[0m\u001b[0m\n\u001b[0;32m    194\u001b[0m     \u001b[0mds\u001b[0m \u001b[1;33m=\u001b[0m \u001b[0mDataSource\u001b[0m\u001b[1;33m(\u001b[0m\u001b[0mdestpath\u001b[0m\u001b[1;33m)\u001b[0m\u001b[1;33m\u001b[0m\u001b[1;33m\u001b[0m\u001b[0m\n\u001b[1;32m--> 195\u001b[1;33m     \u001b[1;32mreturn\u001b[0m \u001b[0mds\u001b[0m\u001b[1;33m.\u001b[0m\u001b[0mopen\u001b[0m\u001b[1;33m(\u001b[0m\u001b[0mpath\u001b[0m\u001b[1;33m,\u001b[0m \u001b[0mmode\u001b[0m\u001b[1;33m,\u001b[0m \u001b[0mencoding\u001b[0m\u001b[1;33m=\u001b[0m\u001b[0mencoding\u001b[0m\u001b[1;33m,\u001b[0m \u001b[0mnewline\u001b[0m\u001b[1;33m=\u001b[0m\u001b[0mnewline\u001b[0m\u001b[1;33m)\u001b[0m\u001b[1;33m\u001b[0m\u001b[1;33m\u001b[0m\u001b[0m\n\u001b[0m\u001b[0;32m    196\u001b[0m \u001b[1;33m\u001b[0m\u001b[0m\n\u001b[0;32m    197\u001b[0m \u001b[1;33m\u001b[0m\u001b[0m\n",
      "\u001b[1;32m~\\.conda\\envs\\Kandidatspeciale\\lib\\site-packages\\numpy\\lib\\_datasource.py\u001b[0m in \u001b[0;36mopen\u001b[1;34m(self, path, mode, encoding, newline)\u001b[0m\n\u001b[0;32m    533\u001b[0m                                       encoding=encoding, newline=newline)\n\u001b[0;32m    534\u001b[0m         \u001b[1;32melse\u001b[0m\u001b[1;33m:\u001b[0m\u001b[1;33m\u001b[0m\u001b[1;33m\u001b[0m\u001b[0m\n\u001b[1;32m--> 535\u001b[1;33m             \u001b[1;32mraise\u001b[0m \u001b[0mIOError\u001b[0m\u001b[1;33m(\u001b[0m\u001b[1;34m\"%s not found.\"\u001b[0m \u001b[1;33m%\u001b[0m \u001b[0mpath\u001b[0m\u001b[1;33m)\u001b[0m\u001b[1;33m\u001b[0m\u001b[1;33m\u001b[0m\u001b[0m\n\u001b[0m\u001b[0;32m    536\u001b[0m \u001b[1;33m\u001b[0m\u001b[0m\n\u001b[0;32m    537\u001b[0m \u001b[1;33m\u001b[0m\u001b[0m\n",
      "\u001b[1;31mOSError\u001b[0m: Documents/GitHub/Supervised-Machine-Learning-for-Space-Antenna-Performance-Prediction/Prelimary Data Analysis/Single Reflector Settings and Field Cuts for Niels/cut_files/2.cut not found."
     ]
    }
   ],
   "source": [
    "\n",
    "filename = 'Documents/GitHub/Supervised-Machine-Learning-for-Space-Antenna-Performance-Prediction/Prelimary Data Analysis/Single Reflector Settings and Field Cuts for Niels/cut_files/2.cut'\n",
    "V_INI, V_INC, V_NUM, C, ICOMP, ICUT, NCOMP = np.genfromtxt(filename, max_rows=1, skip_header=1)\n",
    "print(V_INI, V_INC, V_NUM, C, ICOMP, ICUT, NCOMP)\n",
    "data = np.genfromtxt(filename, skip_header=2,dtype = np.float32).T\n",
    "print(data.shape)\n",
    "\n",
    "\n",
    "thetas = np.linspace(-45.0, 45.0, int(V_NUM))\n",
    "copolar = np.sqrt(data[0]**2 + data[1]**2)\n",
    "xpolar = np.sqrt(data[2]**2 + data[3]**2)\n",
    "copolar_dB = 10*np.log10(copolar)\n",
    "xpolar_dB = 10*np.log10(xpolar)\n",
    "plt.figure(figsize=(15,3))\n",
    "plt.plot(thetas, copolar_dB)\n",
    "plt.title('Theta cut Co Polar E-field ')\n",
    "plt.xlabel('Theta')\n",
    "plt.ylabel('E-Field dB')\n",
    "plt.show()\n",
    "\n",
    "plt.figure(figsize=(15, 3))\n",
    "plt.plot(thetas, xpolar_dB)\n",
    "plt.show()\n"
   ]
  },
  {
   "cell_type": "code",
   "execution_count": null,
   "metadata": {},
   "outputs": [],
   "source": [
    "r = np.arange(0, 2, 0.01)\n",
    "theta = 2 * np.pi * r\n",
    "\n",
    "fig, ax = plt.subplots(subplot_kw={'projection': 'polar'},figsize=(25, 6))\n",
    "ax.plot(thetas*np.pi/180, copolar)\n",
    "\n",
    "ax.set_theta_zero_location('N')\n",
    "ax.grid(True)\n",
    "\n",
    "ax.set_title(\"Polar plot of Co Polarization\", va='bottom')\n",
    "plt.show()"
   ]
  },
  {
   "cell_type": "code",
   "execution_count": null,
   "metadata": {},
   "outputs": [],
   "source": [
    "## Load "
   ]
  },
  {
   "cell_type": "code",
   "execution_count": null,
   "metadata": {},
   "outputs": [],
   "source": [
    "## Load parameter file\n",
    "parameterFilename = 'Documents/GitHub/Supervised-Machine-Learning-for-Space-Antenna-Performance-Prediction/Prelimary Data Analysis/Single Reflector Settings and Field Cuts for Niels/log_files/lookup.log'\n",
    "\n",
    "parameters = np.genfromtxt(parameterFilename, skip_header=2)\n",
    "\n",
    "print(parameters[-1,0])\n",
    "print(parameters.shape[0])\n"
   ]
  },
  {
   "cell_type": "code",
   "execution_count": null,
   "metadata": {},
   "outputs": [],
   "source": [
    "## Load all data files\n",
    "\n",
    "\n",
    "dataset =np.array([])\n",
    "for i in range(10):\n",
    "    filename =  'Documents/GitHub/Supervised-Machine-Learning-for-Space-Antenna-Performance-Prediction/Prelimary Data Analysis/Single Reflector Settings and Field Cuts for Niels/cut_files/'+str(i)+'.cut'\n",
    "    dataset = np.append(dataset,np.genfromtxt(filename, skip_header=2).T)\n",
    "\n",
    "\n",
    "    \n",
    "print(dataset[1])\n",
    "\n",
    "\n",
    "\n",
    "\n",
    "\n",
    "\n",
    "\n",
    "\n"
   ]
  },
  {
   "cell_type": "code",
   "execution_count": null,
   "metadata": {},
   "outputs": [],
   "source": [
    "\n",
    "NN = 10;\n",
    "class Net(nn.Module):\n",
    "    def __init__(self):\n",
    "        super(Net, self).__init__()\n",
    "        self.regressor = nn.Sequential(nn.Linear(3, NN),\n",
    "                                       nn.Tanh(),\n",
    "                                       nn.Linear(NN, int(V_NUM)))\n",
    "        \n",
    "    def forward(self, x):\n",
    "        output = self.regressor(x)\n",
    "        return output\n",
    "\n",
    "    \n",
    "def init_weights(m):\n",
    "    if isinstance(m, nn.Linear):\n",
    "        torch.nn.init.xavier_uniform_(m.weight)\n",
    "    \n",
    "## Make forward pass\n",
    "net = Net()\n",
    "net.apply(init_weights)\n",
    "t_data = torch.Tensor([+4.1666666667E-02,5.7777777778E-01,0.0000000000E+00])\n",
    "print(net(t_data))\n",
    "\n",
    "loss = criterion(input = net(t_data), target = torch.from_numpy(copolar))\n",
    "print(loss)\n"
   ]
  },
  {
   "cell_type": "code",
   "execution_count": null,
   "metadata": {},
   "outputs": [],
   "source": [
    "## Overfitting on single E field\n",
    "\n",
    "LEARNING_RATE = 1e-5;\n",
    "EPOCHS = int(1e5);\n",
    "\n",
    "\n",
    "criterion = torch.nn.MSELoss() # Mean squared error\n",
    "optimizer = torch.optim.AdamW(net.parameters(),lr = LEARNING_RATE)\n",
    "\n",
    "for epoch in range(EPOCHS):\n",
    "    \n",
    "    out = net(t_data)\n",
    "    \n",
    "    loss = criterion(input = out, target = torch.from_numpy(copolar))\n",
    "    #Gradients\n",
    "    loss.backward()\n",
    "    #Step Optimizer\n",
    "    optimizer.step()\n",
    "    if epoch%(EPOCHS/10) == 0:\n",
    "        print(loss)\n",
    "\n",
    "\n",
    "plt.figure()\n",
    "plt.plot(net(t_data).detach().numpy())\n",
    "plt.plot(net(t_data).detach().numpy()-copolar)\n"
   ]
  },
  {
   "cell_type": "code",
   "execution_count": null,
   "metadata": {},
   "outputs": [],
   "source": []
  }
 ],
 "metadata": {
  "interpreter": {
   "hash": "d0f93843532ce07fed9850c83e9e1351dae8e4439cc0180c35cdb6a2100d1fc2"
  },
  "kernelspec": {
   "display_name": "Python 3 (ipykernel)",
   "language": "python",
   "name": "python3"
  },
  "language_info": {
   "codemirror_mode": {
    "name": "ipython",
    "version": 3
   },
   "file_extension": ".py",
   "mimetype": "text/x-python",
   "name": "python",
   "nbconvert_exporter": "python",
   "pygments_lexer": "ipython3",
   "version": "3.8.12"
  }
 },
 "nbformat": 4,
 "nbformat_minor": 4
}
