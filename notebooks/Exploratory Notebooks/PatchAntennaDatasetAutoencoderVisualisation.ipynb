{
 "cells": [
  {
   "cell_type": "code",
   "execution_count": 12,
   "id": "765e5d23-8a0b-4cdb-9b6f-5a46bc4c08d0",
   "metadata": {},
   "outputs": [],
   "source": [
    "\n",
    "from pathlib import Path\n",
    "import numpy as np\n",
    "from matplotlib import pyplot as plt\n",
    "from torch.utils.data.dataloader import DataLoader\n",
    "\n",
    "from ssapp.data.AntennaDatasetLoaders import PatchAntennaDataset\n",
    "from ssapp.models.NeuralNetworkModels.Autoencoders import PatchAntenna1ConvAutoEncoder\n",
    "from ssapp.models.HelperFunctions import loadModel\n",
    "\n",
    "\n",
    "\n",
    "\n"
   ]
  },
  {
   "cell_type": "code",
   "execution_count": 18,
   "id": "057f042c-d057-4635-89bd-059786ed8d52",
   "metadata": {},
   "outputs": [],
   "source": [
    "\n",
    "\n",
    "\n",
    "\n"
   ]
  }
 ],
 "metadata": {
  "kernelspec": {
   "display_name": "Python 3 (ipykernel)",
   "language": "python",
   "name": "python3"
  },
  "language_info": {
   "codemirror_mode": {
    "name": "ipython",
    "version": 3
   },
   "file_extension": ".py",
   "mimetype": "text/x-python",
   "name": "python",
   "nbconvert_exporter": "python",
   "pygments_lexer": "ipython3",
   "version": "3.8.11"
  }
 },
 "nbformat": 4,
 "nbformat_minor": 5
}
