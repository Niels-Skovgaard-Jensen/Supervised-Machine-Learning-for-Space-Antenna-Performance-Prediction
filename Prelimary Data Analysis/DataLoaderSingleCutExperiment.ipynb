{
 "cells": [
  {
   "cell_type": "code",
   "execution_count": null,
   "id": "ab62d1a7-9d83-47c8-8417-636370207219",
   "metadata": {},
   "outputs": [],
   "source": []
  },
  {
   "cell_type": "code",
   "execution_count": null,
   "id": "03fbcbce-2103-4194-8e2b-ec81fa36c9ee",
   "metadata": {},
   "outputs": [],
   "source": []
  },
  {
   "cell_type": "code",
   "execution_count": null,
   "id": "6e179be5-ad59-4221-ba97-144beae360fe",
   "metadata": {},
   "outputs": [],
   "source": []
  },
  {
   "cell_type": "code",
   "execution_count": 9,
   "id": "c98a7650-7946-4e04-86de-2f90316beca8",
   "metadata": {},
   "outputs": [
    {
     "ename": "NameError",
     "evalue": "name 'singleCutDataset' is not defined",
     "output_type": "error",
     "traceback": [
      "\u001b[1;31m---------------------------------------------------------------------------\u001b[0m",
      "\u001b[1;31mNameError\u001b[0m                                 Traceback (most recent call last)",
      "\u001b[1;32m~\\AppData\\Local\\Temp/ipykernel_24176/1612553534.py\u001b[0m in \u001b[0;36m<module>\u001b[1;34m\u001b[0m\n\u001b[0;32m     51\u001b[0m \u001b[1;33m\u001b[0m\u001b[0m\n\u001b[0;32m     52\u001b[0m \u001b[1;33m\u001b[0m\u001b[0m\n\u001b[1;32m---> 53\u001b[1;33m \u001b[0mtrainLoader\u001b[0m \u001b[1;33m=\u001b[0m \u001b[0msingleCutDataset\u001b[0m\u001b[1;33m\u001b[0m\u001b[1;33m\u001b[0m\u001b[0m\n\u001b[0m\u001b[0;32m     54\u001b[0m \u001b[1;33m\u001b[0m\u001b[0m\n\u001b[0;32m     55\u001b[0m \u001b[1;32mfor\u001b[0m \u001b[0mparameter\u001b[0m\u001b[1;33m,\u001b[0m \u001b[0mfield\u001b[0m \u001b[1;32min\u001b[0m \u001b[0mtrainLoader\u001b[0m\u001b[1;33m:\u001b[0m\u001b[1;33m\u001b[0m\u001b[1;33m\u001b[0m\u001b[0m\n",
      "\u001b[1;31mNameError\u001b[0m: name 'singleCutDataset' is not defined"
     ]
    }
   ],
   "source": [
    "from torch.utils.data import DataLoader\n",
    "from torch.utils.data import Dataset\n",
    "import torch\n",
    "from datetime import datetime\n",
    "import torch.nn as nn\n",
    "import numpy as np\n",
    "\n",
    "\n",
    "class SingleCutDataset(Dataset):\n",
    "    \"\"\"Field Cut dataset\"\"\"\n",
    "\n",
    "    def __init__(self, cut_dir, param_dir,cut,normalise = False):\n",
    "        \"\"\"\n",
    "        Args:\n",
    "            data_file (Path Object): File Location of cut data \n",
    "            param_dir (Path Object): Parameter file location\n",
    "            cut (integer) : Integer name of file in directory\n",
    "        \"\"\"\n",
    "        \n",
    "        cut_file = cut_dir / (str(cut)+'.cut')\n",
    "        param_file = param_dir / 'lookup.log'\n",
    "        \n",
    "        \n",
    "        V_INI, V_INC, V_NUM, C, ICOMP, ICUT, NCOMP = np.genfromtxt(cut_file, max_rows=1, skip_header=1)\n",
    "        thetas = torch.linspace(V_INI,V_INI+V_INC*(V_NUM-1),int(V_NUM))\n",
    "        self.field_cut = np.genfromtxt(cut_file, skip_header=2,dtype = np.float32).T\n",
    "        self.transform = transform\n",
    "        \n",
    "        \n",
    "        \n",
    "        antenna_parameters = np.genfromtxt(param_file, skip_header=1,dtype = np.float32).T\n",
    "        #antenna_parameters = antenna_parameters[:,cut]\n",
    "        \n",
    "        self.parameters = torch.Tensor([np.append(antenna_parameters[1:,cut],theta) for theta in thetas])\n",
    "\n",
    "    def __len__(self):\n",
    "        return self.field_cut.shape[1]\n",
    "\n",
    "    def __getitem__(self, idx):\n",
    "        if torch.is_tensor(idx):\n",
    "            idx = idx.tolist()\n",
    "        \n",
    "        parameters = self.parameters[idx,:]\n",
    "        field_val = self.field_cut[:,idx]\n",
    "        \n",
    "        if self.transform:\n",
    "            sample = self.transform(parameters)\n",
    "            \n",
    "            \n",
    "        return parameters, field_val\n",
    "    \n",
    "    \n",
    "    \n",
    "\n",
    "trainLoader = singleCutDataset\n",
    "    \n",
    "for parameter, field in trainLoader:\n",
    "    print(parameter)"
   ]
  },
  {
   "cell_type": "code",
   "execution_count": 6,
   "id": "05612e31-dc9d-4ca9-9ec1-128b40d4233a",
   "metadata": {},
   "outputs": [
    {
     "ename": "NameError",
     "evalue": "name 'net' is not defined",
     "output_type": "error",
     "traceback": [
      "\u001b[1;31m---------------------------------------------------------------------------\u001b[0m",
      "\u001b[1;31mNameError\u001b[0m                                 Traceback (most recent call last)",
      "\u001b[1;32m~\\AppData\\Local\\Temp/ipykernel_24176/2182773254.py\u001b[0m in \u001b[0;36m<module>\u001b[1;34m\u001b[0m\n\u001b[0;32m      3\u001b[0m \u001b[1;33m\u001b[0m\u001b[0m\n\u001b[0;32m      4\u001b[0m \u001b[1;33m\u001b[0m\u001b[0m\n\u001b[1;32m----> 5\u001b[1;33m \u001b[0moptimizer\u001b[0m \u001b[1;33m=\u001b[0m \u001b[0mtorch\u001b[0m\u001b[1;33m.\u001b[0m\u001b[0moptim\u001b[0m\u001b[1;33m.\u001b[0m\u001b[0mAdam\u001b[0m\u001b[1;33m(\u001b[0m\u001b[0mnet\u001b[0m\u001b[1;33m.\u001b[0m\u001b[0mparameters\u001b[0m\u001b[1;33m(\u001b[0m\u001b[1;33m)\u001b[0m\u001b[1;33m,\u001b[0m\u001b[0mlr\u001b[0m \u001b[1;33m=\u001b[0m \u001b[0mLEARNING_RATE\u001b[0m\u001b[1;33m)\u001b[0m\u001b[1;33m\u001b[0m\u001b[1;33m\u001b[0m\u001b[0m\n\u001b[0m\u001b[0;32m      6\u001b[0m \u001b[0mloss_array\u001b[0m \u001b[1;33m=\u001b[0m \u001b[1;33m[\u001b[0m\u001b[1;33m]\u001b[0m\u001b[1;33m\u001b[0m\u001b[1;33m\u001b[0m\u001b[0m\n\u001b[0;32m      7\u001b[0m \u001b[1;32mfor\u001b[0m \u001b[0mepoch\u001b[0m \u001b[1;32min\u001b[0m \u001b[0mrange\u001b[0m\u001b[1;33m(\u001b[0m\u001b[0mEPOCHS\u001b[0m\u001b[1;33m)\u001b[0m\u001b[1;33m:\u001b[0m\u001b[1;33m\u001b[0m\u001b[1;33m\u001b[0m\u001b[0m\n",
      "\u001b[1;31mNameError\u001b[0m: name 'net' is not defined"
     ]
    }
   ],
   "source": [
    "EPOCHS = int(1e4)\n",
    "LEARNING_RATE = 1e-4\n",
    "\n",
    "\n",
    "optimizer = torch.optim.Adam(net.parameters(),lr = LEARNING_RATE)\n",
    "loss_array = []\n",
    "for epoch in range(EPOCHS):\n",
    "    \n",
    "    train_loss = 0\n",
    "    for param, field in trainloader:\n",
    "        \n",
    "        out = net(param)\n",
    "\n",
    "        loss = criterion(input = out, target = field)\n",
    "        #Gradients\n",
    "        train_loss = train_loss + loss\n",
    "        loss.backward()\n",
    "        loss_array.append(loss.detach().numpy())\n",
    "        #Step Optimizer\n",
    "        optimizer.step()\n",
    "        \n",
    "        \n",
    "    if epoch%(EPOCHS/10) == 0:\n",
    "        print(torch.mean(train_loss))\n",
    "\n",
    "print('Training time:', datetime.now()-startTime)"
   ]
  },
  {
   "cell_type": "code",
   "execution_count": null,
   "id": "fddb855f-1e71-42c9-8d3a-5fd9ad3d52fe",
   "metadata": {},
   "outputs": [],
   "source": []
  }
 ],
 "metadata": {
  "kernelspec": {
   "display_name": "Python 3 (ipykernel)",
   "language": "python",
   "name": "python3"
  },
  "language_info": {
   "codemirror_mode": {
    "name": "ipython",
    "version": 3
   },
   "file_extension": ".py",
   "mimetype": "text/x-python",
   "name": "python",
   "nbconvert_exporter": "python",
   "pygments_lexer": "ipython3",
   "version": "3.8.12"
  }
 },
 "nbformat": 4,
 "nbformat_minor": 5
}
