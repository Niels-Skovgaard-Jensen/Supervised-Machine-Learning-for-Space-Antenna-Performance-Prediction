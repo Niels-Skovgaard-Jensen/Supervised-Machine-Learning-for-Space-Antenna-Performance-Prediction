{
 "cells": [
  {
   "cell_type": "markdown",
   "id": "875d10f6-7ae7-4306-abf0-7e05052687f8",
   "metadata": {},
   "source": [
    "# Performance extraction from antenna patterns\n"
   ]
  },
  {
   "cell_type": "code",
   "execution_count": 1,
   "id": "b1c7c85e-71d4-4510-81c1-f4faf68f029a",
   "metadata": {},
   "outputs": [],
   "source": [
    "import numpy as np\n",
    "from matplotlib import pyplot as plt\n",
    "from pathlib import Path\n",
    "import glob"
   ]
  },
  {
   "cell_type": "markdown",
   "id": "482c2ce2-5f3a-4ae9-8f16-0b7a74348b92",
   "metadata": {
    "tags": []
   },
   "source": [
    "## Import Data"
   ]
  },
  {
   "cell_type": "code",
   "execution_count": 2,
   "id": "e0cc8d85-a176-4933-bbb6-12ad7cbf0193",
   "metadata": {},
   "outputs": [
    {
     "name": "stdout",
     "output_type": "stream",
     "text": [
      "C:\\Users\\Niels\\Documents\\GitHub\\Supervised-Machine-Learning-for-Space-Antenna-Performance-Prediction\\Prelimary Data Analysis\\Field Cut Data\\log_files\\.ipynb_checkpoints\n",
      "C:\\Users\\Niels\\Documents\\GitHub\\Supervised-Machine-Learning-for-Space-Antenna-Performance-Prediction\\Prelimary Data Analysis\\Field Cut Data\\log_files\\initial_meshgrid.log\n",
      "C:\\Users\\Niels\\Documents\\GitHub\\Supervised-Machine-Learning-for-Space-Antenna-Performance-Prediction\\Prelimary Data Analysis\\Field Cut Data\\log_files\\initial_meshgrid.out\n",
      "C:\\Users\\Niels\\Documents\\GitHub\\Supervised-Machine-Learning-for-Space-Antenna-Performance-Prediction\\Prelimary Data Analysis\\Field Cut Data\\log_files\\initial_meshgrid_20220211_141736.xml\n",
      "C:\\Users\\Niels\\Documents\\GitHub\\Supervised-Machine-Learning-for-Space-Antenna-Performance-Prediction\\Prelimary Data Analysis\\Field Cut Data\\log_files\\lookup.log\n",
      "C:\\Users\\Niels\\Documents\\GitHub\\Supervised-Machine-Learning-for-Space-Antenna-Performance-Prediction\\Prelimary Data Analysis\\Field Cut Data\\log_files\\midas.log\n",
      "C:\\Users\\Niels\\Documents\\GitHub\\Supervised-Machine-Learning-for-Space-Antenna-Performance-Prediction\\Prelimary Data Analysis\\Field Cut Data\\log_files\\screenoutput.txt\n"
     ]
    }
   ],
   "source": [
    "cwd = Path.cwd()\n",
    "log_folder = cwd\n",
    "\n",
    "for name in log_folder.iterdir():\n",
    "    print(name)\n",
    "\n"
   ]
  },
  {
   "cell_type": "markdown",
   "id": "984f5895-626a-4b3f-933a-0682e22f3965",
   "metadata": {},
   "source": [
    "## Peak Gain"
   ]
  },
  {
   "cell_type": "code",
   "execution_count": null,
   "id": "debf63a9-a88d-4e18-8c16-90f390c8d3f9",
   "metadata": {},
   "outputs": [],
   "source": [
    "\n",
    "\n",
    "\n",
    "\n"
   ]
  },
  {
   "cell_type": "markdown",
   "id": "05508981-6326-4940-b9fd-07f7d8dc977b",
   "metadata": {},
   "source": [
    "## Sidelobe levels"
   ]
  },
  {
   "cell_type": "code",
   "execution_count": null,
   "id": "bae788c9-478c-4cca-a6c9-7df42aa644c5",
   "metadata": {},
   "outputs": [],
   "source": []
  },
  {
   "cell_type": "markdown",
   "id": "df3c373a-0d82-4990-a428-ff89b97bc7e2",
   "metadata": {},
   "source": [
    "## Beamwidth"
   ]
  }
 ],
 "metadata": {
  "kernelspec": {
   "display_name": "Python 3 (ipykernel)",
   "language": "python",
   "name": "python3"
  },
  "language_info": {
   "codemirror_mode": {
    "name": "ipython",
    "version": 3
   },
   "file_extension": ".py",
   "mimetype": "text/x-python",
   "name": "python",
   "nbconvert_exporter": "python",
   "pygments_lexer": "ipython3",
   "version": "3.8.12"
  }
 },
 "nbformat": 4,
 "nbformat_minor": 5
}
