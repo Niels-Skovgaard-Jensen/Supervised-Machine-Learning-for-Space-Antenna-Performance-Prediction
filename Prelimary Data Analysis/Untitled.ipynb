{
 "cells": [
  {
   "cell_type": "code",
   "execution_count": 74,
   "id": "565c62eb-0de8-45ba-9119-211e7a845538",
   "metadata": {},
   "outputs": [
    {
     "name": "stdout",
     "output_type": "stream",
     "text": [
      "tensor([[[ 0.5441,  0.4983, -0.0049,  0.3931]],\n",
      "\n",
      "        [[ 0.7862,  0.3700, -0.1286, -0.4535]],\n",
      "\n",
      "        [[ 0.6924,  0.4815, -0.0897, -0.2032]],\n",
      "\n",
      "        ...,\n",
      "\n",
      "        [[ 0.9747, -0.3698,  0.0967, -0.1215]],\n",
      "\n",
      "        [[-0.1670,  0.0090,  0.1093, -0.0068]],\n",
      "\n",
      "        [[ 0.9023, -0.2146,  0.5527,  0.5236]]], grad_fn=<SqueezeBackward1>)\n"
     ]
    }
   ],
   "source": [
    "\n",
    "\n",
    "import torch.nn as nn\n",
    "import torch\n",
    "\n",
    "class CNNNet1(nn.Module):\n",
    "    def __init__(self):\n",
    "        super(CNNNet1, self).__init__()\n",
    "        self.regressor = nn.Sequential(nn.Conv1d(2500,1,1),)\n",
    "        \n",
    "    def forward(self, x):\n",
    "        output = self.regressor(x)\n",
    "        return output\n",
    "\n",
    "        \n",
    "        \n",
    "net = CNNNet1()\n",
    "input = torch.randn(1001,2500,4)\n",
    "print(net(input))\n"
   ]
  }
 ],
 "metadata": {
  "kernelspec": {
   "display_name": "Python 3 (ipykernel)",
   "language": "python",
   "name": "python3"
  },
  "language_info": {
   "codemirror_mode": {
    "name": "ipython",
    "version": 3
   },
   "file_extension": ".py",
   "mimetype": "text/x-python",
   "name": "python",
   "nbconvert_exporter": "python",
   "pygments_lexer": "ipython3",
   "version": "3.8.12"
  }
 },
 "nbformat": 4,
 "nbformat_minor": 5
}
