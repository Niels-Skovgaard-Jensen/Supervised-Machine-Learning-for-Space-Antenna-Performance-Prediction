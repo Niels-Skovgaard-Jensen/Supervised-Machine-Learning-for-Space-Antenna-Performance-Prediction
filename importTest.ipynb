{
 "cells": [
  {
   "cell_type": "code",
   "execution_count": 1,
   "id": "ba5871c9-38f6-4b0d-978b-4216c55676ac",
   "metadata": {},
   "outputs": [
    {
     "name": "stdout",
     "output_type": "stream",
     "text": [
      "<AntennaDatasets.AntennaDatasetLoaders.SingleCutDataset object at 0x000001F85F36FB20>\n"
     ]
    }
   ],
   "source": [
    "from AntennaDatasets import AntennaDatasetLoaders\n",
    "\n",
    "dataset = AntennaDatasetLoaders.SingleCutDataset(4)\n",
    "print(dataset)"
   ]
  },
  {
   "cell_type": "code",
   "execution_count": 2,
   "id": "a59b3ebd-561a-491d-935f-ada5997d797f",
   "metadata": {},
   "outputs": [
    {
     "name": "stdout",
     "output_type": "stream",
     "text": [
      "<AntennaDatasets.AntennaDatasetLoaders.ReflectorCutDataset object at 0x000001F85F3B01F0>\n"
     ]
    }
   ],
   "source": [
    "dataset = AntennaDatasetLoaders.ReflectorCutDataset(flatten_output = True)\n",
    "print(dataset)\n",
    "\n"
   ]
  },
  {
   "cell_type": "code",
   "execution_count": 3,
   "id": "4737f0d4-ed19-4d8c-92af-aaa87ec1bbfd",
   "metadata": {},
   "outputs": [],
   "source": [
    "\n",
    "from torch.utils.data import DataLoader\n",
    "\n",
    "\n",
    "train_dataloader = DataLoader(dataset, batch_size = 1, shuffle=True)\n",
    "\n"
   ]
  },
  {
   "cell_type": "code",
   "execution_count": 6,
   "id": "455dc63f-6f56-4065-957d-68c532566f21",
   "metadata": {},
   "outputs": [
    {
     "name": "stdout",
     "output_type": "stream",
     "text": [
      "1749\n"
     ]
    }
   ],
   "source": [
    "from torch.utils.data import random_split\n",
    "\n",
    "train_len = int(len(dataset)*0.7)\n",
    "train_set, test_set = random_split(dataset, [train_len, len(dataset) - train_len])\n"
   ]
  },
  {
   "cell_type": "code",
   "execution_count": null,
   "id": "6a96dc79-4327-4e38-9e34-aecb583c9ef8",
   "metadata": {},
   "outputs": [],
   "source": []
  }
 ],
 "metadata": {
  "kernelspec": {
   "display_name": "Python 3 (ipykernel)",
   "language": "python",
   "name": "python3"
  },
  "language_info": {
   "codemirror_mode": {
    "name": "ipython",
    "version": 3
   },
   "file_extension": ".py",
   "mimetype": "text/x-python",
   "name": "python",
   "nbconvert_exporter": "python",
   "pygments_lexer": "ipython3",
   "version": "3.8.12"
  }
 },
 "nbformat": 4,
 "nbformat_minor": 5
}
