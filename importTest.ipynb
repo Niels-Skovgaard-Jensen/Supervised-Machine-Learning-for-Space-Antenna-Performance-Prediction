{
 "cells": [
  {
   "cell_type": "code",
   "execution_count": 13,
   "id": "ba5871c9-38f6-4b0d-978b-4216c55676ac",
   "metadata": {},
   "outputs": [
    {
     "name": "stdout",
     "output_type": "stream",
     "text": [
      "<AntennaDatasets.AntennaDatasetLoaders.SingleCutDataset object at 0x000002AD7AD0F880>\n"
     ]
    }
   ],
   "source": [
    "import torch\n",
    "import numpy as np\n",
    "from AntennaDatasets import AntennaDatasetLoaders\n",
    "\n",
    "dataset = AntennaDatasetLoaders.SingleCutDataset(4)\n",
    "print(dataset)"
   ]
  },
  {
   "cell_type": "code",
   "execution_count": 58,
   "id": "a59b3ebd-561a-491d-935f-ada5997d797f",
   "metadata": {},
   "outputs": [
    {
     "name": "stdout",
     "output_type": "stream",
     "text": [
      "(4, 20)\n",
      "(4, 1001, 20)\n"
     ]
    }
   ],
   "source": [
    "from torch.utils.data import DataLoader\n",
    "batch_size = 20; \n",
    "dataset = AntennaDatasetLoaders.ReflectorCutDataset(cuts = batch_size,flatten_output = False)\n",
    "print(dataset.antenna_parameters.shape)\n",
    "print(dataset.field_cut.shape)\n",
    "\n",
    "dataloader = DataLoader(dataset, batch_size = 2, shuffle=True)"
   ]
  },
  {
   "cell_type": "code",
   "execution_count": 59,
   "id": "2522b72d-5aee-4249-9a58-ce73bc74bdc5",
   "metadata": {},
   "outputs": [
    {
     "name": "stdout",
     "output_type": "stream",
     "text": [
      "tensor([[0.0179, 0.7556, 0.0000],\n",
      "        [0.0100, 0.4000, 0.0000]]) tensor([[[-3.8036e-02, -4.2257e-02, -4.6249e-02,  ..., -4.6071e-02,\n",
      "          -4.2161e-02, -3.8027e-02],\n",
      "         [ 1.1967e-01,  1.1616e-01,  1.1214e-01,  ...,  1.0570e-01,\n",
      "           1.0948e-01,  1.1274e-01],\n",
      "         [ 1.7517e-16,  2.3088e-16,  1.5038e-16,  ...,  1.2001e-16,\n",
      "           9.9695e-17,  8.0019e-17],\n",
      "         [-8.7185e-17, -5.6587e-17,  4.7727e-17,  ...,  1.8469e-17,\n",
      "          -6.9352e-17, -2.3056e-18]],\n",
      "\n",
      "        [[-3.9886e-02, -3.5864e-02, -3.1714e-02,  ..., -3.1398e-02,\n",
      "          -3.5598e-02, -3.9672e-02],\n",
      "         [-1.1229e-01, -1.1596e-01, -1.1944e-01,  ..., -1.2380e-01,\n",
      "          -1.2043e-01, -1.1689e-01],\n",
      "         [-2.5134e-16, -1.9664e-16, -2.4459e-16,  ...,  1.0151e-16,\n",
      "           1.3699e-16,  5.6395e-17],\n",
      "         [-8.8881e-17, -6.0601e-17, -9.6585e-17,  ..., -2.0273e-16,\n",
      "          -2.8258e-16, -3.1269e-16]]])\n"
     ]
    }
   ],
   "source": [
    "params, field_cut = next(iter(dataloader))\n",
    "print(params,field_cut)"
   ]
  },
  {
   "cell_type": "code",
   "execution_count": 70,
   "id": "735ade69-68e1-45ef-85e8-5a24c06a0115",
   "metadata": {},
   "outputs": [
    {
     "name": "stdout",
     "output_type": "stream",
     "text": [
      "tensor([[[ 0.0646,  0.0680,  0.0711,  ...,  0.0702,  0.0672,  0.0639],\n",
      "         [-0.0903, -0.0856, -0.0805,  ..., -0.0751, -0.0800, -0.0845]],\n",
      "\n",
      "        [[-0.1235, -0.1269, -0.1300,  ..., -0.1301, -0.1270, -0.1236],\n",
      "         [-0.0006, -0.0053, -0.0100,  ..., -0.0096, -0.0049, -0.0002]]])\n"
     ]
    },
    {
     "ename": "AttributeError",
     "evalue": "module 'torch' has no attribute 'complex'",
     "output_type": "error",
     "traceback": [
      "\u001b[1;31m---------------------------------------------------------------------------\u001b[0m",
      "\u001b[1;31mAttributeError\u001b[0m                            Traceback (most recent call last)",
      "\u001b[1;32m~\\AppData\\Local\\Temp/ipykernel_17152/2701889267.py\u001b[0m in \u001b[0;36m<module>\u001b[1;34m\u001b[0m\n\u001b[0;32m      8\u001b[0m \u001b[0mco_polar_complex\u001b[0m \u001b[1;33m=\u001b[0m \u001b[0mfield_cut\u001b[0m\u001b[1;33m[\u001b[0m\u001b[1;33m:\u001b[0m\u001b[1;33m,\u001b[0m\u001b[1;36m1\u001b[0m\u001b[1;33m,\u001b[0m\u001b[1;33m:\u001b[0m\u001b[1;33m]\u001b[0m\u001b[1;33m\u001b[0m\u001b[1;33m\u001b[0m\u001b[0m\n\u001b[0;32m      9\u001b[0m \u001b[1;33m\u001b[0m\u001b[0m\n\u001b[1;32m---> 10\u001b[1;33m \u001b[0mco_polar_complex\u001b[0m \u001b[1;33m=\u001b[0m \u001b[0mtorch\u001b[0m\u001b[1;33m.\u001b[0m\u001b[0mcomplex\u001b[0m\u001b[1;33m(\u001b[0m\u001b[1;33m)\u001b[0m\u001b[1;33m\u001b[0m\u001b[1;33m\u001b[0m\u001b[0m\n\u001b[0m\u001b[0;32m     11\u001b[0m \u001b[0mx_polar_complex\u001b[0m \u001b[1;33m=\u001b[0m \u001b[0mtorch\u001b[0m\u001b[1;33m.\u001b[0m\u001b[0mview_as_complex\u001b[0m\u001b[1;33m(\u001b[0m\u001b[0mfield_cut\u001b[0m\u001b[1;33m[\u001b[0m\u001b[1;33m:\u001b[0m\u001b[1;33m,\u001b[0m\u001b[1;36m2\u001b[0m\u001b[1;33m:\u001b[0m\u001b[1;36m4\u001b[0m\u001b[1;33m,\u001b[0m\u001b[1;33m:\u001b[0m\u001b[1;33m]\u001b[0m\u001b[1;33m.\u001b[0m\u001b[0mreshape\u001b[0m\u001b[1;33m(\u001b[0m\u001b[1;33m-\u001b[0m\u001b[1;36m1\u001b[0m\u001b[1;33m,\u001b[0m\u001b[1;36m1001\u001b[0m\u001b[1;33m,\u001b[0m\u001b[1;36m2\u001b[0m\u001b[1;33m)\u001b[0m\u001b[1;33m)\u001b[0m\u001b[1;33m\u001b[0m\u001b[1;33m\u001b[0m\u001b[0m\n\u001b[0;32m     12\u001b[0m \u001b[1;33m\u001b[0m\u001b[0m\n",
      "\u001b[1;31mAttributeError\u001b[0m: module 'torch' has no attribute 'complex'"
     ]
    }
   ],
   "source": [
    "params, field_cut = next(iter(dataloader))\n",
    "\n",
    "\n",
    "\n",
    "print(field_cut[:,0:2,:])\n",
    "\n",
    "co_polar_real = field_cut[:,0,:]\n",
    "co_polar_complex = field_cut[:,1,:]\n",
    "\n",
    "co_polar_complex = torch.complex()\n",
    "x_polar_complex = torch.view_as_complex(field_cut[:,2:4,:].reshape(-1,1001,2))\n",
    "\n",
    "print(co_polar_complex.shape,x_polar_complex.shape)\n",
    "print(co_polar_complex,x_polar_complex)\n",
    "\n",
    "\n",
    "        \n"
   ]
  },
  {
   "cell_type": "code",
   "execution_count": 37,
   "id": "b2353ace-c4bb-4345-88fd-8adadeed7cec",
   "metadata": {},
   "outputs": [
    {
     "ename": "ValueError",
     "evalue": "cannot reshape array of size 3200 into shape (1001,newaxis,4)",
     "output_type": "error",
     "traceback": [
      "\u001b[1;31m---------------------------------------------------------------------------\u001b[0m",
      "\u001b[1;31mValueError\u001b[0m                                Traceback (most recent call last)",
      "\u001b[1;32m~\\AppData\\Local\\Temp/ipykernel_17152/1226060815.py\u001b[0m in \u001b[0;36m<module>\u001b[1;34m\u001b[0m\n\u001b[0;32m      1\u001b[0m \u001b[0mx\u001b[0m \u001b[1;33m=\u001b[0m \u001b[0mtorch\u001b[0m\u001b[1;33m.\u001b[0m\u001b[0mrandn\u001b[0m\u001b[1;33m(\u001b[0m\u001b[1;36m1\u001b[0m\u001b[1;33m,\u001b[0m\u001b[1;36m4\u001b[0m\u001b[1;33m,\u001b[0m\u001b[1;36m2\u001b[0m\u001b[1;33m)\u001b[0m\u001b[1;33m\u001b[0m\u001b[1;33m\u001b[0m\u001b[0m\n\u001b[1;32m----> 2\u001b[1;33m \u001b[0mx\u001b[0m \u001b[1;33m=\u001b[0m \u001b[0mtorch\u001b[0m\u001b[1;33m.\u001b[0m\u001b[0mview_as_complex\u001b[0m\u001b[1;33m(\u001b[0m\u001b[0mdataset\u001b[0m\u001b[1;33m.\u001b[0m\u001b[0mfield_cut\u001b[0m\u001b[1;33m[\u001b[0m\u001b[1;33m:\u001b[0m\u001b[1;33m,\u001b[0m\u001b[1;33m[\u001b[0m\u001b[1;36m0\u001b[0m\u001b[1;33m,\u001b[0m\u001b[1;36m1\u001b[0m\u001b[1;33m]\u001b[0m\u001b[1;33m,\u001b[0m\u001b[1;33m:\u001b[0m\u001b[1;33m]\u001b[0m\u001b[1;33m.\u001b[0m\u001b[0mreshape\u001b[0m\u001b[1;33m(\u001b[0m\u001b[1;36m1001\u001b[0m\u001b[1;33m,\u001b[0m\u001b[1;33m-\u001b[0m\u001b[1;36m1\u001b[0m\u001b[1;33m,\u001b[0m\u001b[1;36m4\u001b[0m\u001b[1;33m)\u001b[0m\u001b[1;33m)\u001b[0m\u001b[1;33m\u001b[0m\u001b[1;33m\u001b[0m\u001b[0m\n\u001b[0m\u001b[0;32m      3\u001b[0m \u001b[0mprint\u001b[0m\u001b[1;33m(\u001b[0m\u001b[0mx\u001b[0m\u001b[1;33m)\u001b[0m\u001b[1;33m\u001b[0m\u001b[1;33m\u001b[0m\u001b[0m\n",
      "\u001b[1;31mValueError\u001b[0m: cannot reshape array of size 3200 into shape (1001,newaxis,4)"
     ]
    }
   ],
   "source": [
    "x = torch.randn(1,4,2)\n",
    "x = torch.view_as_complex(dataset.field_cut[:,[0,1],:].reshape(1001,-1,4))\n",
    "print(x)"
   ]
  },
  {
   "cell_type": "code",
   "execution_count": 18,
   "id": "6a96dc79-4327-4e38-9e34-aecb583c9ef8",
   "metadata": {},
   "outputs": [
    {
     "ename": "TypeError",
     "evalue": "expected np.ndarray (got complex)",
     "output_type": "error",
     "traceback": [
      "\u001b[1;31m---------------------------------------------------------------------------\u001b[0m",
      "\u001b[1;31mTypeError\u001b[0m                                 Traceback (most recent call last)",
      "\u001b[1;32m~\\AppData\\Local\\Temp/ipykernel_17152/2416290031.py\u001b[0m in \u001b[0;36m<module>\u001b[1;34m\u001b[0m\n\u001b[1;32m----> 1\u001b[1;33m \u001b[0mx\u001b[0m \u001b[1;33m=\u001b[0m \u001b[0mtorch\u001b[0m\u001b[1;33m.\u001b[0m\u001b[0mfrom_numpy\u001b[0m\u001b[1;33m(\u001b[0m\u001b[0mnp\u001b[0m\u001b[1;33m.\u001b[0m\u001b[0mcomplex\u001b[0m\u001b[1;33m(\u001b[0m\u001b[1;36m1\u001b[0m\u001b[1;33m,\u001b[0m\u001b[1;36m2\u001b[0m\u001b[1;33m)\u001b[0m\u001b[1;33m)\u001b[0m\u001b[1;33m\u001b[0m\u001b[1;33m\u001b[0m\u001b[0m\n\u001b[0m\u001b[0;32m      2\u001b[0m \u001b[1;33m\u001b[0m\u001b[0m\n\u001b[0;32m      3\u001b[0m \u001b[0mtorch\u001b[0m\u001b[1;33m.\u001b[0m\u001b[0mangle\u001b[0m\u001b[1;33m(\u001b[0m\u001b[0mx\u001b[0m\u001b[1;33m)\u001b[0m\u001b[1;33m\u001b[0m\u001b[1;33m\u001b[0m\u001b[0m\n",
      "\u001b[1;31mTypeError\u001b[0m: expected np.ndarray (got complex)"
     ]
    }
   ],
   "source": [
    "x = torch.from_numpy(np.complex(1,2))\n",
    "\n",
    "torch.angle(x)"
   ]
  }
 ],
 "metadata": {
  "kernelspec": {
   "display_name": "Python 3 (ipykernel)",
   "language": "python",
   "name": "python3"
  },
  "language_info": {
   "codemirror_mode": {
    "name": "ipython",
    "version": 3
   },
   "file_extension": ".py",
   "mimetype": "text/x-python",
   "name": "python",
   "nbconvert_exporter": "python",
   "pygments_lexer": "ipython3",
   "version": "3.8.12"
  }
 },
 "nbformat": 4,
 "nbformat_minor": 5
}
