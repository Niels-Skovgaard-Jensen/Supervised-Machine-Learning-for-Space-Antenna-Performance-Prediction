{
 "cells": [
  {
   "cell_type": "code",
   "execution_count": 1,
   "id": "8c0ce738-58e2-46ee-9a65-64a69fee25dd",
   "metadata": {},
   "outputs": [],
   "source": [
    "# Standard Packages\n",
    "from torch.utils.data import random_split, DataLoader\n",
    "import torch\n",
    "from datetime import datetime\n",
    "from matplotlib import pyplot as plt\n",
    "# Custom Packages\n",
    "from NeuralNetworkModels.SimpleFeedForward import DirectFeedForwardNet\n",
    "from AntennaDatasets import AntennaDatasetLoaders\n",
    "\n",
    "# General Settings\n",
    "torch.manual_seed(42) # Manual seed for sanity\n",
    "device = torch.device(\"cuda:0\" if torch.cuda.is_available() else \"cpu\")\n"
   ]
  },
  {
   "cell_type": "code",
   "execution_count": 2,
   "id": "e2b11887-9ac5-4a6b-8ef2-96ec5967cdfb",
   "metadata": {},
   "outputs": [],
   "source": [
    "CUTS_IN_DATASET = 12\n",
    "\n",
    "dataset = AntennaDatasetLoaders.ReflectorCutDataset(cuts = CUTS_IN_DATASET,flatten_output = True)"
   ]
  },
  {
   "cell_type": "code",
   "execution_count": 3,
   "id": "a498d096-88df-4f8c-84ce-36f405ed17b1",
   "metadata": {},
   "outputs": [],
   "source": [
    "TEST_TRAIN_RATIO = 0.7\n",
    "BATCH_SIZE = 1\n",
    "train_len = int(len(dataset)*TEST_TRAIN_RATIO)\n",
    "train_set, test_set = random_split(dataset, [train_len, len(dataset) - train_len])\n",
    "\n",
    "train_dataloader = DataLoader(train_set, batch_size = BATCH_SIZE, shuffle=True)\n",
    "test_dataloader = DataLoader(test_set, batch_size = BATCH_SIZE, shuffle=True)"
   ]
  },
  {
   "cell_type": "code",
   "execution_count": 4,
   "id": "52f57f1c-6f1a-4d02-bfae-4e8c62c09f2c",
   "metadata": {},
   "outputs": [
    {
     "name": "stdout",
     "output_type": "stream",
     "text": [
      "tensor([[-0.0983, -0.0746, -0.0238,  ..., -0.1046, -0.1314, -0.1130],\n",
      "        [-0.0551, -0.0692, -0.0631,  ..., -0.0532, -0.1000, -0.0336]],\n",
      "       grad_fn=<AddmmBackward>)\n"
     ]
    }
   ],
   "source": [
    "\n",
    "#Define model\n",
    "model = DirectFeedForwardNet(in_features = 3,out_features = 4004,NN = 100)\n",
    "#Test Forward pass\n",
    "print(model(torch.randn(2,3).to(device)))"
   ]
  },
  {
   "cell_type": "code",
   "execution_count": 5,
   "id": "dc725eba-e59e-49e7-b02b-2158260ae561",
   "metadata": {},
   "outputs": [],
   "source": [
    "LEARNING_RATE = 4e-3\n",
    "MOMENTUM = 0.8\n",
    "\n",
    "\n",
    "criterion = torch.nn.MSELoss()\n"
   ]
  },
  {
   "cell_type": "code",
   "execution_count": 6,
   "id": "71bec362-c4cb-47d3-8acf-212cd4990e18",
   "metadata": {},
   "outputs": [
    {
     "name": "stdout",
     "output_type": "stream",
     "text": [
      "Training Loss 0.004567678086459637\n",
      "Test Loss 0.003914696630090475\n",
      "Training Loss 0.0007376511348411441\n",
      "Test Loss 0.010336671024560928\n",
      "Training Loss 0.0004854951112065464\n",
      "Test Loss 0.008605068549513817\n"
     ]
    },
    {
     "ename": "KeyboardInterrupt",
     "evalue": "",
     "output_type": "error",
     "traceback": [
      "\u001b[1;31m---------------------------------------------------------------------------\u001b[0m",
      "\u001b[1;31mKeyboardInterrupt\u001b[0m                         Traceback (most recent call last)",
      "\u001b[1;32m~\\AppData\\Local\\Temp/ipykernel_11000/697614540.py\u001b[0m in \u001b[0;36m<module>\u001b[1;34m\u001b[0m\n\u001b[0;32m     26\u001b[0m         \u001b[0moptimizer\u001b[0m\u001b[1;33m.\u001b[0m\u001b[0mzero_grad\u001b[0m\u001b[1;33m(\u001b[0m\u001b[1;33m)\u001b[0m\u001b[1;33m\u001b[0m\u001b[1;33m\u001b[0m\u001b[0m\n\u001b[0;32m     27\u001b[0m         \u001b[0mloss\u001b[0m\u001b[1;33m.\u001b[0m\u001b[0mbackward\u001b[0m\u001b[1;33m(\u001b[0m\u001b[1;33m)\u001b[0m\u001b[1;33m\u001b[0m\u001b[1;33m\u001b[0m\u001b[0m\n\u001b[1;32m---> 28\u001b[1;33m         \u001b[0moptimizer\u001b[0m\u001b[1;33m.\u001b[0m\u001b[0mstep\u001b[0m\u001b[1;33m(\u001b[0m\u001b[1;33m)\u001b[0m\u001b[1;33m\u001b[0m\u001b[1;33m\u001b[0m\u001b[0m\n\u001b[0m\u001b[0;32m     29\u001b[0m \u001b[1;33m\u001b[0m\u001b[0m\n\u001b[0;32m     30\u001b[0m \u001b[1;33m\u001b[0m\u001b[0m\n",
      "\u001b[1;32m~\\.conda\\envs\\Kandidatspeciale\\lib\\site-packages\\torch\\autograd\\grad_mode.py\u001b[0m in \u001b[0;36mdecorate_context\u001b[1;34m(*args, **kwargs)\u001b[0m\n\u001b[0;32m     13\u001b[0m         \u001b[1;32mdef\u001b[0m \u001b[0mdecorate_context\u001b[0m\u001b[1;33m(\u001b[0m\u001b[1;33m*\u001b[0m\u001b[0margs\u001b[0m\u001b[1;33m,\u001b[0m \u001b[1;33m**\u001b[0m\u001b[0mkwargs\u001b[0m\u001b[1;33m)\u001b[0m\u001b[1;33m:\u001b[0m\u001b[1;33m\u001b[0m\u001b[1;33m\u001b[0m\u001b[0m\n\u001b[0;32m     14\u001b[0m             \u001b[1;32mwith\u001b[0m \u001b[0mself\u001b[0m\u001b[1;33m:\u001b[0m\u001b[1;33m\u001b[0m\u001b[1;33m\u001b[0m\u001b[0m\n\u001b[1;32m---> 15\u001b[1;33m                 \u001b[1;32mreturn\u001b[0m \u001b[0mfunc\u001b[0m\u001b[1;33m(\u001b[0m\u001b[1;33m*\u001b[0m\u001b[0margs\u001b[0m\u001b[1;33m,\u001b[0m \u001b[1;33m**\u001b[0m\u001b[0mkwargs\u001b[0m\u001b[1;33m)\u001b[0m\u001b[1;33m\u001b[0m\u001b[1;33m\u001b[0m\u001b[0m\n\u001b[0m\u001b[0;32m     16\u001b[0m         \u001b[1;32mreturn\u001b[0m \u001b[0mdecorate_context\u001b[0m\u001b[1;33m\u001b[0m\u001b[1;33m\u001b[0m\u001b[0m\n\u001b[0;32m     17\u001b[0m \u001b[1;33m\u001b[0m\u001b[0m\n",
      "\u001b[1;32m~\\.conda\\envs\\Kandidatspeciale\\lib\\site-packages\\torch\\optim\\adamw.py\u001b[0m in \u001b[0;36mstep\u001b[1;34m(self, closure)\u001b[0m\n\u001b[0;32m    114\u001b[0m                 \u001b[0mstep_size\u001b[0m \u001b[1;33m=\u001b[0m \u001b[0mgroup\u001b[0m\u001b[1;33m[\u001b[0m\u001b[1;34m'lr'\u001b[0m\u001b[1;33m]\u001b[0m \u001b[1;33m/\u001b[0m \u001b[0mbias_correction1\u001b[0m\u001b[1;33m\u001b[0m\u001b[1;33m\u001b[0m\u001b[0m\n\u001b[0;32m    115\u001b[0m \u001b[1;33m\u001b[0m\u001b[0m\n\u001b[1;32m--> 116\u001b[1;33m                 \u001b[0mp\u001b[0m\u001b[1;33m.\u001b[0m\u001b[0maddcdiv_\u001b[0m\u001b[1;33m(\u001b[0m\u001b[0mexp_avg\u001b[0m\u001b[1;33m,\u001b[0m \u001b[0mdenom\u001b[0m\u001b[1;33m,\u001b[0m \u001b[0mvalue\u001b[0m\u001b[1;33m=\u001b[0m\u001b[1;33m-\u001b[0m\u001b[0mstep_size\u001b[0m\u001b[1;33m)\u001b[0m\u001b[1;33m\u001b[0m\u001b[1;33m\u001b[0m\u001b[0m\n\u001b[0m\u001b[0;32m    117\u001b[0m \u001b[1;33m\u001b[0m\u001b[0m\n\u001b[0;32m    118\u001b[0m         \u001b[1;32mreturn\u001b[0m \u001b[0mloss\u001b[0m\u001b[1;33m\u001b[0m\u001b[1;33m\u001b[0m\u001b[0m\n",
      "\u001b[1;31mKeyboardInterrupt\u001b[0m: "
     ]
    }
   ],
   "source": [
    "EPOCHS = int(8e3)\n",
    "\n",
    "optimizer = torch.optim.AdamW(model.parameters(), lr=LEARNING_RATE)\n",
    "\n",
    "startTime = datetime.now()\n",
    "train_loss_array = []\n",
    "test_loss_array = []\n",
    "loss_array = []\n",
    "\n",
    "for epoch in range(EPOCHS):\n",
    "\n",
    "    epoch_training_loss = 0\n",
    "    epoch_training_targets = 0\n",
    "    train_batches = 0\n",
    "    for input_train_batch, target_train_batch in train_dataloader:\n",
    "        \n",
    "        ## Transfer Batch to Device\n",
    "        input_train_batch = input_train_batch.to(device)\n",
    "        target_train_batch = target_train_batch.to(device)\n",
    "        \n",
    "        prediction = model(input_train_batch)\n",
    "        \n",
    "        loss = criterion(input = prediction, target = target_train_batch)\n",
    "        epoch_training_loss += loss/(target_train_batch.shape[0]*target_train_batch.shape[1])\n",
    "        train_batches +=1\n",
    "        optimizer.zero_grad()\n",
    "        loss.backward()\n",
    "        optimizer.step()\n",
    "        \n",
    "    \n",
    "    \n",
    "    epoch_test_loss = 0\n",
    "    epoch_test_targets = 0\n",
    "    test_batches=0\n",
    "    with torch.no_grad():\n",
    "        \n",
    "        for input_test_batch, target_test_batch in test_dataloader:\n",
    "            \n",
    "            # Put thing to device\n",
    "            input_test_batch = input_test_batch.to(device)\n",
    "            target_test_batch = target_test_batch.to(device)\n",
    "            \n",
    "            \n",
    "            prediction = model(input_train_batch)\n",
    "            loss = criterion(input = prediction, target = target_test_batch)\n",
    "            epoch_test_loss += loss/(target_test_batch.shape[0]*target_test_batch.shape[1])\n",
    "            test_batches += 1\n",
    "    \n",
    "    if epoch%(EPOCHS/10) == 0:\n",
    "        print('Training Loss',(epoch_training_loss/train_batches).item())\n",
    "        print('Test Loss',(epoch_test_loss/test_batches).item())\n",
    "\n",
    "\n",
    "\n",
    "print('Training time:', datetime.now()-startTime)"
   ]
  },
  {
   "cell_type": "code",
   "execution_count": 19,
   "id": "fdca3fab-4cae-4a4f-bd56-7d35f07dbd05",
   "metadata": {},
   "outputs": [
    {
     "name": "stdout",
     "output_type": "stream",
     "text": [
      "tensor([[0.0179, 0.4000, 0.0000]])\n"
     ]
    },
    {
     "data": {
      "text/plain": [
       "<matplotlib.legend.Legend at 0x21129be3df0>"
      ]
     },
     "execution_count": 19,
     "metadata": {},
     "output_type": "execute_result"
    },
    {
     "data": {
      "image/png": "[encoded data removed]",
      "text/plain": [
       "<Figure size 432x288 with 1 Axes>"
      ]
     },
     "metadata": {
      "needs_background": "light"
     },
     "output_type": "display_data"
    },
    {
     "data": {
      "image/png": "[encoded data removed]",
      "text/plain": [
       "<Figure size 432x288 with 1 Axes>"
      ]
     },
     "metadata": {
      "needs_background": "light"
     },
     "output_type": "display_data"
    }
   ],
   "source": [
    "inp, tar = next(iter(train_dataloader)) \n",
    "print(inp)\n",
    "plt.figure()\n",
    "plt.title('Training set example')\n",
    "plt.plot(model(inp).flatten().detach(),label = 'Model Prediction')\n",
    "plt.plot(tar.flatten(),label ='Truth')\n",
    "plt.legend()\n",
    "\n",
    "inp, tar = next(iter(test_dataloader)) \n",
    "plt.figure()\n",
    "plt.title('Test set example')\n",
    "plt.plot(model(inp).flatten().detach(),label = 'Model Prediction')\n",
    "plt.plot(tar.flatten(),label = 'Truth')\n",
    "plt.legend()"
   ]
  },
  {
   "cell_type": "code",
   "execution_count": 16,
   "id": "88d5058f-3496-48ac-8538-e2453f32dd3d",
   "metadata": {},
   "outputs": [
    {
     "name": "stdout",
     "output_type": "stream",
     "text": [
      "Loss 15.296945571899414\n",
      "Loss 14.95227336883545\n",
      "Loss 8.817069053649902\n",
      "Loss 0.0440758652985096\n",
      "Loss 0.00012429896742105484\n",
      "Loss 3.5023180089410744e-07\n",
      "Loss 1.127683391111134e-09\n",
      "Loss 1.0946563794300701e-10\n",
      "Loss 5.321188628615303e-11\n",
      "Loss 3.5198371994837885e-11\n"
     ]
    },
    {
     "data": {
      "text/plain": [
       "[<matplotlib.lines.Line2D at 0x21129aa25e0>]"
      ]
     },
     "execution_count": 16,
     "metadata": {},
     "output_type": "execute_result"
    },
    {
     "data": {
      "image/png": "[encoded data removed]",
      "text/plain": [
       "<Figure size 432x288 with 1 Axes>"
      ]
     },
     "metadata": {
      "needs_background": "light"
     },
     "output_type": "display_data"
    }
   ],
   "source": [
    "## Test overfitting\n",
    "EPOCHS = int(2e3)\n",
    "\n",
    "overFitModel = DirectFeedForwardNet(in_features = 3,out_features = 4004,NN = 100)\n",
    "optimizer = torch.optim.SGD(overFitModel.parameters(), lr=LEARNING_RATE, momentum=MOMENTUM)\n",
    "inp, tar = next(iter(train_dataloader)) \n",
    "for epoch in range(EPOCHS):\n",
    "    prediction = overFitModel(inp)\n",
    "        \n",
    "    loss = criterion(input = prediction, target = tar)\n",
    "    optimizer.zero_grad()\n",
    "    loss.backward()\n",
    "    optimizer.step()\n",
    "    if epoch%(EPOCHS/10) == 0:\n",
    "        print('Loss', loss.item())\n",
    "    \n",
    "    \n",
    "plt.plot(overFitModel(inp).flatten().detach())\n",
    "plt.plot(tar.flatten())"
   ]
  },
  {
   "cell_type": "code",
   "execution_count": null,
   "id": "ed9f19c2-3c0f-493d-b608-daa85a5965e5",
   "metadata": {},
   "outputs": [],
   "source": [
    "inputs, classes = next(iter(train_dataloader)) \n",
    "print(inputs,classes)"
   ]
  }
 ],
 "metadata": {
  "kernelspec": {
   "display_name": "Python 3 (ipykernel)",
   "language": "python",
   "name": "python3"
  },
  "language_info": {
   "codemirror_mode": {
    "name": "ipython",
    "version": 3
   },
   "file_extension": ".py",
   "mimetype": "text/x-python",
   "name": "python",
   "nbconvert_exporter": "python",
   "pygments_lexer": "ipython3",
   "version": "3.8.12"
  }
 },
 "nbformat": 4,
 "nbformat_minor": 5
}
