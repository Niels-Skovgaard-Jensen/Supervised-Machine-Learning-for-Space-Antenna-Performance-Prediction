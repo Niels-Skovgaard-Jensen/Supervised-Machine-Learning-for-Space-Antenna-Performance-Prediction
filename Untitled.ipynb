{
 "cells": [
  {
   "cell_type": "code",
   "execution_count": 1,
   "id": "81acbb43-da6f-45e6-bebe-87496630311f",
   "metadata": {},
   "outputs": [],
   "source": [
    "# Standard Packages\n",
    "from torch.utils.data import random_split, DataLoader\n",
    "import torch\n",
    "import wandb\n",
    "from datetime import datetime\n",
    "from matplotlib import pyplot as plt\n",
    "# Custom Packages\n",
    "from NeuralNetworkModels.SimpleFeedForward import DirectFeedForwardNet\n",
    "from AntennaDatasets import AntennaDatasetLoaders\n"
   ]
  },
  {
   "cell_type": "code",
   "execution_count": 8,
   "id": "b9d55e45-8e5f-4469-952e-41b6414471c5",
   "metadata": {},
   "outputs": [],
   "source": [
    "dataset = AntennaDatasetLoaders.ReflectorCutDataset(cuts = 100,flatten_output = False)\n",
    "dataloader = DataLoader(dataset, batch_size = 1, shuffle=True)"
   ]
  },
  {
   "cell_type": "code",
   "execution_count": 11,
   "id": "5bf18b57-9daf-4c67-b530-edba108c8804",
   "metadata": {},
   "outputs": [
    {
     "name": "stderr",
     "output_type": "stream",
     "text": [
      "No artists with labels found to put in legend.  Note that artists whose label start with an underscore are ignored when legend() is called with no argument.\n"
     ]
    },
    {
     "name": "stdout",
     "output_type": "stream",
     "text": [
      "torch.Size([1, 1001, 4])\n"
     ]
    },
    {
     "data": {
      "text/plain": [
       "<matplotlib.legend.Legend at 0x182910f8f70>"
      ]
     },
     "execution_count": 11,
     "metadata": {},
     "output_type": "execute_result"
    },
    {
     "data": {
      "image/png": "[encoded data removed]",
      "text/plain": [
       "<Figure size 432x288 with 1 Axes>"
      ]
     },
     "metadata": {
      "needs_background": "light"
     },
     "output_type": "display_data"
    }
   ],
   "source": [
    "inp, tar = next(iter(dataloader)) \n",
    "print(tar.shape)\n",
    "plt.figure()\n",
    "plt.title('Training set example')\n",
    "plt.plot(tar[:,1,:])\n",
    "plt.legend()\n"
   ]
  }
 ],
 "metadata": {
  "kernelspec": {
   "display_name": "Python 3 (ipykernel)",
   "language": "python",
   "name": "python3"
  },
  "language_info": {
   "codemirror_mode": {
    "name": "ipython",
    "version": 3
   },
   "file_extension": ".py",
   "mimetype": "text/x-python",
   "name": "python",
   "nbconvert_exporter": "python",
   "pygments_lexer": "ipython3",
   "version": "3.8.12"
  }
 },
 "nbformat": 4,
 "nbformat_minor": 5
}
